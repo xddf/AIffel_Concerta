{
 "cells": [
  {
   "cell_type": "markdown",
   "id": "a9b17918",
   "metadata": {},
   "source": [
    "# 손글씨/와인/유방암 데이터 분석"
   ]
  },
  {
   "cell_type": "markdown",
   "id": "a3250421",
   "metadata": {},
   "source": [
    "## 0. 준비"
   ]
  },
  {
   "cell_type": "code",
   "execution_count": 1,
   "id": "c6325ad6",
   "metadata": {},
   "outputs": [],
   "source": [
    "# 기본 라이브러리들\n",
    "import numpy as np\n",
    "import pandas as pd\n",
    "import matplotlib.pyplot as plt\n",
    "\n",
    "# 사이킷런의 모델들\n",
    "from sklearn.tree import DecisionTreeClassifier\n",
    "from sklearn.ensemble import RandomForestClassifier\n",
    "from sklearn import svm\n",
    "from sklearn.linear_model import SGDClassifier\n",
    "from sklearn.linear_model import LogisticRegression\n",
    "\n",
    "# 사이킷런의 학습 평가 모듈들\n",
    "from sklearn.metrics import accuracy_score\n",
    "from sklearn.metrics import confusion_matrix\n",
    "from sklearn.metrics import classification_report\n",
    "\n",
    "# 학습시킬 데이터들\n",
    "from sklearn.datasets import load_digits\n",
    "from sklearn.datasets import load_wine\n",
    "from sklearn.datasets import load_breast_cancer\n",
    "\n",
    "# 데이터 스플릿 모듈\n",
    "from sklearn.model_selection import train_test_split\n",
    "\n",
    "# LogisticRegression 모델을 실행할 때 지속적인 경고 창이 있어 우선 무시하도록 조치함\n",
    "import warnings\n",
    "warnings.filterwarnings('ignore')"
   ]
  },
  {
   "cell_type": "markdown",
   "id": "ee9dc5c3",
   "metadata": {},
   "source": [
    "## 1. 손글씨 분류"
   ]
  },
  {
   "cell_type": "markdown",
   "id": "7e3be95d",
   "metadata": {},
   "source": [
    "###  어떤 모델을 사용하는 것이 좋을까?"
   ]
  },
  {
   "cell_type": "markdown",
   "id": "e5bdeb8e",
   "metadata": {},
   "source": [
    "#### 데이터를 확인해보자"
   ]
  },
  {
   "cell_type": "code",
   "execution_count": 2,
   "id": "3875ba8b",
   "metadata": {},
   "outputs": [
    {
     "name": "stdout",
     "output_type": "stream",
     "text": [
      "['DESCR', 'data', 'feature_names', 'frame', 'images', 'target', 'target_names']\n"
     ]
    }
   ],
   "source": [
    "digits = load_digits()\n",
    "print(dir(digits))"
   ]
  },
  {
   "cell_type": "code",
   "execution_count": 3,
   "id": "3a6802ea",
   "metadata": {
    "scrolled": true
   },
   "outputs": [
    {
     "name": "stdout",
     "output_type": "stream",
     "text": [
      "(1797, 64)\n"
     ]
    }
   ],
   "source": [
    "dg_data = digits.data\n",
    "print(dg_data.shape)"
   ]
  },
  {
   "cell_type": "code",
   "execution_count": 4,
   "id": "8325470d",
   "metadata": {},
   "outputs": [
    {
     "data": {
      "text/plain": [
       "64"
      ]
     },
     "execution_count": 4,
     "metadata": {},
     "output_type": "execute_result"
    }
   ],
   "source": [
    "# shape을 보고 특성이 이렇게 많아? 라는 생각에 확인. 사실이었다..\n",
    "len(digits.feature_names)"
   ]
  },
  {
   "cell_type": "code",
   "execution_count": 5,
   "id": "ec25f677",
   "metadata": {},
   "outputs": [
    {
     "data": {
      "text/plain": [
       "array([ 0.,  0.,  5., 13.,  9.,  1.,  0.,  0.,  0.,  0., 13., 15., 10.,\n",
       "       15.,  5.,  0.,  0.,  3., 15.,  2.,  0., 11.,  8.,  0.,  0.,  4.,\n",
       "       12.,  0.,  0.,  8.,  8.,  0.,  0.,  5.,  8.,  0.,  0.,  9.,  8.,\n",
       "        0.,  0.,  4., 11.,  0.,  1., 12.,  7.,  0.,  0.,  2., 14.,  5.,\n",
       "       10., 12.,  0.,  0.,  0.,  0.,  6., 13., 10.,  0.,  0.,  0.])"
      ]
     },
     "execution_count": 5,
     "metadata": {},
     "output_type": "execute_result"
    }
   ],
   "source": [
    "dg_data[0]"
   ]
  },
  {
   "cell_type": "markdown",
   "id": "27fc1cf9",
   "metadata": {},
   "source": [
    "### digits\n",
    "\n",
    "- 0에서 9까지의 손글씨 숫자 데이터\n",
    "\n",
    "- 64가지 특성"
   ]
  },
  {
   "cell_type": "markdown",
   "id": "52252ecd",
   "metadata": {},
   "source": [
    "음.. 일단 특성이 많으니까 나무 한 그루씩 그리기는 좋지 않을 것 같고..\n",
    "SVM도 특성이 많은 것에 안 어울릴 것 같고.. 또 숫자 데이터는 생김새가 엄청 큰 차이가 없을 것 같으니 피처 간의 간격도 안 클 것 같고.."
   ]
  },
  {
   "cell_type": "markdown",
   "id": "a5212a1c",
   "metadata": {},
   "source": [
    "### !"
   ]
  },
  {
   "cell_type": "markdown",
   "id": "5a2772bc",
   "metadata": {},
   "source": [
    "![](./cheat.png)"
   ]
  },
  {
   "cell_type": "markdown",
   "id": "053fb77e",
   "metadata": {},
   "source": [
    "모델에 대해서 아는 것이 없으니, 가이드를 따라가보자"
   ]
  },
  {
   "cell_type": "markdown",
   "id": "0dd25a94",
   "metadata": {},
   "source": [
    "카테고리가 있음 - 라벨링 된 데이터 - 10만개 보다 작음 = SGD Classifier"
   ]
  },
  {
   "cell_type": "code",
   "execution_count": 6,
   "id": "c77598cd",
   "metadata": {},
   "outputs": [
    {
     "name": "stdout",
     "output_type": "stream",
     "text": [
      "classifier\n"
     ]
    }
   ],
   "source": [
    "from sklearn.linear_model import SGDClassifier\n",
    "sgd_model = SGDClassifier()\n",
    "\n",
    "print(sgd_model._estimator_type)"
   ]
  },
  {
   "cell_type": "code",
   "execution_count": 7,
   "id": "43a8f226",
   "metadata": {},
   "outputs": [],
   "source": [
    "dg_label = digits.target"
   ]
  },
  {
   "cell_type": "code",
   "execution_count": 8,
   "id": "2e24dccf",
   "metadata": {},
   "outputs": [],
   "source": [
    "X_train, X_test, y_train, y_test = train_test_split(dg_data, \n",
    "                                                    dg_label,\n",
    "                                                    random_state=123,\n",
    "                                                    test_size=0.2)"
   ]
  },
  {
   "cell_type": "code",
   "execution_count": 9,
   "id": "97a3dc20",
   "metadata": {},
   "outputs": [],
   "source": [
    "sgd_model = SGDClassifier()\n",
    "sgd_model.fit(X_train, y_train)\n",
    "y_pred = sgd_model.predict(X_test)"
   ]
  },
  {
   "cell_type": "markdown",
   "id": "b3b5d2b8",
   "metadata": {},
   "source": [
    "### 평가 지표 선정\n",
    "\n",
    "- 라벨과 1:1로 대응하는 손글씨 이미지가 무엇인지 예측하는 것이 목표\n",
    "- 전체 데이터 대비 정답으로 예측한 비율, 즉 정확도가 적합해 보임"
   ]
  },
  {
   "cell_type": "code",
   "execution_count": 10,
   "id": "980d3809",
   "metadata": {
    "scrolled": false
   },
   "outputs": [
    {
     "name": "stdout",
     "output_type": "stream",
     "text": [
      "SDG_accuracy: [0.9416666666666667]\n",
      "              precision    recall  f1-score   support\n",
      "\n",
      "           0       1.00      1.00      1.00        39\n",
      "           1       0.84      0.94      0.89        34\n",
      "           2       0.86      1.00      0.92        36\n",
      "           3       0.94      0.97      0.96        33\n",
      "           4       0.95      0.98      0.96        42\n",
      "           5       1.00      0.86      0.93        37\n",
      "           6       1.00      0.95      0.98        43\n",
      "           7       0.91      1.00      0.95        31\n",
      "           8       1.00      0.73      0.84        37\n",
      "           9       0.93      1.00      0.97        28\n",
      "\n",
      "    accuracy                           0.94       360\n",
      "   macro avg       0.94      0.94      0.94       360\n",
      "weighted avg       0.95      0.94      0.94       360\n",
      "\n"
     ]
    }
   ],
   "source": [
    "#모델 간 비교를 위해 정확도는 리스트에 담아주자.\n",
    "sgd_acc = [accuracy_score(y_test, y_pred)]\n",
    "digits_acc = []\n",
    "digits_acc += [sgd_acc]\n",
    "\n",
    "print(\"SDG_accuracy:\", sgd_acc)\n",
    "print(classification_report(y_test, y_pred))"
   ]
  },
  {
   "cell_type": "markdown",
   "id": "b34a27e3",
   "metadata": {},
   "source": [
    "전반적인 점수가 높게 나왔다. 역시 치트시트의 힘인가?"
   ]
  },
  {
   "cell_type": "markdown",
   "id": "c5cbc789",
   "metadata": {},
   "source": [
    "### 나머지 모델도 사용해보자"
   ]
  },
  {
   "cell_type": "markdown",
   "id": "dcc1f1dc",
   "metadata": {},
   "source": [
    "#### Decision Tree"
   ]
  },
  {
   "cell_type": "code",
   "execution_count": 11,
   "id": "5660af75",
   "metadata": {},
   "outputs": [],
   "source": [
    "tree_model = DecisionTreeClassifier()\n",
    "tree_model.fit(X_train, y_train)\n",
    "y_pred = tree_model.predict(X_test)"
   ]
  },
  {
   "cell_type": "code",
   "execution_count": 12,
   "id": "73a88b33",
   "metadata": {},
   "outputs": [
    {
     "name": "stdout",
     "output_type": "stream",
     "text": [
      "tree_accuracy: [0.8277777777777777]\n",
      "              precision    recall  f1-score   support\n",
      "\n",
      "           0       0.92      0.92      0.92        39\n",
      "           1       0.69      0.85      0.76        34\n",
      "           2       0.82      0.78      0.80        36\n",
      "           3       0.82      0.82      0.82        33\n",
      "           4       0.85      0.79      0.81        42\n",
      "           5       0.93      0.76      0.84        37\n",
      "           6       0.93      0.91      0.92        43\n",
      "           7       0.82      0.90      0.86        31\n",
      "           8       0.81      0.70      0.75        37\n",
      "           9       0.69      0.86      0.76        28\n",
      "\n",
      "    accuracy                           0.83       360\n",
      "   macro avg       0.83      0.83      0.82       360\n",
      "weighted avg       0.84      0.83      0.83       360\n",
      "\n"
     ]
    }
   ],
   "source": [
    "tree_acc = [accuracy_score(y_test, y_pred)]\n",
    "digits_acc += [tree_acc]\n",
    "\n",
    "print(\"tree_accuracy:\", tree_acc)\n",
    "print(classification_report(y_test, y_pred))"
   ]
  },
  {
   "cell_type": "code",
   "execution_count": 13,
   "id": "22623a92",
   "metadata": {},
   "outputs": [],
   "source": [
    "forest_model = RandomForestClassifier()\n",
    "forest_model.fit(X_train, y_train)\n",
    "y_pred = forest_model.predict(X_test)"
   ]
  },
  {
   "cell_type": "code",
   "execution_count": 14,
   "id": "116a021c",
   "metadata": {},
   "outputs": [
    {
     "name": "stdout",
     "output_type": "stream",
     "text": [
      "forest_accuracy: [0.9777777777777777]\n",
      "              precision    recall  f1-score   support\n",
      "\n",
      "           0       1.00      1.00      1.00        39\n",
      "           1       0.89      1.00      0.94        34\n",
      "           2       1.00      1.00      1.00        36\n",
      "           3       1.00      1.00      1.00        33\n",
      "           4       0.98      0.98      0.98        42\n",
      "           5       0.97      0.95      0.96        37\n",
      "           6       1.00      0.95      0.98        43\n",
      "           7       0.97      1.00      0.98        31\n",
      "           8       1.00      0.92      0.96        37\n",
      "           9       0.97      1.00      0.98        28\n",
      "\n",
      "    accuracy                           0.98       360\n",
      "   macro avg       0.98      0.98      0.98       360\n",
      "weighted avg       0.98      0.98      0.98       360\n",
      "\n"
     ]
    }
   ],
   "source": [
    "forest_acc  = [accuracy_score(y_test, y_pred)]\n",
    "digits_acc += [forest_acc]\n",
    "\n",
    "print(\"forest_accuracy:\", forest_acc)\n",
    "print(classification_report(y_test, y_pred))"
   ]
  },
  {
   "cell_type": "code",
   "execution_count": 15,
   "id": "2c35c42f",
   "metadata": {},
   "outputs": [],
   "source": [
    "svm_model = svm.SVC()\n",
    "svm_model.fit(X_train, y_train)\n",
    "y_pred = svm_model.predict(X_test)"
   ]
  },
  {
   "cell_type": "code",
   "execution_count": 16,
   "id": "68623cb6",
   "metadata": {},
   "outputs": [
    {
     "name": "stdout",
     "output_type": "stream",
     "text": [
      "svm_accuracy: [0.9888888888888889]\n",
      "              precision    recall  f1-score   support\n",
      "\n",
      "           0       1.00      1.00      1.00        39\n",
      "           1       0.92      1.00      0.96        34\n",
      "           2       1.00      1.00      1.00        36\n",
      "           3       1.00      1.00      1.00        33\n",
      "           4       1.00      1.00      1.00        42\n",
      "           5       1.00      0.97      0.99        37\n",
      "           6       1.00      1.00      1.00        43\n",
      "           7       1.00      1.00      1.00        31\n",
      "           8       1.00      0.92      0.96        37\n",
      "           9       0.97      1.00      0.98        28\n",
      "\n",
      "    accuracy                           0.99       360\n",
      "   macro avg       0.99      0.99      0.99       360\n",
      "weighted avg       0.99      0.99      0.99       360\n",
      "\n"
     ]
    }
   ],
   "source": [
    "svm_acc = [accuracy_score(y_test, y_pred)]\n",
    "digits_acc += [svm_acc]\n",
    "\n",
    "print(\"svm_accuracy:\", svm_acc)\n",
    "print(classification_report(y_test, y_pred))"
   ]
  },
  {
   "cell_type": "code",
   "execution_count": 17,
   "id": "6a6c91d3",
   "metadata": {
    "scrolled": true
   },
   "outputs": [],
   "source": [
    "logistic_model = LogisticRegression()\n",
    "logistic_model.fit(X_train, y_train)\n",
    "y_pred = logistic_model.predict(X_test)"
   ]
  },
  {
   "cell_type": "code",
   "execution_count": 18,
   "id": "1da07fba",
   "metadata": {},
   "outputs": [
    {
     "name": "stdout",
     "output_type": "stream",
     "text": [
      "logistic_accuracy: [0.9888888888888889]\n",
      "              precision    recall  f1-score   support\n",
      "\n",
      "           0       1.00      1.00      1.00        39\n",
      "           1       0.85      1.00      0.92        34\n",
      "           2       0.97      1.00      0.99        36\n",
      "           3       1.00      1.00      1.00        33\n",
      "           4       0.98      0.98      0.98        42\n",
      "           5       0.97      0.89      0.93        37\n",
      "           6       1.00      0.95      0.98        43\n",
      "           7       0.97      1.00      0.98        31\n",
      "           8       1.00      0.89      0.94        37\n",
      "           9       0.97      1.00      0.98        28\n",
      "\n",
      "    accuracy                           0.97       360\n",
      "   macro avg       0.97      0.97      0.97       360\n",
      "weighted avg       0.97      0.97      0.97       360\n",
      "\n"
     ]
    }
   ],
   "source": [
    "logistic_acc = [accuracy_score(y_test, y_pred)]\n",
    "digits_acc += [logistic_acc]\n",
    "\n",
    "print(\"logistic_accuracy:\", svm_acc)\n",
    "print(classification_report(y_test, y_pred))"
   ]
  },
  {
   "cell_type": "code",
   "execution_count": 19,
   "id": "60627390",
   "metadata": {},
   "outputs": [
    {
     "data": {
      "text/plain": [
       "[[0.9416666666666667],\n",
       " [0.8277777777777777],\n",
       " [0.9777777777777777],\n",
       " [0.9888888888888889],\n",
       " [0.9694444444444444]]"
      ]
     },
     "execution_count": 19,
     "metadata": {},
     "output_type": "execute_result"
    }
   ],
   "source": [
    "digits_acc"
   ]
  },
  {
   "cell_type": "markdown",
   "id": "5ed36adf",
   "metadata": {},
   "source": [
    "### ????\n",
    "근소한 차이지만 SVM모델의 정확도가 가장 높게 나왔다."
   ]
  },
  {
   "cell_type": "markdown",
   "id": "b2427662",
   "metadata": {},
   "source": [
    "## 2. 와인 분류"
   ]
  },
  {
   "cell_type": "code",
   "execution_count": 20,
   "id": "f8d8638f",
   "metadata": {},
   "outputs": [
    {
     "name": "stdout",
     "output_type": "stream",
     "text": [
      "['DESCR', 'data', 'feature_names', 'frame', 'target', 'target_names']\n"
     ]
    }
   ],
   "source": [
    "wine = load_wine()\n",
    "print(dir(wine))"
   ]
  },
  {
   "cell_type": "markdown",
   "id": "72cd45ea",
   "metadata": {},
   "source": [
    "와인 데이터는 총 178개, 각각 13개의 특성."
   ]
  },
  {
   "cell_type": "code",
   "execution_count": 21,
   "id": "6679e53d",
   "metadata": {},
   "outputs": [
    {
     "data": {
      "text/plain": [
       "(178, 13)"
      ]
     },
     "execution_count": 21,
     "metadata": {},
     "output_type": "execute_result"
    }
   ],
   "source": [
    "wine_data = wine.data\n",
    "wine_data.shape"
   ]
  },
  {
   "cell_type": "code",
   "execution_count": 22,
   "id": "66a07159",
   "metadata": {},
   "outputs": [
    {
     "data": {
      "text/plain": [
       "(178,)"
      ]
     },
     "execution_count": 22,
     "metadata": {},
     "output_type": "execute_result"
    }
   ],
   "source": [
    "wine_label = wine.target\n",
    "wine_label.shape"
   ]
  },
  {
   "cell_type": "markdown",
   "id": "aaae68bd",
   "metadata": {},
   "source": [
    "### 앞서의 교훈은 우선 모든 모델을 사용해보자는 것이었다."
   ]
  },
  {
   "cell_type": "markdown",
   "id": "f4f13b16",
   "metadata": {},
   "source": [
    "### 평가 지표\n",
    "\n",
    "- digits와 마찬가지의 이유로 정확도로 판단하는 것이 합당해 보인다"
   ]
  },
  {
   "cell_type": "code",
   "execution_count": 23,
   "id": "62a3c521",
   "metadata": {},
   "outputs": [],
   "source": [
    "X_train, X_test, y_train, y_test = train_test_split(wine_data, \n",
    "                                                    wine_label,\n",
    "                                                    random_state=123,\n",
    "                                                    test_size=0.2)"
   ]
  },
  {
   "cell_type": "markdown",
   "id": "8422cffd",
   "metadata": {},
   "source": [
    "### 배운 것을 써먹어보자"
   ]
  },
  {
   "cell_type": "code",
   "execution_count": 24,
   "id": "e16ca23b",
   "metadata": {},
   "outputs": [
    {
     "data": {
      "text/plain": [
       "[sklearn.tree._classes.DecisionTreeClassifier,\n",
       " sklearn.ensemble._forest.RandomForestClassifier,\n",
       " sklearn.svm._classes.SVC,\n",
       " sklearn.linear_model._stochastic_gradient.SGDClassifier,\n",
       " sklearn.linear_model._logistic.LogisticRegression]"
      ]
     },
     "execution_count": 24,
     "metadata": {},
     "output_type": "execute_result"
    }
   ],
   "source": [
    "model_list = [DecisionTreeClassifier, RandomForestClassifier, svm.SVC, SGDClassifier, LogisticRegression]\n",
    "\n",
    "model_list\n",
    "    "
   ]
  },
  {
   "cell_type": "code",
   "execution_count": 25,
   "id": "9eed3fcd",
   "metadata": {},
   "outputs": [
    {
     "name": "stdout",
     "output_type": "stream",
     "text": [
      "0.9444444444444444\n",
      "              precision    recall  f1-score   support\n",
      "\n",
      "           0       1.00      1.00      1.00         8\n",
      "           1       0.85      1.00      0.92        11\n",
      "           2       1.00      0.88      0.94        17\n",
      "\n",
      "    accuracy                           0.94        36\n",
      "   macro avg       0.95      0.96      0.95        36\n",
      "weighted avg       0.95      0.94      0.95        36\n",
      "\n",
      "1.0\n",
      "              precision    recall  f1-score   support\n",
      "\n",
      "           0       1.00      1.00      1.00         8\n",
      "           1       1.00      1.00      1.00        11\n",
      "           2       1.00      1.00      1.00        17\n",
      "\n",
      "    accuracy                           1.00        36\n",
      "   macro avg       1.00      1.00      1.00        36\n",
      "weighted avg       1.00      1.00      1.00        36\n",
      "\n",
      "0.5\n",
      "              precision    recall  f1-score   support\n",
      "\n",
      "           0       0.80      1.00      0.89         8\n",
      "           1       0.38      0.91      0.54        11\n",
      "           2       0.00      0.00      0.00        17\n",
      "\n",
      "    accuracy                           0.50        36\n",
      "   macro avg       0.39      0.64      0.48        36\n",
      "weighted avg       0.30      0.50      0.36        36\n",
      "\n",
      "0.5277777777777778\n",
      "              precision    recall  f1-score   support\n",
      "\n",
      "           0       0.44      1.00      0.62         8\n",
      "           1       0.67      0.36      0.47        11\n",
      "           2       0.58      0.41      0.48        17\n",
      "\n",
      "    accuracy                           0.53        36\n",
      "   macro avg       0.56      0.59      0.52        36\n",
      "weighted avg       0.58      0.53      0.51        36\n",
      "\n",
      "1.0\n",
      "              precision    recall  f1-score   support\n",
      "\n",
      "           0       1.00      1.00      1.00         8\n",
      "           1       1.00      1.00      1.00        11\n",
      "           2       1.00      1.00      1.00        17\n",
      "\n",
      "    accuracy                           1.00        36\n",
      "   macro avg       1.00      1.00      1.00        36\n",
      "weighted avg       1.00      1.00      1.00        36\n",
      "\n"
     ]
    }
   ],
   "source": [
    "wine_acc=[]\n",
    "for i in model_list:\n",
    "    model = i()\n",
    "    model.fit(X_train, y_train)\n",
    "    y_pred = model.predict(X_test)\n",
    "    \n",
    "    print(accuracy_score(y_test, y_pred))\n",
    "    print(classification_report(y_test, y_pred))\n",
    "    wine_acc.append(accuracy_score(y_test, y_pred))"
   ]
  },
  {
   "cell_type": "code",
   "execution_count": 26,
   "id": "565b8c7f",
   "metadata": {},
   "outputs": [
    {
     "name": "stdout",
     "output_type": "stream",
     "text": [
      "0.9444444444444444\n",
      "1.0\n",
      "0.5\n",
      "0.5277777777777778\n",
      "1.0\n"
     ]
    }
   ],
   "source": [
    "for acc in wine_acc:\n",
    "    print(acc)"
   ]
  },
  {
   "cell_type": "markdown",
   "id": "3ea8f024",
   "metadata": {},
   "source": [
    "### 결과"
   ]
  },
  {
   "cell_type": "markdown",
   "id": "ed855dff",
   "metadata": {},
   "source": [
    "- 랜덤포레스트와 선형회귀가 우승.\n",
    "- 하지만 선형회귀는 계속 경고가 뜬다.\n",
    "- 이정도 정확도라면 가장 가벼운 의사결정나무를 사용해도 좋을 것 같다."
   ]
  },
  {
   "cell_type": "markdown",
   "id": "abd53f1b",
   "metadata": {},
   "source": [
    "## 3. 유방암 진단"
   ]
  },
  {
   "cell_type": "code",
   "execution_count": 27,
   "id": "e1864ab3",
   "metadata": {},
   "outputs": [
    {
     "data": {
      "text/plain": [
       "dict_keys(['data', 'target', 'frame', 'target_names', 'DESCR', 'feature_names', 'filename', 'data_module'])"
      ]
     },
     "execution_count": 27,
     "metadata": {},
     "output_type": "execute_result"
    }
   ],
   "source": [
    "#데이터 불러오기\n",
    "breast_cancer = load_breast_cancer()\n",
    "#이번엔 배운대로 키값을 호출해보자\n",
    "breast_cancer.keys()"
   ]
  },
  {
   "cell_type": "code",
   "execution_count": 28,
   "id": "9f8d0ab8",
   "metadata": {},
   "outputs": [
    {
     "name": "stdout",
     "output_type": "stream",
     "text": [
      "(569, 30)\n",
      "(569,)\n"
     ]
    }
   ],
   "source": [
    "breast_cancer_data = breast_cancer.data\n",
    "print(breast_cancer_data.shape)\n",
    "breast_cancer_label = breast_cancer.target\n",
    "print(breast_cancer_label.shape)"
   ]
  },
  {
   "cell_type": "markdown",
   "id": "b7ff08e2",
   "metadata": {},
   "source": [
    "569개의 데이터, 30개의 특성"
   ]
  },
  {
   "cell_type": "markdown",
   "id": "f30652a8",
   "metadata": {},
   "source": [
    "### 평가 지표\n",
    "\n",
    "- 암 진단의 경우, 악성을 양성으로 잘못 예측한 경우의 피해가 막심하다.\n",
    "- 그렇다면 어떤 평가 지표가 타당할까?"
   ]
  },
  {
   "cell_type": "markdown",
   "id": "d6c13be8",
   "metadata": {},
   "source": [
    "![](./E-2-3.jpg)"
   ]
  },
  {
   "cell_type": "markdown",
   "id": "869c2801",
   "metadata": {},
   "source": [
    "- True가 악성(암 입니다..)임에 유의해야 한다.\n",
    "- 결과적으로 양성을 음성으로 판단한 경우가 가장 치명적이다\n",
    "\n",
    "> Recall(Sensitivity)은 분모에 있는 FNFN이 낮을수록 커집니다. Recall이 높아지려면 False Negative, 즉 양성인데 음성으로 판단하는 경우가 적어야 합니다."
   ]
  },
  {
   "cell_type": "markdown",
   "id": "8bf03b1c",
   "metadata": {},
   "source": [
    "### 학습\n",
    "\n",
    "- 이전의 방식에서 정확도 스코어만 리콜로 바꿀 수 있으면 좋을 것 같다.\n",
    "- 찾아보니 사이킷런 패키지님은 리콜스코어도 제공한다.\n",
    "> recall_score(y_true, y_pred)\n"
   ]
  },
  {
   "cell_type": "code",
   "execution_count": 29,
   "id": "3b71da59",
   "metadata": {},
   "outputs": [],
   "source": [
    "X_train, X_test, y_train, y_test = train_test_split(breast_cancer_data, \n",
    "                                                    breast_cancer_label,\n",
    "                                                    random_state=123,\n",
    "                                                    test_size=0.2)"
   ]
  },
  {
   "cell_type": "code",
   "execution_count": 30,
   "id": "b5d30584",
   "metadata": {
    "scrolled": true
   },
   "outputs": [
    {
     "data": {
      "text/plain": [
       "[sklearn.tree._classes.DecisionTreeClassifier,\n",
       " sklearn.ensemble._forest.RandomForestClassifier,\n",
       " sklearn.svm._classes.SVC,\n",
       " sklearn.linear_model._stochastic_gradient.SGDClassifier,\n",
       " sklearn.linear_model._logistic.LogisticRegression]"
      ]
     },
     "execution_count": 30,
     "metadata": {},
     "output_type": "execute_result"
    }
   ],
   "source": [
    "model_list"
   ]
  },
  {
   "cell_type": "code",
   "execution_count": 31,
   "id": "56c39d35",
   "metadata": {},
   "outputs": [],
   "source": [
    "from sklearn.metrics import recall_score"
   ]
  },
  {
   "cell_type": "code",
   "execution_count": 32,
   "id": "4ce940ae",
   "metadata": {},
   "outputs": [
    {
     "name": "stdout",
     "output_type": "stream",
     "text": [
      "0.9863013698630136\n",
      "              precision    recall  f1-score   support\n",
      "\n",
      "           0       0.97      0.95      0.96        41\n",
      "           1       0.97      0.99      0.98        73\n",
      "\n",
      "    accuracy                           0.97       114\n",
      "   macro avg       0.97      0.97      0.97       114\n",
      "weighted avg       0.97      0.97      0.97       114\n",
      "\n",
      "1.0\n",
      "              precision    recall  f1-score   support\n",
      "\n",
      "           0       1.00      0.98      0.99        41\n",
      "           1       0.99      1.00      0.99        73\n",
      "\n",
      "    accuracy                           0.99       114\n",
      "   macro avg       0.99      0.99      0.99       114\n",
      "weighted avg       0.99      0.99      0.99       114\n",
      "\n",
      "1.0\n",
      "              precision    recall  f1-score   support\n",
      "\n",
      "           0       1.00      0.80      0.89        41\n",
      "           1       0.90      1.00      0.95        73\n",
      "\n",
      "    accuracy                           0.93       114\n",
      "   macro avg       0.95      0.90      0.92       114\n",
      "weighted avg       0.94      0.93      0.93       114\n",
      "\n",
      "0.9178082191780822\n",
      "              precision    recall  f1-score   support\n",
      "\n",
      "           0       0.86      0.88      0.87        41\n",
      "           1       0.93      0.92      0.92        73\n",
      "\n",
      "    accuracy                           0.90       114\n",
      "   macro avg       0.89      0.90      0.90       114\n",
      "weighted avg       0.90      0.90      0.90       114\n",
      "\n",
      "1.0\n",
      "              precision    recall  f1-score   support\n",
      "\n",
      "           0       1.00      0.95      0.97        41\n",
      "           1       0.97      1.00      0.99        73\n",
      "\n",
      "    accuracy                           0.98       114\n",
      "   macro avg       0.99      0.98      0.98       114\n",
      "weighted avg       0.98      0.98      0.98       114\n",
      "\n"
     ]
    }
   ],
   "source": [
    "cancer_recall=[]\n",
    "for i in model_list:\n",
    "    model = i()\n",
    "    model.fit(X_train, y_train)\n",
    "    y_pred = model.predict(X_test)\n",
    "    \n",
    "    print(recall_score(y_test, y_pred))\n",
    "    print(classification_report(y_test, y_pred))\n",
    "    cancer_recall.append(recall_score(y_test, y_pred))"
   ]
  },
  {
   "cell_type": "code",
   "execution_count": 33,
   "id": "e2b918bc",
   "metadata": {},
   "outputs": [
    {
     "name": "stdout",
     "output_type": "stream",
     "text": [
      "0.9863013698630136\n",
      "1.0\n",
      "1.0\n",
      "0.9178082191780822\n",
      "1.0\n"
     ]
    }
   ],
   "source": [
    "for recall in cancer_recall:\n",
    "    print(recall)"
   ]
  },
  {
   "cell_type": "markdown",
   "id": "15d3023d",
   "metadata": {},
   "source": [
    "### ????\n",
    "\n",
    "- 결과를 보니 뭔가 이상하다.\n",
    "- 정확한 원인을 판단할 수 없고, 시간이 부족하니 우선 분류 성능 평가 표의 '0'인덱스 리콜을 살펴보자"
   ]
  },
  {
   "cell_type": "code",
   "execution_count": 34,
   "id": "d185ce3e",
   "metadata": {},
   "outputs": [
    {
     "name": "stdout",
     "output_type": "stream",
     "text": [
      "              precision    recall  f1-score   support\n",
      "\n",
      "           0       0.97      0.95      0.96        41\n",
      "           1       0.97      0.99      0.98        73\n",
      "\n",
      "    accuracy                           0.97       114\n",
      "   macro avg       0.97      0.97      0.97       114\n",
      "weighted avg       0.97      0.97      0.97       114\n",
      "\n",
      "              precision    recall  f1-score   support\n",
      "\n",
      "           0       1.00      0.98      0.99        41\n",
      "           1       0.99      1.00      0.99        73\n",
      "\n",
      "    accuracy                           0.99       114\n",
      "   macro avg       0.99      0.99      0.99       114\n",
      "weighted avg       0.99      0.99      0.99       114\n",
      "\n",
      "              precision    recall  f1-score   support\n",
      "\n",
      "           0       1.00      0.80      0.89        41\n",
      "           1       0.90      1.00      0.95        73\n",
      "\n",
      "    accuracy                           0.93       114\n",
      "   macro avg       0.95      0.90      0.92       114\n",
      "weighted avg       0.94      0.93      0.93       114\n",
      "\n",
      "              precision    recall  f1-score   support\n",
      "\n",
      "           0       1.00      0.71      0.83        41\n",
      "           1       0.86      1.00      0.92        73\n",
      "\n",
      "    accuracy                           0.89       114\n",
      "   macro avg       0.93      0.85      0.88       114\n",
      "weighted avg       0.91      0.89      0.89       114\n",
      "\n",
      "              precision    recall  f1-score   support\n",
      "\n",
      "           0       1.00      0.95      0.97        41\n",
      "           1       0.97      1.00      0.99        73\n",
      "\n",
      "    accuracy                           0.98       114\n",
      "   macro avg       0.99      0.98      0.98       114\n",
      "weighted avg       0.98      0.98      0.98       114\n",
      "\n"
     ]
    }
   ],
   "source": [
    "for i in model_list:\n",
    "    model = i()\n",
    "    model.fit(X_train, y_train)\n",
    "    y_pred = model.predict(X_test)\n",
    "    \n",
    "    print(classification_report(y_test, y_pred))"
   ]
  },
  {
   "cell_type": "code",
   "execution_count": 35,
   "id": "a57490b0",
   "metadata": {},
   "outputs": [
    {
     "data": {
      "text/plain": [
       "<function sklearn.metrics._classification.classification_report(y_true, y_pred, *, labels=None, target_names=None, sample_weight=None, digits=2, output_dict=False, zero_division='warn')>"
      ]
     },
     "execution_count": 35,
     "metadata": {},
     "output_type": "execute_result"
    }
   ],
   "source": [
    "classification_report"
   ]
  },
  {
   "cell_type": "markdown",
   "id": "fff15791",
   "metadata": {},
   "source": [
    "### 결과\n",
    "\n",
    "- 랜덤포레스트가 가장 높은 리콜 점수를 보인다."
   ]
  },
  {
   "cell_type": "markdown",
   "id": "5c82ba95",
   "metadata": {},
   "source": [
    "## 4. 마무리"
   ]
  },
  {
   "cell_type": "markdown",
   "id": "b0c610c1",
   "metadata": {},
   "source": [
    "- Exp1에서 너무 오랜 시간을 지체하여 마감에 쫓겨 아쉽다.\n",
    "- recall_score를 바로 확인하는 방법을 알아보아야겠다."
   ]
  },
  {
   "cell_type": "code",
   "execution_count": null,
   "id": "92cc037e",
   "metadata": {},
   "outputs": [],
   "source": []
  }
 ],
 "metadata": {
  "kernelspec": {
   "display_name": "Python 3 (ipykernel)",
   "language": "python",
   "name": "python3"
  },
  "language_info": {
   "codemirror_mode": {
    "name": "ipython",
    "version": 3
   },
   "file_extension": ".py",
   "mimetype": "text/x-python",
   "name": "python",
   "nbconvert_exporter": "python",
   "pygments_lexer": "ipython3",
   "version": "3.9.7"
  }
 },
 "nbformat": 4,
 "nbformat_minor": 5
}
