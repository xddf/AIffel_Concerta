{
  "nbformat": 4,
  "nbformat_minor": 0,
  "metadata": {
    "colab": {
      "name": "[E-16]MovieSBR.ipynb",
      "provenance": [],
      "collapsed_sections": []
    },
    "kernelspec": {
      "name": "python3",
      "display_name": "Python 3"
    },
    "language_info": {
      "name": "python"
    }
  },
  "cells": [
    {
      "cell_type": "markdown",
      "source": [
        "# 다음에 볼 영화 예측하기"
      ],
      "metadata": {
        "id": "dxbW4W7qQaDc"
      }
    },
    {
      "cell_type": "markdown",
      "source": [
        "## 1. 기본 준비"
      ],
      "metadata": {
        "id": "kG8v4iIzQjDC"
      }
    },
    {
      "cell_type": "markdown",
      "source": [
        "- 주요 라이브러리 불러오기 및 버전 확인"
      ],
      "metadata": {
        "id": "JrKU3u2pQtcq"
      }
    },
    {
      "cell_type": "code",
      "execution_count": 365,
      "metadata": {
        "id": "DuZoeOBliH28",
        "colab": {
          "base_uri": "https://localhost:8080/"
        },
        "outputId": "394d4393-a0cb-4370-9351-42c450ade8fb"
      },
      "outputs": [
        {
          "output_type": "stream",
          "name": "stdout",
          "text": [
            "1.3.5\n",
            "2.8.0\n"
          ]
        }
      ],
      "source": [
        "import pandas\n",
        "import tensorflow\n",
        "\n",
        "print(pandas.__version__)\n",
        "print(tensorflow.__version__)"
      ]
    },
    {
      "cell_type": "code",
      "source": [
        "import datetime as dt\n",
        "from pathlib import Path\n",
        "import os\n",
        "\n",
        "import numpy as np\n",
        "import pandas as pd\n",
        "import warnings\n",
        "warnings.filterwarnings('ignore')"
      ],
      "metadata": {
        "id": "KZ7fqCvURVkM"
      },
      "execution_count": 366,
      "outputs": []
    },
    {
      "cell_type": "markdown",
      "source": [
        "- 경로 지정"
      ],
      "metadata": {
        "id": "ygxnprfKiUx6"
      }
    },
    {
      "cell_type": "code",
      "source": [
        "path = '/content/drive/MyDrive/Aiffel/Exploration/E-16/'"
      ],
      "metadata": {
        "id": "mq4IFNZWRPA5"
      },
      "execution_count": 367,
      "outputs": []
    },
    {
      "cell_type": "code",
      "source": [
        "data_path = '/content/drive/MyDrive/Aiffel/Exploration/E-16/data/'"
      ],
      "metadata": {
        "id": "-ws_bhOvQ4iF"
      },
      "execution_count": 368,
      "outputs": []
    },
    {
      "cell_type": "code",
      "source": [
        "train_path = data_path + 'ratings.dat'\n"
      ],
      "metadata": {
        "id": "PsK-_w_OSUZm"
      },
      "execution_count": 369,
      "outputs": []
    },
    {
      "cell_type": "markdown",
      "source": [
        "## 2. 데이터 로드 및 전처리\n"
      ],
      "metadata": {
        "id": "HzMWMzQuSC2V"
      }
    },
    {
      "cell_type": "markdown",
      "source": [
        "### 2.1. 데이터 로드"
      ],
      "metadata": {
        "id": "ouFbhIDlTB-g"
      }
    },
    {
      "cell_type": "markdown",
      "source": [
        "Movielens 1M Dataset\n",
        "\n",
        "- 개요\n",
        ">- 미네소타 대학의 그룹렌즈(FroupLens)가 제공하는 공개 데이터셋\n",
        ">- 영화에 대한 사용자의 별점(rating) 데이터\n",
        ">- 다양한 크기의 데이터셋 중 여기서는 1M 크기를 사용\n",
        "\n",
        "- 특성\n",
        ">- 별점 데이터는 대표적인 명시적 데이터이다.\n",
        ">- session base인 실습과 달리 UserID를 기반으로 하므로 Matrix Factorization을 사용할 수 있을 것 같다.\n",
        ">- 주어진 데이터에서 개별 사용자에 대한 특성은 없다.\n",
        "\n",
        "- rating, time, 두 데이터의 관게에 대한 고민이 필요해 보인다.\n",
        "    > 직전에 봤던 영화가 맘에 들었는지가 비슷한 영화를 더 고르게 하는 것과 상관이 있을 수도 있습니다. 아울러, Rating이 낮은 데이터를 어떻게 처리할지도 고민해야 합니다.\n",
        "\n",
        "- 참조\n",
        ">- https://orill.tistory.com/entry/Explicit-vs-Implicit-Feedback-Datasets?category=1066301\n",
        ">= https://abluesnake.tistory.com/98"
      ],
      "metadata": {
        "id": "1jrlpPCLnxQW"
      }
    },
    {
      "cell_type": "markdown",
      "source": [
        "- 데이터 로드를 위한 함수 지정"
      ],
      "metadata": {
        "id": "xXBMp98mSdhQ"
      }
    },
    {
      "cell_type": "code",
      "source": [
        "def load_data(data_path: Path, nrows=None):\n",
        "    data = pd.read_csv(data_path, sep='::', header=None, usecols=[0, 1, 2, 3], dtype={0: np.int32, 1: np.int32, 2: np.int32}, nrows=nrows)\n",
        "    data.columns = ['UserId', 'ItemId', 'Rating', 'Time']\n",
        "    return data"
      ],
      "metadata": {
        "id": "3UVoe6_XRI27"
      },
      "execution_count": 370,
      "outputs": []
    },
    {
      "cell_type": "markdown",
      "source": [
        "- 데이터 로드, 정렬"
      ],
      "metadata": {
        "id": "jp8eB8knS4jd"
      }
    },
    {
      "cell_type": "code",
      "source": [
        "data = load_data(train_path, None)\n",
        "data.sort_values(['UserId', 'Time'], inplace=True)  # data를 id와 시간 순서로 정렬해줍니다.\n",
        "data"
      ],
      "metadata": {
        "id": "B187Mmc_R32K",
        "colab": {
          "base_uri": "https://localhost:8080/",
          "height": 424
        },
        "outputId": "6dc09558-4d3d-4ff9-83cf-8c0506e65ec0"
      },
      "execution_count": 371,
      "outputs": [
        {
          "output_type": "execute_result",
          "data": {
            "text/plain": [
              "         UserId  ItemId  Rating       Time\n",
              "31            1    3186       4  978300019\n",
              "22            1    1270       5  978300055\n",
              "27            1    1721       4  978300055\n",
              "37            1    1022       5  978300055\n",
              "24            1    2340       3  978300103\n",
              "...         ...     ...     ...        ...\n",
              "1000019    6040    2917       4  997454429\n",
              "999988     6040    1921       4  997454464\n",
              "1000172    6040    1784       3  997454464\n",
              "1000167    6040     161       3  997454486\n",
              "1000042    6040    1221       4  998315055\n",
              "\n",
              "[1000209 rows x 4 columns]"
            ],
            "text/html": [
              "\n",
              "  <div id=\"df-72bf4b6a-43aa-4970-877b-ebd646d823dc\">\n",
              "    <div class=\"colab-df-container\">\n",
              "      <div>\n",
              "<style scoped>\n",
              "    .dataframe tbody tr th:only-of-type {\n",
              "        vertical-align: middle;\n",
              "    }\n",
              "\n",
              "    .dataframe tbody tr th {\n",
              "        vertical-align: top;\n",
              "    }\n",
              "\n",
              "    .dataframe thead th {\n",
              "        text-align: right;\n",
              "    }\n",
              "</style>\n",
              "<table border=\"1\" class=\"dataframe\">\n",
              "  <thead>\n",
              "    <tr style=\"text-align: right;\">\n",
              "      <th></th>\n",
              "      <th>UserId</th>\n",
              "      <th>ItemId</th>\n",
              "      <th>Rating</th>\n",
              "      <th>Time</th>\n",
              "    </tr>\n",
              "  </thead>\n",
              "  <tbody>\n",
              "    <tr>\n",
              "      <th>31</th>\n",
              "      <td>1</td>\n",
              "      <td>3186</td>\n",
              "      <td>4</td>\n",
              "      <td>978300019</td>\n",
              "    </tr>\n",
              "    <tr>\n",
              "      <th>22</th>\n",
              "      <td>1</td>\n",
              "      <td>1270</td>\n",
              "      <td>5</td>\n",
              "      <td>978300055</td>\n",
              "    </tr>\n",
              "    <tr>\n",
              "      <th>27</th>\n",
              "      <td>1</td>\n",
              "      <td>1721</td>\n",
              "      <td>4</td>\n",
              "      <td>978300055</td>\n",
              "    </tr>\n",
              "    <tr>\n",
              "      <th>37</th>\n",
              "      <td>1</td>\n",
              "      <td>1022</td>\n",
              "      <td>5</td>\n",
              "      <td>978300055</td>\n",
              "    </tr>\n",
              "    <tr>\n",
              "      <th>24</th>\n",
              "      <td>1</td>\n",
              "      <td>2340</td>\n",
              "      <td>3</td>\n",
              "      <td>978300103</td>\n",
              "    </tr>\n",
              "    <tr>\n",
              "      <th>...</th>\n",
              "      <td>...</td>\n",
              "      <td>...</td>\n",
              "      <td>...</td>\n",
              "      <td>...</td>\n",
              "    </tr>\n",
              "    <tr>\n",
              "      <th>1000019</th>\n",
              "      <td>6040</td>\n",
              "      <td>2917</td>\n",
              "      <td>4</td>\n",
              "      <td>997454429</td>\n",
              "    </tr>\n",
              "    <tr>\n",
              "      <th>999988</th>\n",
              "      <td>6040</td>\n",
              "      <td>1921</td>\n",
              "      <td>4</td>\n",
              "      <td>997454464</td>\n",
              "    </tr>\n",
              "    <tr>\n",
              "      <th>1000172</th>\n",
              "      <td>6040</td>\n",
              "      <td>1784</td>\n",
              "      <td>3</td>\n",
              "      <td>997454464</td>\n",
              "    </tr>\n",
              "    <tr>\n",
              "      <th>1000167</th>\n",
              "      <td>6040</td>\n",
              "      <td>161</td>\n",
              "      <td>3</td>\n",
              "      <td>997454486</td>\n",
              "    </tr>\n",
              "    <tr>\n",
              "      <th>1000042</th>\n",
              "      <td>6040</td>\n",
              "      <td>1221</td>\n",
              "      <td>4</td>\n",
              "      <td>998315055</td>\n",
              "    </tr>\n",
              "  </tbody>\n",
              "</table>\n",
              "<p>1000209 rows × 4 columns</p>\n",
              "</div>\n",
              "      <button class=\"colab-df-convert\" onclick=\"convertToInteractive('df-72bf4b6a-43aa-4970-877b-ebd646d823dc')\"\n",
              "              title=\"Convert this dataframe to an interactive table.\"\n",
              "              style=\"display:none;\">\n",
              "        \n",
              "  <svg xmlns=\"http://www.w3.org/2000/svg\" height=\"24px\"viewBox=\"0 0 24 24\"\n",
              "       width=\"24px\">\n",
              "    <path d=\"M0 0h24v24H0V0z\" fill=\"none\"/>\n",
              "    <path d=\"M18.56 5.44l.94 2.06.94-2.06 2.06-.94-2.06-.94-.94-2.06-.94 2.06-2.06.94zm-11 1L8.5 8.5l.94-2.06 2.06-.94-2.06-.94L8.5 2.5l-.94 2.06-2.06.94zm10 10l.94 2.06.94-2.06 2.06-.94-2.06-.94-.94-2.06-.94 2.06-2.06.94z\"/><path d=\"M17.41 7.96l-1.37-1.37c-.4-.4-.92-.59-1.43-.59-.52 0-1.04.2-1.43.59L10.3 9.45l-7.72 7.72c-.78.78-.78 2.05 0 2.83L4 21.41c.39.39.9.59 1.41.59.51 0 1.02-.2 1.41-.59l7.78-7.78 2.81-2.81c.8-.78.8-2.07 0-2.86zM5.41 20L4 18.59l7.72-7.72 1.47 1.35L5.41 20z\"/>\n",
              "  </svg>\n",
              "      </button>\n",
              "      \n",
              "  <style>\n",
              "    .colab-df-container {\n",
              "      display:flex;\n",
              "      flex-wrap:wrap;\n",
              "      gap: 12px;\n",
              "    }\n",
              "\n",
              "    .colab-df-convert {\n",
              "      background-color: #E8F0FE;\n",
              "      border: none;\n",
              "      border-radius: 50%;\n",
              "      cursor: pointer;\n",
              "      display: none;\n",
              "      fill: #1967D2;\n",
              "      height: 32px;\n",
              "      padding: 0 0 0 0;\n",
              "      width: 32px;\n",
              "    }\n",
              "\n",
              "    .colab-df-convert:hover {\n",
              "      background-color: #E2EBFA;\n",
              "      box-shadow: 0px 1px 2px rgba(60, 64, 67, 0.3), 0px 1px 3px 1px rgba(60, 64, 67, 0.15);\n",
              "      fill: #174EA6;\n",
              "    }\n",
              "\n",
              "    [theme=dark] .colab-df-convert {\n",
              "      background-color: #3B4455;\n",
              "      fill: #D2E3FC;\n",
              "    }\n",
              "\n",
              "    [theme=dark] .colab-df-convert:hover {\n",
              "      background-color: #434B5C;\n",
              "      box-shadow: 0px 1px 3px 1px rgba(0, 0, 0, 0.15);\n",
              "      filter: drop-shadow(0px 1px 2px rgba(0, 0, 0, 0.3));\n",
              "      fill: #FFFFFF;\n",
              "    }\n",
              "  </style>\n",
              "\n",
              "      <script>\n",
              "        const buttonEl =\n",
              "          document.querySelector('#df-72bf4b6a-43aa-4970-877b-ebd646d823dc button.colab-df-convert');\n",
              "        buttonEl.style.display =\n",
              "          google.colab.kernel.accessAllowed ? 'block' : 'none';\n",
              "\n",
              "        async function convertToInteractive(key) {\n",
              "          const element = document.querySelector('#df-72bf4b6a-43aa-4970-877b-ebd646d823dc');\n",
              "          const dataTable =\n",
              "            await google.colab.kernel.invokeFunction('convertToInteractive',\n",
              "                                                     [key], {});\n",
              "          if (!dataTable) return;\n",
              "\n",
              "          const docLinkHtml = 'Like what you see? Visit the ' +\n",
              "            '<a target=\"_blank\" href=https://colab.research.google.com/notebooks/data_table.ipynb>data table notebook</a>'\n",
              "            + ' to learn more about interactive tables.';\n",
              "          element.innerHTML = '';\n",
              "          dataTable['output_type'] = 'display_data';\n",
              "          await google.colab.output.renderOutput(dataTable, element);\n",
              "          const docLink = document.createElement('div');\n",
              "          docLink.innerHTML = docLinkHtml;\n",
              "          element.appendChild(docLink);\n",
              "        }\n",
              "      </script>\n",
              "    </div>\n",
              "  </div>\n",
              "  "
            ]
          },
          "metadata": {},
          "execution_count": 371
        }
      ]
    },
    {
      "cell_type": "markdown",
      "source": [
        "## 2.2. 데이터 확인"
      ],
      "metadata": {
        "id": "sVurOq5FU3ow"
      }
    },
    {
      "cell_type": "markdown",
      "source": [
        "- 결측치 확인"
      ],
      "metadata": {
        "id": "00QyWcORWseb"
      }
    },
    {
      "cell_type": "code",
      "source": [
        "data.isnull().sum()"
      ],
      "metadata": {
        "colab": {
          "base_uri": "https://localhost:8080/"
        },
        "id": "QI5_9mfWWBF8",
        "outputId": "c16dcfd4-024f-43a8-e8f8-7e42f38d8e14"
      },
      "execution_count": 372,
      "outputs": [
        {
          "output_type": "execute_result",
          "data": {
            "text/plain": [
              "UserId    0\n",
              "ItemId    0\n",
              "Rating    0\n",
              "Time      0\n",
              "dtype: int64"
            ]
          },
          "metadata": {},
          "execution_count": 372
        }
      ]
    },
    {
      "cell_type": "markdown",
      "source": [
        "- 유니크 데이터 개수 확인"
      ],
      "metadata": {
        "id": "pIyzCSBfVgOx"
      }
    },
    {
      "cell_type": "code",
      "source": [
        "data['UserId'].nunique(), data['ItemId'].nunique(), data['Rating'].nunique()"
      ],
      "metadata": {
        "id": "PI9_itpMTGwK",
        "colab": {
          "base_uri": "https://localhost:8080/"
        },
        "outputId": "a1fafb2a-0148-41e8-8368-bf36ac4e2b86"
      },
      "execution_count": 373,
      "outputs": [
        {
          "output_type": "execute_result",
          "data": {
            "text/plain": [
              "(6040, 3706, 5)"
            ]
          },
          "metadata": {},
          "execution_count": 373
        }
      ]
    },
    {
      "cell_type": "markdown",
      "source": [
        "- 레이팅의 종류 확인. 0점은 없다."
      ],
      "metadata": {
        "id": "BqA4VCntSidG"
      }
    },
    {
      "cell_type": "code",
      "source": [
        "data['Rating'].unique()"
      ],
      "metadata": {
        "colab": {
          "base_uri": "https://localhost:8080/"
        },
        "id": "lnC3h_EuSebj",
        "outputId": "94e84ca0-dec2-4fdf-817f-89b0949454f2"
      },
      "execution_count": 374,
      "outputs": [
        {
          "output_type": "execute_result",
          "data": {
            "text/plain": [
              "array([4, 5, 3, 2, 1], dtype=int32)"
            ]
          },
          "metadata": {},
          "execution_count": 374
        }
      ]
    },
    {
      "cell_type": "markdown",
      "source": [
        "*실습의 세션ID와는 달리 userID는 실제 유저수와 거의 같을 것 같다. 유의미한 차이일지는 아직 모르겠지만 기억해두자.*"
      ],
      "metadata": {
        "id": "D5FcXrPJTt91"
      }
    },
    {
      "cell_type": "code",
      "source": [
        "user_length = data.groupby('UserId').size()\n",
        "user_length"
      ],
      "metadata": {
        "id": "AB6mrs1JU8De",
        "colab": {
          "base_uri": "https://localhost:8080/"
        },
        "outputId": "101daf71-c137-47d1-a1be-a5b159650a6c"
      },
      "execution_count": 375,
      "outputs": [
        {
          "output_type": "execute_result",
          "data": {
            "text/plain": [
              "UserId\n",
              "1        53\n",
              "2       129\n",
              "3        51\n",
              "4        21\n",
              "5       198\n",
              "       ... \n",
              "6036    888\n",
              "6037    202\n",
              "6038     20\n",
              "6039    123\n",
              "6040    341\n",
              "Length: 6040, dtype: int64"
            ]
          },
          "metadata": {},
          "execution_count": 375
        }
      ]
    },
    {
      "cell_type": "code",
      "source": [
        "user_length.median(), user_length.mean()"
      ],
      "metadata": {
        "id": "d_UI5qa_VH7r",
        "colab": {
          "base_uri": "https://localhost:8080/"
        },
        "outputId": "1dda5611-4fb8-45d1-af69-92e6064c5f1b"
      },
      "execution_count": 376,
      "outputs": [
        {
          "output_type": "execute_result",
          "data": {
            "text/plain": [
              "(96.0, 165.5975165562914)"
            ]
          },
          "metadata": {},
          "execution_count": 376
        }
      ]
    },
    {
      "cell_type": "code",
      "source": [
        "user_length.min(), user_length.max()"
      ],
      "metadata": {
        "id": "441o_z0xc8es",
        "colab": {
          "base_uri": "https://localhost:8080/"
        },
        "outputId": "6e20e834-4118-4aca-b3f2-6fbbfd39793e"
      },
      "execution_count": 377,
      "outputs": [
        {
          "output_type": "execute_result",
          "data": {
            "text/plain": [
              "(20, 2314)"
            ]
          },
          "metadata": {},
          "execution_count": 377
        }
      ]
    },
    {
      "cell_type": "code",
      "source": [
        "user_length.quantile(0.999)"
      ],
      "metadata": {
        "id": "2lFckl5ndChO",
        "colab": {
          "base_uri": "https://localhost:8080/"
        },
        "outputId": "75250b12-82ea-4e2e-e230-a020af517088"
      },
      "execution_count": 378,
      "outputs": [
        {
          "output_type": "execute_result",
          "data": {
            "text/plain": [
              "1343.181000000005"
            ]
          },
          "metadata": {},
          "execution_count": 378
        }
      ]
    },
    {
      "cell_type": "markdown",
      "source": [
        "- 중간값 96, 평균 약 165\n",
        "- 99.9%의 length는 1343이하.\n",
        "- max_length는 2314"
      ],
      "metadata": {
        "id": "zrv-ziFmdcEw"
      }
    },
    {
      "cell_type": "code",
      "source": [
        "# 2314로 가장 많은 갯수를 등록한 유저의 기록을 살펴보자\n",
        "long_UL = user_length[user_length==2314].index[0]\n",
        "data[data['UserId']==long_UL]"
      ],
      "metadata": {
        "id": "quqML7y7dv1i",
        "colab": {
          "base_uri": "https://localhost:8080/",
          "height": 424
        },
        "outputId": "500d55fa-331f-4232-fd43-10b44adc9e54"
      },
      "execution_count": 379,
      "outputs": [
        {
          "output_type": "execute_result",
          "data": {
            "text/plain": [
              "        UserId  ItemId  Rating        Time\n",
              "696969    4169    1268       5   965333392\n",
              "697168    4169    2617       4   965333392\n",
              "697185    4169    2628       4   965333392\n",
              "697219    4169    2653       4   965333392\n",
              "697275    4169     423       3   965333392\n",
              "...        ...     ...     ...         ...\n",
              "697882    4169    3754       2  1024174347\n",
              "695702    4169    1413       3  1024175031\n",
              "697358    4169     494       4  1024175760\n",
              "695945    4169    1804       2  1024175783\n",
              "696446    4169    1548       3  1024176337\n",
              "\n",
              "[2314 rows x 4 columns]"
            ],
            "text/html": [
              "\n",
              "  <div id=\"df-08b29463-8df8-4229-89da-9a3bfbcc5658\">\n",
              "    <div class=\"colab-df-container\">\n",
              "      <div>\n",
              "<style scoped>\n",
              "    .dataframe tbody tr th:only-of-type {\n",
              "        vertical-align: middle;\n",
              "    }\n",
              "\n",
              "    .dataframe tbody tr th {\n",
              "        vertical-align: top;\n",
              "    }\n",
              "\n",
              "    .dataframe thead th {\n",
              "        text-align: right;\n",
              "    }\n",
              "</style>\n",
              "<table border=\"1\" class=\"dataframe\">\n",
              "  <thead>\n",
              "    <tr style=\"text-align: right;\">\n",
              "      <th></th>\n",
              "      <th>UserId</th>\n",
              "      <th>ItemId</th>\n",
              "      <th>Rating</th>\n",
              "      <th>Time</th>\n",
              "    </tr>\n",
              "  </thead>\n",
              "  <tbody>\n",
              "    <tr>\n",
              "      <th>696969</th>\n",
              "      <td>4169</td>\n",
              "      <td>1268</td>\n",
              "      <td>5</td>\n",
              "      <td>965333392</td>\n",
              "    </tr>\n",
              "    <tr>\n",
              "      <th>697168</th>\n",
              "      <td>4169</td>\n",
              "      <td>2617</td>\n",
              "      <td>4</td>\n",
              "      <td>965333392</td>\n",
              "    </tr>\n",
              "    <tr>\n",
              "      <th>697185</th>\n",
              "      <td>4169</td>\n",
              "      <td>2628</td>\n",
              "      <td>4</td>\n",
              "      <td>965333392</td>\n",
              "    </tr>\n",
              "    <tr>\n",
              "      <th>697219</th>\n",
              "      <td>4169</td>\n",
              "      <td>2653</td>\n",
              "      <td>4</td>\n",
              "      <td>965333392</td>\n",
              "    </tr>\n",
              "    <tr>\n",
              "      <th>697275</th>\n",
              "      <td>4169</td>\n",
              "      <td>423</td>\n",
              "      <td>3</td>\n",
              "      <td>965333392</td>\n",
              "    </tr>\n",
              "    <tr>\n",
              "      <th>...</th>\n",
              "      <td>...</td>\n",
              "      <td>...</td>\n",
              "      <td>...</td>\n",
              "      <td>...</td>\n",
              "    </tr>\n",
              "    <tr>\n",
              "      <th>697882</th>\n",
              "      <td>4169</td>\n",
              "      <td>3754</td>\n",
              "      <td>2</td>\n",
              "      <td>1024174347</td>\n",
              "    </tr>\n",
              "    <tr>\n",
              "      <th>695702</th>\n",
              "      <td>4169</td>\n",
              "      <td>1413</td>\n",
              "      <td>3</td>\n",
              "      <td>1024175031</td>\n",
              "    </tr>\n",
              "    <tr>\n",
              "      <th>697358</th>\n",
              "      <td>4169</td>\n",
              "      <td>494</td>\n",
              "      <td>4</td>\n",
              "      <td>1024175760</td>\n",
              "    </tr>\n",
              "    <tr>\n",
              "      <th>695945</th>\n",
              "      <td>4169</td>\n",
              "      <td>1804</td>\n",
              "      <td>2</td>\n",
              "      <td>1024175783</td>\n",
              "    </tr>\n",
              "    <tr>\n",
              "      <th>696446</th>\n",
              "      <td>4169</td>\n",
              "      <td>1548</td>\n",
              "      <td>3</td>\n",
              "      <td>1024176337</td>\n",
              "    </tr>\n",
              "  </tbody>\n",
              "</table>\n",
              "<p>2314 rows × 4 columns</p>\n",
              "</div>\n",
              "      <button class=\"colab-df-convert\" onclick=\"convertToInteractive('df-08b29463-8df8-4229-89da-9a3bfbcc5658')\"\n",
              "              title=\"Convert this dataframe to an interactive table.\"\n",
              "              style=\"display:none;\">\n",
              "        \n",
              "  <svg xmlns=\"http://www.w3.org/2000/svg\" height=\"24px\"viewBox=\"0 0 24 24\"\n",
              "       width=\"24px\">\n",
              "    <path d=\"M0 0h24v24H0V0z\" fill=\"none\"/>\n",
              "    <path d=\"M18.56 5.44l.94 2.06.94-2.06 2.06-.94-2.06-.94-.94-2.06-.94 2.06-2.06.94zm-11 1L8.5 8.5l.94-2.06 2.06-.94-2.06-.94L8.5 2.5l-.94 2.06-2.06.94zm10 10l.94 2.06.94-2.06 2.06-.94-2.06-.94-.94-2.06-.94 2.06-2.06.94z\"/><path d=\"M17.41 7.96l-1.37-1.37c-.4-.4-.92-.59-1.43-.59-.52 0-1.04.2-1.43.59L10.3 9.45l-7.72 7.72c-.78.78-.78 2.05 0 2.83L4 21.41c.39.39.9.59 1.41.59.51 0 1.02-.2 1.41-.59l7.78-7.78 2.81-2.81c.8-.78.8-2.07 0-2.86zM5.41 20L4 18.59l7.72-7.72 1.47 1.35L5.41 20z\"/>\n",
              "  </svg>\n",
              "      </button>\n",
              "      \n",
              "  <style>\n",
              "    .colab-df-container {\n",
              "      display:flex;\n",
              "      flex-wrap:wrap;\n",
              "      gap: 12px;\n",
              "    }\n",
              "\n",
              "    .colab-df-convert {\n",
              "      background-color: #E8F0FE;\n",
              "      border: none;\n",
              "      border-radius: 50%;\n",
              "      cursor: pointer;\n",
              "      display: none;\n",
              "      fill: #1967D2;\n",
              "      height: 32px;\n",
              "      padding: 0 0 0 0;\n",
              "      width: 32px;\n",
              "    }\n",
              "\n",
              "    .colab-df-convert:hover {\n",
              "      background-color: #E2EBFA;\n",
              "      box-shadow: 0px 1px 2px rgba(60, 64, 67, 0.3), 0px 1px 3px 1px rgba(60, 64, 67, 0.15);\n",
              "      fill: #174EA6;\n",
              "    }\n",
              "\n",
              "    [theme=dark] .colab-df-convert {\n",
              "      background-color: #3B4455;\n",
              "      fill: #D2E3FC;\n",
              "    }\n",
              "\n",
              "    [theme=dark] .colab-df-convert:hover {\n",
              "      background-color: #434B5C;\n",
              "      box-shadow: 0px 1px 3px 1px rgba(0, 0, 0, 0.15);\n",
              "      filter: drop-shadow(0px 1px 2px rgba(0, 0, 0, 0.3));\n",
              "      fill: #FFFFFF;\n",
              "    }\n",
              "  </style>\n",
              "\n",
              "      <script>\n",
              "        const buttonEl =\n",
              "          document.querySelector('#df-08b29463-8df8-4229-89da-9a3bfbcc5658 button.colab-df-convert');\n",
              "        buttonEl.style.display =\n",
              "          google.colab.kernel.accessAllowed ? 'block' : 'none';\n",
              "\n",
              "        async function convertToInteractive(key) {\n",
              "          const element = document.querySelector('#df-08b29463-8df8-4229-89da-9a3bfbcc5658');\n",
              "          const dataTable =\n",
              "            await google.colab.kernel.invokeFunction('convertToInteractive',\n",
              "                                                     [key], {});\n",
              "          if (!dataTable) return;\n",
              "\n",
              "          const docLinkHtml = 'Like what you see? Visit the ' +\n",
              "            '<a target=\"_blank\" href=https://colab.research.google.com/notebooks/data_table.ipynb>data table notebook</a>'\n",
              "            + ' to learn more about interactive tables.';\n",
              "          element.innerHTML = '';\n",
              "          dataTable['output_type'] = 'display_data';\n",
              "          await google.colab.output.renderOutput(dataTable, element);\n",
              "          const docLink = document.createElement('div');\n",
              "          docLink.innerHTML = docLinkHtml;\n",
              "          element.appendChild(docLink);\n",
              "        }\n",
              "      </script>\n",
              "    </div>\n",
              "  </div>\n",
              "  "
            ]
          },
          "metadata": {},
          "execution_count": 379
        }
      ]
    },
    {
      "cell_type": "markdown",
      "source": [
        "거의 동일한 시간대에 대량으로 점수를 매겼다. 정상적으로 보이지는 않는다."
      ],
      "metadata": {
        "id": "9r4YbV76RODm"
      }
    },
    {
      "cell_type": "markdown",
      "source": [
        "- user_length 길이 기준 하위 99.9% 까지의 분포 누적 합 확인"
      ],
      "metadata": {
        "id": "x9w82fFdNHSa"
      }
    },
    {
      "cell_type": "code",
      "source": [
        "length_count = user_length.groupby(user_length).size()\n",
        "length_percent_cumsum = length_count.cumsum() / length_count.sum()\n",
        "length_percent_cumsum_999 = length_percent_cumsum[length_percent_cumsum < 0.999]\n",
        "\n",
        "length_percent_cumsum_999"
      ],
      "metadata": {
        "id": "iPx4c1sPeZtb",
        "colab": {
          "base_uri": "https://localhost:8080/"
        },
        "outputId": "0c6a1a1f-9598-4812-b853-68293781eac3"
      },
      "execution_count": 380,
      "outputs": [
        {
          "output_type": "execute_result",
          "data": {
            "text/plain": [
              "20      0.014238\n",
              "21      0.029305\n",
              "22      0.042053\n",
              "23      0.055464\n",
              "24      0.068874\n",
              "          ...   \n",
              "1271    0.998179\n",
              "1277    0.998344\n",
              "1286    0.998510\n",
              "1302    0.998675\n",
              "1323    0.998841\n",
              "Length: 736, dtype: float64"
            ]
          },
          "metadata": {},
          "execution_count": 380
        }
      ]
    },
    {
      "cell_type": "code",
      "source": [
        "import matplotlib.pyplot as plt\n",
        "\n",
        "plt.style.use(['dark_background'])\n",
        "\n",
        "plt.figure(figsize=(21, 7))\n",
        "plt.bar(x=length_percent_cumsum_999.index,\n",
        "        height=length_percent_cumsum_999, color='red')\n",
        "plt.xticks(length_percent_cumsum_999.index)\n",
        "plt.yticks(np.arange(0, 1.01, 0.05))\n",
        "plt.title('Cumsum Percentage Until 0.999', size=20)\n",
        "plt.show()"
      ],
      "metadata": {
        "id": "GACIkA3ygj94",
        "colab": {
          "base_uri": "https://localhost:8080/",
          "height": 395
        },
        "outputId": "3bd12e64-18b1-4212-9fa3-39c865bcb980"
      },
      "execution_count": 381,
      "outputs": [
        {
          "output_type": "display_data",
          "data": {
            "text/plain": [
              "<Figure size 2100x700 with 1 Axes>"
            ],
            "image/png": "[encoded data removed]"
          },
          "metadata": {}
        }
      ]
    },
    {
      "cell_type": "markdown",
      "source": [
        "- 박스플롯으로 확인해보자"
      ],
      "metadata": {
        "id": "aGZ0pDjvOVvS"
      }
    },
    {
      "cell_type": "code",
      "source": [
        "\n",
        "plt.style.use('default')\n",
        "plt.rcParams['figure.figsize'] = (4, 12)\n",
        "plt.rcParams['font.size'] = 12\n",
        "\n",
        "fig, ax = plt.subplots()\n",
        "\n",
        "ax.boxplot(user_length)\n",
        "ax.set_ylabel('length')\n",
        "\n",
        "plt.show()"
      ],
      "metadata": {
        "colab": {
          "base_uri": "https://localhost:8080/",
          "height": 988
        },
        "id": "tdpoSRQtOpRe",
        "outputId": "bc2e78b9-0528-4a44-818e-c09920e965e9"
      },
      "execution_count": 382,
      "outputs": [
        {
          "output_type": "display_data",
          "data": {
            "text/plain": [
              "<Figure size 400x1200 with 1 Axes>"
            ],
            "image/png": "[encoded data removed]"
          },
          "metadata": {}
        }
      ]
    },
    {
      "cell_type": "markdown",
      "source": [
        "- 아웃라이어로 마킹되는 값이 많으나 분포가 조밀하다.\n",
        "- 99.9%의 데이터가 속한 1343을 초과하는 데이터는 전처리 과정에서 일단 제거해도 무방할 것으로 보인다.\n",
        "- 피규어 사이즈의 세로를 길게 해 더 직관적으로 확인해보았다."
      ],
      "metadata": {
        "id": "F2mgBjbjPZca"
      }
    },
    {
      "cell_type": "code",
      "source": [
        "length_percent_cumsum_999.index[-1]"
      ],
      "metadata": {
        "id": "8stJmlKShISJ",
        "colab": {
          "base_uri": "https://localhost:8080/"
        },
        "outputId": "b9d4cbe4-235a-4b04-dc74-4b5d83c22fab"
      },
      "execution_count": 383,
      "outputs": [
        {
          "output_type": "execute_result",
          "data": {
            "text/plain": [
              "1323"
            ]
          },
          "metadata": {},
          "execution_count": 383
        }
      ]
    },
    {
      "cell_type": "markdown",
      "source": [
        "- 데이터의 시간단위 정보 확인"
      ],
      "metadata": {
        "id": "BXUrahuiNd-c"
      }
    },
    {
      "cell_type": "code",
      "source": [
        "oldest, latest = data['Time'].min(), data['Time'].max()  "
      ],
      "metadata": {
        "id": "wNW5B1UUNifu"
      },
      "execution_count": 384,
      "outputs": []
    },
    {
      "cell_type": "code",
      "source": [
        "print(oldest)\n",
        "print(latest)"
      ],
      "metadata": {
        "colab": {
          "base_uri": "https://localhost:8080/"
        },
        "id": "joR9RsntNlti",
        "outputId": "2ea6fa0d-4b13-4f3f-8baf-852253c6f9c5"
      },
      "execution_count": 385,
      "outputs": [
        {
          "output_type": "stream",
          "name": "stdout",
          "text": [
            "956703932\n",
            "1046454590\n"
          ]
        }
      ]
    },
    {
      "cell_type": "code",
      "source": [
        "# 날짜, 시간 표기로 확인\n",
        "print(dt.datetime.utcfromtimestamp(oldest).strftime('%Y-%m-%d %H:%M:%S'))  \n",
        "print(dt.datetime.utcfromtimestamp(latest).strftime('%Y-%m-%d %H:%M:%S'))"
      ],
      "metadata": {
        "colab": {
          "base_uri": "https://localhost:8080/"
        },
        "id": "Mg_J8SHVNmF9",
        "outputId": "0f95ce33-775d-4707-a104-29feb20ea46d"
      },
      "execution_count": 386,
      "outputs": [
        {
          "output_type": "stream",
          "name": "stdout",
          "text": [
            "2000-04-25 23:05:32\n",
            "2003-02-28 17:49:50\n"
          ]
        }
      ]
    },
    {
      "cell_type": "markdown",
      "source": [
        ">- 자료의 레코딩 기간이 3년에 조금 못미치는데, 3년간 매일 한 편의 영화를 보더라도 1095편이므로 \n",
        "1323이라는 평가 수도 그리 타당해 보이지는 않는다.\n",
        ">- 악의적인 조작이 아니라, 관련 전문가 등일 가능성도 있으나, 일반 사용자를 대상으로 영화를 추천하기 위해서는 조절이 필요해 보인다\n"
      ],
      "metadata": {
        "id": "Yu6vq11DIfum"
      }
    },
    {
      "cell_type": "code",
      "source": [
        "length_percent_cumsum_99 = length_percent_cumsum[length_percent_cumsum < 0.99]\n",
        "user_length.quantile(0.99)"
      ],
      "metadata": {
        "colab": {
          "base_uri": "https://localhost:8080/"
        },
        "id": "z1C-MDQNlznn",
        "outputId": "9901a3f8-7792-4979-d30b-910842954ae5"
      },
      "execution_count": 387,
      "outputs": [
        {
          "output_type": "execute_result",
          "data": {
            "text/plain": [
              "906.659999999998"
            ]
          },
          "metadata": {},
          "execution_count": 387
        }
      ]
    },
    {
      "cell_type": "code",
      "source": [
        "print(len(data[data['Time'] > latest - (86400*365*3)]))  # 3년치 데이터\n",
        "print(len(data[data['Time'] > latest - (86400*365*2)]))  # 최신 2년치 데이터\n",
        "print(len(data[data['Time'] > latest - (86400*365*1)]))  # 최신 1년치 데이터"
      ],
      "metadata": {
        "colab": {
          "base_uri": "https://localhost:8080/"
        },
        "id": "TrnRLWJKNs0M",
        "outputId": "7a6bb0fa-a259-4545-e155-f60486f22c18"
      },
      "execution_count": 388,
      "outputs": [
        {
          "output_type": "stream",
          "name": "stdout",
          "text": [
            "1000209\n",
            "69349\n",
            "21704\n"
          ]
        }
      ]
    },
    {
      "cell_type": "markdown",
      "source": [
        "- 레이팅의 분포를 확인"
      ],
      "metadata": {
        "id": "Mk4z-UvTSoAT"
      }
    },
    {
      "cell_type": "markdown",
      "source": [
        "## 2.3. 전처리"
      ],
      "metadata": {
        "id": "dDXwk4YCS3-y"
      }
    },
    {
      "cell_type": "markdown",
      "source": [
        "### 2.3.1. 제거할 데이터"
      ],
      "metadata": {
        "id": "2STZKhEhTd8K"
      }
    },
    {
      "cell_type": "markdown",
      "source": [
        "- 평가 개수가 정상 범주를 넘어가는 데이터 제거"
      ],
      "metadata": {
        "id": "I2EUsNEtRrPS"
      }
    },
    {
      "cell_type": "code",
      "source": [
        "drop_index = user_length[user_length>885].index"
      ],
      "metadata": {
        "id": "GJB0h8cfRyZI"
      },
      "execution_count": 391,
      "outputs": []
    },
    {
      "cell_type": "code",
      "source": [
        "type(drop_index)"
      ],
      "metadata": {
        "colab": {
          "base_uri": "https://localhost:8080/"
        },
        "id": "NQCsm0mh8Fx7",
        "outputId": "09948fd3-4c51-4d47-cb2b-34dd79ca2855"
      },
      "execution_count": 392,
      "outputs": [
        {
          "output_type": "execute_result",
          "data": {
            "text/plain": [
              "pandas.core.indexes.numeric.Int64Index"
            ]
          },
          "metadata": {},
          "execution_count": 392
        }
      ]
    },
    {
      "cell_type": "code",
      "source": [
        "drop_index = drop_index.tolist()"
      ],
      "metadata": {
        "id": "T7CrntBlXKAN"
      },
      "execution_count": 393,
      "outputs": []
    },
    {
      "cell_type": "code",
      "source": [
        "drop_index"
      ],
      "metadata": {
        "id": "gD4813iZ7tdw"
      },
      "execution_count": null,
      "outputs": []
    },
    {
      "cell_type": "code",
      "source": [
        "data = data[~data.UserId.isin(drop_index)]"
      ],
      "metadata": {
        "id": "06qT-5f40I1g"
      },
      "execution_count": 395,
      "outputs": []
    },
    {
      "cell_type": "code",
      "source": [
        "data['UserId'].nunique()"
      ],
      "metadata": {
        "colab": {
          "base_uri": "https://localhost:8080/"
        },
        "id": "e4AMXAvbB709",
        "outputId": "be414fe5-7dde-44f2-fd49-fbba336af2f6"
      },
      "execution_count": 396,
      "outputs": [
        {
          "output_type": "execute_result",
          "data": {
            "text/plain": [
              "5973"
            ]
          },
          "metadata": {},
          "execution_count": 396
        }
      ]
    },
    {
      "cell_type": "code",
      "source": [
        "user_length = data.groupby('UserId').size()\n",
        "user_length"
      ],
      "metadata": {
        "colab": {
          "base_uri": "https://localhost:8080/"
        },
        "id": "VCNIeWAKFUWR",
        "outputId": "e8fa28ae-779c-4d05-bda8-ad4e3b0ed29e"
      },
      "execution_count": 397,
      "outputs": [
        {
          "output_type": "execute_result",
          "data": {
            "text/plain": [
              "UserId\n",
              "1        53\n",
              "2       129\n",
              "3        51\n",
              "4        21\n",
              "5       198\n",
              "       ... \n",
              "6035    280\n",
              "6037    202\n",
              "6038     20\n",
              "6039    123\n",
              "6040    341\n",
              "Length: 5973, dtype: int64"
            ]
          },
          "metadata": {},
          "execution_count": 397
        }
      ]
    },
    {
      "cell_type": "markdown",
      "source": [
        "- 부정적 평가를 제거\n",
        "\n"
      ],
      "metadata": {
        "id": "J5TUVvlSSDm8"
      }
    },
    {
      "cell_type": "code",
      "source": [
        "plt.rcParams['figure.figsize'] = (4, 3)\n",
        "plt.hist(data['Rating'], density=True,bins=5)\n",
        "plt.title('Histogram of Rating')\n",
        "plt.axis([1, 5, 0, 1])\n",
        "plt.show()"
      ],
      "metadata": {
        "colab": {
          "base_uri": "https://localhost:8080/",
          "height": 319
        },
        "id": "306uO7r1SsmB",
        "outputId": "c86573da-2cb3-4bb8-c007-3afbbc9603d6"
      },
      "execution_count": 399,
      "outputs": [
        {
          "output_type": "display_data",
          "data": {
            "text/plain": [
              "<Figure size 400x300 with 1 Axes>"
            ],
            "image/png": "[encoded data removed]"
          },
          "metadata": {}
        }
      ]
    },
    {
      "cell_type": "code",
      "source": [
        "import seaborn as sns\n",
        "sns.countplot(x=\"Rating\", data=data)\n",
        "plt.show()"
      ],
      "metadata": {
        "colab": {
          "base_uri": "https://localhost:8080/",
          "height": 319
        },
        "id": "SYekzaxBUigU",
        "outputId": "3bedfb0f-d6d3-4a10-dd8f-96e4fd5c93ed"
      },
      "execution_count": 400,
      "outputs": [
        {
          "output_type": "display_data",
          "data": {
            "text/plain": [
              "<Figure size 400x300 with 1 Axes>"
            ],
            "image/png": "[encoded data removed]"
          },
          "metadata": {}
        }
      ]
    },
    {
      "cell_type": "markdown",
      "source": [
        "- 분포를 근거로 바로 적용한다면 2 이하의 점수를 부정적인 평가로 판단하여 대상에서 제외할 수 있을 것이다.\n",
        "- 하지만 모든 개별 유저가 점수에 대한 기준이 동일하지 않을 수 있다.\n",
        "- 유저 각각에 대한 레이팅 평균을 확인하는 것이 유의미 할 수 있을 것 같다."
      ],
      "metadata": {
        "id": "wT21eratVhso"
      }
    },
    {
      "cell_type": "markdown",
      "source": [
        "- 개별 userId별 레이팅 평균"
      ],
      "metadata": {
        "id": "_2ZNLN3N4IL3"
      }
    },
    {
      "cell_type": "code",
      "source": [
        "user = []\n",
        "mean = []\n",
        "for i in range(6040):\n",
        "    i = i + 1\n",
        "    \n",
        "    df = (data[data.UserId.isin([i])]) \n",
        "    if df['Rating'].sum() != 0:\n",
        "        user.append(str(i))\n",
        "        mean.append(df['Rating'].mean())"
      ],
      "metadata": {
        "id": "6VSKkLg4oquL"
      },
      "execution_count": 440,
      "outputs": []
    },
    {
      "cell_type": "code",
      "source": [
        "len(user)"
      ],
      "metadata": {
        "colab": {
          "base_uri": "https://localhost:8080/"
        },
        "id": "QcWyE-OQqwY9",
        "outputId": "7323f340-3cd0-47a8-8a0a-8d8242a23971"
      },
      "execution_count": 441,
      "outputs": [
        {
          "output_type": "execute_result",
          "data": {
            "text/plain": [
              "5973"
            ]
          },
          "metadata": {},
          "execution_count": 441
        }
      ]
    },
    {
      "cell_type": "code",
      "source": [
        "type(mean[0])"
      ],
      "metadata": {
        "colab": {
          "base_uri": "https://localhost:8080/"
        },
        "id": "c7BZMf5L10Hk",
        "outputId": "cda7e0c1-0e48-4eb1-9a45-37b56313a327"
      },
      "execution_count": 450,
      "outputs": [
        {
          "output_type": "execute_result",
          "data": {
            "text/plain": [
              "float"
            ]
          },
          "metadata": {},
          "execution_count": 450
        }
      ]
    },
    {
      "cell_type": "code",
      "source": [
        "# 평균 점수의 평균\n",
        "np.mean(mean)"
      ],
      "metadata": {
        "colab": {
          "base_uri": "https://localhost:8080/"
        },
        "id": "dHat7IZo4aTQ",
        "outputId": "0c70c9f9-24b1-4c3c-d417-cab61c6d6b7a"
      },
      "execution_count": 456,
      "outputs": [
        {
          "output_type": "execute_result",
          "data": {
            "text/plain": [
              "3.707408598946025"
            ]
          },
          "metadata": {},
          "execution_count": 456
        }
      ]
    },
    {
      "cell_type": "code",
      "source": [
        "rating_mean = dict(zip(user, mean))"
      ],
      "metadata": {
        "id": "TOdVImKt1_jk"
      },
      "execution_count": 444,
      "outputs": []
    },
    {
      "cell_type": "code",
      "source": [
        "rating_mean['1']"
      ],
      "metadata": {
        "colab": {
          "base_uri": "https://localhost:8080/"
        },
        "id": "vUriKMQQ2NcX",
        "outputId": "11ec9713-0d90-4de7-d0dc-9eebac492bf8"
      },
      "execution_count": 447,
      "outputs": [
        {
          "output_type": "execute_result",
          "data": {
            "text/plain": [
              "4.188679245283019"
            ]
          },
          "metadata": {},
          "execution_count": 447
        }
      ]
    },
    {
      "cell_type": "markdown",
      "source": [
        "## 일단 제출합니다\n",
        "\n",
        "- 컨디션 난조(..)와 데이터프레임 다루기 미숙으로\n",
        "너무 지체되었습니다. 여전히 모니터 조금 오래 보면 한 쪽 눈이 너무 안보여서 힘들어요 ㅠㅠ\n",
        "\n",
        "- 원했던 기준은 두 가지였습니다.\n",
        ">- 유저별 평균 점수의 반올림 값 미만 레이팅 제거\n",
        ">- 남은 데이터 중, 시간 순서로 가장 최신 20% 자료에 대해 더 높은 가중치 부여.\n",
        ">- 가능하다면 추후에 진행하겠습니다."
      ],
      "metadata": {
        "id": "HhAtG1YO2zm6"
      }
    }
  ]
}