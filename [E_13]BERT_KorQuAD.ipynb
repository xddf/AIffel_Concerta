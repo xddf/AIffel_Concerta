{
  "cells": [
    {
      "cell_type": "markdown",
      "metadata": {
        "id": "45B2sK0dIIUe"
      },
      "source": [
        "# BERT모델로 KorQuAD퀴즈 풀기"
      ]
    },
    {
      "cell_type": "markdown",
      "metadata": {
        "id": "J53a74WAIRnB"
      },
      "source": [
        "- 목차\n",
        "    1. 기본 준비\n",
        "    2. 데이터 준비"
      ]
    },
    {
      "cell_type": "markdown",
      "metadata": {
        "id": "7XTsxb3ZIX5o"
      },
      "source": [
        "## 1. 기본 준비\n",
        "\n",
        "- 라이브러리 및 모듈 준비\n",
        "- 경로 지정"
      ]
    },
    {
      "cell_type": "code",
      "execution_count": 26,
      "metadata": {
        "colab": {
          "base_uri": "https://localhost:8080/"
        },
        "id": "q7h_NpJrueMB",
        "outputId": "12daa34b-e41c-44d0-c177-2220abbba36e"
      },
      "outputs": [
        {
          "output_type": "stream",
          "name": "stdout",
          "text": [
            "Requirement already satisfied: tensorflow-addons in /usr/local/lib/python3.7/dist-packages (0.16.1)\n",
            "Requirement already satisfied: typeguard>=2.7 in /usr/local/lib/python3.7/dist-packages (from tensorflow-addons) (2.7.1)\n"
          ]
        }
      ],
      "source": [
        "!pip install tensorflow-addons"
      ]
    },
    {
      "cell_type": "code",
      "execution_count": 27,
      "metadata": {
        "colab": {
          "base_uri": "https://localhost:8080/"
        },
        "id": "Yif7N7pKvVHX",
        "outputId": "2b1d051e-acc7-4a3e-878b-14a8d03f8825"
      },
      "outputs": [
        {
          "output_type": "stream",
          "name": "stdout",
          "text": [
            "Requirement already satisfied: sentencepiece in /usr/local/lib/python3.7/dist-packages (0.1.96)\n"
          ]
        }
      ],
      "source": [
        "!pip install sentencepiece"
      ]
    },
    {
      "cell_type": "code",
      "execution_count": 28,
      "metadata": {
        "id": "pRLqGO69s7o-"
      },
      "outputs": [],
      "source": [
        "# imports\n",
        "from __future__ import absolute_import, division, print_function, unicode_literals\n",
        "\n",
        "import tensorflow as tf\n",
        "import tensorflow.keras.backend as K\n",
        "import tensorflow_addons as tfa\n",
        "\n",
        "import os\n",
        "import re\n",
        "import numpy as np\n",
        "import pandas as pd\n",
        "import pickle\n",
        "import random\n",
        "import collections\n",
        "import json\n",
        "from datetime import datetime\n",
        "\n",
        "import sentencepiece as spm\n",
        "from tqdm.notebook import tqdm\n",
        "import matplotlib.pyplot as plt\n",
        "import seaborn as sns\n",
        "from wordcloud import WordCloud\n",
        "\n",
        "random_seed = 1234\n",
        "random.seed(random_seed)\n",
        "np.random.seed(random_seed)\n",
        "tf.random.set_seed(random_seed)"
      ]
    },
    {
      "cell_type": "code",
      "execution_count": 29,
      "metadata": {
        "id": "8dmxt5JGwg_E"
      },
      "outputs": [],
      "source": [
        "plt.style.use(['dark_background'])\n"
      ]
    },
    {
      "cell_type": "code",
      "execution_count": 5,
      "metadata": {
        "id": "BPNcoN1CH7MQ"
      },
      "outputs": [],
      "source": [
        "path = '/content/drive/MyDrive/Aiffel/Exploration/E-13/'"
      ]
    },
    {
      "cell_type": "code",
      "execution_count": 6,
      "metadata": {
        "colab": {
          "base_uri": "https://localhost:8080/"
        },
        "id": "O-C5OfjoHqXK",
        "outputId": "57869a15-b68d-4bea-f676-2ea51870a4bf"
      },
      "outputs": [
        {
          "output_type": "execute_result",
          "data": {
            "text/plain": [
              "['data', 'models', 'E-18-01.max-800x600.png', '[E-13]BERT_KorQuAD.ipynb']"
            ]
          },
          "metadata": {},
          "execution_count": 6
        }
      ],
      "source": [
        "os.listdir(path)"
      ]
    },
    {
      "cell_type": "code",
      "execution_count": 7,
      "metadata": {
        "id": "6h2CzrtNH5lw"
      },
      "outputs": [],
      "source": [
        "data_dir = path + 'data'\n",
        "model_dir = path + 'models'"
      ]
    },
    {
      "cell_type": "markdown",
      "metadata": {
        "id": "7R491t57JmKt"
      },
      "source": [
        "## 2. 데이터 준비"
      ]
    },
    {
      "cell_type": "code",
      "execution_count": null,
      "metadata": {
        "id": "MAHnRBGHuS4h"
      },
      "outputs": [],
      "source": [
        "# json 포맷으로 이루어진 데이터에서 리스트의 첫 번째 아이템의 실제 내용을 간단히 확인\n",
        "def print_json_tree(data, indent=\"\"):\n",
        "    for key, value in data.items():\n",
        "        if type(value) == list:     # list 형태의 item은 첫번째 item만 출력\n",
        "            print(f'{indent}- {key}: [{len(value)}]')\n",
        "            print_json_tree(value[0], indent + \"  \")\n",
        "        else:\n",
        "            print(f'{indent}- {key}: {value}')"
      ]
    },
    {
      "cell_type": "code",
      "execution_count": null,
      "metadata": {
        "colab": {
          "base_uri": "https://localhost:8080/"
        },
        "id": "xMqrZwoQIFnc",
        "outputId": "116e4032-c5f9-4536-ff8b-5b33279a4a94"
      },
      "outputs": [
        {
          "name": "stdout",
          "output_type": "stream",
          "text": [
            "- version: KorQuAD_v1.0_train\n",
            "- data: [1420]\n",
            "  - paragraphs: [3]\n",
            "    - qas: [8]\n",
            "      - answers: [1]\n",
            "        - text: 교향곡\n",
            "        - answer_start: 54\n",
            "      - id: 6566495-0-0\n",
            "      - question: 바그너는 괴테의 파우스트를 읽고 무엇을 쓰고자 했는가?\n",
            "    - context: 1839년 바그너는 괴테의 파우스트을 처음 읽고 그 내용에 마음이 끌려 이를 소재로 해서 하나의 교향곡을 쓰려는 뜻을 갖는다. 이 시기 바그너는 1838년에 빛 독촉으로 산전수전을 다 걲은 상황이라 좌절과 실망에 가득했으며 메피스토펠레스를 만나는 파우스트의 심경에 공감했다고 한다. 또한 파리에서 아브네크의 지휘로 파리 음악원 관현악단이 연주하는 베토벤의 교향곡 9번을 듣고 깊은 감명을 받았는데, 이것이 이듬해 1월에 파우스트의 서곡으로 쓰여진 이 작품에 조금이라도 영향을 끼쳤으리라는 것은 의심할 여지가 없다. 여기의 라단조 조성의 경우에도 그의 전기에 적혀 있는 것처럼 단순한 정신적 피로나 실의가 반영된 것이 아니라 베토벤의 합창교향곡 조성의 영향을 받은 것을 볼 수 있다. 그렇게 교향곡 작곡을 1839년부터 40년에 걸쳐 파리에서 착수했으나 1악장을 쓴 뒤에 중단했다. 또한 작품의 완성과 동시에 그는 이 서곡(1악장)을 파리 음악원의 연주회에서 연주할 파트보까지 준비하였으나, 실제로는 이루어지지는 않았다. 결국 초연은 4년 반이 지난 후에 드레스덴에서 연주되었고 재연도 이루어졌지만, 이후에 그대로 방치되고 말았다. 그 사이에 그는 리엔치와 방황하는 네덜란드인을 완성하고 탄호이저에도 착수하는 등 분주한 시간을 보냈는데, 그런 바쁜 생활이 이 곡을 잊게 한 것이 아닌가 하는 의견도 있다.\n",
            "  - title: 파우스트_서곡\n"
          ]
        }
      ],
      "source": [
        "# 훈련 데이터 확인\n",
        "train_json_path = data_dir + '/KorQuAD_v1.0_train.json'\n",
        "with open(train_json_path) as f:\n",
        "    train_json = json.load(f)\n",
        "    print_json_tree(train_json)"
      ]
    },
    {
      "cell_type": "code",
      "execution_count": null,
      "metadata": {
        "colab": {
          "base_uri": "https://localhost:8080/"
        },
        "id": "uymnKEqCPHP8",
        "outputId": "b6fa15c6-5e2d-4fd1-8486-0c0cecbb952e"
      },
      "outputs": [
        {
          "name": "stdout",
          "output_type": "stream",
          "text": [
            "- version: KorQuAD_v1.0_dev\n",
            "- data: [140]\n",
            "  - paragraphs: [2]\n",
            "    - qas: [7]\n",
            "      - answers: [1]\n",
            "        - text: 1989년 2월 15일\n",
            "        - answer_start: 0\n",
            "      - id: 6548850-0-0\n",
            "      - question: 임종석이 여의도 농민 폭력 시위를 주도한 혐의로 지명수배 된 날은?\n",
            "    - context: 1989년 2월 15일 여의도 농민 폭력 시위를 주도한 혐의(폭력행위등처벌에관한법률위반)으로 지명수배되었다. 1989년 3월 12일 서울지방검찰청 공안부는 임종석의 사전구속영장을 발부받았다. 같은 해 6월 30일 평양축전에 임수경을 대표로 파견하여 국가보안법위반 혐의가 추가되었다. 경찰은 12월 18일~20일 사이 서울 경희대학교에서 임종석이 성명 발표를 추진하고 있다는 첩보를 입수했고, 12월 18일 오전 7시 40분 경 가스총과 전자봉으로 무장한 특공조 및 대공과 직원 12명 등 22명의 사복 경찰을 승용차 8대에 나누어 경희대학교에 투입했다. 1989년 12월 18일 오전 8시 15분 경 서울청량리경찰서는 호위 학생 5명과 함께 경희대학교 학생회관 건물 계단을 내려오는 임종석을 발견, 검거해 구속을 집행했다. 임종석은 청량리경찰서에서 약 1시간 동안 조사를 받은 뒤 오전 9시 50분 경 서울 장안동의 서울지방경찰청 공안분실로 인계되었다.\n",
            "  - title: 임종석\n"
          ]
        }
      ],
      "source": [
        "# 검증 데이터 확인\n",
        "dev_json_path = data_dir + '/KorQuAD_v1.0_dev.json'\n",
        "with open(dev_json_path) as f:\n",
        "    dev_json = json.load(f)\n",
        "    print_json_tree(dev_json)"
      ]
    },
    {
      "cell_type": "code",
      "execution_count": null,
      "metadata": {
        "colab": {
          "base_uri": "https://localhost:8080/"
        },
        "id": "n6D3kZogJxtW",
        "outputId": "c3d78191-b3a9-4398-b819-08cf3394ebf0"
      },
      "outputs": [
        {
          "name": "stdout",
          "output_type": "stream",
          "text": [
            "{\n",
            "  \"paragraphs\": [\n",
            "    {\n",
            "      \"qas\": [\n",
            "        {\n",
            "          \"answers\": [\n",
            "            {\n",
            "              \"text\": \"교향곡\",\n",
            "              \"answer_start\": 54\n",
            "            }\n",
            "          ],\n",
            "          \"id\": \"6566495-0-0\",\n",
            "          \"question\": \"바그너는 괴테의 파우스트를 읽고 무엇을 쓰고자 했는가?\"\n",
            "        },\n",
            "        {\n",
            "          \"answers\": [\n",
            "            {\n",
            "              \"text\": \"1악장\",\n",
            "              \"answer_start\": 421\n",
            "            }\n",
            "          ],\n",
            "          \"id\": \"6566495-0-1\",\n",
            "          \"question\": \"바그너는 교향곡 작곡을 어디까지 쓴 뒤에 중단했는가?\"\n",
            "        },\n",
            "        {\n",
            "          \"answers\": [\n",
            "            {\n",
            "              \"text\": \"베토벤의 교향곡 9번\",\n",
            "              \"answer_start\": 194\n",
            "            }\n",
            "          ],\n",
            "          \"id\": \"6566495-0-2\",\n",
            "          \"question\": \"바그너가 파우스트 서곡을 쓸 때 어떤 곡의 영향을 받았는가?\"\n",
            "        },\n",
            "        {\n",
            "          \"answers\": [\n",
            "            {\n",
            "              \"text\": \"파우스트\",\n",
            "              \"answer_start\": 15\n",
            "            }\n",
            "          ],\n",
            "          \"id\": \"6566518-0-0\",\n",
            "          \"question\": \"1839년 바그너가 교향곡의 소재로 쓰려고 했던 책은?\"\n",
            "        },\n",
            "        {\n",
            "          \"answers\": [\n",
            "            {\n",
            "              \"text\": \"합창교향곡\",\n",
            "              \"answer_start\": 354\n",
            "            }\n",
            "          ],\n",
            "          \"id\": \"6566518-0-1\",\n",
            "          \"question\": \"파우스트 서곡의 라단조 조성이 영향을 받은 베토벤의 곡은?\"\n",
            "        },\n",
            "        {\n",
            "          \"answers\": [\n",
            "            {\n",
            "              \"text\": \"1839\",\n",
            "              \"answer_start\": 0\n",
            "            }\n",
            "          ],\n",
            "          \"id\": \"5917067-0-0\",\n",
            "          \"question\": \"바그너가 파우스트를 처음으로 읽은 년도는?\"\n",
            "        },\n",
            "        {\n",
            "          \"answers\": [\n",
            "            {\n",
            "              \"text\": \"파리\",\n",
            "              \"answer_start\": 410\n",
            "            }\n",
            "          ],\n",
            "          \"id\": \"5917067-0-1\",\n",
            "          \"question\": \"바그너가 처음 교향곡 작곡을 한 장소는?\"\n",
            "        },\n",
            "        {\n",
            "          \"answers\": [\n",
            "            {\n",
            "              \"text\": \"드레스덴\",\n",
            "              \"answer_start\": 534\n",
            "            }\n",
            "          ],\n",
            "          \"id\": \"5917067-0-2\",\n",
            "          \"question\": \"바그너의 1악장의 초연은 어디서 연주되었는가?\"\n",
            "        }\n",
            "      ],\n",
            "      \"context\": \"1839년 바그너는 괴테의 파우스트을 처음 읽고 그 내용에 마음이 끌려 이를 소재로 해서 하나의 교향곡을 쓰려는 뜻을 갖는다. 이 시기 바그너는 1838년에 빛 독촉으로 산전수전을 다 걲은 상황이라 좌절과 실망에 가득했으며 메피스토펠레스를 만나는 파우스트의 심경에 공감했다고 한다. 또한 파리에서 아브네크의 지휘로 파리 음악원 관현악단이 연주하는 베토벤의 교향곡 9번을 듣고 깊은 감명을 받았는데, 이것이 이듬해 1월에 파우스트의 서곡으로 쓰여진 이 작품에 조금이라도 영향을 끼쳤으리라는 것은 의심할 여지가 없다. 여기의 라단조 조성의 경우에도 그의 전기에 적혀 있는 것처럼 단순한 정신적 피로나 실의가 반영된 것이 아니라 베토벤의 합창교향곡 조성의 영향을 받은 것을 볼 수 있다. 그렇게 교향곡 작곡을 1839년부터 40년에 걸쳐 파리에서 착수했으나 1악장을 쓴 뒤에 중단했다. 또한 작품의 완성과 동시에 그는 이 서곡(1악장)을 파리 음악원의 연주회에서 연주할 파트보까지 준비하였으나, 실제로는 이루어지지는 않았다. 결국 초연은 4년 반이 지난 후에 드레스덴에서 연주되었고 재연도 이루어졌지만, 이후에 그대로 방치되고 말았다. 그 사이에 그는 리엔치와 방황하는 네덜란드인을 완성하고 탄호이저에도 착수하는 등 분주한 시간을 보냈는데, 그런 바쁜 생활이 이 곡을 잊게 한 것이 아닌가 하는 의견도 있다.\"\n",
            "    },\n",
            "    {\n",
            "      \"qas\": [\n",
            "        {\n",
            "          \"answers\": [\n",
            "            {\n",
            "              \"text\": \"한스 폰 뷜로\",\n",
            "              \"answer_start\": 402\n",
            "            }\n",
            "          ],\n",
            "          \"id\": \"6566495-1-0\",\n",
            "          \"question\": \"바그너의 작품을 시인의 피로 쓰여졌다고 극찬한 것은 누구인가?\"\n",
            "        },\n",
            "        {\n",
            "          \"answers\": [\n",
            "            {\n",
            "              \"text\": \"리스트\",\n",
            "              \"answer_start\": 23\n",
            "            }\n",
            "          ],\n",
            "          \"id\": \"6566495-1-1\",\n",
            "          \"question\": \"잊혀져 있는 파우스트 서곡 1악장을 부활시킨 것은 누구인가?\"\n",
            "        },\n",
            "        {\n",
            "          \"answers\": [\n",
            "            {\n",
            "              \"text\": \"20루이의 금\",\n",
            "              \"answer_start\": 345\n",
            "            }\n",
            "          ],\n",
            "          \"id\": \"6566495-1-2\",\n",
            "          \"question\": \"바그너는 다시 개정된 총보를 얼마를 받고 팔았는가?\"\n",
            "        },\n",
            "        {\n",
            "          \"answers\": [\n",
            "            {\n",
            "              \"text\": \"리스트\",\n",
            "              \"answer_start\": 23\n",
            "            }\n",
            "          ],\n",
            "          \"id\": \"6566518-1-0\",\n",
            "          \"question\": \"파우스트 교향곡을 부활시킨 사람은?\"\n",
            "        },\n",
            "        {\n",
            "          \"answers\": [\n",
            "            {\n",
            "              \"text\": \"한스 폰 뷜로\",\n",
            "              \"answer_start\": 402\n",
            "            }\n",
            "          ],\n",
            "          \"id\": \"6566518-1-1\",\n",
            "          \"question\": \"파우스트 교향곡을 피아노 독주용으로 편곡한 사람은?\"\n",
            "        },\n",
            "        {\n",
            "          \"answers\": [\n",
            "            {\n",
            "              \"text\": \"리스트\",\n",
            "              \"answer_start\": 23\n",
            "            }\n",
            "          ],\n",
            "          \"id\": \"5917067-1-0\",\n",
            "          \"question\": \"1악장을 부활시켜 연주한 사람은?\"\n",
            "        },\n",
            "        {\n",
            "          \"answers\": [\n",
            "            {\n",
            "              \"text\": \"한스 폰 뷜로\",\n",
            "              \"answer_start\": 402\n",
            "            }\n",
            "          ],\n",
            "          \"id\": \"5917067-1-1\",\n",
            "          \"question\": \"파우스트 교향곡에 감탄하여 피아노곡으로 편곡한 사람은?\"\n",
            "        },\n",
            "        {\n",
            "          \"answers\": [\n",
            "            {\n",
            "              \"text\": \"1840년\",\n",
            "              \"answer_start\": 3\n",
            "            }\n",
            "          ],\n",
            "          \"id\": \"5917067-1-2\",\n",
            "          \"question\": \"리스트가 바그너와 알게 된 연도는?\"\n",
            "        }\n",
            "      ],\n",
            "      \"context\": \"한편 1840년부터 바그너와 알고 지내던 리스트가 잊혀져 있던 1악장을 부활시켜 1852년에 바이마르에서 연주했다. 이것을 계기로 바그너도 이 작품에 다시 관심을 갖게 되었고, 그 해 9월에는 총보의 반환을 요구하여 이를 서곡으로 간추린 다음 수정을 했고 브라이트코프흐 & 헤르텔 출판사에서 출판할 개정판도 준비했다. 1853년 5월에는 리스트가 이 작품이 수정되었다는 것을 인정했지만, 끝내 바그너의 출판 계획은 무산되고 말았다. 이후 1855년에 리스트가 자신의 작품 파우스트 교향곡을 거의 완성하여 그 사실을 바그너에게 알렸고, 바그너는 다시 개정된 총보를 리스트에게 보내고 브라이트코프흐 & 헤르텔 출판사에는 20루이의 금을 받고 팔았다. 또한 그의 작품을 “하나하나의 음표가 시인의 피로 쓰여졌다”며 극찬했던 한스 폰 뷜로가 그것을 피아노 독주용으로 편곡했는데, 리스트는 그것을 약간 변형되었을 뿐이라고 지적했다. 이 서곡의 총보 첫머리에는 파우스트 1부의 내용 중 한 구절을 인용하고 있다.\"\n",
            "    },\n",
            "    {\n",
            "      \"qas\": [\n",
            "        {\n",
            "          \"answers\": [\n",
            "            {\n",
            "              \"text\": \"주제, 동기\",\n",
            "              \"answer_start\": 70\n",
            "            }\n",
            "          ],\n",
            "          \"id\": \"6566495-2-0\",\n",
            "          \"question\": \"서주에는 무엇이 암시되어 있는가?\"\n",
            "        },\n",
            "        {\n",
            "          \"answers\": [\n",
            "            {\n",
            "              \"text\": \"제1바이올린\",\n",
            "              \"answer_start\": 148\n",
            "            }\n",
            "          ],\n",
            "          \"id\": \"6566495-2-1\",\n",
            "          \"question\": \"첫부분에는 어떤 악기를 사용해 더욱 명확하게 나타내는가?\"\n",
            "        },\n",
            "        {\n",
            "          \"answers\": [\n",
            "            {\n",
            "              \"text\": \"소나타 형식\",\n",
            "              \"answer_start\": 272\n",
            "            }\n",
            "          ],\n",
            "          \"id\": \"6566495-2-2\",\n",
            "          \"question\": \"주요부는 어떤 형식으로 되어 있는가?\"\n",
            "        },\n",
            "        {\n",
            "          \"answers\": [\n",
            "            {\n",
            "              \"text\": \"저음 주제\",\n",
            "              \"answer_start\": 102\n",
            "            }\n",
            "          ],\n",
            "          \"id\": \"6566518-2-0\",\n",
            "          \"question\": \"첫 부분의 주요주제를 암시하는 주제는?\"\n",
            "        },\n",
            "        {\n",
            "          \"answers\": [\n",
            "            {\n",
            "              \"text\": \"D장조\",\n",
            "              \"answer_start\": 409\n",
            "            }\n",
            "          ],\n",
            "          \"id\": \"6566518-2-1\",\n",
            "          \"question\": \"제2주제의 축소된 재현부의 조성은?\"\n",
            "        },\n",
            "        {\n",
            "          \"answers\": [\n",
            "            {\n",
            "              \"text\": \"4/4박자\",\n",
            "              \"answer_start\": 35\n",
            "            }\n",
            "          ],\n",
            "          \"id\": \"5917067-2-0\",\n",
            "          \"question\": \"곡이 시작할때의 박자는?\"\n",
            "        },\n",
            "        {\n",
            "          \"answers\": [\n",
            "            {\n",
            "              \"text\": \"고뇌와 갈망 동기, 청춘의 사랑 동기\",\n",
            "              \"answer_start\": 115\n",
            "            }\n",
            "          ],\n",
            "          \"id\": \"5917067-2-1\",\n",
            "          \"question\": \"이 곡의 주요 주제는?\"\n",
            "        },\n",
            "        {\n",
            "          \"answers\": [\n",
            "            {\n",
            "              \"text\": \"D장조\",\n",
            "              \"answer_start\": 409\n",
            "            }\n",
            "          ],\n",
            "          \"id\": \"5917067-2-2\",\n",
            "          \"question\": \"제 2주제에선 무슨 장조로 재현되는가?\"\n",
            "        }\n",
            "      ],\n",
            "      \"context\": \"이 작품은 라단조, Sehr gehalten(아주 신중하게), 4/4박자의 부드러운 서주로 서주로 시작되는데, 여기에는 주요 주제, 동기의 대부분이 암시, 예고되어 있다. 첫 부분의 저음 주제는 주요 주제(고뇌와 갈망 동기, 청춘의 사랑 동기)를 암시하고 있으며, 제1바이올린으로 더욱 명확하게 나타난다. 또한 그것을 이어받는 동기도 중요한 역할을 한다. 여기에 새로운 소재가 더해진 뒤에 새로운 주제도 연주된다. 주요부는 Sehr bewegt(아주 격동적으로), 2/2박자의 자유로운 소나타 형식으로 매우 드라마틱한 구상과 유기적인 구성을 하고 있다. 여기에는 지금까지의 주제나 소재 외에도 오보에에 의한 선율과 제2주제를 떠올리게 하는 부차적인 주제가 더해지는데, 중간부에서는 약보3이 중심이 되고 제2주제는 축소된 재현부에서 D장조로 재현된다. 마지막에는 주요 주제를 회상하면서 조용히 마친다.\"\n",
            "    }\n",
            "  ],\n",
            "  \"title\": \"파우스트_서곡\"\n",
            "}\n"
          ]
        }
      ],
      "source": [
        "# 데이터의 실제 형태\n",
        "print(json.dumps(train_json[\"data\"][0], indent=2, ensure_ascii=False))"
      ]
    },
    {
      "cell_type": "markdown",
      "metadata": {
        "id": "G32-9ItYJ6ts"
      },
      "source": [
        "## 3. 데이터 전처리"
      ]
    },
    {
      "cell_type": "code",
      "execution_count": null,
      "metadata": {
        "id": "1HZyAEKzJ_zl"
      },
      "outputs": [],
      "source": [
        "def _is_whitespace(c):\n",
        "    if c == \" \" or c == \"\\t\" or c == \"\\r\" or c == \"\\n\" or ord(c) == 0x202F:\n",
        "        return True\n",
        "    return False"
      ]
    },
    {
      "cell_type": "code",
      "execution_count": null,
      "metadata": {
        "colab": {
          "base_uri": "https://localhost:8080/"
        },
        "id": "jmXm31eiKBaQ",
        "outputId": "7dcb16f2-b009-468c-af02-6d18f68d695b"
      },
      "outputs": [
        {
          "data": {
            "text/plain": [
              "('파우스트', '파우스트')"
            ]
          },
          "execution_count": 13,
          "metadata": {},
          "output_type": "execute_result"
        }
      ],
      "source": [
        "# whitespace가 2개인 경우를 처리해야 함\n",
        "\n",
        "string1 = '1839년 파우스트를 읽었다.'\n",
        "string2 = '1839년  파우스트를 읽었다.'\n",
        "string1[6:10], string2[7:11]"
      ]
    },
    {
      "cell_type": "markdown",
      "metadata": {
        "id": "9jmRySrkKTgG"
      },
      "source": [
        "### 3.1. 띄어쓰기 단위 정보관리\n",
        "\n",
        "- '1839년' 다음의 공백 길이에 따라 두 문장의 영역 표시 결과가 다르다\n",
        "- SQuAD 유형의 문제를 풀 때 글자 혹은 subword 단위로 token이 분리되는 것에 대비\n",
        "- 원래 데이터가 띄어쓰기 단위로 어떠했었는지 word token 영역별로 추가 정보를 관리할 필요가 있다\n",
        "    > 함수화\n"
      ]
    },
    {
      "cell_type": "code",
      "execution_count": null,
      "metadata": {
        "colab": {
          "base_uri": "https://localhost:8080/"
        },
        "id": "-RzcbMboKDNo",
        "outputId": "0471f1fd-48e2-4afb-fde0-afde53ab6a4d"
      },
      "outputs": [
        {
          "name": "stdout",
          "output_type": "stream",
          "text": [
            "'1' : ['1'] : [0]\n",
            "'8' : ['18'] : [0, 0]\n",
            "'3' : ['183'] : [0, 0, 0]\n",
            "'9' : ['1839'] : [0, 0, 0, 0]\n",
            "'년' : ['1839년'] : [0, 0, 0, 0, 0]\n",
            "' ' : ['1839년'] : [0, 0, 0, 0, 0, 0]\n",
            "'파' : ['1839년', '파'] : [0, 0, 0, 0, 0, 0, 1]\n",
            "'우' : ['1839년', '파우'] : [0, 0, 0, 0, 0, 0, 1, 1]\n",
            "'스' : ['1839년', '파우스'] : [0, 0, 0, 0, 0, 0, 1, 1, 1]\n",
            "'트' : ['1839년', '파우스트'] : [0, 0, 0, 0, 0, 0, 1, 1, 1, 1]\n",
            "'를' : ['1839년', '파우스트를'] : [0, 0, 0, 0, 0, 0, 1, 1, 1, 1, 1]\n",
            "' ' : ['1839년', '파우스트를'] : [0, 0, 0, 0, 0, 0, 1, 1, 1, 1, 1, 1]\n",
            "'읽' : ['1839년', '파우스트를', '읽'] : [0, 0, 0, 0, 0, 0, 1, 1, 1, 1, 1, 1, 2]\n",
            "'었' : ['1839년', '파우스트를', '읽었'] : [0, 0, 0, 0, 0, 0, 1, 1, 1, 1, 1, 1, 2, 2]\n",
            "'다' : ['1839년', '파우스트를', '읽었다'] : [0, 0, 0, 0, 0, 0, 1, 1, 1, 1, 1, 1, 2, 2, 2]\n",
            "'.' : ['1839년', '파우스트를', '읽었다.'] : [0, 0, 0, 0, 0, 0, 1, 1, 1, 1, 1, 1, 2, 2, 2, 2]\n"
          ]
        }
      ],
      "source": [
        "word_tokens = []\n",
        "char_to_word = []\n",
        "prev_is_whitespace = True\n",
        "\n",
        "# 첫번째 문장(string1)에 대해 띄어쓰기 영역 정보를 표시\n",
        "for c in string1:\n",
        "    if _is_whitespace(c):\n",
        "        prev_is_whitespace = True\n",
        "    else:\n",
        "        if prev_is_whitespace:\n",
        "            word_tokens.append(c)\n",
        "        else:\n",
        "            word_tokens[-1] += c\n",
        "        prev_is_whitespace = False    \n",
        "    char_to_word.append(len(word_tokens) - 1)\n",
        "    print(f'\\'{c}\\' : {word_tokens} : {char_to_word}')"
      ]
    },
    {
      "cell_type": "code",
      "execution_count": null,
      "metadata": {
        "colab": {
          "base_uri": "https://localhost:8080/"
        },
        "id": "OdfDwW8GKFRK",
        "outputId": "2f7053c3-6443-45f8-ba07-e4a3a1b4d4f5"
      },
      "outputs": [
        {
          "name": "stdout",
          "output_type": "stream",
          "text": [
            "'1' : ['1'] : [0]\n",
            "'8' : ['18'] : [0, 0]\n",
            "'3' : ['183'] : [0, 0, 0]\n",
            "'9' : ['1839'] : [0, 0, 0, 0]\n",
            "'년' : ['1839년'] : [0, 0, 0, 0, 0]\n",
            "' ' : ['1839년'] : [0, 0, 0, 0, 0, 0]\n",
            "' ' : ['1839년'] : [0, 0, 0, 0, 0, 0, 0]\n",
            "'파' : ['1839년', '파'] : [0, 0, 0, 0, 0, 0, 0, 1]\n",
            "'우' : ['1839년', '파우'] : [0, 0, 0, 0, 0, 0, 0, 1, 1]\n",
            "'스' : ['1839년', '파우스'] : [0, 0, 0, 0, 0, 0, 0, 1, 1, 1]\n",
            "'트' : ['1839년', '파우스트'] : [0, 0, 0, 0, 0, 0, 0, 1, 1, 1, 1]\n",
            "'를' : ['1839년', '파우스트를'] : [0, 0, 0, 0, 0, 0, 0, 1, 1, 1, 1, 1]\n",
            "' ' : ['1839년', '파우스트를'] : [0, 0, 0, 0, 0, 0, 0, 1, 1, 1, 1, 1, 1]\n",
            "'읽' : ['1839년', '파우스트를', '읽'] : [0, 0, 0, 0, 0, 0, 0, 1, 1, 1, 1, 1, 1, 2]\n",
            "'었' : ['1839년', '파우스트를', '읽었'] : [0, 0, 0, 0, 0, 0, 0, 1, 1, 1, 1, 1, 1, 2, 2]\n",
            "'다' : ['1839년', '파우스트를', '읽었다'] : [0, 0, 0, 0, 0, 0, 0, 1, 1, 1, 1, 1, 1, 2, 2, 2]\n",
            "'.' : ['1839년', '파우스트를', '읽었다.'] : [0, 0, 0, 0, 0, 0, 0, 1, 1, 1, 1, 1, 1, 2, 2, 2, 2]\n"
          ]
        }
      ],
      "source": [
        "word_tokens = []\n",
        "char_to_word = []\n",
        "prev_is_whitespace = True\n",
        "\n",
        "# 두번째 문장(string2)에 대해 띄어쓰기 영역 정보를 표시\n",
        "for c in string2:\n",
        "    if _is_whitespace(c):\n",
        "        prev_is_whitespace = True\n",
        "    else:\n",
        "        if prev_is_whitespace:\n",
        "            word_tokens.append(c)\n",
        "        else:\n",
        "            word_tokens[-1] += c\n",
        "        prev_is_whitespace = False    \n",
        "    char_to_word.append(len(word_tokens) - 1)\n",
        "    print(f'\\'{c}\\' : {word_tokens} : {char_to_word}')"
      ]
    },
    {
      "cell_type": "code",
      "execution_count": null,
      "metadata": {
        "id": "-YHunJXCKG03"
      },
      "outputs": [],
      "source": [
        "# 위의 두 과정을 함수로 생성\n",
        "def _tokenize_whitespace(string):\n",
        "    word_tokens = []\n",
        "    char_to_word = []\n",
        "    prev_is_whitespace = True\n",
        "\n",
        "    for c in string:\n",
        "        if _is_whitespace(c):\n",
        "            prev_is_whitespace = True\n",
        "        else:\n",
        "            if prev_is_whitespace:\n",
        "                word_tokens.append(c)\n",
        "            else:\n",
        "                word_tokens[-1] += c\n",
        "            prev_is_whitespace = False    \n",
        "        char_to_word.append(len(word_tokens) - 1)\n",
        "    \n",
        "    return word_tokens, char_to_word"
      ]
    },
    {
      "cell_type": "code",
      "execution_count": null,
      "metadata": {
        "colab": {
          "base_uri": "https://localhost:8080/"
        },
        "id": "sMdishR8Kv6f",
        "outputId": "5f99a311-0338-4e72-98d4-764a936a47e3"
      },
      "outputs": [
        {
          "name": "stdout",
          "output_type": "stream",
          "text": [
            "'1' : 0\n",
            "'8' : 0\n",
            "'3' : 0\n",
            "'9' : 0\n",
            "'년' : 0\n",
            "' ' : 0\n",
            "'파' : 1\n",
            "'우' : 1\n",
            "'스' : 1\n",
            "'트' : 1\n",
            "'를' : 1\n",
            "' ' : 1\n",
            "'읽' : 2\n",
            "'었' : 2\n",
            "'다' : 2\n",
            "'.' : 2\n"
          ]
        },
        {
          "data": {
            "text/plain": [
              "(['1839년', '파우스트를', '읽었다.'], [0, 0, 0, 0, 0, 0, 1, 1, 1, 1, 1, 1, 2, 2, 2, 2])"
            ]
          },
          "execution_count": 17,
          "metadata": {},
          "output_type": "execute_result"
        }
      ],
      "source": [
        "# 첫번째 문장(string1)에 대해 띄어쓰기 영역 정보를 표시\n",
        "word_tokens, char_to_word = _tokenize_whitespace(string1)\n",
        "for c, i in zip(list(string1), char_to_word):\n",
        "    print(f'\\'{c}\\' : {i}')\n",
        "\n",
        "word_tokens, char_to_word"
      ]
    },
    {
      "cell_type": "code",
      "execution_count": null,
      "metadata": {
        "colab": {
          "base_uri": "https://localhost:8080/"
        },
        "id": "L5Fe6IUPLO1t",
        "outputId": "d796e31d-b5f8-4973-d15e-bb4841168d2a"
      },
      "outputs": [
        {
          "name": "stdout",
          "output_type": "stream",
          "text": [
            "'1' : 0\n",
            "'8' : 0\n",
            "'3' : 0\n",
            "'9' : 0\n",
            "'년' : 0\n",
            "' ' : 0\n",
            "' ' : 0\n",
            "'파' : 1\n",
            "'우' : 1\n",
            "'스' : 1\n",
            "'트' : 1\n",
            "'를' : 1\n",
            "' ' : 1\n",
            "'읽' : 2\n",
            "'었' : 2\n",
            "'다' : 2\n",
            "'.' : 2\n"
          ]
        },
        {
          "data": {
            "text/plain": [
              "(['1839년', '파우스트를', '읽었다.'],\n",
              " [0, 0, 0, 0, 0, 0, 0, 1, 1, 1, 1, 1, 1, 2, 2, 2, 2])"
            ]
          },
          "execution_count": 18,
          "metadata": {},
          "output_type": "execute_result"
        }
      ],
      "source": [
        "# 두번째 문장(string2)에 대해 띄어쓰기 영역 정보를 표시\n",
        "word_tokens, char_to_word = _tokenize_whitespace(string2)\n",
        "for c, i in zip(list(string2), char_to_word):\n",
        "    print(f'\\'{c}\\' : {i}')\n",
        "\n",
        "word_tokens, char_to_word"
      ]
    },
    {
      "cell_type": "markdown",
      "metadata": {
        "id": "_gO9-gG4LRzj"
      },
      "source": [
        "### 3.2. Tokenize by Vocab\n",
        "\n",
        "- Subword Segmentation\n",
        "    > 읽 + 었다\n",
        "- SentencePiece 모델을 이용해서 Subword 기반의 텍스트 전처리를 진행\n",
        "    >- 구글에서 오픈소스로 제공, 파이썬에서 손쉽게 사용 가능\n",
        "    >- WordPiece 등 다른 모델들을 통합하여 제공\n",
        "\n",
        "- 한국어의 경우 고유한 형태소 분석기를 사용하는 경우가 많다.\n",
        "\n",
        "- SentencePiece 같은 모델들은 언어마다 다른 문법 규칙을 활용하지 않고, 적절한 Subword 분절 규칙을 학습하거나, 혹은 자주 사용되는 구문을 하나의 단어로 묶어내는 등 통계적인 방법을 사용\n"
      ]
    },
    {
      "cell_type": "code",
      "execution_count": null,
      "metadata": {
        "colab": {
          "base_uri": "https://localhost:8080/"
        },
        "id": "FO_zsJvtMQL0",
        "outputId": "af79ac04-f497-469b-e889-a60b2e6e5ab6"
      },
      "outputs": [
        {
          "data": {
            "text/plain": [
              "(['▁1839', '년', '▁', '파우스트', '를', '▁읽', '었다', '.'], [0, 2, 5])"
            ]
          },
          "execution_count": 19,
          "metadata": {},
          "output_type": "execute_result"
        }
      ],
      "source": [
        "# vocab loading\n",
        "vocab = spm.SentencePieceProcessor()\n",
        "vocab.load(f\"{model_dir}/ko_32000.model\")\n",
        "\n",
        "# word를 subword로 변경하면서 index 저장\n",
        "word_to_token = []\n",
        "context_tokens = []\n",
        "for (i, word) in enumerate(word_tokens):\n",
        "    word_to_token.append(len(context_tokens))\n",
        "    tokens = vocab.encode_as_pieces(word)  # SentencePiece를 사용해 Subword로 쪼갭니다.\n",
        "    for token in tokens:\n",
        "        context_tokens.append(token)\n",
        "\n",
        "context_tokens, word_to_token"
      ]
    },
    {
      "cell_type": "markdown",
      "metadata": {
        "id": "vouTlehILVrw"
      },
      "source": [
        "여기서 word_to_token의 [0, 2, 5]란 \n",
        "\n",
        "context_tokens에 쪼개져 담긴 0번, 2번, 5번 토큰인\n",
        "\n",
        "'▁1839', '▁', '▁읽' 이 어절 단위의 첫 번째 토큰이 된다는 뜻"
      ]
    },
    {
      "cell_type": "code",
      "execution_count": null,
      "metadata": {
        "id": "XKDOfTMeMm1b"
      },
      "outputs": [],
      "source": [
        "# 함수로 지정\n",
        "def _tokenize_vocab(vocab, context_words):\n",
        "    word_to_token = []\n",
        "    context_tokens = []\n",
        "    for (i, word) in enumerate(context_words):\n",
        "        word_to_token.append(len(context_tokens))\n",
        "        tokens = vocab.encode_as_pieces(word)\n",
        "        for token in tokens:\n",
        "            context_tokens.append(token)\n",
        "    return context_tokens, word_to_token"
      ]
    },
    {
      "cell_type": "code",
      "execution_count": null,
      "metadata": {
        "colab": {
          "base_uri": "https://localhost:8080/"
        },
        "id": "IPMgKzLyMsY6",
        "outputId": "e90e66d7-66c7-4825-e3e2-cd71a3c67235"
      },
      "outputs": [
        {
          "name": "stdout",
          "output_type": "stream",
          "text": [
            "['1839년', '파우스트를', '읽었다.']\n"
          ]
        },
        {
          "data": {
            "text/plain": [
              "(['▁1839', '년', '▁', '파우스트', '를', '▁읽', '었다', '.'], [0, 2, 5])"
            ]
          },
          "execution_count": 21,
          "metadata": {},
          "output_type": "execute_result"
        }
      ],
      "source": [
        "print(word_tokens)  # 처리해야 할 word 단위 입력\n",
        "\n",
        "context_tokens, word_to_token = _tokenize_vocab(vocab, word_tokens)\n",
        "context_tokens, word_to_token   # Subword 단위로 토큰화한 결과"
      ]
    },
    {
      "cell_type": "markdown",
      "metadata": {
        "id": "lt4gzPiaMuW9"
      },
      "source": [
        "### 3.3. Improve Span\n",
        "\n",
        "- KorQuAD 데이터셋에서 context, question, answer를 추출\n",
        "\n",
        "- KorQuAD 데이터셋?\n",
        "    > 질문(question)과 지문(context)을 주고, 지문 영역에서 정답(answer)을 찾도록 구성되어 있습니다. 그러므로 정답에 해당하는 지문 영역을 정확히 찾아내는 것이 전처리의 핵심적인 작업이 됩니다."
      ]
    },
    {
      "cell_type": "code",
      "execution_count": null,
      "metadata": {
        "colab": {
          "base_uri": "https://localhost:8080/"
        },
        "id": "Sjn-Me4RM6XG",
        "outputId": "4566f43b-febd-45a8-9e4f-aafe3532d836"
      },
      "outputs": [
        {
          "name": "stdout",
          "output_type": "stream",
          "text": [
            "[context]  1839년 바그너는 괴테의 파우스트을 처음 읽고 그 내용에 마음이 끌려 이를 소재로 해서 하나의 교향곡을 쓰려는 뜻을 갖는다. 이 시기 바그너는 1838년에 빛 독촉으로 산전수전을 다 걲은 상황이라 좌절과 실망에 가득했으며 메피스토펠레스를 만나는 파우스트의 심경에 공감했다고 한다. 또한 파리에서 아브네크의 지휘로 파리 음악원 관현악단이 연주하는 베토벤의 교향곡 9번을 듣고 깊은 감명을 받았는데, 이것이 이듬해 1월에 파우스트의 서곡으로 쓰여진 이 작품에 조금이라도 영향을 끼쳤으리라는 것은 의심할 여지가 없다. 여기의 라단조 조성의 경우에도 그의 전기에 적혀 있는 것처럼 단순한 정신적 피로나 실의가 반영된 것이 아니라 베토벤의 합창교향곡 조성의 영향을 받은 것을 볼 수 있다. 그렇게 교향곡 작곡을 1839년부터 40년에 걸쳐 파리에서 착수했으나 1악장을 쓴 뒤에 중단했다. 또한 작품의 완성과 동시에 그는 이 서곡(1악장)을 파리 음악원의 연주회에서 연주할 파트보까지 준비하였으나, 실제로는 이루어지지는 않았다. 결국 초연은 4년 반이 지난 후에 드레스덴에서 연주되었고 재연도 이루어졌지만, 이후에 그대로 방치되고 말았다. 그 사이에 그는 리엔치와 방황하는 네덜란드인을 완성하고 탄호이저에도 착수하는 등 분주한 시간을 보냈는데, 그런 바쁜 생활이 이 곡을 잊게 한 것이 아닌가 하는 의견도 있다.\n",
            "[question]  바그너는 괴테의 파우스트를 읽고 무엇을 쓰고자 했는가?\n",
            "[answer]  교향곡\n",
            "[answer_start] index:  54 character:  교\n",
            "[answer_end]index:  56 character:  곡\n"
          ]
        }
      ],
      "source": [
        "context = train_json['data'][0]['paragraphs'][0]['context']\n",
        "question = train_json['data'][0]['paragraphs'][0]['qas'][0]['question']\n",
        "answer_text = train_json['data'][0]['paragraphs'][0]['qas'][0]['answers'][0]['text']\n",
        "answer_start = train_json['data'][0]['paragraphs'][0]['qas'][0]['answers'][0]['answer_start']\n",
        "answer_end = answer_start + len(answer_text) - 1\n",
        "\n",
        "print('[context] ', context)\n",
        "print('[question] ', question)\n",
        "print('[answer] ', answer_text)\n",
        "print('[answer_start] index: ', answer_start, 'character: ', context[answer_start])\n",
        "print('[answer_end]index: ', answer_end, 'character: ', context[answer_end])\n",
        "\n",
        "# answer_text에 해당하는 context 영역을 정확히 찾아내야 합니다. \n",
        "assert context[answer_start:answer_end + 1] == answer_text"
      ]
    },
    {
      "cell_type": "code",
      "execution_count": null,
      "metadata": {
        "colab": {
          "base_uri": "https://localhost:8080/"
        },
        "id": "XTZmPOWrM8A2",
        "outputId": "235b7ac9-313f-4544-8ba8-e415681d6f66"
      },
      "outputs": [
        {
          "name": "stdout",
          "output_type": "stream",
          "text": [
            "['1839년', '바그너는', '괴테의', '파우스트을', '처음', '읽고', '그', '내용에', '마음이', '끌려', '이를', '소재로', '해서', '하나의', '교향곡을', '쓰려는', '뜻을', '갖는다.', '이', '시기']\n"
          ]
        },
        {
          "data": {
            "text/plain": [
              "([0, 0, 0, 0, 0, 0, 1, 1, 1, 1, 1, 2, 2, 2, 2, 3, 3, 3, 3, 3],\n",
              " '1839년 바그너는 괴테의 파우스트을')"
            ]
          },
          "execution_count": 23,
          "metadata": {},
          "output_type": "execute_result"
        }
      ],
      "source": [
        "# context를 띄어쓰기(word) 단위로 토큰화한 결과를 살펴봅니다. \n",
        "word_tokens, char_to_word = _tokenize_whitespace(context)\n",
        "\n",
        "print( word_tokens[:20])\n",
        "\n",
        "char_to_word[:20], context[:20]"
      ]
    },
    {
      "cell_type": "code",
      "execution_count": null,
      "metadata": {
        "colab": {
          "base_uri": "https://localhost:8080/"
        },
        "id": "D-bwpTrvM-AZ",
        "outputId": "b16e2bd5-bfd9-449f-a479-0b7dca935ba6"
      },
      "outputs": [
        {
          "name": "stdout",
          "output_type": "stream",
          "text": [
            "0 ['▁1839', '년']\n",
            "2 ['▁바그너', '는']\n",
            "4 ['▁괴테', '의']\n",
            "6 ['▁', '파우스트', '을']\n",
            "9 ['▁처음']\n",
            "10 ['▁읽고']\n",
            "11 ['▁그']\n",
            "12 ['▁내용에']\n",
            "13 ['▁마음이']\n",
            "14 ['▁끌려']\n",
            "15 ['▁이를']\n",
            "16 ['▁소재로']\n",
            "17 ['▁해서']\n",
            "18 ['▁하나의']\n",
            "19 ['▁교향곡', '을']\n",
            "21 ['▁쓰', '려는']\n",
            "23 ['▁뜻을']\n",
            "24 ['▁갖는다', '.']\n",
            "26 ['▁이']\n",
            "27 ['▁시기']\n"
          ]
        }
      ],
      "source": [
        "# 띄어쓰기(word) 단위로 쪼개진 context(word_tokens)를 Subword로 토큰화한 결과를 살펴봅니다. \n",
        "context_tokens, word_to_token = _tokenize_vocab(vocab, word_tokens)\n",
        "for i in range(min(20, len(word_to_token) - 1)):\n",
        "    print(word_to_token[i], context_tokens[word_to_token[i]:word_to_token[i + 1]])"
      ]
    },
    {
      "cell_type": "code",
      "execution_count": null,
      "metadata": {
        "colab": {
          "base_uri": "https://localhost:8080/"
        },
        "id": "uKTea20TM-10",
        "outputId": "f2d2a699-242a-4c77-8e08-7028f27a43ed"
      },
      "outputs": [
        {
          "data": {
            "text/plain": [
              "(14, 14, '교향곡', ['교향곡을'])"
            ]
          },
          "execution_count": 25,
          "metadata": {},
          "output_type": "execute_result"
        }
      ],
      "source": [
        "# answer_start와 answer_end로부터 word_start와 word_end를 구합니다. \n",
        "word_start = char_to_word[answer_start]\n",
        "word_end = char_to_word[answer_end]\n",
        "word_start, word_end, answer_text, word_tokens[word_start:word_end + 1]"
      ]
    },
    {
      "cell_type": "markdown",
      "metadata": {
        "id": "lJE4RPnkNGmO"
      },
      "source": [
        "우리가 원하는 정답은 '교향곡'이지, '교향곡을'이 아니다"
      ]
    },
    {
      "cell_type": "code",
      "execution_count": null,
      "metadata": {
        "colab": {
          "base_uri": "https://localhost:8080/"
        },
        "id": "JcaWMpYhNLxo",
        "outputId": "71f3a9a9-f944-4bbf-9abc-84ca2c30cca6"
      },
      "outputs": [
        {
          "data": {
            "text/plain": [
              "(19, 20, ['▁교향곡', '을'])"
            ]
          },
          "execution_count": 26,
          "metadata": {},
          "output_type": "execute_result"
        }
      ],
      "source": [
        "# word_start로부터 word_end까지의 context를 Subword 단위로 토큰화한 결과\n",
        "token_start = word_to_token[word_start]\n",
        "if word_end < len(word_to_token) - 1:\n",
        "    token_end = word_to_token[word_end + 1] - 1\n",
        "else:\n",
        "    token_end = len(context_tokens) - 1\n",
        "token_start, token_end, context_tokens[token_start:token_end + 1]"
      ]
    },
    {
      "cell_type": "code",
      "execution_count": null,
      "metadata": {
        "colab": {
          "base_uri": "https://localhost:8080/",
          "height": 35
        },
        "id": "f1sL-iEzNNyy",
        "outputId": "8077efd5-d28b-470d-acdf-d29683ab319e"
      },
      "outputs": [
        {
          "data": {
            "application/vnd.google.colaboratory.intrinsic+json": {
              "type": "string"
            },
            "text/plain": [
              "'▁교향곡'"
            ]
          },
          "execution_count": 27,
          "metadata": {},
          "output_type": "execute_result"
        }
      ],
      "source": [
        "# 실제 정답인 answer_text도 Subword 기준으로 토큰화해 둡니다. \n",
        "token_answer = \" \".join(vocab.encode_as_pieces(answer_text))\n",
        "token_answer"
      ]
    },
    {
      "cell_type": "code",
      "execution_count": null,
      "metadata": {
        "colab": {
          "base_uri": "https://localhost:8080/"
        },
        "id": "leAGvJ1yNSoA",
        "outputId": "938039c7-446f-4190-8d63-c109b449987f"
      },
      "outputs": [
        {
          "name": "stdout",
          "output_type": "stream",
          "text": [
            "X >> (19, 20) ▁교향곡 을\n",
            "O >> (19, 19) ▁교향곡\n",
            "X >> (20, 20) 을\n"
          ]
        }
      ],
      "source": [
        "# 더 일반적인 방법으로 정답 토큰 범위를 찾는 코드\n",
        "# 정답이 될수 있는 new_start와 new_end의 경우를 순회탐색합니다. \n",
        "for new_start in range(token_start, token_end + 1):\n",
        "    for new_end in range(token_end, new_start - 1, -1):\n",
        "        text_span = \" \".join(context_tokens[new_start : (new_end + 1)])\n",
        "        if text_span == token_answer:   # 정답과 일치하는 경우\n",
        "            print(\"O >>\", (new_start, new_end), text_span)\n",
        "        else:\n",
        "            print(\"X >>\", (new_start, new_end), text_span)"
      ]
    },
    {
      "cell_type": "code",
      "execution_count": null,
      "metadata": {
        "id": "eguS2AGONbgv"
      },
      "outputs": [],
      "source": [
        "# 함수화\n",
        "# context_tokens에서 char_answer의 위치를 찾아 리턴하는 함수\n",
        "def _improve_span(vocab, context_tokens, token_start, token_end, char_answer):\n",
        "    token_answer = \" \".join(vocab.encode_as_pieces(char_answer))\n",
        "    for new_start in range(token_start, token_end + 1):\n",
        "        for new_end in range(token_end, new_start - 1, -1):\n",
        "            text_span = \" \".join(context_tokens[new_start : (new_end + 1)])\n",
        "            if text_span == token_answer:\n",
        "                return (new_start, new_end)\n",
        "    return (token_start, token_end)"
      ]
    },
    {
      "cell_type": "code",
      "execution_count": null,
      "metadata": {
        "colab": {
          "base_uri": "https://localhost:8080/"
        },
        "id": "q0i7WIYiNdmh",
        "outputId": "f0939966-f867-40ad-d628-913a024555f8"
      },
      "outputs": [
        {
          "name": "stdout",
          "output_type": "stream",
          "text": [
            "token_start: 19  token_end: 19\n"
          ]
        },
        {
          "data": {
            "text/plain": [
              "['▁교향곡']"
            ]
          },
          "execution_count": 30,
          "metadata": {},
          "output_type": "execute_result"
        }
      ],
      "source": [
        "token_start, token_end = _improve_span(vocab, context_tokens, token_start, token_end, answer_text)\n",
        "print('token_start:', token_start, ' token_end:', token_end)\n",
        "context_tokens[token_start:token_end + 1]"
      ]
    },
    {
      "cell_type": "markdown",
      "metadata": {
        "id": "6AIikPxNNerx"
      },
      "source": [
        "### 3.4. 데이터 스플릿\n",
        "\n",
        "- train, dev셋을 분리, _improve_span() 메소드를 이용해 전처리 후 파일로 저장"
      ]
    },
    {
      "cell_type": "code",
      "execution_count": null,
      "metadata": {
        "id": "3JLY7BloNhFl"
      },
      "outputs": [],
      "source": [
        "def dump_korquad(vocab, json_data, out_file):\n",
        "    with open(out_file, \"w\") as f:\n",
        "        for data in tqdm(json_data[\"data\"]):\n",
        "            title = data[\"title\"]\n",
        "            for paragraph in data[\"paragraphs\"]:\n",
        "                context = paragraph[\"context\"]\n",
        "                context_words, char_to_word = _tokenize_whitespace(context)\n",
        "\n",
        "                for qa in paragraph[\"qas\"]:\n",
        "                    assert len(qa[\"answers\"]) == 1\n",
        "                    qa_id = qa[\"id\"]\n",
        "                    question = qa[\"question\"]\n",
        "                    answer_text = qa[\"answers\"][0][\"text\"]\n",
        "                    answer_start = qa[\"answers\"][0][\"answer_start\"]\n",
        "                    answer_end = answer_start + len(answer_text) - 1\n",
        "\n",
        "                    assert answer_text == context[answer_start:answer_end + 1]\n",
        "\n",
        "                    word_start = char_to_word[answer_start]\n",
        "                    word_end = char_to_word[answer_end]\n",
        "\n",
        "                    word_answer = \" \".join(context_words[word_start:word_end + 1])\n",
        "                    char_answer = \" \".join(answer_text.strip().split())\n",
        "                    assert char_answer in word_answer\n",
        "\n",
        "                    context_tokens, word_to_token = _tokenize_vocab(vocab, context_words)\n",
        "\n",
        "                    token_start = word_to_token[word_start]\n",
        "                    if word_end < len(word_to_token) - 1:\n",
        "                        token_end = word_to_token[word_end + 1] - 1\n",
        "                    else:\n",
        "                        token_end = len(context_tokens) - 1\n",
        "\n",
        "                    token_start, token_end = _improve_span(vocab, context_tokens, token_start, token_end, char_answer)\n",
        "\n",
        "                    data = {\"qa_id\": qa_id, \"title\": title, \"question\": vocab.encode_as_pieces(question), \"context\": context_tokens, \"answer\": char_answer, \"token_start\": token_start, \"token_end\":token_end}\n",
        "                    f.write(json.dumps(data, ensure_ascii=False))\n",
        "                    f.write(\"\\n\")"
      ]
    },
    {
      "cell_type": "code",
      "execution_count": null,
      "metadata": {
        "colab": {
          "base_uri": "https://localhost:8080/",
          "height": 81,
          "referenced_widgets": [
            "50a2d41850c14a088de278d5c9aa1586",
            "f9cd51569dc64816b048dfd7a633c4c1",
            "a56fa5f621ae4648b919aadeb958e8b2",
            "e6f4915eaf874c98b85268da75164804",
            "80361462b03f48598f51d83b6256e9da",
            "09f888c536c84606b22a8e9bfe77b8c9",
            "92e88d35dc1e40ee9c973a3b531ec6e3",
            "2fe172102ccd44fda1c7dda6b554d979",
            "57ba44f7e4c04dcf81c8399f69f5e831",
            "ff60f32fcf9c451bae0169e27f4dc774",
            "02278c0fa9d8481ab23e9f1a042b30d0",
            "b933f3d001dc4c8295d35b0f6be5eaf3",
            "b88171f3012d4e1b93f778337a41d98d",
            "e4871ed470c54e55b38c4cd51829748b",
            "5ed4ef5ce41e4c0489497c60e373353c",
            "6a2c34cd9ef2468c905c8e2ba25d3835",
            "b6fb54355093459e91e0fc613037f2c9",
            "84f36fb814664dc9a3975f6f01b817e7",
            "4d1e72952ac74d82bc5c1246ef2280f6",
            "d45178e165df4fd7a1524efaa61ad108",
            "1774e891bda34c919c3f4503192c46f8",
            "6af0f47bc8ad4838afdc7b551d160600"
          ]
        },
        "id": "dwyjjDOWNlOQ",
        "outputId": "f497b5c5-87bc-4e6a-f78e-af655836d72e"
      },
      "outputs": [
        {
          "data": {
            "application/vnd.jupyter.widget-view+json": {
              "model_id": "50a2d41850c14a088de278d5c9aa1586",
              "version_major": 2,
              "version_minor": 0
            },
            "text/plain": [
              "  0%|          | 0/1420 [00:00<?, ?it/s]"
            ]
          },
          "metadata": {},
          "output_type": "display_data"
        },
        {
          "data": {
            "application/vnd.jupyter.widget-view+json": {
              "model_id": "b933f3d001dc4c8295d35b0f6be5eaf3",
              "version_major": 2,
              "version_minor": 0
            },
            "text/plain": [
              "  0%|          | 0/140 [00:00<?, ?it/s]"
            ]
          },
          "metadata": {},
          "output_type": "display_data"
        }
      ],
      "source": [
        "# 전처리를 수행하여 파일로 생성합니다. \n",
        "dump_korquad(vocab, train_json, f\"{data_dir}/korquad_train.json\")\n",
        "dump_korquad(vocab, dev_json, f\"{data_dir}/korquad_dev.json\")"
      ]
    },
    {
      "cell_type": "code",
      "execution_count": null,
      "metadata": {
        "colab": {
          "base_uri": "https://localhost:8080/"
        },
        "id": "4vjs01RfNw4X",
        "outputId": "5215de3b-476d-4a96-aa20-e9d2262c1c52"
      },
      "outputs": [
        {
          "name": "stdout",
          "output_type": "stream",
          "text": [
            "{\"qa_id\": \"6566495-0-0\", \"title\": \"파우스트_서곡\", \"question\": [\"▁바그너\", \"는\", \"▁괴테\", \"의\", \"▁\", \"파우스트\", \"를\", \"▁읽고\", \"▁무엇을\", \"▁쓰고\", \"자\", \"▁\", \"했\", \"는\", \"가\", \"?\"], \"context\": [\"▁1839\", \"년\", \"▁바그너\", \"는\", \"▁괴테\", \"의\", \"▁\", \"파우스트\", \"을\", \"▁처음\", \"▁읽고\", \"▁그\", \"▁내용에\", \"▁마음이\", \"▁끌려\", \"▁이를\", \"▁소재로\", \"▁해서\", \"▁하나의\", \"▁교향곡\", \"을\", \"▁쓰\", \"려는\", \"▁뜻을\", \"▁갖는다\", \".\", \"▁이\", \"▁시기\", \"▁바그너\", \"는\", \"▁1838\", \"년에\", \"▁빛\", \"▁독\", \"촉\", \"으로\", \"▁산\", \"전\", \"수\", \"전을\", \"▁다\", \"▁\", \"걲\", \"은\", \"▁상황이\", \"라\", \"▁좌절\", \"과\", \"▁실망\", \"에\", \"▁가득\", \"했으며\", \"▁메\", \"피스\", \"토\", \"펠\", \"레스\", \"를\", \"▁만나는\", \"▁\", \"파우스트\", \"의\", \"▁심\", \"경에\", \"▁공감\", \"했다고\", \"▁한다\", \".\", \"▁또한\", \"▁파리에서\", \"▁아브\", \"네\", \"크의\", \"▁지휘\", \"로\", \"▁파리\", \"▁음악원\", \"▁관현악단\", \"이\", \"▁연주하는\", \"▁베토벤\", \"의\", \"▁교향곡\", \"▁9\", \"번을\", \"▁듣고\", \"▁깊은\", \"▁감\", \"명을\", \"▁받았는데\", \",\", \"▁이것이\", \"▁이듬해\", \"▁1\", \"월에\", \"▁\", \"파우스트\", \"의\", \"▁서\", \"곡으로\", \"▁쓰여진\", \"▁이\", \"▁작품에\", \"▁조금\", \"이라도\", \"▁영향을\", \"▁끼\", \"쳤\", \"으리라\", \"는\", \"▁것은\", \"▁의심\", \"할\", \"▁여지가\", \"▁없다\", \".\", \"▁여기\", \"의\", \"▁라\", \"단\", \"조\", \"▁조성\", \"의\", \"▁경우에도\", \"▁그의\", \"▁전기\", \"에\", \"▁적혀\", \"▁있는\", \"▁것처럼\", \"▁단순한\", \"▁정신적\", \"▁피로\", \"나\", \"▁실\", \"의\", \"가\", \"▁반영\", \"된\", \"▁것이\", \"▁아니라\", \"▁베토벤\", \"의\", \"▁합창\", \"교\", \"향\", \"곡\", \"▁조성\", \"의\", \"▁영향을\", \"▁받은\", \"▁것을\", \"▁볼\", \"▁수\", \"▁있다\", \".\", \"▁그렇게\", \"▁교향곡\", \"▁작곡\", \"을\", \"▁1839\", \"년부터\", \"▁40\", \"년에\", \"▁걸쳐\", \"▁파리에서\", \"▁착수\", \"했으나\", \"▁1\", \"악장\", \"을\", \"▁쓴\", \"▁뒤에\", \"▁중단\", \"했다\", \".\", \"▁또한\", \"▁작품의\", \"▁완성\", \"과\", \"▁동시에\", \"▁그는\", \"▁이\", \"▁서\", \"곡\", \"(1\", \"악장\", \")\", \"을\", \"▁파리\", \"▁음악원\", \"의\", \"▁연주회\", \"에서\", \"▁연주\", \"할\", \"▁파트\", \"보\", \"까지\", \"▁준비\", \"하였으나\", \",\", \"▁실제로는\", \"▁이루어지지\", \"는\", \"▁않았다\", \".\", \"▁결국\", \"▁초연\", \"은\", \"▁4\", \"년\", \"▁반\", \"이\", \"▁지난\", \"▁후에\", \"▁드레스덴\", \"에서\", \"▁연주\", \"되었고\", \"▁재\", \"연\", \"도\", \"▁이루어졌\", \"지만\", \",\", \"▁이후에\", \"▁그대로\", \"▁방치\", \"되고\", \"▁말았다\", \".\", \"▁그\", \"▁사이에\", \"▁그는\", \"▁리\", \"엔\", \"치\", \"와\", \"▁방\", \"황\", \"하는\", \"▁네덜란드\", \"인\", \"을\", \"▁완성\", \"하고\", \"▁탄\", \"호\", \"이\", \"저\", \"에도\", \"▁착수\", \"하는\", \"▁등\", \"▁분\", \"주\", \"한\", \"▁시간을\", \"▁보\", \"냈는데\", \",\", \"▁그런\", \"▁바쁜\", \"▁생활\", \"이\", \"▁이\", \"▁곡을\", \"▁잊\", \"게\", \"▁한\", \"▁것이\", \"▁아닌\", \"가\", \"▁하는\", \"▁의견도\", \"▁있다\", \".\"], \"answer\": \"교향곡\", \"token_start\": 19, \"token_end\": 19}\n",
            "{\"qa_id\": \"6566495-0-1\", \"title\": \"파우스트_서곡\", \"question\": [\"▁바그너\", \"는\", \"▁교향곡\", \"▁작곡\", \"을\", \"▁어디\", \"까지\", \"▁쓴\", \"▁뒤에\", \"▁중단\", \"했\", \"는\", \"가\", \"?\"], \"context\": [\"▁1839\", \"년\", \"▁바그너\", \"는\", \"▁괴테\", \"의\", \"▁\", \"파우스트\", \"을\", \"▁처음\", \"▁읽고\", \"▁그\", \"▁내용에\", \"▁마음이\", \"▁끌려\", \"▁이를\", \"▁소재로\", \"▁해서\", \"▁하나의\", \"▁교향곡\", \"을\", \"▁쓰\", \"려는\", \"▁뜻을\", \"▁갖는다\", \".\", \"▁이\", \"▁시기\", \"▁바그너\", \"는\", \"▁1838\", \"년에\", \"▁빛\", \"▁독\", \"촉\", \"으로\", \"▁산\", \"전\", \"수\", \"전을\", \"▁다\", \"▁\", \"걲\", \"은\", \"▁상황이\", \"라\", \"▁좌절\", \"과\", \"▁실망\", \"에\", \"▁가득\", \"했으며\", \"▁메\", \"피스\", \"토\", \"펠\", \"레스\", \"를\", \"▁만나는\", \"▁\", \"파우스트\", \"의\", \"▁심\", \"경에\", \"▁공감\", \"했다고\", \"▁한다\", \".\", \"▁또한\", \"▁파리에서\", \"▁아브\", \"네\", \"크의\", \"▁지휘\", \"로\", \"▁파리\", \"▁음악원\", \"▁관현악단\", \"이\", \"▁연주하는\", \"▁베토벤\", \"의\", \"▁교향곡\", \"▁9\", \"번을\", \"▁듣고\", \"▁깊은\", \"▁감\", \"명을\", \"▁받았는데\", \",\", \"▁이것이\", \"▁이듬해\", \"▁1\", \"월에\", \"▁\", \"파우스트\", \"의\", \"▁서\", \"곡으로\", \"▁쓰여진\", \"▁이\", \"▁작품에\", \"▁조금\", \"이라도\", \"▁영향을\", \"▁끼\", \"쳤\", \"으리라\", \"는\", \"▁것은\", \"▁의심\", \"할\", \"▁여지가\", \"▁없다\", \".\", \"▁여기\", \"의\", \"▁라\", \"단\", \"조\", \"▁조성\", \"의\", \"▁경우에도\", \"▁그의\", \"▁전기\", \"에\", \"▁적혀\", \"▁있는\", \"▁것처럼\", \"▁단순한\", \"▁정신적\", \"▁피로\", \"나\", \"▁실\", \"의\", \"가\", \"▁반영\", \"된\", \"▁것이\", \"▁아니라\", \"▁베토벤\", \"의\", \"▁합창\", \"교\", \"향\", \"곡\", \"▁조성\", \"의\", \"▁영향을\", \"▁받은\", \"▁것을\", \"▁볼\", \"▁수\", \"▁있다\", \".\", \"▁그렇게\", \"▁교향곡\", \"▁작곡\", \"을\", \"▁1839\", \"년부터\", \"▁40\", \"년에\", \"▁걸쳐\", \"▁파리에서\", \"▁착수\", \"했으나\", \"▁1\", \"악장\", \"을\", \"▁쓴\", \"▁뒤에\", \"▁중단\", \"했다\", \".\", \"▁또한\", \"▁작품의\", \"▁완성\", \"과\", \"▁동시에\", \"▁그는\", \"▁이\", \"▁서\", \"곡\", \"(1\", \"악장\", \")\", \"을\", \"▁파리\", \"▁음악원\", \"의\", \"▁연주회\", \"에서\", \"▁연주\", \"할\", \"▁파트\", \"보\", \"까지\", \"▁준비\", \"하였으나\", \",\", \"▁실제로는\", \"▁이루어지지\", \"는\", \"▁않았다\", \".\", \"▁결국\", \"▁초연\", \"은\", \"▁4\", \"년\", \"▁반\", \"이\", \"▁지난\", \"▁후에\", \"▁드레스덴\", \"에서\", \"▁연주\", \"되었고\", \"▁재\", \"연\", \"도\", \"▁이루어졌\", \"지만\", \",\", \"▁이후에\", \"▁그대로\", \"▁방치\", \"되고\", \"▁말았다\", \".\", \"▁그\", \"▁사이에\", \"▁그는\", \"▁리\", \"엔\", \"치\", \"와\", \"▁방\", \"황\", \"하는\", \"▁네덜란드\", \"인\", \"을\", \"▁완성\", \"하고\", \"▁탄\", \"호\", \"이\", \"저\", \"에도\", \"▁착수\", \"하는\", \"▁등\", \"▁분\", \"주\", \"한\", \"▁시간을\", \"▁보\", \"냈는데\", \",\", \"▁그런\", \"▁바쁜\", \"▁생활\", \"이\", \"▁이\", \"▁곡을\", \"▁잊\", \"게\", \"▁한\", \"▁것이\", \"▁아닌\", \"가\", \"▁하는\", \"▁의견도\", \"▁있다\", \".\"], \"answer\": \"1악장\", \"token_start\": 168, \"token_end\": 169}\n",
            "{\"qa_id\": \"6566495-0-2\", \"title\": \"파우스트_서곡\", \"question\": [\"▁바그너\", \"가\", \"▁\", \"파우스트\", \"▁서\", \"곡을\", \"▁쓸\", \"▁때\", \"▁어떤\", \"▁곡\", \"의\", \"▁영향을\", \"▁받았\", \"는\", \"가\", \"?\"], \"context\": [\"▁1839\", \"년\", \"▁바그너\", \"는\", \"▁괴테\", \"의\", \"▁\", \"파우스트\", \"을\", \"▁처음\", \"▁읽고\", \"▁그\", \"▁내용에\", \"▁마음이\", \"▁끌려\", \"▁이를\", \"▁소재로\", \"▁해서\", \"▁하나의\", \"▁교향곡\", \"을\", \"▁쓰\", \"려는\", \"▁뜻을\", \"▁갖는다\", \".\", \"▁이\", \"▁시기\", \"▁바그너\", \"는\", \"▁1838\", \"년에\", \"▁빛\", \"▁독\", \"촉\", \"으로\", \"▁산\", \"전\", \"수\", \"전을\", \"▁다\", \"▁\", \"걲\", \"은\", \"▁상황이\", \"라\", \"▁좌절\", \"과\", \"▁실망\", \"에\", \"▁가득\", \"했으며\", \"▁메\", \"피스\", \"토\", \"펠\", \"레스\", \"를\", \"▁만나는\", \"▁\", \"파우스트\", \"의\", \"▁심\", \"경에\", \"▁공감\", \"했다고\", \"▁한다\", \".\", \"▁또한\", \"▁파리에서\", \"▁아브\", \"네\", \"크의\", \"▁지휘\", \"로\", \"▁파리\", \"▁음악원\", \"▁관현악단\", \"이\", \"▁연주하는\", \"▁베토벤\", \"의\", \"▁교향곡\", \"▁9\", \"번을\", \"▁듣고\", \"▁깊은\", \"▁감\", \"명을\", \"▁받았는데\", \",\", \"▁이것이\", \"▁이듬해\", \"▁1\", \"월에\", \"▁\", \"파우스트\", \"의\", \"▁서\", \"곡으로\", \"▁쓰여진\", \"▁이\", \"▁작품에\", \"▁조금\", \"이라도\", \"▁영향을\", \"▁끼\", \"쳤\", \"으리라\", \"는\", \"▁것은\", \"▁의심\", \"할\", \"▁여지가\", \"▁없다\", \".\", \"▁여기\", \"의\", \"▁라\", \"단\", \"조\", \"▁조성\", \"의\", \"▁경우에도\", \"▁그의\", \"▁전기\", \"에\", \"▁적혀\", \"▁있는\", \"▁것처럼\", \"▁단순한\", \"▁정신적\", \"▁피로\", \"나\", \"▁실\", \"의\", \"가\", \"▁반영\", \"된\", \"▁것이\", \"▁아니라\", \"▁베토벤\", \"의\", \"▁합창\", \"교\", \"향\", \"곡\", \"▁조성\", \"의\", \"▁영향을\", \"▁받은\", \"▁것을\", \"▁볼\", \"▁수\", \"▁있다\", \".\", \"▁그렇게\", \"▁교향곡\", \"▁작곡\", \"을\", \"▁1839\", \"년부터\", \"▁40\", \"년에\", \"▁걸쳐\", \"▁파리에서\", \"▁착수\", \"했으나\", \"▁1\", \"악장\", \"을\", \"▁쓴\", \"▁뒤에\", \"▁중단\", \"했다\", \".\", \"▁또한\", \"▁작품의\", \"▁완성\", \"과\", \"▁동시에\", \"▁그는\", \"▁이\", \"▁서\", \"곡\", \"(1\", \"악장\", \")\", \"을\", \"▁파리\", \"▁음악원\", \"의\", \"▁연주회\", \"에서\", \"▁연주\", \"할\", \"▁파트\", \"보\", \"까지\", \"▁준비\", \"하였으나\", \",\", \"▁실제로는\", \"▁이루어지지\", \"는\", \"▁않았다\", \".\", \"▁결국\", \"▁초연\", \"은\", \"▁4\", \"년\", \"▁반\", \"이\", \"▁지난\", \"▁후에\", \"▁드레스덴\", \"에서\", \"▁연주\", \"되었고\", \"▁재\", \"연\", \"도\", \"▁이루어졌\", \"지만\", \",\", \"▁이후에\", \"▁그대로\", \"▁방치\", \"되고\", \"▁말았다\", \".\", \"▁그\", \"▁사이에\", \"▁그는\", \"▁리\", \"엔\", \"치\", \"와\", \"▁방\", \"황\", \"하는\", \"▁네덜란드\", \"인\", \"을\", \"▁완성\", \"하고\", \"▁탄\", \"호\", \"이\", \"저\", \"에도\", \"▁착수\", \"하는\", \"▁등\", \"▁분\", \"주\", \"한\", \"▁시간을\", \"▁보\", \"냈는데\", \",\", \"▁그런\", \"▁바쁜\", \"▁생활\", \"이\", \"▁이\", \"▁곡을\", \"▁잊\", \"게\", \"▁한\", \"▁것이\", \"▁아닌\", \"가\", \"▁하는\", \"▁의견도\", \"▁있다\", \".\"], \"answer\": \"베토벤의 교향곡 9번\", \"token_start\": 80, \"token_end\": 84}\n",
            "{\"qa_id\": \"6566518-0-0\", \"title\": \"파우스트_서곡\", \"question\": [\"▁1839\", \"년\", \"▁바그너\", \"가\", \"▁교향곡\", \"의\", \"▁소재로\", \"▁쓰\", \"려고\", \"▁했던\", \"▁책은\", \"?\"], \"context\": [\"▁1839\", \"년\", \"▁바그너\", \"는\", \"▁괴테\", \"의\", \"▁\", \"파우스트\", \"을\", \"▁처음\", \"▁읽고\", \"▁그\", \"▁내용에\", \"▁마음이\", \"▁끌려\", \"▁이를\", \"▁소재로\", \"▁해서\", \"▁하나의\", \"▁교향곡\", \"을\", \"▁쓰\", \"려는\", \"▁뜻을\", \"▁갖는다\", \".\", \"▁이\", \"▁시기\", \"▁바그너\", \"는\", \"▁1838\", \"년에\", \"▁빛\", \"▁독\", \"촉\", \"으로\", \"▁산\", \"전\", \"수\", \"전을\", \"▁다\", \"▁\", \"걲\", \"은\", \"▁상황이\", \"라\", \"▁좌절\", \"과\", \"▁실망\", \"에\", \"▁가득\", \"했으며\", \"▁메\", \"피스\", \"토\", \"펠\", \"레스\", \"를\", \"▁만나는\", \"▁\", \"파우스트\", \"의\", \"▁심\", \"경에\", \"▁공감\", \"했다고\", \"▁한다\", \".\", \"▁또한\", \"▁파리에서\", \"▁아브\", \"네\", \"크의\", \"▁지휘\", \"로\", \"▁파리\", \"▁음악원\", \"▁관현악단\", \"이\", \"▁연주하는\", \"▁베토벤\", \"의\", \"▁교향곡\", \"▁9\", \"번을\", \"▁듣고\", \"▁깊은\", \"▁감\", \"명을\", \"▁받았는데\", \",\", \"▁이것이\", \"▁이듬해\", \"▁1\", \"월에\", \"▁\", \"파우스트\", \"의\", \"▁서\", \"곡으로\", \"▁쓰여진\", \"▁이\", \"▁작품에\", \"▁조금\", \"이라도\", \"▁영향을\", \"▁끼\", \"쳤\", \"으리라\", \"는\", \"▁것은\", \"▁의심\", \"할\", \"▁여지가\", \"▁없다\", \".\", \"▁여기\", \"의\", \"▁라\", \"단\", \"조\", \"▁조성\", \"의\", \"▁경우에도\", \"▁그의\", \"▁전기\", \"에\", \"▁적혀\", \"▁있는\", \"▁것처럼\", \"▁단순한\", \"▁정신적\", \"▁피로\", \"나\", \"▁실\", \"의\", \"가\", \"▁반영\", \"된\", \"▁것이\", \"▁아니라\", \"▁베토벤\", \"의\", \"▁합창\", \"교\", \"향\", \"곡\", \"▁조성\", \"의\", \"▁영향을\", \"▁받은\", \"▁것을\", \"▁볼\", \"▁수\", \"▁있다\", \".\", \"▁그렇게\", \"▁교향곡\", \"▁작곡\", \"을\", \"▁1839\", \"년부터\", \"▁40\", \"년에\", \"▁걸쳐\", \"▁파리에서\", \"▁착수\", \"했으나\", \"▁1\", \"악장\", \"을\", \"▁쓴\", \"▁뒤에\", \"▁중단\", \"했다\", \".\", \"▁또한\", \"▁작품의\", \"▁완성\", \"과\", \"▁동시에\", \"▁그는\", \"▁이\", \"▁서\", \"곡\", \"(1\", \"악장\", \")\", \"을\", \"▁파리\", \"▁음악원\", \"의\", \"▁연주회\", \"에서\", \"▁연주\", \"할\", \"▁파트\", \"보\", \"까지\", \"▁준비\", \"하였으나\", \",\", \"▁실제로는\", \"▁이루어지지\", \"는\", \"▁않았다\", \".\", \"▁결국\", \"▁초연\", \"은\", \"▁4\", \"년\", \"▁반\", \"이\", \"▁지난\", \"▁후에\", \"▁드레스덴\", \"에서\", \"▁연주\", \"되었고\", \"▁재\", \"연\", \"도\", \"▁이루어졌\", \"지만\", \",\", \"▁이후에\", \"▁그대로\", \"▁방치\", \"되고\", \"▁말았다\", \".\", \"▁그\", \"▁사이에\", \"▁그는\", \"▁리\", \"엔\", \"치\", \"와\", \"▁방\", \"황\", \"하는\", \"▁네덜란드\", \"인\", \"을\", \"▁완성\", \"하고\", \"▁탄\", \"호\", \"이\", \"저\", \"에도\", \"▁착수\", \"하는\", \"▁등\", \"▁분\", \"주\", \"한\", \"▁시간을\", \"▁보\", \"냈는데\", \",\", \"▁그런\", \"▁바쁜\", \"▁생활\", \"이\", \"▁이\", \"▁곡을\", \"▁잊\", \"게\", \"▁한\", \"▁것이\", \"▁아닌\", \"가\", \"▁하는\", \"▁의견도\", \"▁있다\", \".\"], \"answer\": \"파우스트\", \"token_start\": 6, \"token_end\": 7}\n",
            "{\"qa_id\": \"6566518-0-1\", \"title\": \"파우스트_서곡\", \"question\": [\"▁\", \"파우스트\", \"▁서\", \"곡\", \"의\", \"▁라\", \"단\", \"조\", \"▁조성\", \"이\", \"▁영향을\", \"▁받은\", \"▁베토벤\", \"의\", \"▁곡은\", \"?\"], \"context\": [\"▁1839\", \"년\", \"▁바그너\", \"는\", \"▁괴테\", \"의\", \"▁\", \"파우스트\", \"을\", \"▁처음\", \"▁읽고\", \"▁그\", \"▁내용에\", \"▁마음이\", \"▁끌려\", \"▁이를\", \"▁소재로\", \"▁해서\", \"▁하나의\", \"▁교향곡\", \"을\", \"▁쓰\", \"려는\", \"▁뜻을\", \"▁갖는다\", \".\", \"▁이\", \"▁시기\", \"▁바그너\", \"는\", \"▁1838\", \"년에\", \"▁빛\", \"▁독\", \"촉\", \"으로\", \"▁산\", \"전\", \"수\", \"전을\", \"▁다\", \"▁\", \"걲\", \"은\", \"▁상황이\", \"라\", \"▁좌절\", \"과\", \"▁실망\", \"에\", \"▁가득\", \"했으며\", \"▁메\", \"피스\", \"토\", \"펠\", \"레스\", \"를\", \"▁만나는\", \"▁\", \"파우스트\", \"의\", \"▁심\", \"경에\", \"▁공감\", \"했다고\", \"▁한다\", \".\", \"▁또한\", \"▁파리에서\", \"▁아브\", \"네\", \"크의\", \"▁지휘\", \"로\", \"▁파리\", \"▁음악원\", \"▁관현악단\", \"이\", \"▁연주하는\", \"▁베토벤\", \"의\", \"▁교향곡\", \"▁9\", \"번을\", \"▁듣고\", \"▁깊은\", \"▁감\", \"명을\", \"▁받았는데\", \",\", \"▁이것이\", \"▁이듬해\", \"▁1\", \"월에\", \"▁\", \"파우스트\", \"의\", \"▁서\", \"곡으로\", \"▁쓰여진\", \"▁이\", \"▁작품에\", \"▁조금\", \"이라도\", \"▁영향을\", \"▁끼\", \"쳤\", \"으리라\", \"는\", \"▁것은\", \"▁의심\", \"할\", \"▁여지가\", \"▁없다\", \".\", \"▁여기\", \"의\", \"▁라\", \"단\", \"조\", \"▁조성\", \"의\", \"▁경우에도\", \"▁그의\", \"▁전기\", \"에\", \"▁적혀\", \"▁있는\", \"▁것처럼\", \"▁단순한\", \"▁정신적\", \"▁피로\", \"나\", \"▁실\", \"의\", \"가\", \"▁반영\", \"된\", \"▁것이\", \"▁아니라\", \"▁베토벤\", \"의\", \"▁합창\", \"교\", \"향\", \"곡\", \"▁조성\", \"의\", \"▁영향을\", \"▁받은\", \"▁것을\", \"▁볼\", \"▁수\", \"▁있다\", \".\", \"▁그렇게\", \"▁교향곡\", \"▁작곡\", \"을\", \"▁1839\", \"년부터\", \"▁40\", \"년에\", \"▁걸쳐\", \"▁파리에서\", \"▁착수\", \"했으나\", \"▁1\", \"악장\", \"을\", \"▁쓴\", \"▁뒤에\", \"▁중단\", \"했다\", \".\", \"▁또한\", \"▁작품의\", \"▁완성\", \"과\", \"▁동시에\", \"▁그는\", \"▁이\", \"▁서\", \"곡\", \"(1\", \"악장\", \")\", \"을\", \"▁파리\", \"▁음악원\", \"의\", \"▁연주회\", \"에서\", \"▁연주\", \"할\", \"▁파트\", \"보\", \"까지\", \"▁준비\", \"하였으나\", \",\", \"▁실제로는\", \"▁이루어지지\", \"는\", \"▁않았다\", \".\", \"▁결국\", \"▁초연\", \"은\", \"▁4\", \"년\", \"▁반\", \"이\", \"▁지난\", \"▁후에\", \"▁드레스덴\", \"에서\", \"▁연주\", \"되었고\", \"▁재\", \"연\", \"도\", \"▁이루어졌\", \"지만\", \",\", \"▁이후에\", \"▁그대로\", \"▁방치\", \"되고\", \"▁말았다\", \".\", \"▁그\", \"▁사이에\", \"▁그는\", \"▁리\", \"엔\", \"치\", \"와\", \"▁방\", \"황\", \"하는\", \"▁네덜란드\", \"인\", \"을\", \"▁완성\", \"하고\", \"▁탄\", \"호\", \"이\", \"저\", \"에도\", \"▁착수\", \"하는\", \"▁등\", \"▁분\", \"주\", \"한\", \"▁시간을\", \"▁보\", \"냈는데\", \",\", \"▁그런\", \"▁바쁜\", \"▁생활\", \"이\", \"▁이\", \"▁곡을\", \"▁잊\", \"게\", \"▁한\", \"▁것이\", \"▁아닌\", \"가\", \"▁하는\", \"▁의견도\", \"▁있다\", \".\"], \"answer\": \"합창교향곡\", \"token_start\": 143, \"token_end\": 146}\n",
            "{\"qa_id\": \"5917067-0-0\", \"title\": \"파우스트_서곡\", \"question\": [\"▁바그너\", \"가\", \"▁\", \"파우스트\", \"를\", \"▁처음으로\", \"▁읽\", \"은\", \"▁\", \"년\", \"도\", \"는\", \"?\"], \"context\": [\"▁1839\", \"년\", \"▁바그너\", \"는\", \"▁괴테\", \"의\", \"▁\", \"파우스트\", \"을\", \"▁처음\", \"▁읽고\", \"▁그\", \"▁내용에\", \"▁마음이\", \"▁끌려\", \"▁이를\", \"▁소재로\", \"▁해서\", \"▁하나의\", \"▁교향곡\", \"을\", \"▁쓰\", \"려는\", \"▁뜻을\", \"▁갖는다\", \".\", \"▁이\", \"▁시기\", \"▁바그너\", \"는\", \"▁1838\", \"년에\", \"▁빛\", \"▁독\", \"촉\", \"으로\", \"▁산\", \"전\", \"수\", \"전을\", \"▁다\", \"▁\", \"걲\", \"은\", \"▁상황이\", \"라\", \"▁좌절\", \"과\", \"▁실망\", \"에\", \"▁가득\", \"했으며\", \"▁메\", \"피스\", \"토\", \"펠\", \"레스\", \"를\", \"▁만나는\", \"▁\", \"파우스트\", \"의\", \"▁심\", \"경에\", \"▁공감\", \"했다고\", \"▁한다\", \".\", \"▁또한\", \"▁파리에서\", \"▁아브\", \"네\", \"크의\", \"▁지휘\", \"로\", \"▁파리\", \"▁음악원\", \"▁관현악단\", \"이\", \"▁연주하는\", \"▁베토벤\", \"의\", \"▁교향곡\", \"▁9\", \"번을\", \"▁듣고\", \"▁깊은\", \"▁감\", \"명을\", \"▁받았는데\", \",\", \"▁이것이\", \"▁이듬해\", \"▁1\", \"월에\", \"▁\", \"파우스트\", \"의\", \"▁서\", \"곡으로\", \"▁쓰여진\", \"▁이\", \"▁작품에\", \"▁조금\", \"이라도\", \"▁영향을\", \"▁끼\", \"쳤\", \"으리라\", \"는\", \"▁것은\", \"▁의심\", \"할\", \"▁여지가\", \"▁없다\", \".\", \"▁여기\", \"의\", \"▁라\", \"단\", \"조\", \"▁조성\", \"의\", \"▁경우에도\", \"▁그의\", \"▁전기\", \"에\", \"▁적혀\", \"▁있는\", \"▁것처럼\", \"▁단순한\", \"▁정신적\", \"▁피로\", \"나\", \"▁실\", \"의\", \"가\", \"▁반영\", \"된\", \"▁것이\", \"▁아니라\", \"▁베토벤\", \"의\", \"▁합창\", \"교\", \"향\", \"곡\", \"▁조성\", \"의\", \"▁영향을\", \"▁받은\", \"▁것을\", \"▁볼\", \"▁수\", \"▁있다\", \".\", \"▁그렇게\", \"▁교향곡\", \"▁작곡\", \"을\", \"▁1839\", \"년부터\", \"▁40\", \"년에\", \"▁걸쳐\", \"▁파리에서\", \"▁착수\", \"했으나\", \"▁1\", \"악장\", \"을\", \"▁쓴\", \"▁뒤에\", \"▁중단\", \"했다\", \".\", \"▁또한\", \"▁작품의\", \"▁완성\", \"과\", \"▁동시에\", \"▁그는\", \"▁이\", \"▁서\", \"곡\", \"(1\", \"악장\", \")\", \"을\", \"▁파리\", \"▁음악원\", \"의\", \"▁연주회\", \"에서\", \"▁연주\", \"할\", \"▁파트\", \"보\", \"까지\", \"▁준비\", \"하였으나\", \",\", \"▁실제로는\", \"▁이루어지지\", \"는\", \"▁않았다\", \".\", \"▁결국\", \"▁초연\", \"은\", \"▁4\", \"년\", \"▁반\", \"이\", \"▁지난\", \"▁후에\", \"▁드레스덴\", \"에서\", \"▁연주\", \"되었고\", \"▁재\", \"연\", \"도\", \"▁이루어졌\", \"지만\", \",\", \"▁이후에\", \"▁그대로\", \"▁방치\", \"되고\", \"▁말았다\", \".\", \"▁그\", \"▁사이에\", \"▁그는\", \"▁리\", \"엔\", \"치\", \"와\", \"▁방\", \"황\", \"하는\", \"▁네덜란드\", \"인\", \"을\", \"▁완성\", \"하고\", \"▁탄\", \"호\", \"이\", \"저\", \"에도\", \"▁착수\", \"하는\", \"▁등\", \"▁분\", \"주\", \"한\", \"▁시간을\", \"▁보\", \"냈는데\", \",\", \"▁그런\", \"▁바쁜\", \"▁생활\", \"이\", \"▁이\", \"▁곡을\", \"▁잊\", \"게\", \"▁한\", \"▁것이\", \"▁아닌\", \"가\", \"▁하는\", \"▁의견도\", \"▁있다\", \".\"], \"answer\": \"1839\", \"token_start\": 0, \"token_end\": 0}\n",
            "{\"qa_id\": \"5917067-0-1\", \"title\": \"파우스트_서곡\", \"question\": [\"▁바그너\", \"가\", \"▁처음\", \"▁교향곡\", \"▁작곡\", \"을\", \"▁한\", \"▁장소\", \"는\", \"?\"], \"context\": [\"▁1839\", \"년\", \"▁바그너\", \"는\", \"▁괴테\", \"의\", \"▁\", \"파우스트\", \"을\", \"▁처음\", \"▁읽고\", \"▁그\", \"▁내용에\", \"▁마음이\", \"▁끌려\", \"▁이를\", \"▁소재로\", \"▁해서\", \"▁하나의\", \"▁교향곡\", \"을\", \"▁쓰\", \"려는\", \"▁뜻을\", \"▁갖는다\", \".\", \"▁이\", \"▁시기\", \"▁바그너\", \"는\", \"▁1838\", \"년에\", \"▁빛\", \"▁독\", \"촉\", \"으로\", \"▁산\", \"전\", \"수\", \"전을\", \"▁다\", \"▁\", \"걲\", \"은\", \"▁상황이\", \"라\", \"▁좌절\", \"과\", \"▁실망\", \"에\", \"▁가득\", \"했으며\", \"▁메\", \"피스\", \"토\", \"펠\", \"레스\", \"를\", \"▁만나는\", \"▁\", \"파우스트\", \"의\", \"▁심\", \"경에\", \"▁공감\", \"했다고\", \"▁한다\", \".\", \"▁또한\", \"▁파리에서\", \"▁아브\", \"네\", \"크의\", \"▁지휘\", \"로\", \"▁파리\", \"▁음악원\", \"▁관현악단\", \"이\", \"▁연주하는\", \"▁베토벤\", \"의\", \"▁교향곡\", \"▁9\", \"번을\", \"▁듣고\", \"▁깊은\", \"▁감\", \"명을\", \"▁받았는데\", \",\", \"▁이것이\", \"▁이듬해\", \"▁1\", \"월에\", \"▁\", \"파우스트\", \"의\", \"▁서\", \"곡으로\", \"▁쓰여진\", \"▁이\", \"▁작품에\", \"▁조금\", \"이라도\", \"▁영향을\", \"▁끼\", \"쳤\", \"으리라\", \"는\", \"▁것은\", \"▁의심\", \"할\", \"▁여지가\", \"▁없다\", \".\", \"▁여기\", \"의\", \"▁라\", \"단\", \"조\", \"▁조성\", \"의\", \"▁경우에도\", \"▁그의\", \"▁전기\", \"에\", \"▁적혀\", \"▁있는\", \"▁것처럼\", \"▁단순한\", \"▁정신적\", \"▁피로\", \"나\", \"▁실\", \"의\", \"가\", \"▁반영\", \"된\", \"▁것이\", \"▁아니라\", \"▁베토벤\", \"의\", \"▁합창\", \"교\", \"향\", \"곡\", \"▁조성\", \"의\", \"▁영향을\", \"▁받은\", \"▁것을\", \"▁볼\", \"▁수\", \"▁있다\", \".\", \"▁그렇게\", \"▁교향곡\", \"▁작곡\", \"을\", \"▁1839\", \"년부터\", \"▁40\", \"년에\", \"▁걸쳐\", \"▁파리에서\", \"▁착수\", \"했으나\", \"▁1\", \"악장\", \"을\", \"▁쓴\", \"▁뒤에\", \"▁중단\", \"했다\", \".\", \"▁또한\", \"▁작품의\", \"▁완성\", \"과\", \"▁동시에\", \"▁그는\", \"▁이\", \"▁서\", \"곡\", \"(1\", \"악장\", \")\", \"을\", \"▁파리\", \"▁음악원\", \"의\", \"▁연주회\", \"에서\", \"▁연주\", \"할\", \"▁파트\", \"보\", \"까지\", \"▁준비\", \"하였으나\", \",\", \"▁실제로는\", \"▁이루어지지\", \"는\", \"▁않았다\", \".\", \"▁결국\", \"▁초연\", \"은\", \"▁4\", \"년\", \"▁반\", \"이\", \"▁지난\", \"▁후에\", \"▁드레스덴\", \"에서\", \"▁연주\", \"되었고\", \"▁재\", \"연\", \"도\", \"▁이루어졌\", \"지만\", \",\", \"▁이후에\", \"▁그대로\", \"▁방치\", \"되고\", \"▁말았다\", \".\", \"▁그\", \"▁사이에\", \"▁그는\", \"▁리\", \"엔\", \"치\", \"와\", \"▁방\", \"황\", \"하는\", \"▁네덜란드\", \"인\", \"을\", \"▁완성\", \"하고\", \"▁탄\", \"호\", \"이\", \"저\", \"에도\", \"▁착수\", \"하는\", \"▁등\", \"▁분\", \"주\", \"한\", \"▁시간을\", \"▁보\", \"냈는데\", \",\", \"▁그런\", \"▁바쁜\", \"▁생활\", \"이\", \"▁이\", \"▁곡을\", \"▁잊\", \"게\", \"▁한\", \"▁것이\", \"▁아닌\", \"가\", \"▁하는\", \"▁의견도\", \"▁있다\", \".\"], \"answer\": \"파리\", \"token_start\": 165, \"token_end\": 165}\n",
            "{\"qa_id\": \"5917067-0-2\", \"title\": \"파우스트_서곡\", \"question\": [\"▁바그너\", \"의\", \"▁1\", \"악장\", \"의\", \"▁초연\", \"은\", \"▁어디서\", \"▁연주\", \"되었\", \"는\", \"가\", \"?\"], \"context\": [\"▁1839\", \"년\", \"▁바그너\", \"는\", \"▁괴테\", \"의\", \"▁\", \"파우스트\", \"을\", \"▁처음\", \"▁읽고\", \"▁그\", \"▁내용에\", \"▁마음이\", \"▁끌려\", \"▁이를\", \"▁소재로\", \"▁해서\", \"▁하나의\", \"▁교향곡\", \"을\", \"▁쓰\", \"려는\", \"▁뜻을\", \"▁갖는다\", \".\", \"▁이\", \"▁시기\", \"▁바그너\", \"는\", \"▁1838\", \"년에\", \"▁빛\", \"▁독\", \"촉\", \"으로\", \"▁산\", \"전\", \"수\", \"전을\", \"▁다\", \"▁\", \"걲\", \"은\", \"▁상황이\", \"라\", \"▁좌절\", \"과\", \"▁실망\", \"에\", \"▁가득\", \"했으며\", \"▁메\", \"피스\", \"토\", \"펠\", \"레스\", \"를\", \"▁만나는\", \"▁\", \"파우스트\", \"의\", \"▁심\", \"경에\", \"▁공감\", \"했다고\", \"▁한다\", \".\", \"▁또한\", \"▁파리에서\", \"▁아브\", \"네\", \"크의\", \"▁지휘\", \"로\", \"▁파리\", \"▁음악원\", \"▁관현악단\", \"이\", \"▁연주하는\", \"▁베토벤\", \"의\", \"▁교향곡\", \"▁9\", \"번을\", \"▁듣고\", \"▁깊은\", \"▁감\", \"명을\", \"▁받았는데\", \",\", \"▁이것이\", \"▁이듬해\", \"▁1\", \"월에\", \"▁\", \"파우스트\", \"의\", \"▁서\", \"곡으로\", \"▁쓰여진\", \"▁이\", \"▁작품에\", \"▁조금\", \"이라도\", \"▁영향을\", \"▁끼\", \"쳤\", \"으리라\", \"는\", \"▁것은\", \"▁의심\", \"할\", \"▁여지가\", \"▁없다\", \".\", \"▁여기\", \"의\", \"▁라\", \"단\", \"조\", \"▁조성\", \"의\", \"▁경우에도\", \"▁그의\", \"▁전기\", \"에\", \"▁적혀\", \"▁있는\", \"▁것처럼\", \"▁단순한\", \"▁정신적\", \"▁피로\", \"나\", \"▁실\", \"의\", \"가\", \"▁반영\", \"된\", \"▁것이\", \"▁아니라\", \"▁베토벤\", \"의\", \"▁합창\", \"교\", \"향\", \"곡\", \"▁조성\", \"의\", \"▁영향을\", \"▁받은\", \"▁것을\", \"▁볼\", \"▁수\", \"▁있다\", \".\", \"▁그렇게\", \"▁교향곡\", \"▁작곡\", \"을\", \"▁1839\", \"년부터\", \"▁40\", \"년에\", \"▁걸쳐\", \"▁파리에서\", \"▁착수\", \"했으나\", \"▁1\", \"악장\", \"을\", \"▁쓴\", \"▁뒤에\", \"▁중단\", \"했다\", \".\", \"▁또한\", \"▁작품의\", \"▁완성\", \"과\", \"▁동시에\", \"▁그는\", \"▁이\", \"▁서\", \"곡\", \"(1\", \"악장\", \")\", \"을\", \"▁파리\", \"▁음악원\", \"의\", \"▁연주회\", \"에서\", \"▁연주\", \"할\", \"▁파트\", \"보\", \"까지\", \"▁준비\", \"하였으나\", \",\", \"▁실제로는\", \"▁이루어지지\", \"는\", \"▁않았다\", \".\", \"▁결국\", \"▁초연\", \"은\", \"▁4\", \"년\", \"▁반\", \"이\", \"▁지난\", \"▁후에\", \"▁드레스덴\", \"에서\", \"▁연주\", \"되었고\", \"▁재\", \"연\", \"도\", \"▁이루어졌\", \"지만\", \",\", \"▁이후에\", \"▁그대로\", \"▁방치\", \"되고\", \"▁말았다\", \".\", \"▁그\", \"▁사이에\", \"▁그는\", \"▁리\", \"엔\", \"치\", \"와\", \"▁방\", \"황\", \"하는\", \"▁네덜란드\", \"인\", \"을\", \"▁완성\", \"하고\", \"▁탄\", \"호\", \"이\", \"저\", \"에도\", \"▁착수\", \"하는\", \"▁등\", \"▁분\", \"주\", \"한\", \"▁시간을\", \"▁보\", \"냈는데\", \",\", \"▁그런\", \"▁바쁜\", \"▁생활\", \"이\", \"▁이\", \"▁곡을\", \"▁잊\", \"게\", \"▁한\", \"▁것이\", \"▁아닌\", \"가\", \"▁하는\", \"▁의견도\", \"▁있다\", \".\"], \"answer\": \"드레스덴\", \"token_start\": 216, \"token_end\": 216}\n",
            "{\"qa_id\": \"6566495-1-0\", \"title\": \"파우스트_서곡\", \"question\": [\"▁바그너\", \"의\", \"▁작품을\", \"▁시인\", \"의\", \"▁피로\", \"▁쓰여\", \"졌다\", \"고\", \"▁극찬\", \"한\", \"▁것은\", \"▁누구\", \"인\", \"가\", \"?\"], \"context\": [\"▁한편\", \"▁1840\", \"년부터\", \"▁바그너\", \"와\", \"▁알고\", \"▁지내던\", \"▁리스트\", \"가\", \"▁잊\", \"혀\", \"져\", \"▁있던\", \"▁1\", \"악장\", \"을\", \"▁부활\", \"시켜\", \"▁1852\", \"년에\", \"▁바이마르\", \"에서\", \"▁연주\", \"했다\", \".\", \"▁이것을\", \"▁계기로\", \"▁바그너\", \"도\", \"▁이\", \"▁작품에\", \"▁다시\", \"▁관심을\", \"▁갖게\", \"▁되었고\", \",\", \"▁그\", \"▁해\", \"▁9\", \"월에는\", \"▁총\", \"보\", \"의\", \"▁반환\", \"을\", \"▁요구\", \"하여\", \"▁이를\", \"▁서\", \"곡으로\", \"▁간\", \"추\", \"린\", \"▁다음\", \"▁수정\", \"을\", \"▁했고\", \"▁브\", \"라이트\", \"코프\", \"흐\", \"▁&\", \"▁헤르\", \"텔\", \"▁출판사\", \"에서\", \"▁출판\", \"할\", \"▁개정\", \"판\", \"도\", \"▁준비\", \"했다\", \".\", \"▁1853\", \"년\", \"▁5\", \"월에는\", \"▁리스트\", \"가\", \"▁이\", \"▁작품이\", \"▁수정\", \"되었다\", \"는\", \"▁것을\", \"▁인정\", \"했지만\", \",\", \"▁끝내\", \"▁바그너\", \"의\", \"▁출판\", \"▁계획은\", \"▁무산\", \"되고\", \"▁말았다\", \".\", \"▁이후\", \"▁1855\", \"년에\", \"▁리스트\", \"가\", \"▁자신의\", \"▁작품\", \"▁\", \"파우스트\", \"▁교향곡\", \"을\", \"▁거의\", \"▁완성\", \"하여\", \"▁그\", \"▁사실을\", \"▁바그너\", \"에게\", \"▁알\", \"렸고\", \",\", \"▁바그너\", \"는\", \"▁다시\", \"▁개정된\", \"▁총\", \"보를\", \"▁리스트\", \"에게\", \"▁보내고\", \"▁브\", \"라이트\", \"코프\", \"흐\", \"▁&\", \"▁헤르\", \"텔\", \"▁출판사\", \"에는\", \"▁20\", \"루이\", \"의\", \"▁금\", \"을\", \"▁받고\", \"▁팔았다\", \".\", \"▁또한\", \"▁그의\", \"▁작품을\", \"▁“\", \"하나\", \"하나\", \"의\", \"▁음\", \"표\", \"가\", \"▁시인\", \"의\", \"▁피로\", \"▁쓰여\", \"졌다\", \"”\", \"며\", \"▁극찬\", \"했던\", \"▁한스\", \"▁폰\", \"▁\", \"뷜\", \"로\", \"가\", \"▁그것을\", \"▁피아노\", \"▁독주\", \"용으로\", \"▁편곡\", \"했는데\", \",\", \"▁리스트\", \"는\", \"▁그것을\", \"▁약간\", \"▁변형\", \"되었을\", \"▁뿐\", \"이라고\", \"▁지적했다\", \".\", \"▁이\", \"▁서\", \"곡\", \"의\", \"▁총\", \"보\", \"▁첫\", \"머리\", \"에는\", \"▁\", \"파우스트\", \"▁1\", \"부의\", \"▁내용\", \"▁중\", \"▁한\", \"▁구절\", \"을\", \"▁인용\", \"하고\", \"▁있다\", \".\"], \"answer\": \"한스 폰 뷜로\", \"token_start\": 164, \"token_end\": 168}\n",
            "{\"qa_id\": \"6566495-1-1\", \"title\": \"파우스트_서곡\", \"question\": [\"▁잊\", \"혀\", \"져\", \"▁있는\", \"▁\", \"파우스트\", \"▁서\", \"곡\", \"▁1\", \"악장\", \"을\", \"▁부활\", \"시킨\", \"▁것은\", \"▁누구\", \"인\", \"가\", \"?\"], \"context\": [\"▁한편\", \"▁1840\", \"년부터\", \"▁바그너\", \"와\", \"▁알고\", \"▁지내던\", \"▁리스트\", \"가\", \"▁잊\", \"혀\", \"져\", \"▁있던\", \"▁1\", \"악장\", \"을\", \"▁부활\", \"시켜\", \"▁1852\", \"년에\", \"▁바이마르\", \"에서\", \"▁연주\", \"했다\", \".\", \"▁이것을\", \"▁계기로\", \"▁바그너\", \"도\", \"▁이\", \"▁작품에\", \"▁다시\", \"▁관심을\", \"▁갖게\", \"▁되었고\", \",\", \"▁그\", \"▁해\", \"▁9\", \"월에는\", \"▁총\", \"보\", \"의\", \"▁반환\", \"을\", \"▁요구\", \"하여\", \"▁이를\", \"▁서\", \"곡으로\", \"▁간\", \"추\", \"린\", \"▁다음\", \"▁수정\", \"을\", \"▁했고\", \"▁브\", \"라이트\", \"코프\", \"흐\", \"▁&\", \"▁헤르\", \"텔\", \"▁출판사\", \"에서\", \"▁출판\", \"할\", \"▁개정\", \"판\", \"도\", \"▁준비\", \"했다\", \".\", \"▁1853\", \"년\", \"▁5\", \"월에는\", \"▁리스트\", \"가\", \"▁이\", \"▁작품이\", \"▁수정\", \"되었다\", \"는\", \"▁것을\", \"▁인정\", \"했지만\", \",\", \"▁끝내\", \"▁바그너\", \"의\", \"▁출판\", \"▁계획은\", \"▁무산\", \"되고\", \"▁말았다\", \".\", \"▁이후\", \"▁1855\", \"년에\", \"▁리스트\", \"가\", \"▁자신의\", \"▁작품\", \"▁\", \"파우스트\", \"▁교향곡\", \"을\", \"▁거의\", \"▁완성\", \"하여\", \"▁그\", \"▁사실을\", \"▁바그너\", \"에게\", \"▁알\", \"렸고\", \",\", \"▁바그너\", \"는\", \"▁다시\", \"▁개정된\", \"▁총\", \"보를\", \"▁리스트\", \"에게\", \"▁보내고\", \"▁브\", \"라이트\", \"코프\", \"흐\", \"▁&\", \"▁헤르\", \"텔\", \"▁출판사\", \"에는\", \"▁20\", \"루이\", \"의\", \"▁금\", \"을\", \"▁받고\", \"▁팔았다\", \".\", \"▁또한\", \"▁그의\", \"▁작품을\", \"▁“\", \"하나\", \"하나\", \"의\", \"▁음\", \"표\", \"가\", \"▁시인\", \"의\", \"▁피로\", \"▁쓰여\", \"졌다\", \"”\", \"며\", \"▁극찬\", \"했던\", \"▁한스\", \"▁폰\", \"▁\", \"뷜\", \"로\", \"가\", \"▁그것을\", \"▁피아노\", \"▁독주\", \"용으로\", \"▁편곡\", \"했는데\", \",\", \"▁리스트\", \"는\", \"▁그것을\", \"▁약간\", \"▁변형\", \"되었을\", \"▁뿐\", \"이라고\", \"▁지적했다\", \".\", \"▁이\", \"▁서\", \"곡\", \"의\", \"▁총\", \"보\", \"▁첫\", \"머리\", \"에는\", \"▁\", \"파우스트\", \"▁1\", \"부의\", \"▁내용\", \"▁중\", \"▁한\", \"▁구절\", \"을\", \"▁인용\", \"하고\", \"▁있다\", \".\"], \"answer\": \"리스트\", \"token_start\": 7, \"token_end\": 7}\n"
          ]
        }
      ],
      "source": [
        "# 파일 확인\n",
        "def print_file(filename, count=10):\n",
        "    \"\"\"\n",
        "    파일 내용 출력\n",
        "    :param filename: 파일 이름\n",
        "    :param count: 출력 라인 수\n",
        "    \"\"\"\n",
        "    with open(filename) as f:\n",
        "        for i, line in enumerate(f):\n",
        "            if count <= i:\n",
        "                break\n",
        "            print(line.strip())\n",
        "\n",
        "print_file(f\"{data_dir}/korquad_train.json\")"
      ]
    },
    {
      "cell_type": "code",
      "execution_count": null,
      "metadata": {
        "id": "XoczXQlON1bN"
      },
      "outputs": [],
      "source": [
        ""
      ]
    },
    {
      "cell_type": "markdown",
      "metadata": {
        "id": "BosRSuo1PvN-"
      },
      "source": [
        "## 4. 데이터 분석(전처리 검증)\n",
        "\n",
        ": 결측, 이상치 등을 확인"
      ]
    },
    {
      "cell_type": "markdown",
      "metadata": {
        "id": "HGRcHKE0Pyj1"
      },
      "source": [
        "### 4.1. Question part"
      ]
    },
    {
      "cell_type": "code",
      "execution_count": null,
      "metadata": {
        "colab": {
          "base_uri": "https://localhost:8080/"
        },
        "id": "6MAcOE1aP3b3",
        "outputId": "46bb2d95-c268-4d03-fb7d-006618ca0fec"
      },
      "outputs": [
        {
          "name": "stdout",
          "output_type": "stream",
          "text": [
            "19 ['▁바그너', '는', '▁괴테', '의', '▁', '파우스트', '를', '▁읽고', '▁무엇을', '▁쓰고', '자', '▁', '했', '는', '가', '?']\n",
            "168 ['▁바그너', '는', '▁교향곡', '▁작곡', '을', '▁어디', '까지', '▁쓴', '▁뒤에', '▁중단', '했', '는', '가', '?']\n",
            "80 ['▁바그너', '가', '▁', '파우스트', '▁서', '곡을', '▁쓸', '▁때', '▁어떤', '▁곡', '의', '▁영향을', '▁받았', '는', '가', '?']\n",
            "6 ['▁1839', '년', '▁바그너', '가', '▁교향곡', '의', '▁소재로', '▁쓰', '려고', '▁했던', '▁책은', '?']\n",
            "143 ['▁', '파우스트', '▁서', '곡', '의', '▁라', '단', '조', '▁조성', '이', '▁영향을', '▁받은', '▁베토벤', '의', '▁곡은', '?']\n",
            "0 ['▁바그너', '가', '▁', '파우스트', '를', '▁처음으로', '▁읽', '은', '▁', '년', '도', '는', '?']\n",
            "165 ['▁바그너', '가', '▁처음', '▁교향곡', '▁작곡', '을', '▁한', '▁장소', '는', '?']\n",
            "216 ['▁바그너', '의', '▁1', '악장', '의', '▁초연', '은', '▁어디서', '▁연주', '되었', '는', '가', '?']\n",
            "164 ['▁바그너', '의', '▁작품을', '▁시인', '의', '▁피로', '▁쓰여', '졌다', '고', '▁극찬', '한', '▁것은', '▁누구', '인', '가', '?']\n",
            "7 ['▁잊', '혀', '져', '▁있는', '▁', '파우스트', '▁서', '곡', '▁1', '악장', '을', '▁부활', '시킨', '▁것은', '▁누구', '인', '가', '?']\n"
          ]
        }
      ],
      "source": [
        "questions = []\n",
        "contexts = []\n",
        "token_starts = []\n",
        "with open(f\"{data_dir}/korquad_train.json\") as f:\n",
        "    for i, line in enumerate(f):\n",
        "        data = json.loads(line)\n",
        "        questions.append(data[\"question\"])\n",
        "        contexts.append(data[\"context\"])\n",
        "        token_starts.append(data[\"token_start\"])\n",
        "        if i < 10:\n",
        "            print(data[\"token_start\"], data[\"question\"])"
      ]
    },
    {
      "cell_type": "code",
      "execution_count": null,
      "metadata": {
        "colab": {
          "base_uri": "https://localhost:8080/"
        },
        "id": "4cvee1EyP55I",
        "outputId": "9cebb71e-1c22-48b0-b006-7ea422acf94b"
      },
      "outputs": [
        {
          "data": {
            "text/plain": [
              "[16, 14, 16, 12, 16, 13, 10, 13, 16, 18]"
            ]
          },
          "execution_count": 35,
          "metadata": {},
          "output_type": "execute_result"
        }
      ],
      "source": [
        "# token count\n",
        "train_question_counts = [len(question) for question in questions]\n",
        "train_question_counts[:10]"
      ]
    },
    {
      "cell_type": "code",
      "execution_count": null,
      "metadata": {
        "colab": {
          "base_uri": "https://localhost:8080/",
          "height": 295
        },
        "id": "dV6mVSQUP7ae",
        "outputId": "e55d8db0-fb0d-4049-b1ec-6e42b223abfc"
      },
      "outputs": [
        {
          "data": {
            "image/png": "[encoded data removed]",
            "text/plain": [
              "<Figure size 576x288 with 1 Axes>"
            ]
          },
          "metadata": {},
          "output_type": "display_data"
        }
      ],
      "source": [
        "# 그래프에 대한 이미지 사이즈 선언\n",
        "# figsize: (가로, 세로) 형태의 튜플로 입력\n",
        "plt.figure(figsize=(8, 4))\n",
        "# histogram 선언\n",
        "# bins: 히스토그램 값들에 대한 버켓 범위, \n",
        "# range: x축 값의 범위\n",
        "# facecolor: 그래프 색상\n",
        "# label: 그래프에 대한 라벨\n",
        "plt.hist(train_question_counts, bins=100, range=[0, 100], facecolor='b', label='train')\n",
        "# 그래프 제목\n",
        "plt.title('Count of question')\n",
        "# 그래프 x 축 라벨\n",
        "plt.xlabel('Number of question')\n",
        "# 그래프 y 축 라벨\n",
        "plt.ylabel('Count of question')\n",
        "plt.show()"
      ]
    },
    {
      "cell_type": "code",
      "execution_count": null,
      "metadata": {
        "colab": {
          "base_uri": "https://localhost:8080/"
        },
        "id": "ohGVwuc4QESB",
        "outputId": "b1e27f70-1c75-42a0-863c-0d54a2255b7d"
      },
      "outputs": [
        {
          "name": "stdout",
          "output_type": "stream",
          "text": [
            "question 길이 최대:      58\n",
            "question 길이 최소:       3\n",
            "question 길이 평균:      15.25\n",
            "question 길이 표준편차:    5.50\n",
            "question 25/100분위:    11.00\n",
            "question 50/100분위:    14.00\n",
            "question 75/100분위:    18.00\n",
            "question IQR:           7.00\n",
            "question MAX/100분위:   28.50\n"
          ]
        }
      ],
      "source": [
        "# 데이터 길이\n",
        "print(f\"question 길이 최대:    {np.max(train_question_counts):4d}\")\n",
        "print(f\"question 길이 최소:    {np.min(train_question_counts):4d}\")\n",
        "print(f\"question 길이 평균:    {np.mean(train_question_counts):7.2f}\")\n",
        "print(f\"question 길이 표준편차: {np.std(train_question_counts):7.2f}\")\n",
        "# https://ko.wikipedia.org/wiki/%EB%B0%B1%EB%B6%84%EC%9C%84%EC%88%98\n",
        "# 백분위수(Percentile)는 크기가 있는 값들로 이뤄진 자료를 순서대로 나열했을 때 백분율로 나타낸 특정 위치의 값을 이르는 용어이다.\n",
        "# 일반적으로 크기가 작은 것부터 나열하여 가장 작은 것을 0, 가장 큰 것을 100으로 한다.\n",
        "# 100개의 값을 가진 어떤 자료의 20 백분위수는 그 자료의 값들 중 20번째로 작은 값을 뜻한다. 50 백분위수는 중앙값과 같다.\n",
        "percentile25 = np.percentile(train_question_counts, 25)\n",
        "percentile50 = np.percentile(train_question_counts, 50)\n",
        "percentile75 = np.percentile(train_question_counts, 75)\n",
        "percentileIQR = percentile75 - percentile25\n",
        "percentileMAX = percentile75 + percentileIQR * 1.5\n",
        "print(f\"question 25/100분위:  {percentile25:7.2f}\")\n",
        "print(f\"question 50/100분위:  {percentile50:7.2f}\")\n",
        "print(f\"question 75/100분위:  {percentile75:7.2f}\")\n",
        "print(f\"question IQR:        {percentileIQR:7.2f}\")\n",
        "print(f\"question MAX/100분위: {percentileMAX:7.2f}\")"
      ]
    },
    {
      "cell_type": "code",
      "execution_count": 117,
      "metadata": {
        "colab": {
          "base_uri": "https://localhost:8080/",
          "height": 374
        },
        "id": "5otZ2l_hQFnx",
        "outputId": "39874ff5-469c-4df0-d3f0-0bbde0862aa7"
      },
      "outputs": [
        {
          "output_type": "display_data",
          "data": {
            "image/png": "[encoded data removed]",
            "text/plain": [
              "<Figure size 288x432 with 1 Axes>"
            ]
          },
          "metadata": {}
        }
      ],
      "source": [
        "plt.figure(figsize=(4, 6))\n",
        "# 박스플롯 생성\n",
        "# 첫번째 파라메터: 여러 분포에 대한 데이터 리스트를\n",
        "# labels: 입력한 데이터에 대한 라벨\n",
        "# showmeans: 평균값을 표현\n",
        "# 참고: https://leebaro.tistory.com/entry/%EB%B0%95%EC%8A%A4-%ED%94%8C%EB%A1%AFbox-plot-%EC%84%A4%EB%AA%85\n",
        "plt.boxplot(train_question_counts, labels=['token counts'], showmeans=True, patch_artist=True,\n",
        "            boxprops=dict(facecolor=c, color=c),\n",
        "            capprops=dict(color=c),\n",
        "            whiskerprops=dict(color=c),\n",
        "            flierprops=dict(color=c, markeredgecolor=c),\n",
        "            medianprops=dict(color=c))\n",
        "plt.show()"
      ]
    },
    {
      "cell_type": "markdown",
      "metadata": {
        "id": "PzxWyDJVQGwQ"
      },
      "source": [
        "### 4.2. Context part"
      ]
    },
    {
      "cell_type": "code",
      "execution_count": null,
      "metadata": {
        "colab": {
          "base_uri": "https://localhost:8080/"
        },
        "id": "LqQJW5s6QM1-",
        "outputId": "18e94d12-ed42-4d13-c737-abd367524ecf"
      },
      "outputs": [
        {
          "data": {
            "text/plain": [
              "[278, 278, 278, 278, 278, 278, 278, 278, 209, 209]"
            ]
          },
          "execution_count": 39,
          "metadata": {},
          "output_type": "execute_result"
        }
      ],
      "source": [
        "# token count\n",
        "train_context_counts = [len(context) for context in contexts]\n",
        "train_context_counts[:10]"
      ]
    },
    {
      "cell_type": "code",
      "execution_count": null,
      "metadata": {
        "colab": {
          "base_uri": "https://localhost:8080/",
          "height": 295
        },
        "id": "mvdGzXlZQN2L",
        "outputId": "a6dfa7e9-64d8-4527-ea08-e78917ccfa62"
      },
      "outputs": [
        {
          "data": {
            "image/png": "[encoded data removed]",
            "text/plain": [
              "<Figure size 576x288 with 1 Axes>"
            ]
          },
          "metadata": {},
          "output_type": "display_data"
        }
      ],
      "source": [
        "# 그래프에 대한 이미지 사이즈 선언\n",
        "# figsize: (가로, 세로) 형태의 튜플로 입력\n",
        "plt.figure(figsize=(8, 4))\n",
        "# histogram 선언\n",
        "# bins: 히스토그램 값들에 대한 버켓 범위, \n",
        "# range: x축 값의 범위\n",
        "# facecolor: 그래프 색상\n",
        "# label: 그래프에 대한 라벨\n",
        "plt.hist(train_context_counts, bins=900, range=[100, 1000], facecolor='r', label='train')\n",
        "# 그래프 제목\n",
        "plt.title('Count of context')\n",
        "# 그래프 x 축 라벨\n",
        "plt.xlabel('Number of context')\n",
        "# 그래프 y 축 라벨\n",
        "plt.ylabel('Count of context')\n",
        "plt.show()"
      ]
    },
    {
      "cell_type": "code",
      "execution_count": null,
      "metadata": {
        "colab": {
          "base_uri": "https://localhost:8080/"
        },
        "id": "rKZi2YUVQO1g",
        "outputId": "3489df56-86c2-4504-82d7-1f2cef9ac700"
      },
      "outputs": [
        {
          "name": "stdout",
          "output_type": "stream",
          "text": [
            "context 길이 최대:    4816\n",
            "context 길이 최소:     108\n",
            "context 길이 평균:     222.84\n",
            "context 길이 표준편차:   97.68\n",
            "context 25/100분위:   169.00\n",
            "context 50/100분위:   199.00\n",
            "context 75/100분위:   248.00\n",
            "context IQR:          79.00\n",
            "context MAX/100분위:  366.50\n"
          ]
        }
      ],
      "source": [
        "# 데이터 길이\n",
        "print(f\"context 길이 최대:    {np.max(train_context_counts):4d}\")\n",
        "print(f\"context 길이 최소:    {np.min(train_context_counts):4d}\")\n",
        "print(f\"context 길이 평균:    {np.mean(train_context_counts):7.2f}\")\n",
        "print(f\"context 길이 표준편차: {np.std(train_context_counts):7.2f}\")\n",
        "# https://ko.wikipedia.org/wiki/%EB%B0%B1%EB%B6%84%EC%9C%84%EC%88%98\n",
        "# 백분위수(Percentile)는 크기가 있는 값들로 이뤄진 자료를 순서대로 나열했을 때 백분율로 나타낸 특정 위치의 값을 이르는 용어이다.\n",
        "# 일반적으로 크기가 작은 것부터 나열하여 가장 작은 것을 0, 가장 큰 것을 100으로 한다.\n",
        "# 100개의 값을 가진 어떤 자료의 20 백분위수는 그 자료의 값들 중 20번째로 작은 값을 뜻한다. 50 백분위수는 중앙값과 같다.\n",
        "percentile25 = np.percentile(train_context_counts, 25)\n",
        "percentile50 = np.percentile(train_context_counts, 50)\n",
        "percentile75 = np.percentile(train_context_counts, 75)\n",
        "percentileIQR = percentile75 - percentile25\n",
        "percentileMAX = percentile75 + percentileIQR * 1.5\n",
        "print(f\"context 25/100분위:  {percentile25:7.2f}\")\n",
        "print(f\"context 50/100분위:  {percentile50:7.2f}\")\n",
        "print(f\"context 75/100분위:  {percentile75:7.2f}\")\n",
        "print(f\"context IQR:        {percentileIQR:7.2f}\")\n",
        "print(f\"context MAX/100분위: {percentileMAX:7.2f}\")"
      ]
    },
    {
      "cell_type": "code",
      "execution_count": 116,
      "metadata": {
        "colab": {
          "base_uri": "https://localhost:8080/",
          "height": 375
        },
        "id": "u9AA0BQrQP88",
        "outputId": "42948b7f-b237-47d5-f70a-8951d07288ba"
      },
      "outputs": [
        {
          "output_type": "display_data",
          "data": {
            "image/png": "[encoded data removed]",
            "text/plain": [
              "<Figure size 288x432 with 1 Axes>"
            ]
          },
          "metadata": {}
        }
      ],
      "source": [
        "plt.figure(figsize=(4, 6))\n",
        "# 박스플롯 생성\n",
        "# 첫번째 파라메터: 여러 분포에 대한 데이터 리스트를\n",
        "# labels: 입력한 데이터에 대한 라벨\n",
        "# showmeans: 평균값을 표현\n",
        "# 참고: https://leebaro.tistory.com/entry/%EB%B0%95%EC%8A%A4-%ED%94%8C%EB%A1%AFbox-plot-%EC%84%A4%EB%AA%85\n",
        "c = 'y'\n",
        "plt.boxplot(train_context_counts, labels=['token counts'], showmeans=True, patch_artist=True,\n",
        "            boxprops=dict(facecolor=c, color=c),\n",
        "            capprops=dict(color=c),\n",
        "            whiskerprops=dict(color=c),\n",
        "            flierprops=dict(color=c, markeredgecolor=c),\n",
        "            medianprops=dict(color=c))\n",
        "plt.show()"
      ]
    },
    {
      "cell_type": "markdown",
      "metadata": {
        "id": "QyjRxRDCQQuW"
      },
      "source": [
        "### 4.3. Answer part"
      ]
    },
    {
      "cell_type": "code",
      "execution_count": null,
      "metadata": {
        "colab": {
          "base_uri": "https://localhost:8080/"
        },
        "id": "y62TrVFTQTvX",
        "outputId": "160d47ef-90bd-4c64-8f5d-c946aecaaa9d"
      },
      "outputs": [
        {
          "data": {
            "text/plain": [
              "[19, 168, 80, 6, 143, 0, 165, 216, 164, 7]"
            ]
          },
          "execution_count": 43,
          "metadata": {},
          "output_type": "execute_result"
        }
      ],
      "source": [
        "# token count\n",
        "train_answer_starts = token_starts\n",
        "train_answer_starts[:10]"
      ]
    },
    {
      "cell_type": "code",
      "execution_count": null,
      "metadata": {
        "colab": {
          "base_uri": "https://localhost:8080/",
          "height": 295
        },
        "id": "POQv0kswQUfT",
        "outputId": "bacceb22-c917-42fa-bf45-6e8e1d7ed90e"
      },
      "outputs": [
        {
          "data": {
            "image/png": "[encoded data removed]",
            "text/plain": [
              "<Figure size 576x288 with 1 Axes>"
            ]
          },
          "metadata": {},
          "output_type": "display_data"
        }
      ],
      "source": [
        "# 그래프에 대한 이미지 사이즈 선언\n",
        "# figsize: (가로, 세로) 형태의 튜플로 입력\n",
        "plt.figure(figsize=(8, 4))\n",
        "# histogram 선언\n",
        "# bins: 히스토그램 값들에 대한 버켓 범위, \n",
        "# range: x축 값의 범위\n",
        "# facecolor: 그래프 색상\n",
        "# label: 그래프에 대한 라벨\n",
        "plt.hist(train_answer_starts, bins=500, range=[0, 500], facecolor='g', label='train')\n",
        "# 그래프 제목\n",
        "plt.title('Count of answer')\n",
        "# 그래프 x 축 라벨\n",
        "plt.xlabel('Number of answer')\n",
        "# 그래프 y 축 라벨\n",
        "plt.ylabel('Count of answer')\n",
        "plt.show()"
      ]
    },
    {
      "cell_type": "code",
      "execution_count": null,
      "metadata": {
        "colab": {
          "base_uri": "https://localhost:8080/"
        },
        "id": "zJerYItWQU-g",
        "outputId": "977550e6-16e6-4707-c374-e0c1b90b7ad1"
      },
      "outputs": [
        {
          "name": "stdout",
          "output_type": "stream",
          "text": [
            "answer 위치 최대:    1124\n",
            "answer 위치 최소:       0\n",
            "answer 위치 평균:      89.01\n",
            "answer 위치 표준편차:   78.21\n",
            "answer 25/100분위:    25.00\n",
            "answer 50/100분위:    74.00\n",
            "answer 75/100분위:   134.00\n",
            "answer IQR:         109.00\n",
            "answer MAX/100분위:  297.50\n"
          ]
        }
      ],
      "source": [
        "# 데이터 길이\n",
        "print(f\"answer 위치 최대:    {np.max(train_answer_starts):4d}\")\n",
        "print(f\"answer 위치 최소:    {np.min(train_answer_starts):4d}\")\n",
        "print(f\"answer 위치 평균:    {np.mean(train_answer_starts):7.2f}\")\n",
        "print(f\"answer 위치 표준편차: {np.std(train_answer_starts):7.2f}\")\n",
        "# https://ko.wikipedia.org/wiki/%EB%B0%B1%EB%B6%84%EC%9C%84%EC%88%98\n",
        "# 백분위수(Percentile)는 크기가 있는 값들로 이뤄진 자료를 순서대로 나열했을 때 백분율로 나타낸 특정 위치의 값을 이르는 용어이다.\n",
        "# 일반적으로 크기가 작은 것부터 나열하여 가장 작은 것을 0, 가장 큰 것을 100으로 한다.\n",
        "# 100개의 값을 가진 어떤 자료의 20 백분위수는 그 자료의 값들 중 20번째로 작은 값을 뜻한다. 50 백분위수는 중앙값과 같다.\n",
        "percentile25 = np.percentile(train_answer_starts, 25)\n",
        "percentile50 = np.percentile(train_answer_starts, 50)\n",
        "percentile75 = np.percentile(train_answer_starts, 75)\n",
        "percentileIQR = percentile75 - percentile25\n",
        "percentileMAX = percentile75 + percentileIQR * 1.5\n",
        "print(f\"answer 25/100분위:  {percentile25:7.2f}\")\n",
        "print(f\"answer 50/100분위:  {percentile50:7.2f}\")\n",
        "print(f\"answer 75/100분위:  {percentile75:7.2f}\")\n",
        "print(f\"answer IQR:        {percentileIQR:7.2f}\")\n",
        "print(f\"answer MAX/100분위: {percentileMAX:7.2f}\")"
      ]
    },
    {
      "cell_type": "code",
      "execution_count": 118,
      "metadata": {
        "colab": {
          "base_uri": "https://localhost:8080/",
          "height": 374
        },
        "id": "zzk206FmQVpS",
        "outputId": "4354168f-9227-4e29-a255-bb00165b8ec5"
      },
      "outputs": [
        {
          "output_type": "display_data",
          "data": {
            "image/png": "[encoded data removed]",
            "text/plain": [
              "<Figure size 288x432 with 1 Axes>"
            ]
          },
          "metadata": {}
        }
      ],
      "source": [
        "plt.figure(figsize=(4, 6))\n",
        "# 박스플롯 생성\n",
        "# 첫번째 파라메터: 여러 분포에 대한 데이터 리스트를\n",
        "# labels: 입력한 데이터에 대한 라벨\n",
        "# showmeans: 평균값을 표현\n",
        "# 참고: https://leebaro.tistory.com/entry/%EB%B0%95%EC%8A%A4-%ED%94%8C%EB%A1%AFbox-plot-%EC%84%A4%EB%AA%85\n",
        "plt.boxplot(train_answer_starts, labels=['token counts'], showmeans=True, patch_artist=True,\n",
        "            boxprops=dict(facecolor=c, color=c),\n",
        "            capprops=dict(color=c),\n",
        "            whiskerprops=dict(color=c),\n",
        "            flierprops=dict(color=c, markeredgecolor=c),\n",
        "            medianprops=dict(color=c))\n",
        "plt.show()"
      ]
    },
    {
      "cell_type": "markdown",
      "metadata": {
        "id": "E0gOEeCoQWSL"
      },
      "source": [
        "### 4.4. Word Cloud\n",
        "\n",
        "- Word Cloud : 자료의 빈도수를 시각화해서 나타내는 방법\n",
        "- 문서의 핵심 단어를 한눈에 파악할 수 있고, 빅데이터를 분석할 때 데이터의 특징을 도출하기 위해서 활용\n",
        "- 빈도수가 높은 단어일수록 글씨 크기가 큰 특징이 있다."
      ]
    },
    {
      "cell_type": "code",
      "execution_count": null,
      "metadata": {
        "colab": {
          "base_uri": "https://localhost:8080/",
          "height": 250,
          "referenced_widgets": [
            "2c0ab0d39345473db1065e07d86ac845",
            "66afe0e5c64c4762a472a19e49656ecb",
            "d03697a3fd9a4d8fbfdab5e4ce9a3cb7",
            "f457d8d1a461425482da6033fc3ad8fd",
            "b300a0de6ced4bab893a4598c77b41e0",
            "8dd28c9636144058bec6b517e7113e8b",
            "4b4d3ade36dd4f65b5ef2874bfb8402b",
            "68589d5c30ab4301acd4bb01b3396228",
            "bd0d8c6102034e8295da5418d5cc2ed0",
            "499e28cbf9034841ba80af66c431e779",
            "0bec291699f14ba4b4a58967651c5b7a"
          ]
        },
        "id": "SKRDnwwvQo83",
        "outputId": "6c80f3c7-141a-44a6-8ac8-e7681cfda4e5"
      },
      "outputs": [
        {
          "data": {
            "application/vnd.jupyter.widget-view+json": {
              "model_id": "2c0ab0d39345473db1065e07d86ac845",
              "version_major": 2,
              "version_minor": 0
            },
            "text/plain": [
              "  0%|          | 0/1420 [00:00<?, ?it/s]"
            ]
          },
          "metadata": {},
          "output_type": "display_data"
        },
        {
          "data": {
            "text/plain": [
              "['파우스트_서곡',\n",
              " '1839년 바그너는 괴테의 파우스트을 처음 읽고 그 내용에 마음이 끌려 이를 소재로 해서 하나의 교향곡을 쓰려는 뜻을 갖는다. 이 시기 바그너는 1838년에 빛 독촉으로 산전수전을 다 걲은 상황이라 좌절과 실망에 가득했으며 메피스토펠레스를 만나는 파우스트의 심경에 공감했다고 한다. 또한 파리에서 아브네크의 지휘로 파리 음악원 관현악단이 연주하는 베토벤의 교향곡 9번을 듣고 깊은 감명을 받았는데, 이것이 이듬해 1월에 파우스트의 서곡으로 쓰여진 이 작품에 조금이라도 영향을 끼쳤으리라는 것은 의심할 여지가 없다. 여기의 라단조 조성의 경우에도 그의 전기에 적혀 있는 것처럼 단순한 정신적 피로나 실의가 반영된 것이 아니라 베토벤의 합창교향곡 조성의 영향을 받은 것을 볼 수 있다. 그렇게 교향곡 작곡을 1839년부터 40년에 걸쳐 파리에서 착수했으나 1악장을 쓴 뒤에 중단했다. 또한 작품의 완성과 동시에 그는 이 서곡(1악장)을 파리 음악원의 연주회에서 연주할 파트보까지 준비하였으나, 실제로는 이루어지지는 않았다. 결국 초연은 4년 반이 지난 후에 드레스덴에서 연주되었고 재연도 이루어졌지만, 이후에 그대로 방치되고 말았다. 그 사이에 그는 리엔치와 방황하는 네덜란드인을 완성하고 탄호이저에도 착수하는 등 분주한 시간을 보냈는데, 그런 바쁜 생활이 이 곡을 잊게 한 것이 아닌가 하는 의견도 있다.',\n",
              " '바그너는 괴테의 파우스트를 읽고 무엇을 쓰고자 했는가?',\n",
              " '바그너는 교향곡 작곡을 어디까지 쓴 뒤에 중단했는가?',\n",
              " '바그너가 파우스트 서곡을 쓸 때 어떤 곡의 영향을 받았는가?',\n",
              " '1839년 바그너가 교향곡의 소재로 쓰려고 했던 책은?',\n",
              " '파우스트 서곡의 라단조 조성이 영향을 받은 베토벤의 곡은?',\n",
              " '바그너가 파우스트를 처음으로 읽은 년도는?',\n",
              " '바그너가 처음 교향곡 작곡을 한 장소는?',\n",
              " '바그너의 1악장의 초연은 어디서 연주되었는가?']"
            ]
          },
          "execution_count": 47,
          "metadata": {},
          "output_type": "execute_result"
        }
      ],
      "source": [
        "# train documents\n",
        "documents = []\n",
        "\n",
        "# 전체 데이터에서 title, context, question 문장을 모두 추출합니다. \n",
        "for data in tqdm(train_json[\"data\"]):\n",
        "    title = data[\"title\"]\n",
        "    documents.append(title)\n",
        "    for paragraph in data[\"paragraphs\"]:\n",
        "        context = paragraph[\"context\"]\n",
        "        documents.append(context)\n",
        "\n",
        "        for qa in paragraph[\"qas\"]:\n",
        "            assert len(qa[\"answers\"]) == 1\n",
        "            question = qa[\"question\"]\n",
        "            documents.append(question)\n",
        "\n",
        "documents[:10]   # 그중 맨 앞 10개만 확인해 봅니다."
      ]
    },
    {
      "cell_type": "code",
      "execution_count": null,
      "metadata": {
        "colab": {
          "base_uri": "https://localhost:8080/",
          "height": 144
        },
        "id": "Qx-OJunZQp-m",
        "outputId": "9d0a9588-f282-4050-9014-33b06baecb98"
      },
      "outputs": [
        {
          "data": {
            "application/vnd.google.colaboratory.intrinsic+json": {
              "type": "string"
            },
            "text/plain": [
              "'파우스트_서곡 1839년 바그너는 괴테의 파우스트을 처음 읽고 그 내용에 마음이 끌려 이를 소재로 해서 하나의 교향곡을 쓰려는 뜻을 갖는다. 이 시기 바그너는 1838년에 빛 독촉으로 산전수전을 다 걲은 상황이라 좌절과 실망에 가득했으며 메피스토펠레스를 만나는 파우스트의 심경에 공감했다고 한다. 또한 파리에서 아브네크의 지휘로 파리 음악원 관현악단이 연주하는 베토벤의 교향곡 9번을 듣고 깊은 감명을 받았는데, 이것이 이듬해 1월에 파우스트의 서곡으로 쓰여진 이 작품에 조금이라도 영향을 끼쳤으리라는 것은 의심할 여지가 없다. 여기의 라단조 조성의 경우에도 그의 전기에 적혀 있는 것처럼 단순한 정신적 피로나 실의가 반영된 것이 아니라 베토벤의 합창교향곡 조성의 영향을 받은 것을 볼 수 있다. 그렇게 교향곡 작곡을 1839년부터 40년에 걸쳐 파리에서 착수했으나 1악장을 쓴 뒤에 중단했다. 또한 작품의 완성과 동시에 그는 이 서곡(1악장)을 파리 음악원의 연주회에서 연주할 파트보까지 준비하였으나, 실제로는 이루어지지는 않았다. 결국 초연은 4년 반이 지난 후에 드레스덴에서 연주되었고 재연도 이루어졌지만, 이후에 그대로 방치되고 말았다. 그 사이에 그는 리엔치와 방황하는 네덜란드인을 완성하고 탄호이저에도 착수하는 등 분주한 시간을 보냈는데, 그런 바쁜 생활이 이 곡을 잊게 한 것이 아닌가 하는 의견도 있다. 바그너는 괴테의 파우스트를 읽고 무엇을 쓰고자 했는가? 바그너는 교향곡 작곡을 어디까지 쓴 뒤에 중단했는가? 바그너가 파우스트 서곡을 쓸 때 어떤 곡의 영향을 받았는가? 1839년 바그너가 교향곡의 소재로 쓰려고 했던 책은? 파우스트 서곡의 라단조 조성이 영향을 받은 베토벤의 곡은? 바그너가 파우스트를 처음으로 읽은 년도는? 바그너가 처음 교향곡 작곡을 한 장소는? 바그너의 1악장의 초연은 어디서 연주되었는가?'"
            ]
          },
          "execution_count": 48,
          "metadata": {},
          "output_type": "execute_result"
        }
      ],
      "source": [
        "# documents를 전부 이어 하나의 문장으로 만들면 이렇게 보입니다. \n",
        "\" \".join(documents[:10])"
      ]
    },
    {
      "cell_type": "code",
      "execution_count": null,
      "metadata": {
        "colab": {
          "base_uri": "https://localhost:8080/",
          "height": 575
        },
        "id": "kuOBtXtiQrQf",
        "outputId": "0617b998-ed50-4ed3-dafb-6bb54b885df0"
      },
      "outputs": [
        {
          "data": {
            "image/png": "[encoded data removed]",
            "text/plain": [
              "<Figure size 720x720 with 1 Axes>"
            ]
          },
          "metadata": {},
          "output_type": "display_data"
        }
      ],
      "source": [
        "# WordCloud로 \" \".join(documents)를 처리해 봅니다. \n",
        "wordcloud = WordCloud(width=800, height=800, font_path='/content/drive/MyDrive/font/NanumBarunGothic.ttf').generate(\" \".join(documents))\n",
        "plt.figure(figsize=(10, 10))\n",
        "# image 출력, interpolation 이미지 시각화 옵션\n",
        "plt.imshow(wordcloud, interpolation='bilinear')\n",
        "plt.axis('off')\n",
        "plt.show()"
      ]
    },
    {
      "cell_type": "markdown",
      "metadata": {
        "id": "5Snz7z7dQsdd"
      },
      "source": [
        "## 5. 데이터 로드"
      ]
    },
    {
      "cell_type": "code",
      "execution_count": null,
      "metadata": {
        "id": "h-7E903WSqFb"
      },
      "outputs": [],
      "source": [
        "train_json = os.path.join(data_dir, \"korquad_train.json\")\n",
        "dev_json = os.path.join(data_dir, \"korquad_dev.json\")"
      ]
    },
    {
      "cell_type": "code",
      "execution_count": null,
      "metadata": {
        "colab": {
          "base_uri": "https://localhost:8080/"
        },
        "id": "Jo2585bNSqdv",
        "outputId": "a1219c14-9a42-4bcc-890e-ce48a1318f1b"
      },
      "outputs": [
        {
          "data": {
            "text/plain": [
              "{'max_query_length': 64, 'max_seq_length': 384}"
            ]
          },
          "execution_count": 52,
          "metadata": {},
          "output_type": "execute_result"
        }
      ],
      "source": [
        "class Config(dict):\n",
        "    \"\"\"\n",
        "    json을 config 형태로 사용하기 위한 Class\n",
        "    :param dict: config dictionary\n",
        "    \"\"\"\n",
        "    __getattr__ = dict.__getitem__\n",
        "    __setattr__ = dict.__setitem__\n",
        "\n",
        "\n",
        "args = Config({\n",
        "    'max_seq_length': 384,\n",
        "    'max_query_length': 64,\n",
        "})\n",
        "args"
      ]
    },
    {
      "cell_type": "code",
      "execution_count": null,
      "metadata": {
        "id": "qdKs6mJqSsCU"
      },
      "outputs": [],
      "source": [
        "# 생성한 데이터셋 파일을 메모리에 로딩하는 함수\n",
        "def load_data(args, filename):\n",
        "    inputs, segments, labels_start, labels_end = [], [], [], []\n",
        "\n",
        "    n_discard = 0\n",
        "    with open(filename, \"r\") as f:\n",
        "        for i, line in enumerate(tqdm(f, desc=f\"Loading ...\")):\n",
        "            data = json.loads(line)\n",
        "            token_start = data.get(\"token_start\")\n",
        "            token_end = data.get(\"token_end\")\n",
        "            question = data[\"question\"][:args.max_query_length]\n",
        "            context = data[\"context\"]\n",
        "            answer_tokens = \" \".join(context[token_start:token_end + 1])\n",
        "            context_len = args.max_seq_length - len(question) - 3\n",
        "\n",
        "            if token_end >= context_len:\n",
        "                # 최대 길이내에 token이 들어가지 않은 경우 처리하지 않음\n",
        "                n_discard += 1\n",
        "                continue\n",
        "            context = context[:context_len]\n",
        "            assert len(question) + len(context) <= args.max_seq_length - 3\n",
        "\n",
        "            tokens = ['[CLS]'] + question + ['[SEP]'] + context + ['[SEP]']\n",
        "            ids = [vocab.piece_to_id(token) for token in tokens]\n",
        "            ids += [0] * (args.max_seq_length - len(ids))\n",
        "            inputs.append(ids)\n",
        "            segs = [0] * (len(question) + 2) + [1] * (len(context) + 1)\n",
        "            segs += [0] * (args.max_seq_length - len(segs))\n",
        "            segments.append(segs)\n",
        "            token_start += (len(question) + 2)\n",
        "            labels_start.append(token_start)\n",
        "            token_end += (len(question) + 2)\n",
        "            labels_end.append(token_end)\n",
        "    print(f'n_discard: {n_discard}')\n",
        "\n",
        "    return (np.array(inputs), np.array(segments)), (np.array(labels_start), np.array(labels_end))"
      ]
    },
    {
      "cell_type": "code",
      "execution_count": null,
      "metadata": {
        "colab": {
          "base_uri": "https://localhost:8080/",
          "height": 553,
          "referenced_widgets": [
            "21bb45bc39264736ba216c8d33b23c42",
            "ab1382478d9445c18af8a556e2f90c79",
            "edc5fc3f9cb143f798fff0ef71290e47",
            "162dcf49f4e143a097416513d1e62139",
            "d113f984f09d454e9a31e8594d33c31b",
            "3ecfcfaa23124109b23dd8a14dc96522",
            "497c917afef84a9186e6fc8fb44173f2",
            "dc40428dcaa440fcbf74c028d8807061",
            "1ded2c392da64c3fb123691cbee56120",
            "0576e1b3ddc4442897833c9843f4765a",
            "28deca34570648c68b8da086f2ca2fa2",
            "5d43926423ea4ab7aeed7e522048f6b0",
            "414081af7e9f46fcb749b1bcbb03aaeb",
            "9e70f1b103224ea4b312ee5629441693",
            "42d7dc7ebf854401ada43deb02258e51",
            "03713bbf96ef4393b3aaa0be8abb3500",
            "aed0d634dd344a92bfbe80b48aeb637d",
            "9cf64f1217804281955aa47373bad5d5",
            "5b29cdfe9bdf4aa2b3b0bcda4dcd1fe8",
            "12ea47e9acf0499aa06a0682df03196c",
            "186ce384f5f542e6847350a4a3c64f3b",
            "b30bf761fd4e47e9b1b1b36152d3c86b"
          ]
        },
        "id": "pzCBVvUhStAG",
        "outputId": "f8ed8989-2361-426c-c201-8fc86a679cd3"
      },
      "outputs": [
        {
          "data": {
            "application/vnd.jupyter.widget-view+json": {
              "model_id": "21bb45bc39264736ba216c8d33b23c42",
              "version_major": 2,
              "version_minor": 0
            },
            "text/plain": [
              "Loading ...: 0it [00:00, ?it/s]"
            ]
          },
          "metadata": {},
          "output_type": "display_data"
        },
        {
          "name": "stdout",
          "output_type": "stream",
          "text": [
            "n_discard: 430\n",
            "train_inputs: (59977, 384)\n",
            "train_inputs: (59977, 384)\n",
            "train_labels: (59977,)\n",
            "train_labels: (59977,)\n"
          ]
        },
        {
          "data": {
            "application/vnd.jupyter.widget-view+json": {
              "model_id": "5d43926423ea4ab7aeed7e522048f6b0",
              "version_major": 2,
              "version_minor": 0
            },
            "text/plain": [
              "Loading ...: 0it [00:00, ?it/s]"
            ]
          },
          "metadata": {},
          "output_type": "display_data"
        },
        {
          "name": "stdout",
          "output_type": "stream",
          "text": [
            "n_discard: 78\n",
            "dev_inputs: (5696, 384)\n",
            "dev_inputs: (5696, 384)\n",
            "dev_labels: (5696,)\n",
            "dev_labels: (5696,)\n"
          ]
        },
        {
          "data": {
            "text/plain": [
              "((array([[    5, 15798,    10, ...,     0,     0,     0],\n",
              "         [    5, 15798,    10, ...,     0,     0,     0],\n",
              "         [    5, 15798,    19, ...,     0,     0,     0],\n",
              "         ...,\n",
              "         [    5, 21666,    19, ...,     0,     0,     0],\n",
              "         [    5,   964, 16865, ...,     0,     0,     0],\n",
              "         [    5,   365,    15, ...,     0,     0,     0]]),\n",
              "  array([[0, 0, 0, ..., 0, 0, 0],\n",
              "         [0, 0, 0, ..., 0, 0, 0],\n",
              "         [0, 0, 0, ..., 0, 0, 0],\n",
              "         ...,\n",
              "         [0, 0, 0, ..., 0, 0, 0],\n",
              "         [0, 0, 0, ..., 0, 0, 0],\n",
              "         [0, 0, 0, ..., 0, 0, 0]])),\n",
              " (array([ 37, 184,  98, ...,  74, 190,  35]),\n",
              "  array([ 37, 185, 102, ...,  75, 191,  44])))"
            ]
          },
          "execution_count": 54,
          "metadata": {},
          "output_type": "execute_result"
        }
      ],
      "source": [
        "# train data load\n",
        "train_inputs, train_labels = load_data(args, train_json)\n",
        "print(f\"train_inputs: {train_inputs[0].shape}\")\n",
        "print(f\"train_inputs: {train_inputs[1].shape}\")\n",
        "print(f\"train_labels: {train_labels[0].shape}\")\n",
        "print(f\"train_labels: {train_labels[1].shape}\")\n",
        "\n",
        "# dev data load\n",
        "dev_inputs, dev_labels = load_data(args, dev_json)\n",
        "print(f\"dev_inputs: {dev_inputs[0].shape}\")\n",
        "print(f\"dev_inputs: {dev_inputs[1].shape}\")\n",
        "print(f\"dev_labels: {dev_labels[0].shape}\")\n",
        "print(f\"dev_labels: {dev_labels[1].shape}\")\n",
        "\n",
        "train_inputs[:10], train_labels[:10]"
      ]
    },
    {
      "cell_type": "markdown",
      "metadata": {
        "id": "9Kz_btlMStvC"
      },
      "source": [
        "### 준비가 완료된 데이터셋의 형태"
      ]
    },
    {
      "cell_type": "code",
      "execution_count": null,
      "metadata": {
        "colab": {
          "base_uri": "https://localhost:8080/"
        },
        "id": "9bc5pIdGS1hg",
        "outputId": "702db77c-7da5-423c-9785-09ac43d415e4"
      },
      "outputs": [
        {
          "data": {
            "text/plain": [
              "array([    5, 15798,    10, 28935,     9,    11, 29566,    20, 14604,\n",
              "       20424,  3904,    70,    11,  4648,    10,    19,  1910,     4,\n",
              "       22070,    15, 15798,    10, 28935,     9,    11, 29566,    16,\n",
              "         626, 14604,    38, 14028, 11773, 13829,   384,  8376,  3021,\n",
              "        1239,  6874,    16,  1687,  5958,  2694,  5061,     7,    30,\n",
              "        1613, 15798,    10, 28065,    75,  4415,  1816,  4978,    27,\n",
              "         347,   145,   107,  2703,   263,    11,     1,    18,  5853,\n",
              "          99,  9677,    24, 11969,    13,  7595,   437,  1019,  5907,\n",
              "         257,  3794,  1972,    20, 11278,    11, 29566,     9,   612,\n",
              "       12631, 13214,  1732,    76,     7,   110,  8802, 17581,   354,\n",
              "        9648,  2060,    21,  1682, 22110, 18164,    17, 21076, 14980,\n",
              "           9,  6874,    81, 11325,  4239,  3597,  1010,  1035, 17670,\n",
              "           8,  2447,  1306,    35,   443,    11, 29566,     9,   315,\n",
              "       12729, 14457,    30,  7938,  3742, 10766,   634,  9971, 17590,\n",
              "       19424,    10,   285,  4080,    61, 17573,   483,     7,  7588,\n",
              "           9,   473,   338,   147,  1924,     9, 11016,   136,  1034,\n",
              "          13, 11672,    40,  3436,  5217,  7898, 11684,    57,   830,\n",
              "           9,    19,  3319,    86,   220,   464, 14980,     9, 20515,\n",
              "         412,   991,   684,  1924,     9,   634,   920,   144,   430,\n",
              "          34,    25,     7,  4210,  6874,  2150,    16, 22070,   298,\n",
              "        1159,    75,  1098,  8802,  7490,   805,    35, 18678,    16,\n",
              "        1657,  1970,  2272,    53,     7,   110,  6559,  2178,    24,\n",
              "         756,    82,    30,   315,   684,  3772, 18678,    12,    16,\n",
              "        1682, 22110,     9, 22469,    22,  1757,    61,  8817,   194,\n",
              "         164,  1693,   749,     8,  6739, 12202,    10,   494,     7,\n",
              "         502, 12181,    18,    46,    15,   374,    17,  1680,   708,\n",
              "       26344,    22,  1757,   432,   465,   351,    32, 18563,   710,\n",
              "           8,  2585,  1384, 16071,   265,  3360,     7,    38,   747,\n",
              "          82,   383,   678,   200,    26,   590,  1281,    41,  1172,\n",
              "          31,    16,  2178,    43,  3044,   156,    17,   647,   468,\n",
              "        7490,    41,    84,   758,    92,    33,  3401,   369, 18319,\n",
              "           8,  2582, 29798,  1102,    17,    30,  4573, 11170,   139,\n",
              "          58,   220,   773,    19,   211, 23824,    25,     7,     4,\n",
              "           0,     0,     0,     0,     0,     0,     0,     0,     0,\n",
              "           0,     0,     0,     0,     0,     0,     0,     0,     0,\n",
              "           0,     0,     0,     0,     0,     0,     0,     0,     0,\n",
              "           0,     0,     0,     0,     0,     0,     0,     0,     0,\n",
              "           0,     0,     0,     0,     0,     0,     0,     0,     0,\n",
              "           0,     0,     0,     0,     0,     0,     0,     0,     0,\n",
              "           0,     0,     0,     0,     0,     0,     0,     0,     0,\n",
              "           0,     0,     0,     0,     0,     0,     0,     0,     0,\n",
              "           0,     0,     0,     0,     0,     0,     0,     0,     0,\n",
              "           0,     0,     0,     0,     0,     0])"
            ]
          },
          "execution_count": 55,
          "metadata": {},
          "output_type": "execute_result"
        }
      ],
      "source": [
        "# Question과 Context가 포함된 입력데이터 1번째\n",
        "train_inputs[0][0]"
      ]
    },
    {
      "cell_type": "code",
      "execution_count": null,
      "metadata": {
        "colab": {
          "base_uri": "https://localhost:8080/"
        },
        "id": "ncNhxeieS1zg",
        "outputId": "5834dc3b-e7b6-4b46-a441-3ac539a02142"
      },
      "outputs": [
        {
          "data": {
            "text/plain": [
              "array([0, 0, 0, 0, 0, 0, 0, 0, 0, 0, 0, 0, 0, 0, 0, 0, 0, 0, 1, 1, 1, 1,\n",
              "       1, 1, 1, 1, 1, 1, 1, 1, 1, 1, 1, 1, 1, 1, 1, 1, 1, 1, 1, 1, 1, 1,\n",
              "       1, 1, 1, 1, 1, 1, 1, 1, 1, 1, 1, 1, 1, 1, 1, 1, 1, 1, 1, 1, 1, 1,\n",
              "       1, 1, 1, 1, 1, 1, 1, 1, 1, 1, 1, 1, 1, 1, 1, 1, 1, 1, 1, 1, 1, 1,\n",
              "       1, 1, 1, 1, 1, 1, 1, 1, 1, 1, 1, 1, 1, 1, 1, 1, 1, 1, 1, 1, 1, 1,\n",
              "       1, 1, 1, 1, 1, 1, 1, 1, 1, 1, 1, 1, 1, 1, 1, 1, 1, 1, 1, 1, 1, 1,\n",
              "       1, 1, 1, 1, 1, 1, 1, 1, 1, 1, 1, 1, 1, 1, 1, 1, 1, 1, 1, 1, 1, 1,\n",
              "       1, 1, 1, 1, 1, 1, 1, 1, 1, 1, 1, 1, 1, 1, 1, 1, 1, 1, 1, 1, 1, 1,\n",
              "       1, 1, 1, 1, 1, 1, 1, 1, 1, 1, 1, 1, 1, 1, 1, 1, 1, 1, 1, 1, 1, 1,\n",
              "       1, 1, 1, 1, 1, 1, 1, 1, 1, 1, 1, 1, 1, 1, 1, 1, 1, 1, 1, 1, 1, 1,\n",
              "       1, 1, 1, 1, 1, 1, 1, 1, 1, 1, 1, 1, 1, 1, 1, 1, 1, 1, 1, 1, 1, 1,\n",
              "       1, 1, 1, 1, 1, 1, 1, 1, 1, 1, 1, 1, 1, 1, 1, 1, 1, 1, 1, 1, 1, 1,\n",
              "       1, 1, 1, 1, 1, 1, 1, 1, 1, 1, 1, 1, 1, 1, 1, 1, 1, 1, 1, 1, 1, 1,\n",
              "       1, 1, 1, 1, 1, 1, 1, 1, 1, 1, 1, 0, 0, 0, 0, 0, 0, 0, 0, 0, 0, 0,\n",
              "       0, 0, 0, 0, 0, 0, 0, 0, 0, 0, 0, 0, 0, 0, 0, 0, 0, 0, 0, 0, 0, 0,\n",
              "       0, 0, 0, 0, 0, 0, 0, 0, 0, 0, 0, 0, 0, 0, 0, 0, 0, 0, 0, 0, 0, 0,\n",
              "       0, 0, 0, 0, 0, 0, 0, 0, 0, 0, 0, 0, 0, 0, 0, 0, 0, 0, 0, 0, 0, 0,\n",
              "       0, 0, 0, 0, 0, 0, 0, 0, 0, 0])"
            ]
          },
          "execution_count": 56,
          "metadata": {},
          "output_type": "execute_result"
        }
      ],
      "source": [
        "# Question을 0으로, Context를 1로 구분해 준 Segment 데이터 1번째\n",
        "train_inputs[1][0]"
      ]
    },
    {
      "cell_type": "code",
      "execution_count": null,
      "metadata": {
        "colab": {
          "base_uri": "https://localhost:8080/"
        },
        "id": "9Ztnk8WPS3Hi",
        "outputId": "64987a96-6d12-4b27-ba8a-7bc911b013ef"
      },
      "outputs": [
        {
          "data": {
            "text/plain": [
              "(37, 37)"
            ]
          },
          "execution_count": 57,
          "metadata": {},
          "output_type": "execute_result"
        }
      ],
      "source": [
        "# Answer위치의 시작점과 끝점 라벨 1번째\n",
        "train_labels[0][0], train_labels[1][0]"
      ]
    },
    {
      "cell_type": "markdown",
      "metadata": {
        "id": "H7WdotXWS4C3"
      },
      "source": [
        "## 6. LSTM으로 학습 해보기\n",
        "\n",
        "-  Input이 2개, Output이 2개인 모델\n",
        "\n",
        "- 2개의 Input은 이전 스텝에서 보았던 train_inputs[0], train_inputs[1]\n",
        "    > 이들은 각각 Question+Context의 데이터와 Segment\n",
        "\n",
        "-  Output은 Answer의 시작점과 끝점의 위치"
      ]
    },
    {
      "cell_type": "code",
      "execution_count": null,
      "metadata": {
        "id": "yw5TWBFwTVmJ"
      },
      "outputs": [],
      "source": [
        "def build_model_lstm(n_vocab, n_seq, d_model):\n",
        "    tokens = tf.keras.layers.Input((None,), name='tokens')\n",
        "    segments = tf.keras.layers.Input((None,), name='segments')\n",
        "\n",
        "    hidden = tf.keras.layers.Embedding(n_vocab, d_model)(tokens) + tf.keras.layers.Embedding(2, d_model)(segments) # (bs, n_seq, d_model)\n",
        "\n",
        "    hidden = tf.keras.layers.LSTM(d_model, return_sequences=True)(hidden)  # (bs, n_seq, d_model)\n",
        "    hidden = tf.keras.layers.LSTM(d_model, return_sequences=True)(hidden)  # (bs, n_seq, d_model)\n",
        "    hidden = tf.keras.layers.Dense(2)(hidden) # (bs, n_seq, 2)\n",
        "    start_logits, end_logits = tf.split(hidden, 2, axis=-1)  # (bs, n_seq, 1), (bs, n_seq, 1)\n",
        "    start_logits = tf.squeeze(start_logits, axis=-1)  # (bs, n_seq)\n",
        "    start_outputs = tf.keras.layers.Softmax(name=\"start\")(start_logits)\n",
        "    end_logits = tf.squeeze(end_logits, axis=-1)  # (bs, n_seq)\n",
        "    end_outputs = tf.keras.layers.Softmax(name=\"end\")(end_logits)\n",
        "\n",
        "    model = tf.keras.Model(inputs=(tokens, segments), outputs=(start_outputs, end_outputs))\n",
        "    return model"
      ]
    },
    {
      "cell_type": "code",
      "execution_count": null,
      "metadata": {
        "colab": {
          "base_uri": "https://localhost:8080/",
          "height": 976
        },
        "id": "lTiqmWtuTaed",
        "outputId": "58882f78-52af-4520-c496-56cf453b4587"
      },
      "outputs": [
        {
          "data": {
            "image/png": "[encoded data removed]",
            "text/plain": [
              "<IPython.core.display.Image object>"
            ]
          },
          "execution_count": 59,
          "metadata": {},
          "output_type": "execute_result"
        }
      ],
      "source": [
        "model = build_model_lstm(n_vocab=len(vocab), n_seq=512, d_model=512)\n",
        "tf.keras.utils.plot_model(model, 'model.png', show_shapes=True)"
      ]
    },
    {
      "cell_type": "code",
      "execution_count": null,
      "metadata": {
        "id": "5oUQhtF4Tvuy"
      },
      "outputs": [],
      "source": [
        "# 컴파일\n",
        "model.compile(loss=tf.keras.losses.sparse_categorical_crossentropy, optimizer=tf.keras.optimizers.Adam(learning_rate=5e-4), metrics=[\"accuracy\"])"
      ]
    },
    {
      "cell_type": "code",
      "execution_count": null,
      "metadata": {
        "colab": {
          "base_uri": "https://localhost:8080/"
        },
        "id": "HvfLE1lvTzCV",
        "outputId": "086d9539-b242-4ac5-e98d-2d614afc124f"
      },
      "outputs": [
        {
          "name": "stdout",
          "output_type": "stream",
          "text": [
            "Epoch 1/10\n",
            "469/469 [==============================] - ETA: 0s - loss: 9.1249 - start_loss: 4.4189 - end_loss: 4.7060 - start_accuracy: 0.0686 - end_accuracy: 0.0524\n",
            "Epoch 1: val_start_accuracy improved from -inf to 0.09094, saving model to /content/drive/MyDrive/Aiffel/Exploration/E-13/data/korquad_lstm.hdf5\n",
            "469/469 [==============================] - 139s 278ms/step - loss: 9.1249 - start_loss: 4.4189 - end_loss: 4.7060 - start_accuracy: 0.0686 - end_accuracy: 0.0524 - val_loss: 8.2424 - val_start_loss: 3.9162 - val_end_loss: 4.3262 - val_start_accuracy: 0.0909 - val_end_accuracy: 0.0792\n",
            "Epoch 2/10\n",
            "469/469 [==============================] - ETA: 0s - loss: 7.2977 - start_loss: 3.4785 - end_loss: 3.8191 - start_accuracy: 0.1258 - end_accuracy: 0.1167\n",
            "Epoch 2: val_start_accuracy improved from 0.09094 to 0.09831, saving model to /content/drive/MyDrive/Aiffel/Exploration/E-13/data/korquad_lstm.hdf5\n",
            "469/469 [==============================] - 130s 278ms/step - loss: 7.2977 - start_loss: 3.4785 - end_loss: 3.8191 - start_accuracy: 0.1258 - end_accuracy: 0.1167 - val_loss: 8.1908 - val_start_loss: 3.8901 - val_end_loss: 4.3007 - val_start_accuracy: 0.0983 - val_end_accuracy: 0.0744\n",
            "Epoch 3/10\n",
            "469/469 [==============================] - ETA: 0s - loss: 6.6977 - start_loss: 3.2154 - end_loss: 3.4822 - start_accuracy: 0.1552 - end_accuracy: 0.1491\n",
            "Epoch 3: val_start_accuracy improved from 0.09831 to 0.09884, saving model to /content/drive/MyDrive/Aiffel/Exploration/E-13/data/korquad_lstm.hdf5\n",
            "469/469 [==============================] - 130s 278ms/step - loss: 6.6977 - start_loss: 3.2154 - end_loss: 3.4822 - start_accuracy: 0.1552 - end_accuracy: 0.1491 - val_loss: 8.5862 - val_start_loss: 4.0920 - val_end_loss: 4.4942 - val_start_accuracy: 0.0988 - val_end_accuracy: 0.0804\n",
            "Epoch 4/10\n",
            "469/469 [==============================] - ETA: 0s - loss: 6.2254 - start_loss: 3.0097 - end_loss: 3.2157 - start_accuracy: 0.1809 - end_accuracy: 0.1787\n",
            "Epoch 4: val_start_accuracy did not improve from 0.09884\n",
            "469/469 [==============================] - 129s 274ms/step - loss: 6.2254 - start_loss: 3.0097 - end_loss: 3.2157 - start_accuracy: 0.1809 - end_accuracy: 0.1787 - val_loss: 8.8283 - val_start_loss: 4.2245 - val_end_loss: 4.6039 - val_start_accuracy: 0.0867 - val_end_accuracy: 0.0774\n",
            "Epoch 5/10\n",
            "469/469 [==============================] - ETA: 0s - loss: 5.4659 - start_loss: 2.6746 - end_loss: 2.7914 - start_accuracy: 0.2478 - end_accuracy: 0.2475\n",
            "Epoch 5: val_start_accuracy improved from 0.09884 to 0.13044, saving model to /content/drive/MyDrive/Aiffel/Exploration/E-13/data/korquad_lstm.hdf5\n",
            "469/469 [==============================] - 131s 279ms/step - loss: 5.4659 - start_loss: 2.6746 - end_loss: 2.7914 - start_accuracy: 0.2478 - end_accuracy: 0.2475 - val_loss: 8.7174 - val_start_loss: 4.1494 - val_end_loss: 4.5680 - val_start_accuracy: 0.1304 - val_end_accuracy: 0.1150\n",
            "Epoch 6/10\n",
            "469/469 [==============================] - ETA: 0s - loss: 4.6075 - start_loss: 2.2507 - end_loss: 2.3568 - start_accuracy: 0.3384 - end_accuracy: 0.3341\n",
            "Epoch 6: val_start_accuracy improved from 0.13044 to 0.14308, saving model to /content/drive/MyDrive/Aiffel/Exploration/E-13/data/korquad_lstm.hdf5\n",
            "469/469 [==============================] - 130s 277ms/step - loss: 4.6075 - start_loss: 2.2507 - end_loss: 2.3568 - start_accuracy: 0.3384 - end_accuracy: 0.3341 - val_loss: 9.1684 - val_start_loss: 4.3173 - val_end_loss: 4.8511 - val_start_accuracy: 0.1431 - val_end_accuracy: 0.1294\n",
            "Epoch 7/10\n",
            "469/469 [==============================] - ETA: 0s - loss: 3.9350 - start_loss: 1.9258 - end_loss: 2.0092 - start_accuracy: 0.4143 - end_accuracy: 0.4042\n",
            "Epoch 7: val_start_accuracy improved from 0.14308 to 0.14431, saving model to /content/drive/MyDrive/Aiffel/Exploration/E-13/data/korquad_lstm.hdf5\n",
            "469/469 [==============================] - 129s 275ms/step - loss: 3.9350 - start_loss: 1.9258 - end_loss: 2.0092 - start_accuracy: 0.4143 - end_accuracy: 0.4042 - val_loss: 10.4782 - val_start_loss: 4.9778 - val_end_loss: 5.5003 - val_start_accuracy: 0.1443 - val_end_accuracy: 0.1303\n",
            "Epoch 8/10\n",
            "469/469 [==============================] - ETA: 0s - loss: 3.2903 - start_loss: 1.6175 - end_loss: 1.6728 - start_accuracy: 0.4880 - end_accuracy: 0.4824\n",
            "Epoch 8: val_start_accuracy did not improve from 0.14431\n",
            "469/469 [==============================] - 129s 275ms/step - loss: 3.2903 - start_loss: 1.6175 - end_loss: 1.6728 - start_accuracy: 0.4880 - end_accuracy: 0.4824 - val_loss: 10.9612 - val_start_loss: 5.2058 - val_end_loss: 5.7554 - val_start_accuracy: 0.1424 - val_end_accuracy: 0.1383\n",
            "Epoch 9/10\n",
            "469/469 [==============================] - ETA: 0s - loss: 2.6876 - start_loss: 1.3224 - end_loss: 1.3652 - start_accuracy: 0.5681 - end_accuracy: 0.5626\n",
            "Epoch 9: val_start_accuracy did not improve from 0.14431\n",
            "469/469 [==============================] - 130s 277ms/step - loss: 2.6876 - start_loss: 1.3224 - end_loss: 1.3652 - start_accuracy: 0.5681 - end_accuracy: 0.5626 - val_loss: 12.8858 - val_start_loss: 6.1763 - val_end_loss: 6.7095 - val_start_accuracy: 0.1382 - val_end_accuracy: 0.1268\n",
            "Epoch 10/10\n",
            "469/469 [==============================] - ETA: 0s - loss: 2.1494 - start_loss: 1.0594 - end_loss: 1.0900 - start_accuracy: 0.6486 - end_accuracy: 0.6440\n",
            "Epoch 10: val_start_accuracy did not improve from 0.14431\n",
            "469/469 [==============================] - 129s 276ms/step - loss: 2.1494 - start_loss: 1.0594 - end_loss: 1.0900 - start_accuracy: 0.6486 - end_accuracy: 0.6440 - val_loss: 14.3625 - val_start_loss: 6.8662 - val_end_loss: 7.4963 - val_start_accuracy: 0.1422 - val_end_accuracy: 0.1269\n"
          ]
        }
      ],
      "source": [
        "# early stopping\n",
        "early_stopping = tf.keras.callbacks.EarlyStopping(monitor='val_start_accuracy', patience=3)\n",
        "# save weights\n",
        "save_weights = tf.keras.callbacks.ModelCheckpoint(os.path.join(data_dir, \"korquad_lstm.hdf5\"), monitor='val_start_accuracy', verbose=1, save_best_only=True, mode='max', save_freq='epoch', save_weights_only=True)\n",
        "\n",
        "history = model.fit(train_inputs, train_labels, epochs=10, batch_size=128, validation_data=(dev_inputs, dev_labels), callbacks=[early_stopping, save_weights])"
      ]
    },
    {
      "cell_type": "markdown",
      "metadata": {
        "id": "nhtiLAcPT6F0"
      },
      "source": [
        "## 7. BERT\n",
        "\n",
        "- Transformer 'Encoder 구조만'을 활용\n",
        "- Layer 개수 12개 이상, 훨씬 큰 파라미터를 가지고 있으나 기본적인 구조는 동일하다.\n",
        "- Decoder없이 모델이 학습할 수 있는 원리는 무엇일까?"
      ]
    },
    {
      "cell_type": "markdown",
      "metadata": {
        "id": "vC00TqJcYyYp"
      },
      "source": [
        "### 7.1. BERT의 TASK\n",
        "\n",
        "- 입력에 대해 BERT가 기본적으로 해결하는 두 가지 문제"
      ]
    },
    {
      "cell_type": "markdown",
      "metadata": {
        "id": "lt3gQLusWw4k"
      },
      "source": [
        "#### 7.1.1. Mask LM\n",
        "- 입력 데이터가 나는 <mask> 먹었다 일 때 BERT 모델이 <mask>가 밥을 임을 맞출 수 있도록 하는 언어 모델\n",
        "\n",
        "- 이른바 다음 빈칸에 알맞은 말은 문제를 엄청나게 풀어보는 언어 모델"
      ]
    },
    {
      "cell_type": "markdown",
      "metadata": {
        "id": "4OW-iNo3X8md"
      },
      "source": [
        "#### 7.1.2 Next Sentence Prediction\n",
        "\n",
        "- <SEP>를 경계로 좌우 두 문장이 순서대로 이어지는 문장이 맞는지를 맞추는 문제\n",
        "\n",
        "- BERT 모델은 이 두 문장을 입력으로 받았을 때 첫 번째 바이트에 NSP 결괏값을 리턴"
      ]
    },
    {
      "cell_type": "markdown",
      "metadata": {
        "id": "yjAS37UeYc8G"
      },
      "source": [
        "### 7.2. BERT의 INPUT/Embdding 구조\n",
        "\n",
        "텍스트 입력이 위 그림의 [Input]처럼 주어졌을 때, \n",
        "\n",
        "실제로 모델에 입력되는 것은 Token, Segment, Position Embedding의 3가지가 더해진 형태"
      ]
    },
    {
      "cell_type": "markdown",
      "metadata": {
        "id": "7-iWz82WbPXM"
      },
      "source": [
        "![](https://d3s0tskafalll9.cloudfront.net/media/images/E-18-01.max-800x600.png)"
      ]
    },
    {
      "cell_type": "markdown",
      "metadata": {
        "id": "mRGkPe0LZ4ir"
      },
      "source": [
        "#### 7.2.1. Token Embedding\n",
        "\n",
        "- BERT는 텍스트의 tokenizer로 Word Piece model이라는 subword tokenizer를 사용\n",
        "\n",
        "- 문자(char) 단위로 임베딩하는 것이 기본\n",
        "\n",
        "- 자주 등장하는 긴 길이의 subword도 하나의 단위로 만들어 준다\n",
        "\n",
        "- 반대로 자주 등장하지 않는 단어는 다시 subword 단위로 쪼갠다."
      ]
    },
    {
      "cell_type": "markdown",
      "metadata": {
        "id": "yvZzZ8mScd7Z"
      },
      "source": [
        "#### 7.2.2. Segment Embedding\n",
        "\n",
        "- 기존 Transformer에 없던 독특한 임베딩\n",
        "\n",
        "- 각 단어가 어느 문장에 포함되는지 그 역할을 규정\n",
        "\n",
        "- 특히 QA 문제처럼 이 단어가 Question 문장에 속하는지, Context 문장에 속하는지 구분이 필요한 경우에 이 임베딩은 매우 유용"
      ]
    },
    {
      "cell_type": "markdown",
      "metadata": {
        "id": "M5DkP0-XcihJ"
      },
      "source": [
        "#### 7.2.3. Position Embedding\n",
        "\n",
        "- Transformer에서 사용되던 position embedding과 동일"
      ]
    },
    {
      "cell_type": "markdown",
      "metadata": {
        "id": "Rucm2GPWcmkS"
      },
      "source": [
        "### 7.3. BERT 살펴보기(코드)"
      ]
    },
    {
      "cell_type": "markdown",
      "metadata": {
        "id": "HvIIKzHUdLm7"
      },
      "source": [
        "#### 개별 레이어 코드"
      ]
    },
    {
      "cell_type": "code",
      "execution_count": null,
      "metadata": {
        "id": "PczvmvPOc8I8"
      },
      "outputs": [],
      "source": [
        "# 유틸리티 함수들\n",
        "\n",
        "def get_pad_mask(tokens, i_pad=0):\n",
        "    \"\"\"\n",
        "    pad mask 계산하는 함수\n",
        "    :param tokens: tokens (bs, n_seq)\n",
        "    :param i_pad: id of pad\n",
        "    :return mask: pad mask (pad: 1, other: 0)\n",
        "    \"\"\"\n",
        "    mask = tf.cast(tf.math.equal(tokens, i_pad), tf.float32)\n",
        "    mask = tf.expand_dims(mask, axis=1)\n",
        "    return mask\n",
        "\n",
        "\n",
        "def get_ahead_mask(tokens, i_pad=0):\n",
        "    \"\"\"\n",
        "    ahead mask 계산하는 함수\n",
        "    :param tokens: tokens (bs, n_seq)\n",
        "    :param i_pad: id of pad\n",
        "    :return mask: ahead and pad mask (ahead or pad: 1, other: 0)\n",
        "    \"\"\"\n",
        "    n_seq = tf.shape(tokens)[1]\n",
        "    ahead_mask = 1 - tf.linalg.band_part(tf.ones((n_seq, n_seq)), -1, 0)\n",
        "    ahead_mask = tf.expand_dims(ahead_mask, axis=0)\n",
        "    pad_mask = get_pad_mask(tokens, i_pad)\n",
        "    mask = tf.maximum(ahead_mask, pad_mask)\n",
        "    return mask\n",
        "\n",
        "\n",
        "@tf.function(experimental_relax_shapes=True)\n",
        "def gelu(x):\n",
        "    \"\"\"\n",
        "    gelu activation 함수\n",
        "    :param x: 입력 값\n",
        "    :return: gelu activation result\n",
        "    \"\"\"\n",
        "    return 0.5 * x * (1 + K.tanh(x * 0.7978845608 * (1 + 0.044715 * x * x)))\n",
        "\n",
        "\n",
        "def kernel_initializer(stddev=0.02):\n",
        "    \"\"\"\n",
        "    parameter initializer 생성\n",
        "    :param stddev: 생성할 랜덤 변수의 표준편차\n",
        "    \"\"\"\n",
        "    return tf.keras.initializers.TruncatedNormal(stddev=stddev)\n",
        "\n",
        "\n",
        "def bias_initializer():\n",
        "    \"\"\"\n",
        "    bias initializer 생성\n",
        "    \"\"\"\n",
        "    return tf.zeros_initializer\n",
        "\n",
        "\n",
        "class Config(dict):\n",
        "    \"\"\"\n",
        "    json을 config 형태로 사용하기 위한 Class\n",
        "    :param dict: config dictionary\n",
        "    \"\"\"\n",
        "    __getattr__ = dict.__getitem__\n",
        "    __setattr__ = dict.__setitem__\n",
        "\n",
        "    @classmethod\n",
        "    def load(cls, file):\n",
        "        \"\"\"\n",
        "        file에서 Config를 생성 함\n",
        "        :param file: filename\n",
        "        \"\"\"\n",
        "        with open(file, 'r') as f:\n",
        "            config = json.loads(f.read())\n",
        "            return Config(config)"
      ]
    },
    {
      "cell_type": "code",
      "execution_count": null,
      "metadata": {
        "id": "54F85A8Zc9wD"
      },
      "outputs": [],
      "source": [
        "# mode == \"embedding\" 일 경우 Token Embedding Layer 로 사용되는 layer 클래스입니다. \n",
        "\n",
        "class SharedEmbedding(tf.keras.layers.Layer):\n",
        "    \"\"\"\n",
        "    Weighed Shared Embedding Class\n",
        "    \"\"\"\n",
        "    def __init__(self, config, name=\"weight_shared_embedding\"):\n",
        "        \"\"\"\n",
        "        생성자\n",
        "        :param config: Config 객체\n",
        "        :param name: layer name\n",
        "        \"\"\"\n",
        "        super().__init__(name=name)\n",
        "\n",
        "        self.n_vocab = config.n_vocab\n",
        "        self.d_model = config.d_model\n",
        "    \n",
        "    def build(self, input_shape):\n",
        "        \"\"\"\n",
        "        shared weight 생성\n",
        "        :param input_shape: Tensor Shape (not used)\n",
        "        \"\"\"\n",
        "        with tf.name_scope(\"shared_embedding_weight\"):\n",
        "            self.shared_weights = self.add_weight(\n",
        "                \"weights\",\n",
        "                shape=[self.n_vocab, self.d_model],\n",
        "                initializer=kernel_initializer()\n",
        "            )\n",
        "\n",
        "    def call(self, inputs, mode=\"embedding\"):\n",
        "        \"\"\"\n",
        "        layer 실행\n",
        "        :param inputs: 입력\n",
        "        :param mode: 실행 모드\n",
        "        :return: embedding or linear 실행 결과\n",
        "        \"\"\"\n",
        "        # mode가 embedding일 경우 embedding lookup 실행\n",
        "        if mode == \"embedding\":\n",
        "            return self._embedding(inputs)\n",
        "        # mode가 linear일 경우 linear 실행\n",
        "        elif mode == \"linear\":\n",
        "            return self._linear(inputs)\n",
        "        # mode가 기타일 경우 오류 발생\n",
        "        else:\n",
        "            raise ValueError(f\"mode {mode} is not valid.\")\n",
        "    \n",
        "    def _embedding(self, inputs):\n",
        "        \"\"\"\n",
        "        embedding lookup\n",
        "        :param inputs: 입력\n",
        "        \"\"\"\n",
        "        embed = tf.gather(self.shared_weights, tf.cast(inputs, tf.int32))\n",
        "        return embed\n",
        "\n",
        "    def _linear(self, inputs):  # (bs, n_seq, d_model)\n",
        "        \"\"\"\n",
        "        linear 실행\n",
        "        :param inputs: 입력\n",
        "        \"\"\"\n",
        "        n_batch = tf.shape(inputs)[0]\n",
        "        n_seq = tf.shape(inputs)[1]\n",
        "        inputs = tf.reshape(inputs, [-1, self.d_model])  # (bs * n_seq, d_model)\n",
        "        outputs = tf.matmul(inputs, self.shared_weights, transpose_b=True)\n",
        "        outputs = tf.reshape(outputs, [n_batch, n_seq, self.n_vocab])  # (bs, n_seq, n_vocab)\n",
        "        return outputs"
      ]
    },
    {
      "cell_type": "code",
      "execution_count": null,
      "metadata": {
        "id": "vyOSDlo3c-1A"
      },
      "outputs": [],
      "source": [
        "class PositionalEmbedding(tf.keras.layers.Layer):\n",
        "    \"\"\"\n",
        "    Positional Embedding Class\n",
        "    \"\"\"\n",
        "    def __init__(self, config, name=\"position_embedding\"):\n",
        "        \"\"\"\n",
        "        생성자\n",
        "        :param config: Config 객체\n",
        "        :param name: layer name\n",
        "        \"\"\"\n",
        "        super().__init__(name=name)\n",
        "        \n",
        "        self.embedding = tf.keras.layers.Embedding(config.n_seq, config.d_model, embeddings_initializer=kernel_initializer())\n",
        "\n",
        "    def call(self, inputs):\n",
        "        \"\"\"\n",
        "        layer 실행\n",
        "        :param inputs: 입력\n",
        "        :return embed: positional embedding lookup 결과\n",
        "        \"\"\"\n",
        "        position = tf.cast(tf.math.cumsum(tf.ones_like(inputs), axis=1, exclusive=True), tf.int32)\n",
        "        embed = self.embedding(position)\n",
        "        return embed"
      ]
    },
    {
      "cell_type": "code",
      "execution_count": null,
      "metadata": {
        "id": "ib44XGdfdAGz"
      },
      "outputs": [],
      "source": [
        "class ScaleDotProductAttention(tf.keras.layers.Layer):\n",
        "    \"\"\"\n",
        "    Scale Dot Product Attention Class\n",
        "    \"\"\"\n",
        "    def __init__(self, name=\"scale_dot_product_attention\"):\n",
        "        \"\"\"\n",
        "        생성자\n",
        "        :param name: layer name\n",
        "        \"\"\"\n",
        "        super().__init__(name=name)\n",
        "\n",
        "    def call(self, Q, K, V, attn_mask):\n",
        "        \"\"\"\n",
        "        layer 실행\n",
        "        :param Q: Q value\n",
        "        :param K: K value\n",
        "        :param V: V value\n",
        "        :param attn_mask: 실행 모드\n",
        "        :return attn_out: attention 실행 결과\n",
        "        \"\"\"\n",
        "        attn_score = tf.matmul(Q, K, transpose_b=True)\n",
        "        scale = tf.math.sqrt(tf.cast(tf.shape(K)[-1], tf.float32))\n",
        "        attn_scale = tf.math.divide(attn_score, scale)\n",
        "        attn_scale -= 1.e9 * attn_mask\n",
        "        attn_prob = tf.nn.softmax(attn_scale, axis=-1)\n",
        "        attn_out = tf.matmul(attn_prob, V)\n",
        "        return attn_out"
      ]
    },
    {
      "cell_type": "code",
      "execution_count": null,
      "metadata": {
        "id": "j0x0s_2ydBJW"
      },
      "outputs": [],
      "source": [
        "class MultiHeadAttention(tf.keras.layers.Layer):\n",
        "    \"\"\"\n",
        "    Multi Head Attention Class\n",
        "    \"\"\"\n",
        "    def __init__(self, config, name=\"multi_head_attention\"):\n",
        "        \"\"\"\n",
        "        생성자\n",
        "        :param config: Config 객체\n",
        "        :param name: layer name\n",
        "        \"\"\"\n",
        "        super().__init__(name=name)\n",
        "\n",
        "        self.d_model = config.d_model\n",
        "        self.n_head = config.n_head\n",
        "        self.d_head = config.d_head\n",
        "\n",
        "        # Q, K, V input dense layer\n",
        "        self.W_Q = tf.keras.layers.Dense(config.n_head * config.d_head, kernel_initializer=kernel_initializer(), bias_initializer=bias_initializer())\n",
        "        self.W_K = tf.keras.layers.Dense(config.n_head * config.d_head, kernel_initializer=kernel_initializer(), bias_initializer=bias_initializer())\n",
        "        self.W_V = tf.keras.layers.Dense(config.n_head * config.d_head, kernel_initializer=kernel_initializer(), bias_initializer=bias_initializer())\n",
        "        # Scale Dot Product Attention class\n",
        "        self.attention = ScaleDotProductAttention(name=\"self_attention\")\n",
        "        # output dense layer\n",
        "        self.W_O = tf.keras.layers.Dense(config.d_model, kernel_initializer=kernel_initializer(), bias_initializer=bias_initializer())\n",
        "\n",
        "    def call(self, Q, K, V, attn_mask):\n",
        "        \"\"\"\n",
        "        layer 실행\n",
        "        :param Q: Q value\n",
        "        :param K: K value\n",
        "        :param V: V value\n",
        "        :param attn_mask: 실행 모드\n",
        "        :return attn_out: attention 실행 결과\n",
        "        \"\"\"\n",
        "        # reshape Q, K, V, attn_mask\n",
        "        batch_size = tf.shape(Q)[0]\n",
        "        Q_m = tf.transpose(tf.reshape(self.W_Q(Q), [batch_size, -1, self.n_head, self.d_head]), [0, 2, 1, 3])  # (bs, n_head, Q_len, d_head)\n",
        "        K_m = tf.transpose(tf.reshape(self.W_K(K), [batch_size, -1, self.n_head, self.d_head]), [0, 2, 1, 3])  # (bs, n_head, K_len, d_head)\n",
        "        V_m = tf.transpose(tf.reshape(self.W_V(V), [batch_size, -1, self.n_head, self.d_head]), [0, 2, 1, 3])  # (bs, n_head, K_len, d_head)\n",
        "        attn_mask_m = tf.expand_dims(attn_mask, axis=1)\n",
        "        # Scale Dot Product Attention with multi head Q, K, V, attn_mask\n",
        "        attn_out = self.attention(Q_m, K_m, V_m, attn_mask_m)  # (bs, n_head, Q_len, d_head)\n",
        "        # transpose and liner\n",
        "        attn_out_m = tf.transpose(attn_out, perm=[0, 2, 1, 3])  # (bs, Q_len, n_head, d_head)\n",
        "        attn_out = tf.reshape(attn_out_m, [batch_size, -1, config.n_head * config.d_head])  # (bs, Q_len, d_model)\n",
        "        attn_out = self.W_O(attn_out) # (bs, Q_len, d_model)\n",
        "\n",
        "        return attn_out"
      ]
    },
    {
      "cell_type": "code",
      "execution_count": null,
      "metadata": {
        "id": "Vl8IbkvRdCAA"
      },
      "outputs": [],
      "source": [
        "class PositionWiseFeedForward(tf.keras.layers.Layer):\n",
        "    \"\"\"\n",
        "    Position Wise Feed Forward Class\n",
        "    \"\"\"\n",
        "    def __init__(self, config, name=\"feed_forward\"):\n",
        "        \"\"\"\n",
        "        생성자\n",
        "        :param config: Config 객체\n",
        "        :param name: layer name\n",
        "        \"\"\"\n",
        "        super().__init__(name=name)\n",
        "\n",
        "        self.W_1 = tf.keras.layers.Dense(config.d_ff, activation=gelu, kernel_initializer=kernel_initializer(), bias_initializer=bias_initializer())\n",
        "        self.W_2 = tf.keras.layers.Dense(config.d_model, kernel_initializer=kernel_initializer(), bias_initializer=bias_initializer())\n",
        "\n",
        "    def call(self, inputs):\n",
        "        \"\"\"\n",
        "        layer 실행\n",
        "        :param inputs: inputs\n",
        "        :return ff_val: feed forward 실행 결과\n",
        "        \"\"\"\n",
        "        ff_val = self.W_2(self.W_1(inputs))\n",
        "        return ff_val"
      ]
    },
    {
      "cell_type": "code",
      "execution_count": null,
      "metadata": {
        "id": "p_RN7My-dC7m"
      },
      "outputs": [],
      "source": [
        "class EncoderLayer(tf.keras.layers.Layer):\n",
        "    \"\"\"\n",
        "    Encoder Layer Class\n",
        "    \"\"\"\n",
        "    def __init__(self, config, name=\"encoder_layer\"):\n",
        "        \"\"\"\n",
        "        생성자\n",
        "        :param config: Config 객체\n",
        "        :param name: layer name\n",
        "        \"\"\"\n",
        "        super().__init__(name=name)\n",
        "\n",
        "        self.self_attention = MultiHeadAttention(config)\n",
        "        self.norm1 = tf.keras.layers.LayerNormalization(epsilon=config.layernorm_epsilon)\n",
        "\n",
        "        self.ffn = PositionWiseFeedForward(config)\n",
        "        self.norm2 = tf.keras.layers.LayerNormalization(epsilon=config.layernorm_epsilon)\n",
        "\n",
        "        self.dropout = tf.keras.layers.Dropout(config.dropout)\n",
        " \n",
        "    def call(self, enc_embed, self_mask):\n",
        "        \"\"\"\n",
        "        layer 실행\n",
        "        :param enc_embed: enc_embed 또는 이전 EncoderLayer의 출력\n",
        "        :param self_mask: enc_tokens의 pad mask\n",
        "        :return enc_out: EncoderLayer 실행 결과\n",
        "        \"\"\"\n",
        "        self_attn_val = self.self_attention(enc_embed, enc_embed, enc_embed, self_mask)\n",
        "        norm1_val = self.norm1(enc_embed + self.dropout(self_attn_val))\n",
        "\n",
        "        ffn_val = self.ffn(norm1_val)\n",
        "        enc_out = self.norm2(norm1_val + self.dropout(ffn_val))\n",
        "\n",
        "        return enc_out"
      ]
    },
    {
      "cell_type": "markdown",
      "metadata": {
        "id": "FTJe23zNdECX"
      },
      "source": [
        "#### 모델 구성 코드"
      ]
    },
    {
      "cell_type": "code",
      "execution_count": null,
      "metadata": {
        "id": "puWEOj4idWK2"
      },
      "outputs": [],
      "source": [
        "class BERT(tf.keras.layers.Layer):\n",
        "    \"\"\"\n",
        "    BERT Class\n",
        "    \"\"\"\n",
        "    def __init__(self, config, name=\"bert\"):\n",
        "        \"\"\"\n",
        "        생성자\n",
        "        :param config: Config 객체\n",
        "        :param name: layer name\n",
        "        \"\"\"\n",
        "        super().__init__(name=name)\n",
        "\n",
        "        self.i_pad = config.i_pad\n",
        "        self.embedding = SharedEmbedding(config)\n",
        "        self.position = PositionalEmbedding(config)\n",
        "        self.segment = tf.keras.layers.Embedding(2, config.d_model, embeddings_initializer=kernel_initializer())\n",
        "        self.norm = tf.keras.layers.LayerNormalization(epsilon=config.layernorm_epsilon)\n",
        "        \n",
        "        self.encoder_layers = [EncoderLayer(config, name=f\"encoder_layer_{i}\") for i in range(config.n_layer)]\n",
        "\n",
        "        self.dropout = tf.keras.layers.Dropout(config.dropout)\n",
        "\n",
        "    def call(self, enc_tokens, segments):\n",
        "        \"\"\"\n",
        "        layer 실행\n",
        "        :param enc_tokens: encoder tokens\n",
        "        :param segments: token segments\n",
        "        :return logits_cls: CLS 결과 logits\n",
        "        :return logits_lm: LM 결과 logits\n",
        "        \"\"\"\n",
        "        enc_self_mask = get_pad_mask(enc_tokens, self.i_pad)\n",
        "\n",
        "        enc_embed = self.get_embedding(enc_tokens, segments)\n",
        "\n",
        "        enc_out = self.dropout(enc_embed)\n",
        "        for encoder_layer in self.encoder_layers:\n",
        "            enc_out = encoder_layer(enc_out, enc_self_mask)\n",
        "\n",
        "        logits_cls = enc_out[:,0]\n",
        "        logits_lm = enc_out\n",
        "        return logits_cls, logits_lm\n",
        "    \n",
        "    def get_embedding(self, tokens, segments):\n",
        "        \"\"\"\n",
        "        token embedding, position embedding lookup\n",
        "        :param tokens: 입력 tokens\n",
        "        :param segments: 입력 segments\n",
        "        :return embed: embedding 결과\n",
        "        \"\"\"\n",
        "        embed = self.embedding(tokens) + self.position(tokens) + self.segment(segments)\n",
        "        embed = self.norm(embed)\n",
        "        return embed"
      ]
    },
    {
      "cell_type": "markdown",
      "metadata": {
        "id": "Llf-k8FOdXmf"
      },
      "source": [
        "## 8. BERT 모델로 재도전\n",
        "\n",
        "- 사전 학습 없는 BERT 기본 모델임"
      ]
    },
    {
      "cell_type": "code",
      "execution_count": 128,
      "metadata": {
        "id": "vDr7q1bdhTPN"
      },
      "outputs": [],
      "source": [
        "class BERT4KorQuAD(tf.keras.Model):\n",
        "    def __init__(self, config):\n",
        "        super().__init__(name='BERT4KorQuAD')\n",
        "\n",
        "        self.bert = BERT(config)\n",
        "        self.dense = tf.keras.layers.Dense(2)\n",
        "    \n",
        "    def call(self, enc_tokens, segments):\n",
        "        logits_cls, logits_lm = self.bert(enc_tokens, segments)\n",
        "\n",
        "        hidden = self.dense(logits_lm) # (bs, n_seq, 2)\n",
        "        start_logits, end_logits = tf.split(hidden, 2, axis=-1)  # (bs, n_seq, 1), (bs, n_seq, 1)\n",
        "\n",
        "        start_logits = tf.squeeze(start_logits, axis=-1)\n",
        "        start_outputs = tf.keras.layers.Softmax(name=\"start\")(start_logits)\n",
        "\n",
        "        end_logits = tf.squeeze(end_logits, axis=-1)\n",
        "        end_outputs = tf.keras.layers.Softmax(name=\"end\")(end_logits)\n",
        "\n",
        "        return start_outputs, end_outputs"
      ]
    },
    {
      "cell_type": "code",
      "execution_count": 129,
      "metadata": {
        "colab": {
          "base_uri": "https://localhost:8080/"
        },
        "id": "BnaDNsYDhUvv",
        "outputId": "9792b0f6-9617-48b4-f74d-9e98a12cd64e"
      },
      "outputs": [
        {
          "output_type": "execute_result",
          "data": {
            "text/plain": [
              "{'d_ff': 1024,\n",
              " 'd_head': 64,\n",
              " 'd_model': 512,\n",
              " 'dropout': 0.1,\n",
              " 'i_pad': 0,\n",
              " 'layernorm_epsilon': 0.001,\n",
              " 'n_head': 8,\n",
              " 'n_layer': 6,\n",
              " 'n_seq': 384,\n",
              " 'n_vocab': 32007}"
            ]
          },
          "metadata": {},
          "execution_count": 129
        }
      ],
      "source": [
        "config = Config({\"d_model\": 512, \"n_head\": 8, \"d_head\": 64, \"dropout\": 0.1, \"d_ff\": 1024, \"layernorm_epsilon\": 0.001, \"n_layer\": 6, \"n_seq\": 384, \"n_vocab\": 0, \"i_pad\": 0})\n",
        "config.n_vocab = len(vocab)\n",
        "config.i_pad = vocab.pad_id()\n",
        "config"
      ]
    },
    {
      "cell_type": "code",
      "execution_count": 130,
      "metadata": {
        "id": "hGBFglp0hVSR"
      },
      "outputs": [],
      "source": [
        "bert_batch_size = 32 \n",
        "\n",
        "train_dataset = tf.data.Dataset.from_tensor_slices((train_inputs, train_labels)).shuffle(10000).batch(bert_batch_size)\n",
        "dev_dataset = tf.data.Dataset.from_tensor_slices((dev_inputs, dev_labels)).batch(bert_batch_size)"
      ]
    },
    {
      "cell_type": "code",
      "execution_count": 131,
      "metadata": {
        "id": "jWAcpn9LhXk5"
      },
      "outputs": [],
      "source": [
        "model = BERT4KorQuAD(config)"
      ]
    },
    {
      "cell_type": "code",
      "execution_count": 132,
      "metadata": {
        "id": "g8q9qC9IhYeG"
      },
      "outputs": [],
      "source": [
        "def train_epoch(model, dataset, loss_fn, acc_fn, optimizer):\n",
        "    metric_start_loss = tf.keras.metrics.Mean(name='start_loss')\n",
        "    metric_end_loss = tf.keras.metrics.Mean(name='end_loss')\n",
        "    metric_start_acc = tf.keras.metrics.Mean(name='start_acc')\n",
        "    metric_end_acc = tf.keras.metrics.Mean(name='end_acc')\n",
        "\n",
        "    p_bar = tqdm(dataset)\n",
        "    for batch, ((enc_tokens, segments), (start_labels, end_labels)) in enumerate(p_bar):\n",
        "        with tf.GradientTape() as tape:\n",
        "            start_outputs, end_outputs = model(enc_tokens, segments)\n",
        "\n",
        "            start_loss = loss_fn(start_labels, start_outputs)\n",
        "            end_loss = loss_fn(end_labels, end_outputs)\n",
        "            loss = start_loss + end_loss\n",
        "\n",
        "            start_acc = acc_fn(start_labels, start_outputs)\n",
        "            end_acc = acc_fn(end_labels, end_outputs)\n",
        "        gradients = tape.gradient(loss, model.trainable_variables)\n",
        "        optimizer.apply_gradients(zip(gradients, model.trainable_variables))\n",
        "\n",
        "        metric_start_loss(start_loss)\n",
        "        metric_end_loss(end_loss)\n",
        "        metric_start_acc(start_acc)\n",
        "        metric_end_acc(end_acc)\n",
        "        if batch % 10 == 9:\n",
        "            p_bar.set_description(f'loss: {metric_start_loss.result():0.4f}, {metric_end_loss.result():0.4f}, acc: {metric_start_acc.result():0.4f}, {metric_end_acc.result():0.4f}')\n",
        "    p_bar.close()\n",
        "\n",
        "    return metric_start_loss.result(), metric_end_loss.result(), metric_start_acc.result(), metric_end_acc.result()"
      ]
    },
    {
      "cell_type": "code",
      "execution_count": 133,
      "metadata": {
        "id": "bP0dlG58hcg2"
      },
      "outputs": [],
      "source": [
        "def eval_epoch(model, dataset, loss_fn, acc_fn):\n",
        "    metric_start_loss = tf.keras.metrics.Mean(name='start_loss')\n",
        "    metric_end_loss = tf.keras.metrics.Mean(name='end_loss')\n",
        "    metric_start_acc = tf.keras.metrics.Mean(name='start_acc')\n",
        "    metric_end_acc = tf.keras.metrics.Mean(name='end_acc')\n",
        "\n",
        "    for batch, ((enc_tokens, segments), (start_labels, end_labels)) in enumerate(dataset):\n",
        "        start_outputs, end_outputs = model(enc_tokens, segments)\n",
        "\n",
        "        start_loss = loss_fn(start_labels, start_outputs)\n",
        "        end_loss = loss_fn(end_labels, end_outputs)\n",
        "\n",
        "        start_acc = acc_fn(start_labels, start_outputs)\n",
        "        end_acc = acc_fn(end_labels, end_outputs)\n",
        "\n",
        "        metric_start_loss(start_loss)\n",
        "        metric_end_loss(end_loss)\n",
        "        metric_start_acc(start_acc)\n",
        "        metric_end_acc(end_acc)\n",
        "\n",
        "    return metric_start_loss.result(), metric_end_loss.result(), metric_start_acc.result(), metric_end_acc.result()"
      ]
    },
    {
      "cell_type": "code",
      "execution_count": null,
      "metadata": {
        "colab": {
          "base_uri": "https://localhost:8080/",
          "height": 204,
          "referenced_widgets": [
            "c867c5e2796e4d5a8629ef9de30d6920",
            "aecbf187f7c549dbbc5349e6ee7604f8",
            "f0be3d7f43d9434b9ad1524efa199719",
            "b149e24a99c7487f8d8909af75a480c7",
            "9604a9de3fd84b0fb1981153ce3f355a",
            "2cd4d60a289442f28d8407d1d379068b",
            "1d7497ac88804c46b6be7a3a838774b6",
            "e3113158e7d64bcd8c4e1f20c97becfd",
            "280f130ca3aa4957a35f354accd5363a",
            "84b20b09ebb24ebb8717e4af581b51ec",
            "466df02696984932921b84a0d320ed35",
            "5f46399eb1da4bf0b9a6389d85f91b50",
            "682406cafb77431894d81985a5c6e9ba",
            "7ce1c0d90d044241b7c551c952ae9a8c",
            "a9f55e925ed34d62852585cd7702cd92",
            "e4d3a601c50d4d62924eab8978d82d1c",
            "75e1d3c6af654b95930751da991345bb",
            "43abdf871827424b961fd2cbe7baab67",
            "78bdcf274601480382f6874c272bbf50",
            "2a4a19bbc77d455b8a75e66fedf4611e",
            "35e965e2afd648309215c108b3760c82",
            "f336666b609c47c3ab3c180b9a92de8f",
            "713dcbe0b6c2484481969dd672ddfb59",
            "8511747ab24544d4977c3b8687bca1d9",
            "190b0f1048284a1eb2a0e15850039ed4",
            "cc26c52fa0e6413187a35c1e6a8e711a",
            "e1e344a895934f81bc8bb6237880abe8",
            "cd979ab45d5e4afba048428cc7bfefe6",
            "274f75388b0a4bb5a1c9d53b9fcc1a56",
            "7714ce1ac2564752b14aa5454ca5f5c0",
            "074f04c8ec3a455eb9af658af01a6ac2",
            "d0e4bafceb4445df9498e349c2b7a4c3",
            "24f7b26ad6244e4bb60fbc4a4bd6fd9a"
          ]
        },
        "id": "c9biQ1JfheqQ",
        "outputId": "910acd25-0bb9-457e-a307-bea81a85e813"
      },
      "outputs": [
        {
          "data": {
            "application/vnd.jupyter.widget-view+json": {
              "model_id": "c867c5e2796e4d5a8629ef9de30d6920",
              "version_major": 2,
              "version_minor": 0
            },
            "text/plain": [
              "  0%|          | 0/1875 [00:00<?, ?it/s]"
            ]
          },
          "metadata": {},
          "output_type": "display_data"
        },
        {
          "name": "stdout",
          "output_type": "stream",
          "text": [
            "eval 0 >> loss: 5.9506, 5.9506, acc: 0.0112, 0.0091\n",
            "save best model\n"
          ]
        },
        {
          "data": {
            "application/vnd.jupyter.widget-view+json": {
              "model_id": "5f46399eb1da4bf0b9a6389d85f91b50",
              "version_major": 2,
              "version_minor": 0
            },
            "text/plain": [
              "  0%|          | 0/1875 [00:00<?, ?it/s]"
            ]
          },
          "metadata": {},
          "output_type": "display_data"
        },
        {
          "name": "stdout",
          "output_type": "stream",
          "text": [
            "eval 1 >> loss: 5.9506, 5.9506, acc: 0.0130, 0.0123\n",
            "save best model\n"
          ]
        },
        {
          "data": {
            "application/vnd.jupyter.widget-view+json": {
              "model_id": "713dcbe0b6c2484481969dd672ddfb59",
              "version_major": 2,
              "version_minor": 0
            },
            "text/plain": [
              "  0%|          | 0/1875 [00:00<?, ?it/s]"
            ]
          },
          "metadata": {},
          "output_type": "display_data"
        },
        {
          "name": "stdout",
          "output_type": "stream",
          "text": [
            "eval 2 >> loss: 5.9506, 5.9506, acc: 0.0125, 0.0097\n"
          ]
        }
      ],
      "source": [
        "loss_fn = tf.keras.losses.sparse_categorical_crossentropy\n",
        "acc_fn = tf.keras.metrics.sparse_categorical_accuracy\n",
        "\n",
        "optimizer = tf.keras.optimizers.Adam(learning_rate=5e-4)\n",
        "\n",
        "best_acc = .0\n",
        "patience = 0\n",
        "for epoch in range(3):\n",
        "    train_epoch(model, train_dataset, loss_fn, acc_fn, optimizer)\n",
        "    start_loss, end_loss, start_acc, end_acc = eval_epoch(model, dev_dataset, loss_fn, acc_fn)\n",
        "    print(f'eval {epoch} >> loss: {start_loss:0.4f}, {end_loss:0.4f}, acc: {start_acc:0.4f}, {end_acc:0.4f}')\n",
        "    acc = start_acc + end_acc\n",
        "    if best_acc < acc:\n",
        "        patience = 0\n",
        "        best_acc = acc\n",
        "        model.save_weights(os.path.join(data_dir, \"korquad_bert_none_pretrain.hdf5\"))\n",
        "        print(f'save best model')\n",
        "    else:\n",
        "        patience += 1\n",
        "    if 2 <= patience:\n",
        "        print(f'early stopping')\n",
        "        break"
      ]
    },
    {
      "cell_type": "markdown",
      "metadata": {
        "id": "w-iDOU2Kdjs6"
      },
      "source": [
        "## 9. Pretrained(사전학습) BERT 모델 사용"
      ]
    },
    {
      "cell_type": "markdown",
      "metadata": {
        "id": "mUoz2AXziCKq"
      },
      "source": [
        "### 9.1. pretrained model 로딩하기"
      ]
    },
    {
      "cell_type": "code",
      "execution_count": 134,
      "metadata": {
        "colab": {
          "base_uri": "https://localhost:8080/"
        },
        "id": "g7NcAJ-5iJ0Q",
        "outputId": "4b5d8209-6eeb-436b-8306-d11838dc4688"
      },
      "outputs": [
        {
          "output_type": "stream",
          "name": "stdout",
          "text": [
            "Model: \"BERT4KorQuAD\"\n",
            "_________________________________________________________________\n",
            " Layer (type)                Output Shape              Param #   \n",
            "=================================================================\n",
            " bert (BERT)                 multiple                  29202944  \n",
            "                                                                 \n",
            " dense_222 (Dense)           multiple                  1026      \n",
            "                                                                 \n",
            "=================================================================\n",
            "Total params: 29,203,970\n",
            "Trainable params: 29,203,970\n",
            "Non-trainable params: 0\n",
            "_________________________________________________________________\n"
          ]
        }
      ],
      "source": [
        "checkpoint_file = os.path.join(model_dir, 'bert_pretrain_32000.hdf5')\n",
        "\n",
        "model = BERT4KorQuAD(config)\n",
        "\n",
        "if os.path.exists(checkpoint_file):\n",
        "    #  pretrained model 을 로드하기 위해 먼저 모델이 생성되어 있어야 한다.\n",
        "    enc_tokens = np.random.randint(0, len(vocab), (4, 10))\n",
        "    segments = np.random.randint(0, 2, (4, 10))\n",
        "    model(enc_tokens, segments)\n",
        "    \n",
        "    # checkpoint 파일로부터 필요한 layer를 불러온다. \n",
        "    model.load_weights(os.path.join(model_dir, \"bert_pretrain_32000.hdf5\"), by_name=True)\n",
        "\n",
        "    model.summary()\n",
        "else:\n",
        "    print('NO Pretrained Model')"
      ]
    },
    {
      "cell_type": "markdown",
      "metadata": {
        "id": "k-3s4r_ciKkm"
      },
      "source": [
        "### 9.2.  finetuning?\n",
        "\n",
        "- 사전 학습 정보를 사용한다.\n",
        "- 모델의 구조 및 하이퍼파라미터 등은 이전과 동일하게 유지\n",
        "    > 데이터셋에 대한 사전학습 유무에 따른 차이를 비교하기 위해서"
      ]
    },
    {
      "cell_type": "markdown",
      "source": [
        "### 9.3. 학습"
      ],
      "metadata": {
        "id": "78AOTvkV6vAX"
      }
    },
    {
      "cell_type": "code",
      "source": [
        "loss_fn = tf.keras.losses.sparse_categorical_crossentropy\n",
        "acc_fn = tf.keras.metrics.sparse_categorical_accuracy\n",
        "\n",
        "optimizer = tf.keras.optimizers.Adam(learning_rate=5e-4)\n",
        "\n",
        "best_acc = .0\n",
        "patience = 0\n",
        "\n",
        "for epoch in range(3):\n",
        "    train_epoch(model, train_dataset, loss_fn, acc_fn, optimizer)\n",
        "    start_loss, end_loss, start_acc, end_acc = eval_epoch(model, dev_dataset, loss_fn, acc_fn)\n",
        "    print(f'eval {epoch} >> loss: {start_loss:0.4f}, {end_loss:0.4f}, acc: {start_acc:0.4f}, {end_acc:0.4f}')\n",
        "    acc = start_acc + end_acc\n",
        "    if best_acc < acc:\n",
        "        patience = 0\n",
        "        best_acc = acc\n",
        "        model.save_weights(os.path.join(data_dir, \"korquad_bert_pretrain.hdf5\"))\n",
        "        print(f'save best model')\n",
        "    else:\n",
        "        patience += 1"
      ],
      "metadata": {
        "colab": {
          "base_uri": "https://localhost:8080/",
          "height": 204,
          "referenced_widgets": [
            "1a28cee0392c42ff9b8ea717b16cec7d",
            "137841a15c4e451baa12631974841156",
            "e44d6c441355457785037b625ac5b0f8",
            "d03ffa9abc9948fd8700fe2a883a2d9f",
            "bd255bd92ef246b1aa0c35385ecbe4db",
            "e61e34f80a704ef2b55156c1fbd1bc30",
            "442f3d02d80649ac8d9253ea568f54e1",
            "97568735648e486bae1d520fc6a0cbca",
            "e3cc1c5ce58d471ea7dbf2dd55d8a619",
            "081db05e2fa44868949b4dd0d0188fcb",
            "2b8f8ee814384132be9db52d4fd0f34b",
            "e1e2dc51685e4cf6918ad46b682fcf4c",
            "d64b01f4cf4d4e95b35a75c22e335992",
            "33ff6828954c45128740d65b65e86a89",
            "c67f690047454302bb8af931cff43ebf",
            "11643a9c430a44dc93758e1ebd27e65a",
            "adeb82ce8cfc4b1fa6442cc7e26153f8",
            "ab496a1cbeaa4b159c7cfb3fa7dac128",
            "69fbe110c8854fb3bebd7aff99ba7865",
            "07be4d2d0d7342d688e1987d5021b330",
            "4e32a5ed31a646d0a6470c0f048af11f",
            "cd61786d6c6e48eb85a19cbe9ffda940",
            "e66cf9c7063c412fa82b16cb04cf2331",
            "b590c52c9eab4bbdb474a00857253076",
            "02e7288b75ec4ad7975c3415e4ada3e4",
            "2eca6555ecc943209e4cf7d3928a5b3c",
            "742223d44adf4c64bac19490d4619e00",
            "e2c04d52d46d498b9f5bec822741e594",
            "0e24efac281b4a1c9c6077fa039185eb",
            "b70194886f2542728b5d7b78f812472f",
            "b3f85cb2d34e4f31995e60c3d554bfc5",
            "8d2cc1a4101d4060b441bafb78f854f4",
            "11f1462ba22e4a908a781dcd5869ad08"
          ]
        },
        "id": "JkuzkKAx7EcS",
        "outputId": "11ebd867-ea65-494f-cabe-28378dd02cde"
      },
      "execution_count": 136,
      "outputs": [
        {
          "output_type": "display_data",
          "data": {
            "application/vnd.jupyter.widget-view+json": {
              "model_id": "1a28cee0392c42ff9b8ea717b16cec7d",
              "version_minor": 0,
              "version_major": 2
            },
            "text/plain": [
              "  0%|          | 0/1875 [00:00<?, ?it/s]"
            ]
          },
          "metadata": {}
        },
        {
          "output_type": "stream",
          "name": "stdout",
          "text": [
            "eval 0 >> loss: 1.7716, 2.0243, acc: 0.5430, 0.5021\n",
            "save best model\n"
          ]
        },
        {
          "output_type": "display_data",
          "data": {
            "application/vnd.jupyter.widget-view+json": {
              "model_id": "e1e2dc51685e4cf6918ad46b682fcf4c",
              "version_minor": 0,
              "version_major": 2
            },
            "text/plain": [
              "  0%|          | 0/1875 [00:00<?, ?it/s]"
            ]
          },
          "metadata": {}
        },
        {
          "output_type": "stream",
          "name": "stdout",
          "text": [
            "eval 1 >> loss: 1.6682, 1.9047, acc: 0.5646, 0.5251\n",
            "save best model\n"
          ]
        },
        {
          "output_type": "display_data",
          "data": {
            "application/vnd.jupyter.widget-view+json": {
              "model_id": "e66cf9c7063c412fa82b16cb04cf2331",
              "version_minor": 0,
              "version_major": 2
            },
            "text/plain": [
              "  0%|          | 0/1875 [00:00<?, ?it/s]"
            ]
          },
          "metadata": {}
        },
        {
          "output_type": "stream",
          "name": "stdout",
          "text": [
            "eval 2 >> loss: 1.9483, 2.3380, acc: 0.5499, 0.5132\n"
          ]
        }
      ]
    },
    {
      "cell_type": "markdown",
      "metadata": {
        "id": "Revi3vDLiRrs"
      },
      "source": [
        "\n",
        "### 9.4. Inference 수행하기"
      ]
    },
    {
      "cell_type": "code",
      "execution_count": 137,
      "metadata": {
        "id": "uO_TsZfeiNL2"
      },
      "outputs": [],
      "source": [
        "def do_predict(model, question, context):\n",
        "    \"\"\"\n",
        "    입력에 대한 답변 생성하는 함수\n",
        "    :param model: model\n",
        "    :param question: 입력 문자열\n",
        "    :param context: 입력 문자열\n",
        "    \"\"\"\n",
        "    q_tokens = vocab.encode_as_pieces(question)[:args.max_query_length]\n",
        "    c_tokens = vocab.encode_as_pieces(context)[:args.max_seq_length - len(q_tokens) - 3]\n",
        "    tokens = ['[CLS]'] + q_tokens + ['[SEP]'] + c_tokens + ['[SEP]']\n",
        "    token_ids = [vocab.piece_to_id(token) for token in tokens]\n",
        "    segments = [0] * (len(q_tokens) + 2) + [1] * (len(c_tokens) + 1)\n",
        "\n",
        "    y_start, y_end = model(np.array([token_ids]), np.array([segments]))\n",
        "    # print(y_start, y_end)\n",
        "    y_start_idx = K.argmax(y_start, axis=-1)[0].numpy()\n",
        "    y_end_idx = K.argmax(y_end, axis=-1)[0].numpy()\n",
        "    answer_tokens = tokens[y_start_idx:y_end_idx + 1]\n",
        "\n",
        "    return vocab.decode_pieces(answer_tokens)"
      ]
    },
    {
      "cell_type": "code",
      "execution_count": 138,
      "metadata": {
        "colab": {
          "base_uri": "https://localhost:8080/"
        },
        "id": "8DwUTeQRiVGi",
        "outputId": "c8d5f8c6-478a-455d-c73f-477428f6ac62"
      },
      "outputs": [
        {
          "output_type": "stream",
          "name": "stdout",
          "text": [
            "0\n",
            "질문 :  임종석이 여의도 농민 폭력 시위를 주도한 혐의로 지명수배 된 날은?\n",
            "지문 :  1989년 2월 15일 여의도 농민 폭력 시위를 주도한 혐의(폭력행위등처벌에관한법률위반)으로 지명수배되었다. 1989년 3월 12일 서울지방검찰청 공안부는 임종석의 사전구속영장을 발부받았다. 같은 해 6월 30일 평양축전에 임수경을 대표로 파견하여 국가보안법위반 혐의가 추가되었다. 경찰은 12월 18일~20일 사이 서울 경희대학교에서 임종석이 성명 발표를 추진하고 있다는 첩보를 입수했고, 12월 18일 오전 7시 40분 경 가스총과 전자봉으로 무장한 특공조 및 대공과 직원 12명 등 22명의 사복 경찰을 승용차 8대에 나누어 경희대학교에 투입했다. 1989년 12월 18일 오전 8시 15분 경 서울청량리경찰서는 호위 학생 5명과 함께 경희대학교 학생회관 건물 계단을 내려오는 임종석을 발견, 검거해 구속을 집행했다. 임종석은 청량리경찰서에서 약 1시간 동안 조사를 받은 뒤 오전 9시 50분 경 서울 장안동의 서울지방경찰청 공안분실로 인계되었다.\n",
            "정답 :  1989년 2월 15일\n",
            "예측 :  1989년 2월 15일 \n",
            "\n",
            "1\n",
            "질문 :  1989년 6월 30일 평양축전에 대표로 파견 된 인물은?\n",
            "지문 :  1989년 2월 15일 여의도 농민 폭력 시위를 주도한 혐의(폭력행위등처벌에관한법률위반)으로 지명수배되었다. 1989년 3월 12일 서울지방검찰청 공안부는 임종석의 사전구속영장을 발부받았다. 같은 해 6월 30일 평양축전에 임수경을 대표로 파견하여 국가보안법위반 혐의가 추가되었다. 경찰은 12월 18일~20일 사이 서울 경희대학교에서 임종석이 성명 발표를 추진하고 있다는 첩보를 입수했고, 12월 18일 오전 7시 40분 경 가스총과 전자봉으로 무장한 특공조 및 대공과 직원 12명 등 22명의 사복 경찰을 승용차 8대에 나누어 경희대학교에 투입했다. 1989년 12월 18일 오전 8시 15분 경 서울청량리경찰서는 호위 학생 5명과 함께 경희대학교 학생회관 건물 계단을 내려오는 임종석을 발견, 검거해 구속을 집행했다. 임종석은 청량리경찰서에서 약 1시간 동안 조사를 받은 뒤 오전 9시 50분 경 서울 장안동의 서울지방경찰청 공안분실로 인계되었다.\n",
            "정답 :  임수경\n",
            "예측 :  임수경을 대표로 파견하여 국가보안법위반 혐의 \n",
            "\n",
            "2\n",
            "질문 :  임종석이 여의도 농민 폭력 시위를 주도한 혐의로 지명수배된 연도는?\n",
            "지문 :  1989년 2월 15일 여의도 농민 폭력 시위를 주도한 혐의(폭력행위등처벌에관한법률위반)으로 지명수배되었다. 1989년 3월 12일 서울지방검찰청 공안부는 임종석의 사전구속영장을 발부받았다. 같은 해 6월 30일 평양축전에 임수경을 대표로 파견하여 국가보안법위반 혐의가 추가되었다. 경찰은 12월 18일~20일 사이 서울 경희대학교에서 임종석이 성명 발표를 추진하고 있다는 첩보를 입수했고, 12월 18일 오전 7시 40분 경 가스총과 전자봉으로 무장한 특공조 및 대공과 직원 12명 등 22명의 사복 경찰을 승용차 8대에 나누어 경희대학교에 투입했다. 1989년 12월 18일 오전 8시 15분 경 서울청량리경찰서는 호위 학생 5명과 함께 경희대학교 학생회관 건물 계단을 내려오는 임종석을 발견, 검거해 구속을 집행했다. 임종석은 청량리경찰서에서 약 1시간 동안 조사를 받은 뒤 오전 9시 50분 경 서울 장안동의 서울지방경찰청 공안분실로 인계되었다.\n",
            "정답 :  1989년\n",
            "예측 :  1989년 \n",
            "\n",
            "6\n",
            "질문 :  임종석이 1989년 2월 15일에 지명수배 받은 혐의는 어떤 시위를 주도했다는 것인가?\n",
            "지문 :  1989년 2월 15일 여의도 농민 폭력 시위를 주도한 혐의(폭력행위등처벌에관한법률위반)으로 지명수배되었다. 1989년 3월 12일 서울지방검찰청 공안부는 임종석의 사전구속영장을 발부받았다. 같은 해 6월 30일 평양축전에 임수경을 대표로 파견하여 국가보안법위반 혐의가 추가되었다. 경찰은 12월 18일~20일 사이 서울 경희대학교에서 임종석이 성명 발표를 추진하고 있다는 첩보를 입수했고, 12월 18일 오전 7시 40분 경 가스총과 전자봉으로 무장한 특공조 및 대공과 직원 12명 등 22명의 사복 경찰을 승용차 8대에 나누어 경희대학교에 투입했다. 1989년 12월 18일 오전 8시 15분 경 서울청량리경찰서는 호위 학생 5명과 함께 경희대학교 학생회관 건물 계단을 내려오는 임종석을 발견, 검거해 구속을 집행했다. 임종석은 청량리경찰서에서 약 1시간 동안 조사를 받은 뒤 오전 9시 50분 경 서울 장안동의 서울지방경찰청 공안분실로 인계되었다.\n",
            "정답 :  여의도 농민 폭력 시위\n",
            "예측 :  여의도 농민 폭력 시위를 주도한 혐의 \n",
            "\n",
            "7\n",
            "질문 :  정부의 헌법개정안 준비 과정에 대해서 청와대 비서실이 아니라 국무회의 중심으로 이뤄졌어야 했다고 지적한 원로 헌법학자는?\n",
            "지문 :  \"내각과 장관들이 소외되고 대통령비서실의 권한이 너무 크다\", \"행보가 비서 본연의 역할을 벗어난다\"는 의견이 제기되었다. 대표적인 예가 10차 개헌안 발표이다. 원로 헌법학자인 허영 경희대 석좌교수는 정부의 헌법개정안 준비 과정에 대해 \"청와대 비서실이 아닌 국무회의 중심으로 이뤄졌어야 했다\"고 지적했다. '국무회의의 심의를 거쳐야 한다'(제89조)는 헌법 규정에 충실하지 않았다는 것이다. 그러면서 \"법무부 장관을 제쳐놓고 민정수석이 개정안을 설명하는 게 이해가 안 된다\"고 지적했다. 민정수석은 국회의원에 대해 책임지는 법무부 장관도 아니고, 국민에 대해 책임지는 사람도 아니기 때문에 정당성이 없고, 단지 대통령의 신임이 있을 뿐이라는 것이다. 또한 국무총리 선출 방식에 대한 기자의 질문에 \"문 대통령도 취임 전에 국무총리에게 실질적 권한을 주겠다고 했지만 그러지 못하고 있다. 대통령비서실장만도 못한 권한을 행사하고 있다.\"고 답변했다.\n",
            "정답 :  허영\n",
            "예측 :  허영 \n",
            "\n",
            "9\n",
            "질문 :  국무회의의 심의를 거쳐야 한다는 헌법 제 몇 조의 내용인가?\n",
            "지문 :  \"내각과 장관들이 소외되고 대통령비서실의 권한이 너무 크다\", \"행보가 비서 본연의 역할을 벗어난다\"는 의견이 제기되었다. 대표적인 예가 10차 개헌안 발표이다. 원로 헌법학자인 허영 경희대 석좌교수는 정부의 헌법개정안 준비 과정에 대해 \"청와대 비서실이 아닌 국무회의 중심으로 이뤄졌어야 했다\"고 지적했다. '국무회의의 심의를 거쳐야 한다'(제89조)는 헌법 규정에 충실하지 않았다는 것이다. 그러면서 \"법무부 장관을 제쳐놓고 민정수석이 개정안을 설명하는 게 이해가 안 된다\"고 지적했다. 민정수석은 국회의원에 대해 책임지는 법무부 장관도 아니고, 국민에 대해 책임지는 사람도 아니기 때문에 정당성이 없고, 단지 대통령의 신임이 있을 뿐이라는 것이다. 또한 국무총리 선출 방식에 대한 기자의 질문에 \"문 대통령도 취임 전에 국무총리에게 실질적 권한을 주겠다고 했지만 그러지 못하고 있다. 대통령비서실장만도 못한 권한을 행사하고 있다.\"고 답변했다.\n",
            "정답 :  제89조\n",
            "예측 :  '국무회의의 심의를 거쳐야 한다'(제89조)는 \n",
            "\n",
            "10\n",
            "질문 :  법무부 장관을 제쳐놓고 민정수석이 개정안을 설명하는 게 이해가 안 된다고 지적한 경희대 석좌교수 이름은?\n",
            "지문 :  \"내각과 장관들이 소외되고 대통령비서실의 권한이 너무 크다\", \"행보가 비서 본연의 역할을 벗어난다\"는 의견이 제기되었다. 대표적인 예가 10차 개헌안 발표이다. 원로 헌법학자인 허영 경희대 석좌교수는 정부의 헌법개정안 준비 과정에 대해 \"청와대 비서실이 아닌 국무회의 중심으로 이뤄졌어야 했다\"고 지적했다. '국무회의의 심의를 거쳐야 한다'(제89조)는 헌법 규정에 충실하지 않았다는 것이다. 그러면서 \"법무부 장관을 제쳐놓고 민정수석이 개정안을 설명하는 게 이해가 안 된다\"고 지적했다. 민정수석은 국회의원에 대해 책임지는 법무부 장관도 아니고, 국민에 대해 책임지는 사람도 아니기 때문에 정당성이 없고, 단지 대통령의 신임이 있을 뿐이라는 것이다. 또한 국무총리 선출 방식에 대한 기자의 질문에 \"문 대통령도 취임 전에 국무총리에게 실질적 권한을 주겠다고 했지만 그러지 못하고 있다. 대통령비서실장만도 못한 권한을 행사하고 있다.\"고 답변했다.\n",
            "정답 :  허영\n",
            "예측 :  허영 \n",
            "\n",
            "12\n",
            "질문 :  로널드 레이건 정부 출범 당시 알렉산더 헤이그는 어떤 직책을 맡았는가?\n",
            "지문 :  알렉산더 메이그스 헤이그 2세(영어: Alexander Meigs Haig, Jr., 1924년 12월 2일 ~ 2010년 2월 20일)는 미국의 국무 장관을 지낸 미국의 군인, 관료 및 정치인이다. 로널드 레이건 대통령 밑에서 국무장관을 지냈으며, 리처드 닉슨과 제럴드 포드 대통령 밑에서 백악관 비서실장을 지냈다. 또한 그는 미국 군대에서 2번째로 높은 직위인 미국 육군 부참모 총장과 나토 및 미국 군대의 유럽연합군 최고사령관이었다. 한국 전쟁 시절 더글러스 맥아더 유엔군 사령관의 참모로 직접 참전하였으며, 로널드 레이건 정부 출범당시 초대 국무장관직을 맡아 1980년대 대한민국과 미국의 관계를 조율해 왔다. 저서로 회고록 《경고:현실주의, 레이건과 외교 정책》(1984년 발간)이 있다.\n",
            "정답 :  초대 국무장관직\n",
            "예측 :  초대 국무장관직을 \n",
            "\n",
            "20\n",
            "질문 :  알렉산더 헤이그가 미국 육군사관학교로 임명받은 해는 언제인가?\n",
            "지문 :  노터데임 대학교에서 2년간 합리적으로 심각한 공부를 한 후 헤이그는 1944년 미국 육군사관학교로 임명을 획득하여 자신의 어린 시절을 군사 경력의 야망으로 알아챘다. 그 경력은 헤이그의 학문적 경연이 암시하려고 한것보다 더욱 극적이었으며 그는 1947년 310의 동기병에서 217번째 사관으로서 졸업하였다. 22세의 소위로 헤이그는 처음에 캔자스 주 포트라일리에서 정통 제병 연합부대로, 그러고나서 켄터키 주 포트녹스에 있는 기갑 훈련소로 갔다. 그후에 그는 제1 기병 사단으로 선임되고 그러고나서 일본에서 점령군의 임무와 기력이 없는 훈련을 하였다. 그는 1950년 5월 한번 자신의 사령관 알론조 폭스 장군의 딸 퍼트리샤 앤토이넷 폭스와 결혼하여 슬하 3명의 자식을 두었다.\n",
            "정답 :  1944년\n",
            "예측 :  1944년 \n",
            "\n",
            "21\n",
            "질문 :  알렉산더 헤이그는 퍼트리샤 앤토이넷 폭스와 결혼해 몇 명의 자녀를 두었는가?\n",
            "지문 :  노터데임 대학교에서 2년간 합리적으로 심각한 공부를 한 후 헤이그는 1944년 미국 육군사관학교로 임명을 획득하여 자신의 어린 시절을 군사 경력의 야망으로 알아챘다. 그 경력은 헤이그의 학문적 경연이 암시하려고 한것보다 더욱 극적이었으며 그는 1947년 310의 동기병에서 217번째 사관으로서 졸업하였다. 22세의 소위로 헤이그는 처음에 캔자스 주 포트라일리에서 정통 제병 연합부대로, 그러고나서 켄터키 주 포트녹스에 있는 기갑 훈련소로 갔다. 그후에 그는 제1 기병 사단으로 선임되고 그러고나서 일본에서 점령군의 임무와 기력이 없는 훈련을 하였다. 그는 1950년 5월 한번 자신의 사령관 알론조 폭스 장군의 딸 퍼트리샤 앤토이넷 폭스와 결혼하여 슬하 3명의 자식을 두었다.\n",
            "정답 :  3명\n",
            "예측 :  3명의 \n",
            "\n",
            "22\n",
            "질문 :  헤이그가 공부한 대학교는?\n",
            "지문 :  노터데임 대학교에서 2년간 합리적으로 심각한 공부를 한 후 헤이그는 1944년 미국 육군사관학교로 임명을 획득하여 자신의 어린 시절을 군사 경력의 야망으로 알아챘다. 그 경력은 헤이그의 학문적 경연이 암시하려고 한것보다 더욱 극적이었으며 그는 1947년 310의 동기병에서 217번째 사관으로서 졸업하였다. 22세의 소위로 헤이그는 처음에 캔자스 주 포트라일리에서 정통 제병 연합부대로, 그러고나서 켄터키 주 포트녹스에 있는 기갑 훈련소로 갔다. 그후에 그는 제1 기병 사단으로 선임되고 그러고나서 일본에서 점령군의 임무와 기력이 없는 훈련을 하였다. 그는 1950년 5월 한번 자신의 사령관 알론조 폭스 장군의 딸 퍼트리샤 앤토이넷 폭스와 결혼하여 슬하 3명의 자식을 두었다.\n",
            "정답 :  노터데임 대학교\n",
            "예측 :  노터데임 대학교에서 \n",
            "\n",
            "24\n",
            "질문 :  알렉산더 헤이그가 나온 대학교는?\n",
            "지문 :  노터데임 대학교에서 2년간 합리적으로 심각한 공부를 한 후 헤이그는 1944년 미국 육군사관학교로 임명을 획득하여 자신의 어린 시절을 군사 경력의 야망으로 알아챘다. 그 경력은 헤이그의 학문적 경연이 암시하려고 한것보다 더욱 극적이었으며 그는 1947년 310의 동기병에서 217번째 사관으로서 졸업하였다. 22세의 소위로 헤이그는 처음에 캔자스 주 포트라일리에서 정통 제병 연합부대로, 그러고나서 켄터키 주 포트녹스에 있는 기갑 훈련소로 갔다. 그후에 그는 제1 기병 사단으로 선임되고 그러고나서 일본에서 점령군의 임무와 기력이 없는 훈련을 하였다. 그는 1950년 5월 한번 자신의 사령관 알론조 폭스 장군의 딸 퍼트리샤 앤토이넷 폭스와 결혼하여 슬하 3명의 자식을 두었다.\n",
            "정답 :  노터데임 대학교\n",
            "예측 :  노터데임 대학교에서 \n",
            "\n",
            "27\n",
            "질문 :  헤이그가 군에서 퇴역한 해는 언제인가?\n",
            "지문 :  헤이그는 닉슨 대통령이 그를 사성 장군과 육군 부참모로 진급시킬 때 집중 광선과 논쟁으로 들어갔다. 헤이그를 군사의 최상으로 밀어넣은 닉슨의 행동은 대통령의 남자들을 다양한 연방 대리법에서 권한의 직우들로 놓은 노력과 함께 일치였다. 하지만 그는 곧 백악관으로 돌아가 1973년부터 1974년까지 대통령 특별 보좌관을 지냈다. 워터게이트 사건이 일어난지 한달 후, 헤이그는 포위된 닉슨 대통령을 위한 치명적 역할을 하였다. 그일은 8월 닉슨의 사임과 제럴드 포드의 대통령으로 계승으로 이끈 협상들에서 헤이그가 수단이었던 우연이 아니었다. 곧 후에 헤이그는 미국 유럽 연합군 최고사령부의 최고 사령관으로 임명되었다. 그는 나토에서 다음 5년을 보내고 1979년 군에서 퇴역하여 미국 기술 주식 회사의 우두머리가 되었다.\n",
            "정답 :  1979년\n",
            "예측 :  1979년 \n",
            "\n",
            "30\n",
            "질문 :  헤이그가 군에서 퇴역한 년도는 몇년도입니까?\n",
            "지문 :  헤이그는 닉슨 대통령이 그를 사성 장군과 육군 부참모로 진급시킬 때 집중 광선과 논쟁으로 들어갔다. 헤이그를 군사의 최상으로 밀어넣은 닉슨의 행동은 대통령의 남자들을 다양한 연방 대리법에서 권한의 직우들로 놓은 노력과 함께 일치였다. 하지만 그는 곧 백악관으로 돌아가 1973년부터 1974년까지 대통령 특별 보좌관을 지냈다. 워터게이트 사건이 일어난지 한달 후, 헤이그는 포위된 닉슨 대통령을 위한 치명적 역할을 하였다. 그일은 8월 닉슨의 사임과 제럴드 포드의 대통령으로 계승으로 이끈 협상들에서 헤이그가 수단이었던 우연이 아니었다. 곧 후에 헤이그는 미국 유럽 연합군 최고사령부의 최고 사령관으로 임명되었다. 그는 나토에서 다음 5년을 보내고 1979년 군에서 퇴역하여 미국 기술 주식 회사의 우두머리가 되었다.\n",
            "정답 :  1979년\n",
            "예측 :  5년을 보내고 1979년 \n",
            "\n",
            "32\n",
            "질문 :  헤이그가 군대에서 퇴역한 년도는?\n",
            "지문 :  헤이그는 닉슨 대통령이 그를 사성 장군과 육군 부참모로 진급시킬 때 집중 광선과 논쟁으로 들어갔다. 헤이그를 군사의 최상으로 밀어넣은 닉슨의 행동은 대통령의 남자들을 다양한 연방 대리법에서 권한의 직우들로 놓은 노력과 함께 일치였다. 하지만 그는 곧 백악관으로 돌아가 1973년부터 1974년까지 대통령 특별 보좌관을 지냈다. 워터게이트 사건이 일어난지 한달 후, 헤이그는 포위된 닉슨 대통령을 위한 치명적 역할을 하였다. 그일은 8월 닉슨의 사임과 제럴드 포드의 대통령으로 계승으로 이끈 협상들에서 헤이그가 수단이었던 우연이 아니었다. 곧 후에 헤이그는 미국 유럽 연합군 최고사령부의 최고 사령관으로 임명되었다. 그는 나토에서 다음 5년을 보내고 1979년 군에서 퇴역하여 미국 기술 주식 회사의 우두머리가 되었다.\n",
            "정답 :  1979년\n",
            "예측 :  1979년 \n",
            "\n",
            "34\n",
            "질문 :  알렉산더 헤이그는 레이건의 조언자들을 무엇이라고 묘사하였는가?\n",
            "지문 :  그의 편에 헤이그는 지구촌의 논점들의 국내적 정치 노력들에 관해서만 근심한 레이건의 가까운 조언자들을 \"외교 정책의 아마추어\"로 묘사하였다. 1982년 6월 25일 결국적으로 온 그의 국무장관으로서 사임은 불가능한 상황이 된 것을 끝냈다. 헤이그는 개인적 생활로 돌아갔다가 1988년 대통령 선거를 위한 공화당 후보직을 안정시키는 시도를 하는 데 충분하게 정계로 돌아갔으나 후보직을 이기는 데 성원을 가지지 않았다. 그는 외교 정책 논쟁들에 연설자로서 활동적으로 남아있었으나 그의 전념은 정치에서 개인적 생활로 옮겨졌다. 그는 Worldwide Associates Inc.의 국제적 상담 회사에 의하여 기용되었고, 그 기구의 의장과 회장이 되었다.\n",
            "정답 :  외교 정책의 아마추어\n",
            "예측 :  \"외교 정책의 아마추어\"로 \n",
            "\n",
            "35\n",
            "질문 :  헤이그가 사적생활을 하다가 정계로 돌아갔던 해는 언제인가?\n",
            "지문 :  그의 편에 헤이그는 지구촌의 논점들의 국내적 정치 노력들에 관해서만 근심한 레이건의 가까운 조언자들을 \"외교 정책의 아마추어\"로 묘사하였다. 1982년 6월 25일 결국적으로 온 그의 국무장관으로서 사임은 불가능한 상황이 된 것을 끝냈다. 헤이그는 개인적 생활로 돌아갔다가 1988년 대통령 선거를 위한 공화당 후보직을 안정시키는 시도를 하는 데 충분하게 정계로 돌아갔으나 후보직을 이기는 데 성원을 가지지 않았다. 그는 외교 정책 논쟁들에 연설자로서 활동적으로 남아있었으나 그의 전념은 정치에서 개인적 생활로 옮겨졌다. 그는 Worldwide Associates Inc.의 국제적 상담 회사에 의하여 기용되었고, 그 기구의 의장과 회장이 되었다.\n",
            "정답 :  1988년\n",
            "예측 :  1988년 \n",
            "\n",
            "37\n",
            "질문 :  헤이그가 정계로 돌아간 년도는 몇년도입니까?\n",
            "지문 :  그의 편에 헤이그는 지구촌의 논점들의 국내적 정치 노력들에 관해서만 근심한 레이건의 가까운 조언자들을 \"외교 정책의 아마추어\"로 묘사하였다. 1982년 6월 25일 결국적으로 온 그의 국무장관으로서 사임은 불가능한 상황이 된 것을 끝냈다. 헤이그는 개인적 생활로 돌아갔다가 1988년 대통령 선거를 위한 공화당 후보직을 안정시키는 시도를 하는 데 충분하게 정계로 돌아갔으나 후보직을 이기는 데 성원을 가지지 않았다. 그는 외교 정책 논쟁들에 연설자로서 활동적으로 남아있었으나 그의 전념은 정치에서 개인적 생활로 옮겨졌다. 그는 Worldwide Associates Inc.의 국제적 상담 회사에 의하여 기용되었고, 그 기구의 의장과 회장이 되었다.\n",
            "정답 :  1988년\n",
            "예측 :  1988년 \n",
            "\n",
            "38\n",
            "질문 :  레이건 대통령의 조언자들을 헤이그는 무엇이라고 묘사하였나?\n",
            "지문 :  그의 편에 헤이그는 지구촌의 논점들의 국내적 정치 노력들에 관해서만 근심한 레이건의 가까운 조언자들을 \"외교 정책의 아마추어\"로 묘사하였다. 1982년 6월 25일 결국적으로 온 그의 국무장관으로서 사임은 불가능한 상황이 된 것을 끝냈다. 헤이그는 개인적 생활로 돌아갔다가 1988년 대통령 선거를 위한 공화당 후보직을 안정시키는 시도를 하는 데 충분하게 정계로 돌아갔으나 후보직을 이기는 데 성원을 가지지 않았다. 그는 외교 정책 논쟁들에 연설자로서 활동적으로 남아있었으나 그의 전념은 정치에서 개인적 생활로 옮겨졌다. 그는 Worldwide Associates Inc.의 국제적 상담 회사에 의하여 기용되었고, 그 기구의 의장과 회장이 되었다.\n",
            "정답 :  외교 정책의 아마추어\n",
            "예측 :  \"외교 정책의 아마추어\"로 \n",
            "\n",
            "40\n",
            "질문 :  하나님의 명령에 배를 만들고 가족과 짐승들을 배에 태워 홍수를 피한 사람은 누구인가?\n",
            "지문 :  노아는 하나님의 명령에 따라 배를 만들고 가족과 정결한 짐승 암수 일곱 마리씩, 부정한 짐승 암수 한 마리씩(혹은 두 마리씩; 사본에 따라 다름), 그리고 새 암수 일곱 마리씩을 싣고 밀어닥친 홍수를 피하였다. 모든 사람들이 타락한 생활에 빠져 있어 하나님이 홍수로 심판하려 할 때 홀로 바르게 살던 노아는 하나님의 특별한 계시로 홍수가 올 것을 미리 알게 된다. 그는 길이 300 규빗, 너비 50 규빗, 높이 30 규빗(고대의 1규빗은 팔꿈치에서 가운데 손가락끝까지의 길이로 약 45~46cm를 가리킴), 상 ·중 ·하 3층으로 된 방주를 만들어 8명의 가족과, 한 쌍씩의 여러 동물을 데리고 이 방주에 탄다. 대홍수를 만나 모든 생물(물고기 제외)이 전멸하고 말았지만, 이 방주에 탔던 노아의 가족과 동물들은 살아 남았다고 한다.〈창세기〉 6장 14~16절에 보면 길이 300규빗 (약 135m), 폭 50 규빗 (약 22.5m), 높이 30 규빗 (약 13.5m)인 이 배는 지붕과 문을 달고 배 안은 3층으로 만들어져 있었다. 선체(船體)는 고페르나무(잣나무)로 되고 안쪽에는 역청(아스팔트와 비슷한 성분)을 칠하여 굳혔다고 기록하고 있다.\n",
            "정답 :  노아\n",
            "예측 :  노아는 \n",
            "\n",
            "42\n",
            "질문 :  노아의 방주의 선체는 어떠한 나무로 만들었는가?\n",
            "지문 :  노아는 하나님의 명령에 따라 배를 만들고 가족과 정결한 짐승 암수 일곱 마리씩, 부정한 짐승 암수 한 마리씩(혹은 두 마리씩; 사본에 따라 다름), 그리고 새 암수 일곱 마리씩을 싣고 밀어닥친 홍수를 피하였다. 모든 사람들이 타락한 생활에 빠져 있어 하나님이 홍수로 심판하려 할 때 홀로 바르게 살던 노아는 하나님의 특별한 계시로 홍수가 올 것을 미리 알게 된다. 그는 길이 300 규빗, 너비 50 규빗, 높이 30 규빗(고대의 1규빗은 팔꿈치에서 가운데 손가락끝까지의 길이로 약 45~46cm를 가리킴), 상 ·중 ·하 3층으로 된 방주를 만들어 8명의 가족과, 한 쌍씩의 여러 동물을 데리고 이 방주에 탄다. 대홍수를 만나 모든 생물(물고기 제외)이 전멸하고 말았지만, 이 방주에 탔던 노아의 가족과 동물들은 살아 남았다고 한다.〈창세기〉 6장 14~16절에 보면 길이 300규빗 (약 135m), 폭 50 규빗 (약 22.5m), 높이 30 규빗 (약 13.5m)인 이 배는 지붕과 문을 달고 배 안은 3층으로 만들어져 있었다. 선체(船體)는 고페르나무(잣나무)로 되고 안쪽에는 역청(아스팔트와 비슷한 성분)을 칠하여 굳혔다고 기록하고 있다.\n",
            "정답 :  고페르나무\n",
            "예측 :  고페르나무 \n",
            "\n",
            "43\n",
            "질문 :  노아는 누구의 명령에 따라 배를 만들고 가족과 동물들을 태웠는가?\n",
            "지문 :  노아는 하나님의 명령에 따라 배를 만들고 가족과 정결한 짐승 암수 일곱 마리씩, 부정한 짐승 암수 한 마리씩(혹은 두 마리씩; 사본에 따라 다름), 그리고 새 암수 일곱 마리씩을 싣고 밀어닥친 홍수를 피하였다. 모든 사람들이 타락한 생활에 빠져 있어 하나님이 홍수로 심판하려 할 때 홀로 바르게 살던 노아는 하나님의 특별한 계시로 홍수가 올 것을 미리 알게 된다. 그는 길이 300 규빗, 너비 50 규빗, 높이 30 규빗(고대의 1규빗은 팔꿈치에서 가운데 손가락끝까지의 길이로 약 45~46cm를 가리킴), 상 ·중 ·하 3층으로 된 방주를 만들어 8명의 가족과, 한 쌍씩의 여러 동물을 데리고 이 방주에 탄다. 대홍수를 만나 모든 생물(물고기 제외)이 전멸하고 말았지만, 이 방주에 탔던 노아의 가족과 동물들은 살아 남았다고 한다.〈창세기〉 6장 14~16절에 보면 길이 300규빗 (약 135m), 폭 50 규빗 (약 22.5m), 높이 30 규빗 (약 13.5m)인 이 배는 지붕과 문을 달고 배 안은 3층으로 만들어져 있었다. 선체(船體)는 고페르나무(잣나무)로 되고 안쪽에는 역청(아스팔트와 비슷한 성분)을 칠하여 굳혔다고 기록하고 있다.\n",
            "정답 :  하나님\n",
            "예측 :  하나님의 \n",
            "\n",
            "44\n",
            "질문 :  노아의 방주는 몇층으로 구성되어 있었는가?\n",
            "지문 :  노아는 하나님의 명령에 따라 배를 만들고 가족과 정결한 짐승 암수 일곱 마리씩, 부정한 짐승 암수 한 마리씩(혹은 두 마리씩; 사본에 따라 다름), 그리고 새 암수 일곱 마리씩을 싣고 밀어닥친 홍수를 피하였다. 모든 사람들이 타락한 생활에 빠져 있어 하나님이 홍수로 심판하려 할 때 홀로 바르게 살던 노아는 하나님의 특별한 계시로 홍수가 올 것을 미리 알게 된다. 그는 길이 300 규빗, 너비 50 규빗, 높이 30 규빗(고대의 1규빗은 팔꿈치에서 가운데 손가락끝까지의 길이로 약 45~46cm를 가리킴), 상 ·중 ·하 3층으로 된 방주를 만들어 8명의 가족과, 한 쌍씩의 여러 동물을 데리고 이 방주에 탄다. 대홍수를 만나 모든 생물(물고기 제외)이 전멸하고 말았지만, 이 방주에 탔던 노아의 가족과 동물들은 살아 남았다고 한다.〈창세기〉 6장 14~16절에 보면 길이 300규빗 (약 135m), 폭 50 규빗 (약 22.5m), 높이 30 규빗 (약 13.5m)인 이 배는 지붕과 문을 달고 배 안은 3층으로 만들어져 있었다. 선체(船體)는 고페르나무(잣나무)로 되고 안쪽에는 역청(아스팔트와 비슷한 성분)을 칠하여 굳혔다고 기록하고 있다.\n",
            "정답 :  3층\n",
            "예측 :  3층으로 \n",
            "\n",
            "45\n",
            "질문 :  노아의 방주에 안쪽에 발라 굳힌 것은?\n",
            "지문 :  노아는 하나님의 명령에 따라 배를 만들고 가족과 정결한 짐승 암수 일곱 마리씩, 부정한 짐승 암수 한 마리씩(혹은 두 마리씩; 사본에 따라 다름), 그리고 새 암수 일곱 마리씩을 싣고 밀어닥친 홍수를 피하였다. 모든 사람들이 타락한 생활에 빠져 있어 하나님이 홍수로 심판하려 할 때 홀로 바르게 살던 노아는 하나님의 특별한 계시로 홍수가 올 것을 미리 알게 된다. 그는 길이 300 규빗, 너비 50 규빗, 높이 30 규빗(고대의 1규빗은 팔꿈치에서 가운데 손가락끝까지의 길이로 약 45~46cm를 가리킴), 상 ·중 ·하 3층으로 된 방주를 만들어 8명의 가족과, 한 쌍씩의 여러 동물을 데리고 이 방주에 탄다. 대홍수를 만나 모든 생물(물고기 제외)이 전멸하고 말았지만, 이 방주에 탔던 노아의 가족과 동물들은 살아 남았다고 한다.〈창세기〉 6장 14~16절에 보면 길이 300규빗 (약 135m), 폭 50 규빗 (약 22.5m), 높이 30 규빗 (약 13.5m)인 이 배는 지붕과 문을 달고 배 안은 3층으로 만들어져 있었다. 선체(船體)는 고페르나무(잣나무)로 되고 안쪽에는 역청(아스팔트와 비슷한 성분)을 칠하여 굳혔다고 기록하고 있다.\n",
            "정답 :  역청\n",
            "예측 :  역청 \n",
            "\n",
            "47\n",
            "질문 :  노아의 방주는 총 몇층으로 되어 있었는가?\n",
            "지문 :  노아는 하나님의 명령에 따라 배를 만들고 가족과 정결한 짐승 암수 일곱 마리씩, 부정한 짐승 암수 한 마리씩(혹은 두 마리씩; 사본에 따라 다름), 그리고 새 암수 일곱 마리씩을 싣고 밀어닥친 홍수를 피하였다. 모든 사람들이 타락한 생활에 빠져 있어 하나님이 홍수로 심판하려 할 때 홀로 바르게 살던 노아는 하나님의 특별한 계시로 홍수가 올 것을 미리 알게 된다. 그는 길이 300 규빗, 너비 50 규빗, 높이 30 규빗(고대의 1규빗은 팔꿈치에서 가운데 손가락끝까지의 길이로 약 45~46cm를 가리킴), 상 ·중 ·하 3층으로 된 방주를 만들어 8명의 가족과, 한 쌍씩의 여러 동물을 데리고 이 방주에 탄다. 대홍수를 만나 모든 생물(물고기 제외)이 전멸하고 말았지만, 이 방주에 탔던 노아의 가족과 동물들은 살아 남았다고 한다.〈창세기〉 6장 14~16절에 보면 길이 300규빗 (약 135m), 폭 50 규빗 (약 22.5m), 높이 30 규빗 (약 13.5m)인 이 배는 지붕과 문을 달고 배 안은 3층으로 만들어져 있었다. 선체(船體)는 고페르나무(잣나무)로 되고 안쪽에는 역청(아스팔트와 비슷한 성분)을 칠하여 굳혔다고 기록하고 있다.\n",
            "정답 :  3층\n",
            "예측 :  3층으로 \n",
            "\n",
            "51\n",
            "질문 :  역사학과 과학의 발달이 미비했을 때 전통 신학계에서는 어떠한 시작으로 노아의 방주를 역사적 사실로 기술하였는가?\n",
            "지문 :  역사학과 과학이 발달하지 않았던 과거 전통 신학계에서는 근본주의적 시각을 받아들여 노아의 방주를 역사적 사실로 기술하려 했으며, 이러한 관점은 아직도 과학과 역사학에 어두운 보수적 근본주의계열의 개신교에서만 받아들여지고 있다. 하지만 역사학과 과학의 발달로 인해, 노아의 방주의 실존에 대한 의문이 제기가 되고, 세계적 홍수가 존재할 수 없음이 밝혀짐에 따라 현대 신학계에서는 비록 노아의 홍수가 과학적으로 실존하지는 않았지만 그 자체의 의미는 신학적으로 매우 중요하며, 이에 대한 해석은 다양하게 이루어지고 있으며, 대부분의 기독교(가톨릭, 개신교를 포함한 대부분)에서는 노아의 방주는 상징적 의미로 받아들여진다. 그러므로 과학과는 상관없이 신학적으로 노아의 방주 자체의 의미는 중요하게 해석된다고 한다\n",
            "정답 :  근본주의적\n",
            "예측 :  근본주의적 시각 \n",
            "\n",
            "52\n",
            "질문 :  전통 신학계의 근본주의적 시작을 여전히 받아들여 노아의 방주를 역사적 사실로 인식하는 집단은?\n",
            "지문 :  역사학과 과학이 발달하지 않았던 과거 전통 신학계에서는 근본주의적 시각을 받아들여 노아의 방주를 역사적 사실로 기술하려 했으며, 이러한 관점은 아직도 과학과 역사학에 어두운 보수적 근본주의계열의 개신교에서만 받아들여지고 있다. 하지만 역사학과 과학의 발달로 인해, 노아의 방주의 실존에 대한 의문이 제기가 되고, 세계적 홍수가 존재할 수 없음이 밝혀짐에 따라 현대 신학계에서는 비록 노아의 홍수가 과학적으로 실존하지는 않았지만 그 자체의 의미는 신학적으로 매우 중요하며, 이에 대한 해석은 다양하게 이루어지고 있으며, 대부분의 기독교(가톨릭, 개신교를 포함한 대부분)에서는 노아의 방주는 상징적 의미로 받아들여진다. 그러므로 과학과는 상관없이 신학적으로 노아의 방주 자체의 의미는 중요하게 해석된다고 한다\n",
            "정답 :  보수적 근본주의계열의 개신교\n",
            "예측 :  역사학과 과학이 발달하지 않았던 과거 전통 신학계에서는 근본주의적 시각을 받아들여 노아의 방주를 역사적 사실로 기술하려 했으며, 이러한 관점은 아직도 과학과 역사학에 어두운 보수적 근본주의계열의 개신교 \n",
            "\n",
            "58\n",
            "질문 :  고대사회에서 성경은 교리를 다루는 책일 뿐만 아니라 어떤 책으로도 권위가 상당했는가?\n",
            "지문 :  역사학과 과학의 발달이 더뎠던 고대사회에서는, 성경이 단순한 교리적인 부분 뿐 아니라 역사책으로서의 권위도 높았기에 노아의 방주를 역사적인 존재로서 다루고 있었다. 이는 제칠일안식교에서 비롯된 의사과학의 한 종류인 유사지질학인 홍수지질학과 같은 것에 영향을 주었으며, 과거 신학에서는 이러한 근본주의적 해석을 받아들여 역사와 사회적인 모든 부분에 있어 성경을 교과서로 채택할 것을 촉구했다. 이러한 홍수지질학을 주장했던 유사지질학자들은 성경에 나오는 노아의 홍수가 어딘가에 그 흔적이 남아 있을것이라고 주장하며 노아의 방주를 찾기 위한 노력을 했다고 주장한다. 이들은 같은 메소포타미아 지방의 신화인 이슬람교 경전이나 길가메쉬 서사시등의 신화를 들어서 이를 근거라고 주장하기도 했다. 그러나 이러한 전통적 근본주의적 시각은 과거에는 상당히 힘을 얻었으나, 역사학과 과학의 발달에 따라 힘을 잃게 되었고, 홍수지질학은 유사과학으로서 남게 되었다. 현대에는 뒤의 실존논란에서 다루는 것처럼 이러한 근본주의적 해석은 비과학적인 해석으로 여기는 것이 일반적이지만, 남침례교로 대표되는 극보수주의계열 기독교에서는 아직도 이것이 받아들여지고 있다.\n",
            "정답 :  역사책\n",
            "예측 :  역사책으로서의 \n",
            "\n",
            "59\n",
            "질문 :  역사학과 과학의 발달로 홍수지질학은 어떤 과학으로 남게 되었는가?\n",
            "지문 :  역사학과 과학의 발달이 더뎠던 고대사회에서는, 성경이 단순한 교리적인 부분 뿐 아니라 역사책으로서의 권위도 높았기에 노아의 방주를 역사적인 존재로서 다루고 있었다. 이는 제칠일안식교에서 비롯된 의사과학의 한 종류인 유사지질학인 홍수지질학과 같은 것에 영향을 주었으며, 과거 신학에서는 이러한 근본주의적 해석을 받아들여 역사와 사회적인 모든 부분에 있어 성경을 교과서로 채택할 것을 촉구했다. 이러한 홍수지질학을 주장했던 유사지질학자들은 성경에 나오는 노아의 홍수가 어딘가에 그 흔적이 남아 있을것이라고 주장하며 노아의 방주를 찾기 위한 노력을 했다고 주장한다. 이들은 같은 메소포타미아 지방의 신화인 이슬람교 경전이나 길가메쉬 서사시등의 신화를 들어서 이를 근거라고 주장하기도 했다. 그러나 이러한 전통적 근본주의적 시각은 과거에는 상당히 힘을 얻었으나, 역사학과 과학의 발달에 따라 힘을 잃게 되었고, 홍수지질학은 유사과학으로서 남게 되었다. 현대에는 뒤의 실존논란에서 다루는 것처럼 이러한 근본주의적 해석은 비과학적인 해석으로 여기는 것이 일반적이지만, 남침례교로 대표되는 극보수주의계열 기독교에서는 아직도 이것이 받아들여지고 있다.\n",
            "정답 :  유사과학\n",
            "예측 :  유사과학 \n",
            "\n",
            "63\n",
            "질문 :  노아의 방주가 역사적으로 실재했다는 주장은 무엇이 존재하지 않아 학계로부터 전혀 인정받지 못하고 있는가?\n",
            "지문 :  물론 노아의 방주가 신학과 신앙에서 중요한 영향을 차지하는 것은 사실이나, 현재 노아의 방주가 역사적으로 실존한다는 주장은 그 증거가 존재하지 않기에 관련 학계로부터 전혀 인정받지 못하고 있으며 그 실존과 안정성에 대한 수많은 논란이 있다. 한국창조과학회 등에서는 제칠일안식교를 기반으로 한 홍수지질학적 주장들을을 내어 놓고 있지만, 사실과 다른 근거들을 바탕으로 주장하므로 신뢰하기 힘든 것들이 전부라 할 수 있다. 그러므로 현재 노아의 방주가 실존한다는 주장은 그 증거가 존재하지 않기에 관련 학계로부터 전혀 인정받지 못하고 있다. 모든 과학관련 학계에서는 노아의 방주의 구조나 재질등이 실제로 존재할 수 없는 설화속 이야기라는 데에 동의하고 있다.\n",
            "정답 :  증거\n",
            "예측 :  증거가 \n",
            "\n",
            "64\n",
            "질문 :  한국에서 홍수지질학적 주장들을 내어 놓고 있는 집단은?\n",
            "지문 :  물론 노아의 방주가 신학과 신앙에서 중요한 영향을 차지하는 것은 사실이나, 현재 노아의 방주가 역사적으로 실존한다는 주장은 그 증거가 존재하지 않기에 관련 학계로부터 전혀 인정받지 못하고 있으며 그 실존과 안정성에 대한 수많은 논란이 있다. 한국창조과학회 등에서는 제칠일안식교를 기반으로 한 홍수지질학적 주장들을을 내어 놓고 있지만, 사실과 다른 근거들을 바탕으로 주장하므로 신뢰하기 힘든 것들이 전부라 할 수 있다. 그러므로 현재 노아의 방주가 실존한다는 주장은 그 증거가 존재하지 않기에 관련 학계로부터 전혀 인정받지 못하고 있다. 모든 과학관련 학계에서는 노아의 방주의 구조나 재질등이 실제로 존재할 수 없는 설화속 이야기라는 데에 동의하고 있다.\n",
            "정답 :  한국창조과학회\n",
            "예측 :  한국창조과학회 \n",
            "\n",
            "66\n",
            "질문 :  2012년 중국에서 노아의 방주가 발견되었다는 보도를 한 방송사는 어디인가?\n",
            "지문 :  일반적으로 터키의 아라랏 산의 경우, 실제 성경 속에 등장하는 아라랏 산은 지금 아라랏이라 불리는 하나의 산이 아니라 당시 아라랏이라고 불리던 광대한 지역의 산들을 모두 가리키는 표현이라는 주장도 나와 있으며, 또한 목재로 만들어진 방주가 현재까지 남아있을 수는 없다는 비판도 받고 있다. 예를 들어, 1955년 프랑스의 탐험가인 Fernand Navarra가 발견한 목재 파편의 경우, 스페인의 임업 연구소에서 목재의 특성을 토대로 5000년 전의 것이라고 밝히긴 했으나 그 신빙성에 문제점이 있었고 후에 방사성 동위원소 측정법 등의 첨단 과학의 도움을 받은 5개 연구소에서 모두 기원 이후의 시기로 연대를 측정했다. 2009년 뿐 아니라 거의 수년에 한번씩 어디선가 노아의 방주를 발견했다는 주장들이 제시되었지만, 심지어 같은 창조과학을 주장하는 사람들에게조차 비판받을 정도였다. 노아의 방주가 다른 여러 지방에서 발견되었다는 주장이 있으나 너무나 다양한 지방(중국, 터키, 인도 등)에 걸쳐있고, 그 주장도 각각 제각각이므로 신빙성이 없다. 예를 들자면, 중국 BTV에서는 2012년에 중국에서 노아의 방주가 발견되었다는 보도를 하였는데, 이것은 창조과학회에서 주장하는 장소와는 전혀 다른곳이기도 하며, 화석화가 진행되지 않은 나무의 존재등으로 가짜임이 밝혀졌다. 때때로 일부 \"학자\"라 칭하는 사람들이 이를 찾기 위해 노력한다고 주장하지만, 이는 학계에서 유사지질학으로 평가되고 있다.\n",
            "정답 :  BTV\n",
            "예측 :  중국 BTV \n",
            "\n",
            "68\n",
            "질문 :  중국에서 2012년 발견되었다고 주장한 노아의 방주는 화석화가 진행되지 않은 무엇때문에 가짜임이 밝혀졌는가?\n",
            "지문 :  일반적으로 터키의 아라랏 산의 경우, 실제 성경 속에 등장하는 아라랏 산은 지금 아라랏이라 불리는 하나의 산이 아니라 당시 아라랏이라고 불리던 광대한 지역의 산들을 모두 가리키는 표현이라는 주장도 나와 있으며, 또한 목재로 만들어진 방주가 현재까지 남아있을 수는 없다는 비판도 받고 있다. 예를 들어, 1955년 프랑스의 탐험가인 Fernand Navarra가 발견한 목재 파편의 경우, 스페인의 임업 연구소에서 목재의 특성을 토대로 5000년 전의 것이라고 밝히긴 했으나 그 신빙성에 문제점이 있었고 후에 방사성 동위원소 측정법 등의 첨단 과학의 도움을 받은 5개 연구소에서 모두 기원 이후의 시기로 연대를 측정했다. 2009년 뿐 아니라 거의 수년에 한번씩 어디선가 노아의 방주를 발견했다는 주장들이 제시되었지만, 심지어 같은 창조과학을 주장하는 사람들에게조차 비판받을 정도였다. 노아의 방주가 다른 여러 지방에서 발견되었다는 주장이 있으나 너무나 다양한 지방(중국, 터키, 인도 등)에 걸쳐있고, 그 주장도 각각 제각각이므로 신빙성이 없다. 예를 들자면, 중국 BTV에서는 2012년에 중국에서 노아의 방주가 발견되었다는 보도를 하였는데, 이것은 창조과학회에서 주장하는 장소와는 전혀 다른곳이기도 하며, 화석화가 진행되지 않은 나무의 존재등으로 가짜임이 밝혀졌다. 때때로 일부 \"학자\"라 칭하는 사람들이 이를 찾기 위해 노력한다고 주장하지만, 이는 학계에서 유사지질학으로 평가되고 있다.\n",
            "정답 :  나무\n",
            "예측 :  나무의 존재등으로 \n",
            "\n",
            "70\n",
            "질문 :  2012년 중국 BTV에서 노아의 방주가 발견되었다고 보도한 나라는?\n",
            "지문 :  일반적으로 터키의 아라랏 산의 경우, 실제 성경 속에 등장하는 아라랏 산은 지금 아라랏이라 불리는 하나의 산이 아니라 당시 아라랏이라고 불리던 광대한 지역의 산들을 모두 가리키는 표현이라는 주장도 나와 있으며, 또한 목재로 만들어진 방주가 현재까지 남아있을 수는 없다는 비판도 받고 있다. 예를 들어, 1955년 프랑스의 탐험가인 Fernand Navarra가 발견한 목재 파편의 경우, 스페인의 임업 연구소에서 목재의 특성을 토대로 5000년 전의 것이라고 밝히긴 했으나 그 신빙성에 문제점이 있었고 후에 방사성 동위원소 측정법 등의 첨단 과학의 도움을 받은 5개 연구소에서 모두 기원 이후의 시기로 연대를 측정했다. 2009년 뿐 아니라 거의 수년에 한번씩 어디선가 노아의 방주를 발견했다는 주장들이 제시되었지만, 심지어 같은 창조과학을 주장하는 사람들에게조차 비판받을 정도였다. 노아의 방주가 다른 여러 지방에서 발견되었다는 주장이 있으나 너무나 다양한 지방(중국, 터키, 인도 등)에 걸쳐있고, 그 주장도 각각 제각각이므로 신빙성이 없다. 예를 들자면, 중국 BTV에서는 2012년에 중국에서 노아의 방주가 발견되었다는 보도를 하였는데, 이것은 창조과학회에서 주장하는 장소와는 전혀 다른곳이기도 하며, 화석화가 진행되지 않은 나무의 존재등으로 가짜임이 밝혀졌다. 때때로 일부 \"학자\"라 칭하는 사람들이 이를 찾기 위해 노력한다고 주장하지만, 이는 학계에서 유사지질학으로 평가되고 있다.\n",
            "정답 :  중국\n",
            "예측 :  중국에서 \n",
            "\n",
            "76\n",
            "질문 :  담수와 염수가 급작스럽게 섞일 경우 대부분의 수생생물이 폐사하는 원인은?\n",
            "지문 :  기독교 성경 내용에는 모든 종들을 방주에 태운다고 이야기하고 있으나, 어류나 수중 생물에 대해서는 언급하지 않았다. 이것을 신학적 의미로만 받아들이면 괜찮은 문제이나, 이 현상이 실제로 일어났다고 가정할 경우,이는 종 간 생존 환경의 차이에 대해서 간과하고 있다. 수중 생물이라 하더라도 종에 따라 생존할 수 있는 환경은 각각 다른 것이며, 40일 이내에 현존하는 가장 높은 산인 에베레스트 산도 잠기게 할 정도의 폭우로 인해 담수와 염수가 급작스럽게 섞일 경우, 급격한 삼투압 변화로 인해 대부분의 수생생물들이 폐사하게 되며, 결과적으로 육지 뿐 아니라 바다와 강의 모든 생태계가 파괴된다. 이후 5천년이라는 지극히 짧은 세월 동안 지구상의 동식물이 모두 페름기 대멸종 또는 K-T 대멸종에 준하는 대량절멸에 가까운 상태에서부터 시작하여 현재의 대략 870만(±120만)종에 달하는 생물다양성을 획득하려면 모든 생물들이 각 세대마다 종분화가 일어나야 할 만큼 엄청난 속도로 진화 및 번식이 (멸종 없이) 이루어져야만 가능한 일이다. (이와 관련하여 창조과학회 측에서는 북극곰의 예시를 통해 가지고 있던 특성이 없어지는 것이 진화가 아니라고 주장하지만, 통상적으로 알려진 바와 같이 생물학에서는 이미 존재하는 특성이 없어지는 현상, 즉 퇴화 역시 진화의 정의에 포함된다.) 즉, 노아의 홍수가 실재하는 사건이었다면 진화적 종분화가 현재까지 알려진 것과 비교할 수 없이 엄청난 속도로 이루어져야만 현재 지구의 생물다양성을 설명할 수 있다. 게다가 이것은 현재의 생물종 멸종 속도를 전혀 고려하지 않았다. 다시 말해, 노아의 홍수가 실재하는 전지구적인 사건이기 위해서는 최소 캄브리아기 대폭발 수준의 폭발적인 진화적 종분화가 1-2억년이 아니라 최대 3-4천년 이내에 이루어졌어야만 현생 지구의 생물다양성에 대한 설명이 가능해진다. 그보다 더 중요한 것은, 각 동물들이 차지하는 영역과 먹이사슬에서의 위치, 375일 동안 먹이도 없이 밀폐된 공간으로 인해 받을 스트레스 등 생태적 지위에 대한 고려가 전혀 없다는 점이다. 또한 바다에서 생존이 불가능한 생물종까지 숫자에 포함되었다는 점에서 논란이 있다.\n",
            "정답 :  급격한 삼투압 변화\n",
            "예측 :  급격한 삼투압 변화 \n",
            "\n",
            "79\n",
            "질문 :  노아의 방주가 안정적인 구조였다고 주장하는 집단은 어디인가?\n",
            "지문 :  창조과학회에서는 또한 노아의 방주가 안정적인 구조였다고 주장하지만, 이와는 달리 노아의 방주는 항해가 불가능한 설계에 가깝다. 실제로 창조과학에서 주장하는 방주의 크기와 철제 부품을 사용하지 않은 목재 선박 중에서 가장 큰 수준의 선박들을 비교하면 배수량이 두배 이상 차이난다. 그리고 목재 선박은 강도 상의 문제 때문에 통상 길이 100m, 배수량 2000톤 정도가 한계로 여겨져 왔다. 창조과학회에서는 노아의 방주의 안정성을 실험하기 위한 연구가 있다고 주장하기도 하나, 그 자체의 불합리성에 대한 비판을 받고 있으며, 관련 주요 연구자는 지질학 석사학위, 생물학 학사학위를 가진 초등학교 교사로서, 주류 학계의 학회나 저널 등에 발표한 적이 없으며 또한 정당한 피어 리뷰에 의해 검증받지 않았다.\n",
            "정답 :  창조과학회\n",
            "예측 :  창조과학회 \n",
            "\n",
            "80\n",
            "질문 :  목재 선박은 강도상의 문제로 통상 길이 몇m가 한계인가?\n",
            "지문 :  창조과학회에서는 또한 노아의 방주가 안정적인 구조였다고 주장하지만, 이와는 달리 노아의 방주는 항해가 불가능한 설계에 가깝다. 실제로 창조과학에서 주장하는 방주의 크기와 철제 부품을 사용하지 않은 목재 선박 중에서 가장 큰 수준의 선박들을 비교하면 배수량이 두배 이상 차이난다. 그리고 목재 선박은 강도 상의 문제 때문에 통상 길이 100m, 배수량 2000톤 정도가 한계로 여겨져 왔다. 창조과학회에서는 노아의 방주의 안정성을 실험하기 위한 연구가 있다고 주장하기도 하나, 그 자체의 불합리성에 대한 비판을 받고 있으며, 관련 주요 연구자는 지질학 석사학위, 생물학 학사학위를 가진 초등학교 교사로서, 주류 학계의 학회나 저널 등에 발표한 적이 없으며 또한 정당한 피어 리뷰에 의해 검증받지 않았다.\n",
            "정답 :  100m\n",
            "예측 :  100m \n",
            "\n",
            "83\n",
            "질문 :  목재로 만들어진 선박은 강도 상의 통상 길이 몇m가 한계인가?\n",
            "지문 :  창조과학회에서는 또한 노아의 방주가 안정적인 구조였다고 주장하지만, 이와는 달리 노아의 방주는 항해가 불가능한 설계에 가깝다. 실제로 창조과학에서 주장하는 방주의 크기와 철제 부품을 사용하지 않은 목재 선박 중에서 가장 큰 수준의 선박들을 비교하면 배수량이 두배 이상 차이난다. 그리고 목재 선박은 강도 상의 문제 때문에 통상 길이 100m, 배수량 2000톤 정도가 한계로 여겨져 왔다. 창조과학회에서는 노아의 방주의 안정성을 실험하기 위한 연구가 있다고 주장하기도 하나, 그 자체의 불합리성에 대한 비판을 받고 있으며, 관련 주요 연구자는 지질학 석사학위, 생물학 학사학위를 가진 초등학교 교사로서, 주류 학계의 학회나 저널 등에 발표한 적이 없으며 또한 정당한 피어 리뷰에 의해 검증받지 않았다.\n",
            "정답 :  100m\n",
            "예측 :  100m \n",
            "\n",
            "84\n",
            "질문 :  목재 선박의 배수량 한계는?\n",
            "지문 :  창조과학회에서는 또한 노아의 방주가 안정적인 구조였다고 주장하지만, 이와는 달리 노아의 방주는 항해가 불가능한 설계에 가깝다. 실제로 창조과학에서 주장하는 방주의 크기와 철제 부품을 사용하지 않은 목재 선박 중에서 가장 큰 수준의 선박들을 비교하면 배수량이 두배 이상 차이난다. 그리고 목재 선박은 강도 상의 문제 때문에 통상 길이 100m, 배수량 2000톤 정도가 한계로 여겨져 왔다. 창조과학회에서는 노아의 방주의 안정성을 실험하기 위한 연구가 있다고 주장하기도 하나, 그 자체의 불합리성에 대한 비판을 받고 있으며, 관련 주요 연구자는 지질학 석사학위, 생물학 학사학위를 가진 초등학교 교사로서, 주류 학계의 학회나 저널 등에 발표한 적이 없으며 또한 정당한 피어 리뷰에 의해 검증받지 않았다.\n",
            "정답 :  2000톤\n",
            "예측 :  2000톤 \n",
            "\n",
            "85\n",
            "질문 :  1868년 게이오 4년 4월 11일 반류마루는 누구에게 양도되기로 약속되었는가?\n",
            "지문 :  1868년 게이오 4년 4월 11일 에도 성 무혈 개성을 한 이후 신정부 군에게 양도가 약속되어 있었다. 그러나 해군 부총재, 에노모토 다케아키가 기상 불량 등을 이유로 이를 연기한 후에 결국 인도를 거부했다. 도쿠가와 요시노부를 슨푸 번에 이송할 때의 태운 함선으로 사용한 후, 8월 19일 자정 (20일)에는 마쓰오카 바키치를 함장으로 카이요마루, 가이텐마루, 신소쿠마루, 간린마루 등과 함께 막부 해군이 정박하고 있던 시나가와 해역을 탈출했다. 그 때 태풍에 휘말려 침몰직전이 되었지만, 1개월만에 에노모토 해군과 합류하였다. 에조치에 건너가 하코다테 전쟁에서는 에노모토(하코다테 정부) 해군의 주력함이 되었다. 영국이 기증했을 때 엠퍼러(Emperor, 기증 당시 일본의 수장은 황제가 아니라 쇼군으로 인식되고 있었기 때문에 장군을 지칭)로 명명하고 있음에서 알 수 있듯이, 쇼군용 유람 요트로 기증되었다고 생각되지만, 세상이 그것을 허락하지 않았다. 아이러니하게도, 군함에 통합되어 실제로 쇼군이 첫 좌승한 것이 대정봉환 이후 슨푸 번에 이송되었을 때였다.\n",
            "정답 :  신정부 군\n",
            "예측 :  신정부 군 \n",
            "\n",
            "86\n",
            "질문 :  1868년 게이오 4년 4월 11일 신정부 군에게 양도되기로 한 반류마루를 기상 불량 등의 이유로 연기한 후 인도를 거부한 사람은 누구인가?\n",
            "지문 :  1868년 게이오 4년 4월 11일 에도 성 무혈 개성을 한 이후 신정부 군에게 양도가 약속되어 있었다. 그러나 해군 부총재, 에노모토 다케아키가 기상 불량 등을 이유로 이를 연기한 후에 결국 인도를 거부했다. 도쿠가와 요시노부를 슨푸 번에 이송할 때의 태운 함선으로 사용한 후, 8월 19일 자정 (20일)에는 마쓰오카 바키치를 함장으로 카이요마루, 가이텐마루, 신소쿠마루, 간린마루 등과 함께 막부 해군이 정박하고 있던 시나가와 해역을 탈출했다. 그 때 태풍에 휘말려 침몰직전이 되었지만, 1개월만에 에노모토 해군과 합류하였다. 에조치에 건너가 하코다테 전쟁에서는 에노모토(하코다테 정부) 해군의 주력함이 되었다. 영국이 기증했을 때 엠퍼러(Emperor, 기증 당시 일본의 수장은 황제가 아니라 쇼군으로 인식되고 있었기 때문에 장군을 지칭)로 명명하고 있음에서 알 수 있듯이, 쇼군용 유람 요트로 기증되었다고 생각되지만, 세상이 그것을 허락하지 않았다. 아이러니하게도, 군함에 통합되어 실제로 쇼군이 첫 좌승한 것이 대정봉환 이후 슨푸 번에 이송되었을 때였다.\n",
            "정답 :  에노모토 다케아키\n",
            "예측 :  에노모토 다케아키 \n",
            "\n",
            "90\n",
            "질문 :  1868년 당시 일본의 해군 부총재는?\n",
            "지문 :  1868년 게이오 4년 4월 11일 에도 성 무혈 개성을 한 이후 신정부 군에게 양도가 약속되어 있었다. 그러나 해군 부총재, 에노모토 다케아키가 기상 불량 등을 이유로 이를 연기한 후에 결국 인도를 거부했다. 도쿠가와 요시노부를 슨푸 번에 이송할 때의 태운 함선으로 사용한 후, 8월 19일 자정 (20일)에는 마쓰오카 바키치를 함장으로 카이요마루, 가이텐마루, 신소쿠마루, 간린마루 등과 함께 막부 해군이 정박하고 있던 시나가와 해역을 탈출했다. 그 때 태풍에 휘말려 침몰직전이 되었지만, 1개월만에 에노모토 해군과 합류하였다. 에조치에 건너가 하코다테 전쟁에서는 에노모토(하코다테 정부) 해군의 주력함이 되었다. 영국이 기증했을 때 엠퍼러(Emperor, 기증 당시 일본의 수장은 황제가 아니라 쇼군으로 인식되고 있었기 때문에 장군을 지칭)로 명명하고 있음에서 알 수 있듯이, 쇼군용 유람 요트로 기증되었다고 생각되지만, 세상이 그것을 허락하지 않았다. 아이러니하게도, 군함에 통합되어 실제로 쇼군이 첫 좌승한 것이 대정봉환 이후 슨푸 번에 이송되었을 때였다.\n",
            "정답 :  에노모토 다케아키\n",
            "예측 :  에노모토 다케아키 \n",
            "\n",
            "93\n",
            "질문 :  하코다테 전쟁 시 반류마루의 함장의 이름은 무엇인가?\n",
            "지문 :  일련의 하코다테 전쟁은 적아 쌍방의 문서에 마쓰오카 바키치 함장의 능란한 조함 능력과 냉정한 지휘만이 기록되어 있다. 함포 사격으로 마쓰마에 성을 공격하여 엄호한 이후, 1869년 메이지 2년 3월 25일 미야코 만 해전에서는 폭풍우를 만나 요함과 헤어졌을 때에 만날 약속했던 하치노헤 항에서 대기하고 있었기 때문에 참전에는 이르지 못했다. 이 폭풍우 때도 “함장 마쓰오카 바키치는 배를 조정하는 명수로 로프 하나 손상되지 않았다”고 타고 있던 하야시 다다스가 남긴 바 있다. 이 귀로에서 신정부 군의 철갑함의 추격을 받았다. 기관 능력의 차이로 인한 속도차 때문에 도주가 불가능하다고 판단하고 맞장 공격을 하겠다고 전투 준비를 했지만, 철갑선의 사정거리에 들어간 순간에 순풍이 불기 시작하여 추격을 뿌리치고 하코다테로 돌아올 수 있었다.\n",
            "정답 :  마쓰오카 바키치\n",
            "예측 :  마쓰오카 바키치 \n",
            "\n",
            "95\n",
            "질문 :  반류마루가 미야코 만 해전당시 폭풍우를 만나 요함과 헤어졌을 때에 만날 약속하여 하치노헤 항에서 대기한 날짜는 언제인가?\n",
            "지문 :  일련의 하코다테 전쟁은 적아 쌍방의 문서에 마쓰오카 바키치 함장의 능란한 조함 능력과 냉정한 지휘만이 기록되어 있다. 함포 사격으로 마쓰마에 성을 공격하여 엄호한 이후, 1869년 메이지 2년 3월 25일 미야코 만 해전에서는 폭풍우를 만나 요함과 헤어졌을 때에 만날 약속했던 하치노헤 항에서 대기하고 있었기 때문에 참전에는 이르지 못했다. 이 폭풍우 때도 “함장 마쓰오카 바키치는 배를 조정하는 명수로 로프 하나 손상되지 않았다”고 타고 있던 하야시 다다스가 남긴 바 있다. 이 귀로에서 신정부 군의 철갑함의 추격을 받았다. 기관 능력의 차이로 인한 속도차 때문에 도주가 불가능하다고 판단하고 맞장 공격을 하겠다고 전투 준비를 했지만, 철갑선의 사정거리에 들어간 순간에 순풍이 불기 시작하여 추격을 뿌리치고 하코다테로 돌아올 수 있었다.\n",
            "정답 :  1869년 메이지 2년 3월 25일\n",
            "예측 :  1869년 메이지 2년 3월 25일 \n",
            "\n",
            "96\n",
            "질문 :  함장 마쓰오카 바키치는 배를 조정하는 명수로 로프 하나 손상되지 않았다고 말한 사람은?\n",
            "지문 :  일련의 하코다테 전쟁은 적아 쌍방의 문서에 마쓰오카 바키치 함장의 능란한 조함 능력과 냉정한 지휘만이 기록되어 있다. 함포 사격으로 마쓰마에 성을 공격하여 엄호한 이후, 1869년 메이지 2년 3월 25일 미야코 만 해전에서는 폭풍우를 만나 요함과 헤어졌을 때에 만날 약속했던 하치노헤 항에서 대기하고 있었기 때문에 참전에는 이르지 못했다. 이 폭풍우 때도 “함장 마쓰오카 바키치는 배를 조정하는 명수로 로프 하나 손상되지 않았다”고 타고 있던 하야시 다다스가 남긴 바 있다. 이 귀로에서 신정부 군의 철갑함의 추격을 받았다. 기관 능력의 차이로 인한 속도차 때문에 도주가 불가능하다고 판단하고 맞장 공격을 하겠다고 전투 준비를 했지만, 철갑선의 사정거리에 들어간 순간에 순풍이 불기 시작하여 추격을 뿌리치고 하코다테로 돌아올 수 있었다.\n",
            "정답 :  하야시 다다스\n",
            "예측 :  하야시 다다스가 \n",
            "\n",
            "97\n",
            "질문 :  철갑선의 사정거리에 들어간 순간에 순풍이 불기 시작하여 추격을 뿌리치고 어디로 돌아올 수 있었는가?\n",
            "지문 :  일련의 하코다테 전쟁은 적아 쌍방의 문서에 마쓰오카 바키치 함장의 능란한 조함 능력과 냉정한 지휘만이 기록되어 있다. 함포 사격으로 마쓰마에 성을 공격하여 엄호한 이후, 1869년 메이지 2년 3월 25일 미야코 만 해전에서는 폭풍우를 만나 요함과 헤어졌을 때에 만날 약속했던 하치노헤 항에서 대기하고 있었기 때문에 참전에는 이르지 못했다. 이 폭풍우 때도 “함장 마쓰오카 바키치는 배를 조정하는 명수로 로프 하나 손상되지 않았다”고 타고 있던 하야시 다다스가 남긴 바 있다. 이 귀로에서 신정부 군의 철갑함의 추격을 받았다. 기관 능력의 차이로 인한 속도차 때문에 도주가 불가능하다고 판단하고 맞장 공격을 하겠다고 전투 준비를 했지만, 철갑선의 사정거리에 들어간 순간에 순풍이 불기 시작하여 추격을 뿌리치고 하코다테로 돌아올 수 있었다.\n",
            "정답 :  하코다테\n",
            "예측 :  하코다테 \n",
            "\n",
            "98\n",
            "질문 :  마쓰오카 바키치함장의 능력과 지휘과 기록된 기록되어 남은 전쟁은?\n",
            "지문 :  일련의 하코다테 전쟁은 적아 쌍방의 문서에 마쓰오카 바키치 함장의 능란한 조함 능력과 냉정한 지휘만이 기록되어 있다. 함포 사격으로 마쓰마에 성을 공격하여 엄호한 이후, 1869년 메이지 2년 3월 25일 미야코 만 해전에서는 폭풍우를 만나 요함과 헤어졌을 때에 만날 약속했던 하치노헤 항에서 대기하고 있었기 때문에 참전에는 이르지 못했다. 이 폭풍우 때도 “함장 마쓰오카 바키치는 배를 조정하는 명수로 로프 하나 손상되지 않았다”고 타고 있던 하야시 다다스가 남긴 바 있다. 이 귀로에서 신정부 군의 철갑함의 추격을 받았다. 기관 능력의 차이로 인한 속도차 때문에 도주가 불가능하다고 판단하고 맞장 공격을 하겠다고 전투 준비를 했지만, 철갑선의 사정거리에 들어간 순간에 순풍이 불기 시작하여 추격을 뿌리치고 하코다테로 돌아올 수 있었다.\n",
            "정답 :  하코다테 전쟁\n",
            "예측 :  하코다테 전쟁은 적아 쌍방의 문서 \n",
            "\n",
            "99\n",
            "질문 :  미야코 만 해전에서 아쓰오카 바키치 함장이 폭풍우를 만난 년도는?\n",
            "지문 :  일련의 하코다테 전쟁은 적아 쌍방의 문서에 마쓰오카 바키치 함장의 능란한 조함 능력과 냉정한 지휘만이 기록되어 있다. 함포 사격으로 마쓰마에 성을 공격하여 엄호한 이후, 1869년 메이지 2년 3월 25일 미야코 만 해전에서는 폭풍우를 만나 요함과 헤어졌을 때에 만날 약속했던 하치노헤 항에서 대기하고 있었기 때문에 참전에는 이르지 못했다. 이 폭풍우 때도 “함장 마쓰오카 바키치는 배를 조정하는 명수로 로프 하나 손상되지 않았다”고 타고 있던 하야시 다다스가 남긴 바 있다. 이 귀로에서 신정부 군의 철갑함의 추격을 받았다. 기관 능력의 차이로 인한 속도차 때문에 도주가 불가능하다고 판단하고 맞장 공격을 하겠다고 전투 준비를 했지만, 철갑선의 사정거리에 들어간 순간에 순풍이 불기 시작하여 추격을 뿌리치고 하코다테로 돌아올 수 있었다.\n",
            "정답 :  1869년\n",
            "예측 :  1869년 메이지 2년 \n",
            "\n"
          ]
        }
      ],
      "source": [
        "dev_json = os.path.join(data_dir, \"korquad_dev.json\")\n",
        "\n",
        "with open(dev_json) as f:\n",
        "    for i, line in enumerate(f):\n",
        "        data = json.loads(line)\n",
        "        question = vocab.decode_pieces(data['question'])\n",
        "        context = vocab.decode_pieces(data['context'])\n",
        "        answer = data['answer']\n",
        "        answer_predict = do_predict(model, question, context)\n",
        "        if answer in answer_predict:\n",
        "            print(i)\n",
        "            print(\"질문 : \", question)\n",
        "            print(\"지문 : \", context)\n",
        "            print(\"정답 : \", answer)\n",
        "            print(\"예측 : \", answer_predict, \"\\n\")\n",
        "        if 100 < i:\n",
        "            break"
      ]
    },
    {
      "cell_type": "markdown",
      "source": [
        "## 10. LSTM, BERT, pre-trained-BERT 비교"
      ],
      "metadata": {
        "id": "SO-25sDn7OtZ"
      }
    },
    {
      "cell_type": "markdown",
      "source": [
        "### 10.1. hdf5 파일 읽어보기\n",
        "\n",
        "- 세 모델 모두 hdf5 형식의 파일에 기록을 남겼다.\n",
        "- history메소드나 리스트로 경과를 저장할 수도 있겠지만 각 모델의 학습 시간을 고려할 때 차라리 이 파일을 알아보자고 생각함.\n",
        "\n",
        "*실패. 사람이 해석하기 좋은 형태로 읽어들이기 적합한 파일이 아닌 것으로 보인다.*\n"
      ],
      "metadata": {
        "id": "8_DRsdsfPDyl"
      }
    },
    {
      "cell_type": "code",
      "source": [
        "!pip install h5py --upgrade"
      ],
      "metadata": {
        "id": "0JbRSiYb4Br0"
      },
      "execution_count": null,
      "outputs": []
    },
    {
      "cell_type": "code",
      "source": [
        "import h5py"
      ],
      "metadata": {
        "id": "7WCsDvYEwLeq"
      },
      "execution_count": 11,
      "outputs": []
    },
    {
      "cell_type": "code",
      "source": [
        "os.listdir(data_dir)"
      ],
      "metadata": {
        "colab": {
          "base_uri": "https://localhost:8080/"
        },
        "id": "OlHA1GEEwseM",
        "outputId": "75f180b8-c49c-4d1a-e5d2-0e742a120fc5"
      },
      "execution_count": 12,
      "outputs": [
        {
          "output_type": "execute_result",
          "data": {
            "text/plain": [
              "['KorQuAD_v1.0_dev.json',\n",
              " 'kowiki.txt.zip',\n",
              " 'KorQuAD_v1.0_train.json',\n",
              " 'korquad_dev.json',\n",
              " 'korquad_train.json',\n",
              " 'korquad_lstm.hdf5',\n",
              " 'korquad_bert_none_pretrain.hdf5',\n",
              " 'korquad_bert_pretrain.hdf5']"
            ]
          },
          "metadata": {},
          "execution_count": 12
        }
      ]
    },
    {
      "cell_type": "code",
      "source": [
        "f_lstm = h5py.File(data_dir + '/korquad_lstm.hdf5','r')\n",
        "f_BERT = h5py.File(data_dir + '/korquad_bert_none_pretrain.hdf5','r')\n",
        "f_P_BERT = h5py.File(data_dir + '/korquad_bert_pretrain.hdf5','r')"
      ],
      "metadata": {
        "id": "_r5Z1Fq6w_qy"
      },
      "execution_count": 18,
      "outputs": []
    },
    {
      "cell_type": "code",
      "source": [
        "f_lstm"
      ],
      "metadata": {
        "colab": {
          "base_uri": "https://localhost:8080/"
        },
        "id": "oul182l5yN7H",
        "outputId": "735ff0f8-61fd-4ea7-a33b-04c285446637"
      },
      "execution_count": 19,
      "outputs": [
        {
          "output_type": "execute_result",
          "data": {
            "text/plain": [
              "<HDF5 file \"korquad_lstm.hdf5\" (mode r)>"
            ]
          },
          "metadata": {},
          "execution_count": 19
        }
      ]
    },
    {
      "cell_type": "code",
      "source": [
        "f_lstm.keys()"
      ],
      "metadata": {
        "colab": {
          "base_uri": "https://localhost:8080/"
        },
        "id": "untEMysuyw8q",
        "outputId": "f534c936-8c4d-418f-b8e3-deba13d32f72"
      },
      "execution_count": 20,
      "outputs": [
        {
          "output_type": "execute_result",
          "data": {
            "text/plain": [
              "<KeysViewHDF5 ['dense', 'embedding', 'embedding_1', 'end', 'lstm', 'lstm_1', 'segments', 'start', 'tf.__operators__.add', 'tf.compat.v1.squeeze', 'tf.compat.v1.squeeze_1', 'tf.split', 'tokens', 'top_level_model_weights']>"
            ]
          },
          "metadata": {},
          "execution_count": 20
        }
      ]
    },
    {
      "cell_type": "markdown",
      "source": [
        "### 10.2. hdf5 파일 읽어보기(2)\n",
        "\n",
        "- 사실 코드를 보면 모든 epoch에 대한 기록이 아니라 결과가 가장 좋았던 weight값을 업데이트 하는 것임을 알 수 있다.\n",
        "\n",
        "- 하지만 포기하지 못하고 Netron이라는 프로그램을 이용해 파일을 읽어보았다.\n",
        "\n",
        "- 아래 이미지는 LSTM 레이어들에 대한 가중치가 담긴 hdf5 파일을 읽은 것이다.\n",
        "\n",
        "- BERT모델은 왼쪽의 구조도가 엄청나게 길었다. 끝(..)"
      ],
      "metadata": {
        "id": "lgZoH_kMPW4g"
      }
    },
    {
      "cell_type": "markdown",
      "source": [
        "![lstm_hdf5.PNG](data:image/png;base64,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)\n",
        "\n"
      ],
      "metadata": {
        "id": "NaDstPVgPaQq"
      }
    },
    {
      "cell_type": "markdown",
      "source": [
        "### 10.3. 다시 결과 비교\n",
        "\n",
        "- history를 저장하거나 결과를 list에 담거나.. 학습 경과를 어떻게든 저장할 수는 있을 것.\n",
        "- 하지만 이미 학습은 진행되었고, 재학습에 걸리는 시간을 생각하면 그냥 직접 작성하는 것이 빠르겠다고 생각된다. ~~사실 위에 뻘짓 할 시간이면 충분했을..~~"
      ],
      "metadata": {
        "id": "aNc1WlM6QmwI"
      }
    },
    {
      "cell_type": "markdown",
      "source": [
        "#### 복-붙\n",
        "\n",
        "##### LSTM (1, 5, 9 epoch)\n",
        "Epoch 1/10\n",
        "\n",
        ">469/469 [==============================] - ETA: 0s - loss: 9.1249 - start_loss: 4.4189 - end_loss: 4.7060 - start_accuracy: 0.0686 - end_accuracy: 0.0524\n",
        ">\n",
        ">469/469 [==============================] - 139s 278ms/step - loss: 9.1249 - start_loss: 4.4189 - end_loss: 4.7060 - start_accuracy: 0.0686 - end_accuracy: 0.0524 - val_loss: 8.2424 - val_start_loss: 3.9162 - val_end_loss: 4.3262 - val_start_accuracy: 0.0909 - val_end_accuracy: 0.0792\n",
        "\n",
        "\n",
        "Epoch 5/10\n",
        "\n",
        ">469/469 [==============================] - ETA: 0s - loss: 5.4659 - start_loss: 2.6746 - end_loss: 2.7914 - start_accuracy: 0.2478 - end_accuracy: 0.2475\n",
        ">\n",
        ">469/469 [==============================] - 131s 279ms/step - loss: 5.4659 - start_loss: 2.6746 - end_loss: 2.7914 - start_accuracy: 0.2478 - end_accuracy: 0.2475 - val_loss: 8.7174 - val_start_loss: 4.1494 - val_end_loss: 4.5680 - val_start_accuracy: 0.1304 - val_end_accuracy: 0.1150\n",
        "\n",
        "\n",
        "Epoch 9/10\n",
        "\n",
        ">469/469 [==============================] - ETA: 0s - loss: 2.6876 - start_loss: 1.3224 - end_loss: 1.3652 - start_accuracy: 0.5681 - end_accuracy: 0.5626\n",
        ">\n",
        ">469/469 [==============================] - 130s 277ms/step - loss: 2.6876 - start_loss: 1.3224 - end_loss: 1.3652 - start_accuracy: 0.5681 - end_accuracy: 0.5626 - val_loss: 12.8858 - val_start_loss: 6.1763 - val_end_loss: 6.7095 - val_start_accuracy: 0.1382 - val_end_accuracy: 0.1268\n",
        "\n",
        "#### BERT\n",
        ">loss: 5.2392, 5.4211, acc: 0.0414, 0.0333: 100%\n",
        ">\n",
        ">eval 0 >> loss: 5.9506, 5.9506, acc: 0.0112, 0.0091\n",
        "\n",
        ">loss: 5.9506, 5.9506, acc: 0.0137, 0.0103: 100%\n",
        ">\n",
        ">eval 1 >> loss: 5.9506, 5.9506, acc: 0.0130, 0.0123\n",
        "\n",
        ">loss: 5.9506, 5.9506, acc: 0.0147, 0.0109: 100%\n",
        ">\n",
        ">eval 2 >> loss: 5.9506, 5.9506, acc: 0.0125, 0.0097\n",
        "\n",
        "#### pretrained BERT\n",
        "\n",
        ">loss: 2.3416, 2.6289, acc: 0.4388, 0.3977: 100%\n",
        ">\n",
        ">eval 0 >> loss: 1.7716, 2.0243, acc: 0.5430, 0.5021\n",
        "\n",
        ">loss: 1.2352, 1.4562, acc: 0.6677, 0.6265: 100%\n",
        ">\n",
        ">eval 1 >> loss: 1.6682, 1.9047, acc: 0.5646, 0.5251\n",
        "\n",
        ">loss: 0.7903, 0.9655, acc: 0.7776, 0.7371: 100%\n",
        ">\n",
        ">eval 2 >> loss: 1.9483, 2.3380, acc: 0.5499, 0.5132\n",
        "    \n"
      ],
      "metadata": {
        "id": "MciCMq2QSTAO"
      }
    },
    {
      "cell_type": "code",
      "source": [
        "lstm = {'acc' : [0.0792, 0.1150, 0.1268],\n",
        "        'loss' : [4.3262, 4.5680, 6.7095]}\n",
        "\n",
        "BERT = {'acc' : [0.0091, 0.0123, 0.0097],\n",
        "        'loss' : [5.9506, 5.9506, 5.9506]}\n",
        "\n",
        "P_BERT = {'acc' : [0.5021, 0.5251, 0.5132],\n",
        "        'loss' : [2.0243, 1.9047, 2.3380]}"
      ],
      "metadata": {
        "id": "Q7QUkg1vaNvA"
      },
      "execution_count": 41,
      "outputs": []
    },
    {
      "cell_type": "code",
      "source": [
        "from pandas import Series, DataFrame\n",
        "\n",
        "LSTM = DataFrame(lstm)\n",
        "BERT = DataFrame(BERT)\n",
        "P_BERT = DataFrame(P_BERT)"
      ],
      "metadata": {
        "id": "jNukXwLPcW28"
      },
      "execution_count": 82,
      "outputs": []
    },
    {
      "cell_type": "markdown",
      "source": [
        "### dataframe으로 정리"
      ],
      "metadata": {
        "id": "b7oJLWpxnMtG"
      }
    },
    {
      "cell_type": "code",
      "source": [
        "LSTM"
      ],
      "metadata": {
        "colab": {
          "base_uri": "https://localhost:8080/",
          "height": 143
        },
        "id": "jVypQSmJNe7v",
        "outputId": "61bb50c3-0d3d-4205-90f7-b67f7559557e"
      },
      "execution_count": 87,
      "outputs": [
        {
          "output_type": "execute_result",
          "data": {
            "text/html": [
              "\n",
              "  <div id=\"df-ebdc167e-21e7-44d1-8cfb-c3dcbd61928a\">\n",
              "    <div class=\"colab-df-container\">\n",
              "      <div>\n",
              "<style scoped>\n",
              "    .dataframe tbody tr th:only-of-type {\n",
              "        vertical-align: middle;\n",
              "    }\n",
              "\n",
              "    .dataframe tbody tr th {\n",
              "        vertical-align: top;\n",
              "    }\n",
              "\n",
              "    .dataframe thead th {\n",
              "        text-align: right;\n",
              "    }\n",
              "</style>\n",
              "<table border=\"1\" class=\"dataframe\">\n",
              "  <thead>\n",
              "    <tr style=\"text-align: right;\">\n",
              "      <th></th>\n",
              "      <th>acc</th>\n",
              "      <th>loss</th>\n",
              "    </tr>\n",
              "  </thead>\n",
              "  <tbody>\n",
              "    <tr>\n",
              "      <th>0</th>\n",
              "      <td>0.0792</td>\n",
              "      <td>4.3262</td>\n",
              "    </tr>\n",
              "    <tr>\n",
              "      <th>1</th>\n",
              "      <td>0.1150</td>\n",
              "      <td>4.5680</td>\n",
              "    </tr>\n",
              "    <tr>\n",
              "      <th>2</th>\n",
              "      <td>0.1268</td>\n",
              "      <td>6.7095</td>\n",
              "    </tr>\n",
              "  </tbody>\n",
              "</table>\n",
              "</div>\n",
              "      <button class=\"colab-df-convert\" onclick=\"convertToInteractive('df-ebdc167e-21e7-44d1-8cfb-c3dcbd61928a')\"\n",
              "              title=\"Convert this dataframe to an interactive table.\"\n",
              "              style=\"display:none;\">\n",
              "        \n",
              "  <svg xmlns=\"http://www.w3.org/2000/svg\" height=\"24px\"viewBox=\"0 0 24 24\"\n",
              "       width=\"24px\">\n",
              "    <path d=\"M0 0h24v24H0V0z\" fill=\"none\"/>\n",
              "    <path d=\"M18.56 5.44l.94 2.06.94-2.06 2.06-.94-2.06-.94-.94-2.06-.94 2.06-2.06.94zm-11 1L8.5 8.5l.94-2.06 2.06-.94-2.06-.94L8.5 2.5l-.94 2.06-2.06.94zm10 10l.94 2.06.94-2.06 2.06-.94-2.06-.94-.94-2.06-.94 2.06-2.06.94z\"/><path d=\"M17.41 7.96l-1.37-1.37c-.4-.4-.92-.59-1.43-.59-.52 0-1.04.2-1.43.59L10.3 9.45l-7.72 7.72c-.78.78-.78 2.05 0 2.83L4 21.41c.39.39.9.59 1.41.59.51 0 1.02-.2 1.41-.59l7.78-7.78 2.81-2.81c.8-.78.8-2.07 0-2.86zM5.41 20L4 18.59l7.72-7.72 1.47 1.35L5.41 20z\"/>\n",
              "  </svg>\n",
              "      </button>\n",
              "      \n",
              "  <style>\n",
              "    .colab-df-container {\n",
              "      display:flex;\n",
              "      flex-wrap:wrap;\n",
              "      gap: 12px;\n",
              "    }\n",
              "\n",
              "    .colab-df-convert {\n",
              "      background-color: #E8F0FE;\n",
              "      border: none;\n",
              "      border-radius: 50%;\n",
              "      cursor: pointer;\n",
              "      display: none;\n",
              "      fill: #1967D2;\n",
              "      height: 32px;\n",
              "      padding: 0 0 0 0;\n",
              "      width: 32px;\n",
              "    }\n",
              "\n",
              "    .colab-df-convert:hover {\n",
              "      background-color: #E2EBFA;\n",
              "      box-shadow: 0px 1px 2px rgba(60, 64, 67, 0.3), 0px 1px 3px 1px rgba(60, 64, 67, 0.15);\n",
              "      fill: #174EA6;\n",
              "    }\n",
              "\n",
              "    [theme=dark] .colab-df-convert {\n",
              "      background-color: #3B4455;\n",
              "      fill: #D2E3FC;\n",
              "    }\n",
              "\n",
              "    [theme=dark] .colab-df-convert:hover {\n",
              "      background-color: #434B5C;\n",
              "      box-shadow: 0px 1px 3px 1px rgba(0, 0, 0, 0.15);\n",
              "      filter: drop-shadow(0px 1px 2px rgba(0, 0, 0, 0.3));\n",
              "      fill: #FFFFFF;\n",
              "    }\n",
              "  </style>\n",
              "\n",
              "      <script>\n",
              "        const buttonEl =\n",
              "          document.querySelector('#df-ebdc167e-21e7-44d1-8cfb-c3dcbd61928a button.colab-df-convert');\n",
              "        buttonEl.style.display =\n",
              "          google.colab.kernel.accessAllowed ? 'block' : 'none';\n",
              "\n",
              "        async function convertToInteractive(key) {\n",
              "          const element = document.querySelector('#df-ebdc167e-21e7-44d1-8cfb-c3dcbd61928a');\n",
              "          const dataTable =\n",
              "            await google.colab.kernel.invokeFunction('convertToInteractive',\n",
              "                                                     [key], {});\n",
              "          if (!dataTable) return;\n",
              "\n",
              "          const docLinkHtml = 'Like what you see? Visit the ' +\n",
              "            '<a target=\"_blank\" href=https://colab.research.google.com/notebooks/data_table.ipynb>data table notebook</a>'\n",
              "            + ' to learn more about interactive tables.';\n",
              "          element.innerHTML = '';\n",
              "          dataTable['output_type'] = 'display_data';\n",
              "          await google.colab.output.renderOutput(dataTable, element);\n",
              "          const docLink = document.createElement('div');\n",
              "          docLink.innerHTML = docLinkHtml;\n",
              "          element.appendChild(docLink);\n",
              "        }\n",
              "      </script>\n",
              "    </div>\n",
              "  </div>\n",
              "  "
            ],
            "text/plain": [
              "      acc    loss\n",
              "0  0.0792  4.3262\n",
              "1  0.1150  4.5680\n",
              "2  0.1268  6.7095"
            ]
          },
          "metadata": {},
          "execution_count": 87
        }
      ]
    },
    {
      "cell_type": "code",
      "source": [
        "BERT"
      ],
      "metadata": {
        "colab": {
          "base_uri": "https://localhost:8080/",
          "height": 143
        },
        "id": "J8fPLeFZnH-s",
        "outputId": "ab0b72bc-ab43-4596-df84-da42a2943aff"
      },
      "execution_count": 88,
      "outputs": [
        {
          "output_type": "execute_result",
          "data": {
            "text/html": [
              "\n",
              "  <div id=\"df-de05bf87-3212-491b-852e-6b2720bfbd04\">\n",
              "    <div class=\"colab-df-container\">\n",
              "      <div>\n",
              "<style scoped>\n",
              "    .dataframe tbody tr th:only-of-type {\n",
              "        vertical-align: middle;\n",
              "    }\n",
              "\n",
              "    .dataframe tbody tr th {\n",
              "        vertical-align: top;\n",
              "    }\n",
              "\n",
              "    .dataframe thead th {\n",
              "        text-align: right;\n",
              "    }\n",
              "</style>\n",
              "<table border=\"1\" class=\"dataframe\">\n",
              "  <thead>\n",
              "    <tr style=\"text-align: right;\">\n",
              "      <th></th>\n",
              "      <th>acc</th>\n",
              "      <th>loss</th>\n",
              "    </tr>\n",
              "  </thead>\n",
              "  <tbody>\n",
              "    <tr>\n",
              "      <th>0</th>\n",
              "      <td>0.0091</td>\n",
              "      <td>5.9506</td>\n",
              "    </tr>\n",
              "    <tr>\n",
              "      <th>1</th>\n",
              "      <td>0.0123</td>\n",
              "      <td>5.9506</td>\n",
              "    </tr>\n",
              "    <tr>\n",
              "      <th>2</th>\n",
              "      <td>0.0097</td>\n",
              "      <td>5.9506</td>\n",
              "    </tr>\n",
              "  </tbody>\n",
              "</table>\n",
              "</div>\n",
              "      <button class=\"colab-df-convert\" onclick=\"convertToInteractive('df-de05bf87-3212-491b-852e-6b2720bfbd04')\"\n",
              "              title=\"Convert this dataframe to an interactive table.\"\n",
              "              style=\"display:none;\">\n",
              "        \n",
              "  <svg xmlns=\"http://www.w3.org/2000/svg\" height=\"24px\"viewBox=\"0 0 24 24\"\n",
              "       width=\"24px\">\n",
              "    <path d=\"M0 0h24v24H0V0z\" fill=\"none\"/>\n",
              "    <path d=\"M18.56 5.44l.94 2.06.94-2.06 2.06-.94-2.06-.94-.94-2.06-.94 2.06-2.06.94zm-11 1L8.5 8.5l.94-2.06 2.06-.94-2.06-.94L8.5 2.5l-.94 2.06-2.06.94zm10 10l.94 2.06.94-2.06 2.06-.94-2.06-.94-.94-2.06-.94 2.06-2.06.94z\"/><path d=\"M17.41 7.96l-1.37-1.37c-.4-.4-.92-.59-1.43-.59-.52 0-1.04.2-1.43.59L10.3 9.45l-7.72 7.72c-.78.78-.78 2.05 0 2.83L4 21.41c.39.39.9.59 1.41.59.51 0 1.02-.2 1.41-.59l7.78-7.78 2.81-2.81c.8-.78.8-2.07 0-2.86zM5.41 20L4 18.59l7.72-7.72 1.47 1.35L5.41 20z\"/>\n",
              "  </svg>\n",
              "      </button>\n",
              "      \n",
              "  <style>\n",
              "    .colab-df-container {\n",
              "      display:flex;\n",
              "      flex-wrap:wrap;\n",
              "      gap: 12px;\n",
              "    }\n",
              "\n",
              "    .colab-df-convert {\n",
              "      background-color: #E8F0FE;\n",
              "      border: none;\n",
              "      border-radius: 50%;\n",
              "      cursor: pointer;\n",
              "      display: none;\n",
              "      fill: #1967D2;\n",
              "      height: 32px;\n",
              "      padding: 0 0 0 0;\n",
              "      width: 32px;\n",
              "    }\n",
              "\n",
              "    .colab-df-convert:hover {\n",
              "      background-color: #E2EBFA;\n",
              "      box-shadow: 0px 1px 2px rgba(60, 64, 67, 0.3), 0px 1px 3px 1px rgba(60, 64, 67, 0.15);\n",
              "      fill: #174EA6;\n",
              "    }\n",
              "\n",
              "    [theme=dark] .colab-df-convert {\n",
              "      background-color: #3B4455;\n",
              "      fill: #D2E3FC;\n",
              "    }\n",
              "\n",
              "    [theme=dark] .colab-df-convert:hover {\n",
              "      background-color: #434B5C;\n",
              "      box-shadow: 0px 1px 3px 1px rgba(0, 0, 0, 0.15);\n",
              "      filter: drop-shadow(0px 1px 2px rgba(0, 0, 0, 0.3));\n",
              "      fill: #FFFFFF;\n",
              "    }\n",
              "  </style>\n",
              "\n",
              "      <script>\n",
              "        const buttonEl =\n",
              "          document.querySelector('#df-de05bf87-3212-491b-852e-6b2720bfbd04 button.colab-df-convert');\n",
              "        buttonEl.style.display =\n",
              "          google.colab.kernel.accessAllowed ? 'block' : 'none';\n",
              "\n",
              "        async function convertToInteractive(key) {\n",
              "          const element = document.querySelector('#df-de05bf87-3212-491b-852e-6b2720bfbd04');\n",
              "          const dataTable =\n",
              "            await google.colab.kernel.invokeFunction('convertToInteractive',\n",
              "                                                     [key], {});\n",
              "          if (!dataTable) return;\n",
              "\n",
              "          const docLinkHtml = 'Like what you see? Visit the ' +\n",
              "            '<a target=\"_blank\" href=https://colab.research.google.com/notebooks/data_table.ipynb>data table notebook</a>'\n",
              "            + ' to learn more about interactive tables.';\n",
              "          element.innerHTML = '';\n",
              "          dataTable['output_type'] = 'display_data';\n",
              "          await google.colab.output.renderOutput(dataTable, element);\n",
              "          const docLink = document.createElement('div');\n",
              "          docLink.innerHTML = docLinkHtml;\n",
              "          element.appendChild(docLink);\n",
              "        }\n",
              "      </script>\n",
              "    </div>\n",
              "  </div>\n",
              "  "
            ],
            "text/plain": [
              "      acc    loss\n",
              "0  0.0091  5.9506\n",
              "1  0.0123  5.9506\n",
              "2  0.0097  5.9506"
            ]
          },
          "metadata": {},
          "execution_count": 88
        }
      ]
    },
    {
      "cell_type": "code",
      "source": [
        "P_BERT"
      ],
      "metadata": {
        "colab": {
          "base_uri": "https://localhost:8080/",
          "height": 143
        },
        "id": "kch_WQ3InIkM",
        "outputId": "84fcb2e0-2d40-4b2b-d7cf-70ae00439ce3"
      },
      "execution_count": 89,
      "outputs": [
        {
          "output_type": "execute_result",
          "data": {
            "text/html": [
              "\n",
              "  <div id=\"df-a0cd4f7c-3fbe-4292-8d30-52020f2a3258\">\n",
              "    <div class=\"colab-df-container\">\n",
              "      <div>\n",
              "<style scoped>\n",
              "    .dataframe tbody tr th:only-of-type {\n",
              "        vertical-align: middle;\n",
              "    }\n",
              "\n",
              "    .dataframe tbody tr th {\n",
              "        vertical-align: top;\n",
              "    }\n",
              "\n",
              "    .dataframe thead th {\n",
              "        text-align: right;\n",
              "    }\n",
              "</style>\n",
              "<table border=\"1\" class=\"dataframe\">\n",
              "  <thead>\n",
              "    <tr style=\"text-align: right;\">\n",
              "      <th></th>\n",
              "      <th>acc</th>\n",
              "      <th>loss</th>\n",
              "    </tr>\n",
              "  </thead>\n",
              "  <tbody>\n",
              "    <tr>\n",
              "      <th>0</th>\n",
              "      <td>0.5021</td>\n",
              "      <td>2.0243</td>\n",
              "    </tr>\n",
              "    <tr>\n",
              "      <th>1</th>\n",
              "      <td>0.5251</td>\n",
              "      <td>1.9047</td>\n",
              "    </tr>\n",
              "    <tr>\n",
              "      <th>2</th>\n",
              "      <td>0.5132</td>\n",
              "      <td>2.3380</td>\n",
              "    </tr>\n",
              "  </tbody>\n",
              "</table>\n",
              "</div>\n",
              "      <button class=\"colab-df-convert\" onclick=\"convertToInteractive('df-a0cd4f7c-3fbe-4292-8d30-52020f2a3258')\"\n",
              "              title=\"Convert this dataframe to an interactive table.\"\n",
              "              style=\"display:none;\">\n",
              "        \n",
              "  <svg xmlns=\"http://www.w3.org/2000/svg\" height=\"24px\"viewBox=\"0 0 24 24\"\n",
              "       width=\"24px\">\n",
              "    <path d=\"M0 0h24v24H0V0z\" fill=\"none\"/>\n",
              "    <path d=\"M18.56 5.44l.94 2.06.94-2.06 2.06-.94-2.06-.94-.94-2.06-.94 2.06-2.06.94zm-11 1L8.5 8.5l.94-2.06 2.06-.94-2.06-.94L8.5 2.5l-.94 2.06-2.06.94zm10 10l.94 2.06.94-2.06 2.06-.94-2.06-.94-.94-2.06-.94 2.06-2.06.94z\"/><path d=\"M17.41 7.96l-1.37-1.37c-.4-.4-.92-.59-1.43-.59-.52 0-1.04.2-1.43.59L10.3 9.45l-7.72 7.72c-.78.78-.78 2.05 0 2.83L4 21.41c.39.39.9.59 1.41.59.51 0 1.02-.2 1.41-.59l7.78-7.78 2.81-2.81c.8-.78.8-2.07 0-2.86zM5.41 20L4 18.59l7.72-7.72 1.47 1.35L5.41 20z\"/>\n",
              "  </svg>\n",
              "      </button>\n",
              "      \n",
              "  <style>\n",
              "    .colab-df-container {\n",
              "      display:flex;\n",
              "      flex-wrap:wrap;\n",
              "      gap: 12px;\n",
              "    }\n",
              "\n",
              "    .colab-df-convert {\n",
              "      background-color: #E8F0FE;\n",
              "      border: none;\n",
              "      border-radius: 50%;\n",
              "      cursor: pointer;\n",
              "      display: none;\n",
              "      fill: #1967D2;\n",
              "      height: 32px;\n",
              "      padding: 0 0 0 0;\n",
              "      width: 32px;\n",
              "    }\n",
              "\n",
              "    .colab-df-convert:hover {\n",
              "      background-color: #E2EBFA;\n",
              "      box-shadow: 0px 1px 2px rgba(60, 64, 67, 0.3), 0px 1px 3px 1px rgba(60, 64, 67, 0.15);\n",
              "      fill: #174EA6;\n",
              "    }\n",
              "\n",
              "    [theme=dark] .colab-df-convert {\n",
              "      background-color: #3B4455;\n",
              "      fill: #D2E3FC;\n",
              "    }\n",
              "\n",
              "    [theme=dark] .colab-df-convert:hover {\n",
              "      background-color: #434B5C;\n",
              "      box-shadow: 0px 1px 3px 1px rgba(0, 0, 0, 0.15);\n",
              "      filter: drop-shadow(0px 1px 2px rgba(0, 0, 0, 0.3));\n",
              "      fill: #FFFFFF;\n",
              "    }\n",
              "  </style>\n",
              "\n",
              "      <script>\n",
              "        const buttonEl =\n",
              "          document.querySelector('#df-a0cd4f7c-3fbe-4292-8d30-52020f2a3258 button.colab-df-convert');\n",
              "        buttonEl.style.display =\n",
              "          google.colab.kernel.accessAllowed ? 'block' : 'none';\n",
              "\n",
              "        async function convertToInteractive(key) {\n",
              "          const element = document.querySelector('#df-a0cd4f7c-3fbe-4292-8d30-52020f2a3258');\n",
              "          const dataTable =\n",
              "            await google.colab.kernel.invokeFunction('convertToInteractive',\n",
              "                                                     [key], {});\n",
              "          if (!dataTable) return;\n",
              "\n",
              "          const docLinkHtml = 'Like what you see? Visit the ' +\n",
              "            '<a target=\"_blank\" href=https://colab.research.google.com/notebooks/data_table.ipynb>data table notebook</a>'\n",
              "            + ' to learn more about interactive tables.';\n",
              "          element.innerHTML = '';\n",
              "          dataTable['output_type'] = 'display_data';\n",
              "          await google.colab.output.renderOutput(dataTable, element);\n",
              "          const docLink = document.createElement('div');\n",
              "          docLink.innerHTML = docLinkHtml;\n",
              "          element.appendChild(docLink);\n",
              "        }\n",
              "      </script>\n",
              "    </div>\n",
              "  </div>\n",
              "  "
            ],
            "text/plain": [
              "      acc    loss\n",
              "0  0.5021  2.0243\n",
              "1  0.5251  1.9047\n",
              "2  0.5132  2.3380"
            ]
          },
          "metadata": {},
          "execution_count": 89
        }
      ]
    },
    {
      "cell_type": "markdown",
      "source": [
        "## 11. 마치며"
      ],
      "metadata": {
        "id": "PjWNWYoKnKLU"
      }
    },
    {
      "cell_type": "markdown",
      "source": [
        "### 기억에 남는 학습 내용\n",
        "- BERT 임베딩 층의 구조\n",
        "\n",
        "\n",
        "### 어려웠던 점\n",
        "- 학습 진행에는 딱히 어려웠던 점이 없었다.\n",
        "- 단지 트랜스포머에서 이어지는, 전반적인 모델과 코드의 구성을 이해하고 있다는 생각이 들지 않을 뿐(..)\n",
        "이### 기억에 남는 학습 내용\n",
        "- BERT 임베딩 층의 구조\n",
        "\n",
        "\n",
        "### 어려웠던 점\n",
        "- 학습 진행에는 딱히 어려웠던 점이 없었다.\n",
        "- 단지 트랜스포머에서 이어지는, 전반적인 모델과 코드의 구성을 이해하고 있다는 생각이 들지 않을 뿐(..)\n",
        "- 사전학습된 모델이 훨씬 좋은 지표를 낸다는 것이 놀랍다기 보다, 그것에 필요한 시간과 컴퓨팅 성능의 규모에 압도된 느낌이다.\n",
        "\n",
        "\n",
        "### 추가로 해보고 싶은 점\n",
        "- 한국어에 특화된 모델이나 임베딩에 대한 정보 얻기\n",
        "\n",
        "\n",
        "### 총평\n",
        ": 규모 앞에 장사 없다..? 내 학습의 방향성을 깊이 고민해보아야 할 것 같다.\n",
        "\n"
      ],
      "metadata": {
        "id": "5NKpB3zbnb3g"
      }
    },
    {
      "cell_type": "code",
      "source": [
        ""
      ],
      "metadata": {
        "id": "MBeVUsjRn2pf"
      },
      "execution_count": null,
      "outputs": []
    }
  ],
  "metadata": {
    "accelerator": "GPU",
    "colab": {
      "name": "[E-13]BERT_KorQuAD.ipynb",
      "toc_visible": true,
      "provenance": [],
      "collapsed_sections": [
        "9jmRySrkKTgG",
        "_gO9-gG4LRzj",
        "lt4gzPiaMuW9",
        "6AIikPxNNerx",
        "E0gOEeCoQWSL",
        "vC00TqJcYyYp",
        "lt3gQLusWw4k",
        "4OW-iNo3X8md",
        "yjAS37UeYc8G",
        "mRGkPe0LZ4ir",
        "yvZzZ8mScd7Z",
        "M5DkP0-XcihJ",
        "Rucm2GPWcmkS",
        "HvIIKzHUdLm7",
        "FTJe23zNdECX",
        "Revi3vDLiRrs"
      ]
    },
    "kernelspec": {
      "display_name": "Python 3",
      "name": "python3"
    },
    "language_info": {
      "name": "python"
    },
    "widgets": {
      "application/vnd.jupyter.widget-state+json": {
        "02278c0fa9d8481ab23e9f1a042b30d0": {
          "model_module": "@jupyter-widgets/controls",
          "model_module_version": "1.5.0",
          "model_name": "DescriptionStyleModel",
          "state": {
            "_model_module": "@jupyter-widgets/controls",
            "_model_module_version": "1.5.0",
            "_model_name": "DescriptionStyleModel",
            "_view_count": null,
            "_view_module": "@jupyter-widgets/base",
            "_view_module_version": "1.2.0",
            "_view_name": "StyleView",
            "description_width": ""
          }
        },
        "03713bbf96ef4393b3aaa0be8abb3500": {
          "model_module": "@jupyter-widgets/base",
          "model_module_version": "1.2.0",
          "model_name": "LayoutModel",
          "state": {
            "_model_module": "@jupyter-widgets/base",
            "_model_module_version": "1.2.0",
            "_model_name": "LayoutModel",
            "_view_count": null,
            "_view_module": "@jupyter-widgets/base",
            "_view_module_version": "1.2.0",
            "_view_name": "LayoutView",
            "align_content": null,
            "align_items": null,
            "align_self": null,
            "border": null,
            "bottom": null,
            "display": null,
            "flex": null,
            "flex_flow": null,
            "grid_area": null,
            "grid_auto_columns": null,
            "grid_auto_flow": null,
            "grid_auto_rows": null,
            "grid_column": null,
            "grid_gap": null,
            "grid_row": null,
            "grid_template_areas": null,
            "grid_template_columns": null,
            "grid_template_rows": null,
            "height": null,
            "justify_content": null,
            "justify_items": null,
            "left": null,
            "margin": null,
            "max_height": null,
            "max_width": null,
            "min_height": null,
            "min_width": null,
            "object_fit": null,
            "object_position": null,
            "order": null,
            "overflow": null,
            "overflow_x": null,
            "overflow_y": null,
            "padding": null,
            "right": null,
            "top": null,
            "visibility": null,
            "width": null
          }
        },
        "0576e1b3ddc4442897833c9843f4765a": {
          "model_module": "@jupyter-widgets/base",
          "model_module_version": "1.2.0",
          "model_name": "LayoutModel",
          "state": {
            "_model_module": "@jupyter-widgets/base",
            "_model_module_version": "1.2.0",
            "_model_name": "LayoutModel",
            "_view_count": null,
            "_view_module": "@jupyter-widgets/base",
            "_view_module_version": "1.2.0",
            "_view_name": "LayoutView",
            "align_content": null,
            "align_items": null,
            "align_self": null,
            "border": null,
            "bottom": null,
            "display": null,
            "flex": null,
            "flex_flow": null,
            "grid_area": null,
            "grid_auto_columns": null,
            "grid_auto_flow": null,
            "grid_auto_rows": null,
            "grid_column": null,
            "grid_gap": null,
            "grid_row": null,
            "grid_template_areas": null,
            "grid_template_columns": null,
            "grid_template_rows": null,
            "height": null,
            "justify_content": null,
            "justify_items": null,
            "left": null,
            "margin": null,
            "max_height": null,
            "max_width": null,
            "min_height": null,
            "min_width": null,
            "object_fit": null,
            "object_position": null,
            "order": null,
            "overflow": null,
            "overflow_x": null,
            "overflow_y": null,
            "padding": null,
            "right": null,
            "top": null,
            "visibility": null,
            "width": null
          }
        },
        "074f04c8ec3a455eb9af658af01a6ac2": {
          "model_module": "@jupyter-widgets/controls",
          "model_module_version": "1.5.0",
          "model_name": "ProgressStyleModel",
          "state": {
            "_model_module": "@jupyter-widgets/controls",
            "_model_module_version": "1.5.0",
            "_model_name": "ProgressStyleModel",
            "_view_count": null,
            "_view_module": "@jupyter-widgets/base",
            "_view_module_version": "1.2.0",
            "_view_name": "StyleView",
            "bar_color": null,
            "description_width": ""
          }
        },
        "09f888c536c84606b22a8e9bfe77b8c9": {
          "model_module": "@jupyter-widgets/base",
          "model_module_version": "1.2.0",
          "model_name": "LayoutModel",
          "state": {
            "_model_module": "@jupyter-widgets/base",
            "_model_module_version": "1.2.0",
            "_model_name": "LayoutModel",
            "_view_count": null,
            "_view_module": "@jupyter-widgets/base",
            "_view_module_version": "1.2.0",
            "_view_name": "LayoutView",
            "align_content": null,
            "align_items": null,
            "align_self": null,
            "border": null,
            "bottom": null,
            "display": null,
            "flex": null,
            "flex_flow": null,
            "grid_area": null,
            "grid_auto_columns": null,
            "grid_auto_flow": null,
            "grid_auto_rows": null,
            "grid_column": null,
            "grid_gap": null,
            "grid_row": null,
            "grid_template_areas": null,
            "grid_template_columns": null,
            "grid_template_rows": null,
            "height": null,
            "justify_content": null,
            "justify_items": null,
            "left": null,
            "margin": null,
            "max_height": null,
            "max_width": null,
            "min_height": null,
            "min_width": null,
            "object_fit": null,
            "object_position": null,
            "order": null,
            "overflow": null,
            "overflow_x": null,
            "overflow_y": null,
            "padding": null,
            "right": null,
            "top": null,
            "visibility": null,
            "width": null
          }
        },
        "0bec291699f14ba4b4a58967651c5b7a": {
          "model_module": "@jupyter-widgets/controls",
          "model_module_version": "1.5.0",
          "model_name": "DescriptionStyleModel",
          "state": {
            "_model_module": "@jupyter-widgets/controls",
            "_model_module_version": "1.5.0",
            "_model_name": "DescriptionStyleModel",
            "_view_count": null,
            "_view_module": "@jupyter-widgets/base",
            "_view_module_version": "1.2.0",
            "_view_name": "StyleView",
            "description_width": ""
          }
        },
        "12ea47e9acf0499aa06a0682df03196c": {
          "model_module": "@jupyter-widgets/controls",
          "model_module_version": "1.5.0",
          "model_name": "ProgressStyleModel",
          "state": {
            "_model_module": "@jupyter-widgets/controls",
            "_model_module_version": "1.5.0",
            "_model_name": "ProgressStyleModel",
            "_view_count": null,
            "_view_module": "@jupyter-widgets/base",
            "_view_module_version": "1.2.0",
            "_view_name": "StyleView",
            "bar_color": null,
            "description_width": ""
          }
        },
        "162dcf49f4e143a097416513d1e62139": {
          "model_module": "@jupyter-widgets/controls",
          "model_module_version": "1.5.0",
          "model_name": "HTMLModel",
          "state": {
            "_dom_classes": [],
            "_model_module": "@jupyter-widgets/controls",
            "_model_module_version": "1.5.0",
            "_model_name": "HTMLModel",
            "_view_count": null,
            "_view_module": "@jupyter-widgets/controls",
            "_view_module_version": "1.5.0",
            "_view_name": "HTMLView",
            "description": "",
            "description_tooltip": null,
            "layout": "IPY_MODEL_0576e1b3ddc4442897833c9843f4765a",
            "placeholder": "​",
            "style": "IPY_MODEL_28deca34570648c68b8da086f2ca2fa2",
            "value": " 60407/? [00:23&lt;00:00, 2295.60it/s]"
          }
        },
        "1774e891bda34c919c3f4503192c46f8": {
          "model_module": "@jupyter-widgets/base",
          "model_module_version": "1.2.0",
          "model_name": "LayoutModel",
          "state": {
            "_model_module": "@jupyter-widgets/base",
            "_model_module_version": "1.2.0",
            "_model_name": "LayoutModel",
            "_view_count": null,
            "_view_module": "@jupyter-widgets/base",
            "_view_module_version": "1.2.0",
            "_view_name": "LayoutView",
            "align_content": null,
            "align_items": null,
            "align_self": null,
            "border": null,
            "bottom": null,
            "display": null,
            "flex": null,
            "flex_flow": null,
            "grid_area": null,
            "grid_auto_columns": null,
            "grid_auto_flow": null,
            "grid_auto_rows": null,
            "grid_column": null,
            "grid_gap": null,
            "grid_row": null,
            "grid_template_areas": null,
            "grid_template_columns": null,
            "grid_template_rows": null,
            "height": null,
            "justify_content": null,
            "justify_items": null,
            "left": null,
            "margin": null,
            "max_height": null,
            "max_width": null,
            "min_height": null,
            "min_width": null,
            "object_fit": null,
            "object_position": null,
            "order": null,
            "overflow": null,
            "overflow_x": null,
            "overflow_y": null,
            "padding": null,
            "right": null,
            "top": null,
            "visibility": null,
            "width": null
          }
        },
        "186ce384f5f542e6847350a4a3c64f3b": {
          "model_module": "@jupyter-widgets/base",
          "model_module_version": "1.2.0",
          "model_name": "LayoutModel",
          "state": {
            "_model_module": "@jupyter-widgets/base",
            "_model_module_version": "1.2.0",
            "_model_name": "LayoutModel",
            "_view_count": null,
            "_view_module": "@jupyter-widgets/base",
            "_view_module_version": "1.2.0",
            "_view_name": "LayoutView",
            "align_content": null,
            "align_items": null,
            "align_self": null,
            "border": null,
            "bottom": null,
            "display": null,
            "flex": null,
            "flex_flow": null,
            "grid_area": null,
            "grid_auto_columns": null,
            "grid_auto_flow": null,
            "grid_auto_rows": null,
            "grid_column": null,
            "grid_gap": null,
            "grid_row": null,
            "grid_template_areas": null,
            "grid_template_columns": null,
            "grid_template_rows": null,
            "height": null,
            "justify_content": null,
            "justify_items": null,
            "left": null,
            "margin": null,
            "max_height": null,
            "max_width": null,
            "min_height": null,
            "min_width": null,
            "object_fit": null,
            "object_position": null,
            "order": null,
            "overflow": null,
            "overflow_x": null,
            "overflow_y": null,
            "padding": null,
            "right": null,
            "top": null,
            "visibility": null,
            "width": null
          }
        },
        "190b0f1048284a1eb2a0e15850039ed4": {
          "model_module": "@jupyter-widgets/controls",
          "model_module_version": "1.5.0",
          "model_name": "FloatProgressModel",
          "state": {
            "_dom_classes": [],
            "_model_module": "@jupyter-widgets/controls",
            "_model_module_version": "1.5.0",
            "_model_name": "FloatProgressModel",
            "_view_count": null,
            "_view_module": "@jupyter-widgets/controls",
            "_view_module_version": "1.5.0",
            "_view_name": "ProgressView",
            "bar_style": "success",
            "description": "",
            "description_tooltip": null,
            "layout": "IPY_MODEL_7714ce1ac2564752b14aa5454ca5f5c0",
            "max": 1875,
            "min": 0,
            "orientation": "horizontal",
            "style": "IPY_MODEL_074f04c8ec3a455eb9af658af01a6ac2",
            "value": 1875
          }
        },
        "1d7497ac88804c46b6be7a3a838774b6": {
          "model_module": "@jupyter-widgets/controls",
          "model_module_version": "1.5.0",
          "model_name": "DescriptionStyleModel",
          "state": {
            "_model_module": "@jupyter-widgets/controls",
            "_model_module_version": "1.5.0",
            "_model_name": "DescriptionStyleModel",
            "_view_count": null,
            "_view_module": "@jupyter-widgets/base",
            "_view_module_version": "1.2.0",
            "_view_name": "StyleView",
            "description_width": ""
          }
        },
        "1ded2c392da64c3fb123691cbee56120": {
          "model_module": "@jupyter-widgets/controls",
          "model_module_version": "1.5.0",
          "model_name": "ProgressStyleModel",
          "state": {
            "_model_module": "@jupyter-widgets/controls",
            "_model_module_version": "1.5.0",
            "_model_name": "ProgressStyleModel",
            "_view_count": null,
            "_view_module": "@jupyter-widgets/base",
            "_view_module_version": "1.2.0",
            "_view_name": "StyleView",
            "bar_color": null,
            "description_width": ""
          }
        },
        "21bb45bc39264736ba216c8d33b23c42": {
          "model_module": "@jupyter-widgets/controls",
          "model_module_version": "1.5.0",
          "model_name": "HBoxModel",
          "state": {
            "_dom_classes": [],
            "_model_module": "@jupyter-widgets/controls",
            "_model_module_version": "1.5.0",
            "_model_name": "HBoxModel",
            "_view_count": null,
            "_view_module": "@jupyter-widgets/controls",
            "_view_module_version": "1.5.0",
            "_view_name": "HBoxView",
            "box_style": "",
            "children": [
              "IPY_MODEL_ab1382478d9445c18af8a556e2f90c79",
              "IPY_MODEL_edc5fc3f9cb143f798fff0ef71290e47",
              "IPY_MODEL_162dcf49f4e143a097416513d1e62139"
            ],
            "layout": "IPY_MODEL_d113f984f09d454e9a31e8594d33c31b"
          }
        },
        "24f7b26ad6244e4bb60fbc4a4bd6fd9a": {
          "model_module": "@jupyter-widgets/controls",
          "model_module_version": "1.5.0",
          "model_name": "DescriptionStyleModel",
          "state": {
            "_model_module": "@jupyter-widgets/controls",
            "_model_module_version": "1.5.0",
            "_model_name": "DescriptionStyleModel",
            "_view_count": null,
            "_view_module": "@jupyter-widgets/base",
            "_view_module_version": "1.2.0",
            "_view_name": "StyleView",
            "description_width": ""
          }
        },
        "274f75388b0a4bb5a1c9d53b9fcc1a56": {
          "model_module": "@jupyter-widgets/controls",
          "model_module_version": "1.5.0",
          "model_name": "DescriptionStyleModel",
          "state": {
            "_model_module": "@jupyter-widgets/controls",
            "_model_module_version": "1.5.0",
            "_model_name": "DescriptionStyleModel",
            "_view_count": null,
            "_view_module": "@jupyter-widgets/base",
            "_view_module_version": "1.2.0",
            "_view_name": "StyleView",
            "description_width": ""
          }
        },
        "280f130ca3aa4957a35f354accd5363a": {
          "model_module": "@jupyter-widgets/controls",
          "model_module_version": "1.5.0",
          "model_name": "ProgressStyleModel",
          "state": {
            "_model_module": "@jupyter-widgets/controls",
            "_model_module_version": "1.5.0",
            "_model_name": "ProgressStyleModel",
            "_view_count": null,
            "_view_module": "@jupyter-widgets/base",
            "_view_module_version": "1.2.0",
            "_view_name": "StyleView",
            "bar_color": null,
            "description_width": ""
          }
        },
        "28deca34570648c68b8da086f2ca2fa2": {
          "model_module": "@jupyter-widgets/controls",
          "model_module_version": "1.5.0",
          "model_name": "DescriptionStyleModel",
          "state": {
            "_model_module": "@jupyter-widgets/controls",
            "_model_module_version": "1.5.0",
            "_model_name": "DescriptionStyleModel",
            "_view_count": null,
            "_view_module": "@jupyter-widgets/base",
            "_view_module_version": "1.2.0",
            "_view_name": "StyleView",
            "description_width": ""
          }
        },
        "2a4a19bbc77d455b8a75e66fedf4611e": {
          "model_module": "@jupyter-widgets/controls",
          "model_module_version": "1.5.0",
          "model_name": "ProgressStyleModel",
          "state": {
            "_model_module": "@jupyter-widgets/controls",
            "_model_module_version": "1.5.0",
            "_model_name": "ProgressStyleModel",
            "_view_count": null,
            "_view_module": "@jupyter-widgets/base",
            "_view_module_version": "1.2.0",
            "_view_name": "StyleView",
            "bar_color": null,
            "description_width": ""
          }
        },
        "2c0ab0d39345473db1065e07d86ac845": {
          "model_module": "@jupyter-widgets/controls",
          "model_module_version": "1.5.0",
          "model_name": "HBoxModel",
          "state": {
            "_dom_classes": [],
            "_model_module": "@jupyter-widgets/controls",
            "_model_module_version": "1.5.0",
            "_model_name": "HBoxModel",
            "_view_count": null,
            "_view_module": "@jupyter-widgets/controls",
            "_view_module_version": "1.5.0",
            "_view_name": "HBoxView",
            "box_style": "",
            "children": [
              "IPY_MODEL_66afe0e5c64c4762a472a19e49656ecb",
              "IPY_MODEL_d03697a3fd9a4d8fbfdab5e4ce9a3cb7",
              "IPY_MODEL_f457d8d1a461425482da6033fc3ad8fd"
            ],
            "layout": "IPY_MODEL_b300a0de6ced4bab893a4598c77b41e0"
          }
        },
        "2cd4d60a289442f28d8407d1d379068b": {
          "model_module": "@jupyter-widgets/base",
          "model_module_version": "1.2.0",
          "model_name": "LayoutModel",
          "state": {
            "_model_module": "@jupyter-widgets/base",
            "_model_module_version": "1.2.0",
            "_model_name": "LayoutModel",
            "_view_count": null,
            "_view_module": "@jupyter-widgets/base",
            "_view_module_version": "1.2.0",
            "_view_name": "LayoutView",
            "align_content": null,
            "align_items": null,
            "align_self": null,
            "border": null,
            "bottom": null,
            "display": null,
            "flex": null,
            "flex_flow": null,
            "grid_area": null,
            "grid_auto_columns": null,
            "grid_auto_flow": null,
            "grid_auto_rows": null,
            "grid_column": null,
            "grid_gap": null,
            "grid_row": null,
            "grid_template_areas": null,
            "grid_template_columns": null,
            "grid_template_rows": null,
            "height": null,
            "justify_content": null,
            "justify_items": null,
            "left": null,
            "margin": null,
            "max_height": null,
            "max_width": null,
            "min_height": null,
            "min_width": null,
            "object_fit": null,
            "object_position": null,
            "order": null,
            "overflow": null,
            "overflow_x": null,
            "overflow_y": null,
            "padding": null,
            "right": null,
            "top": null,
            "visibility": null,
            "width": null
          }
        },
        "2fe172102ccd44fda1c7dda6b554d979": {
          "model_module": "@jupyter-widgets/base",
          "model_module_version": "1.2.0",
          "model_name": "LayoutModel",
          "state": {
            "_model_module": "@jupyter-widgets/base",
            "_model_module_version": "1.2.0",
            "_model_name": "LayoutModel",
            "_view_count": null,
            "_view_module": "@jupyter-widgets/base",
            "_view_module_version": "1.2.0",
            "_view_name": "LayoutView",
            "align_content": null,
            "align_items": null,
            "align_self": null,
            "border": null,
            "bottom": null,
            "display": null,
            "flex": null,
            "flex_flow": null,
            "grid_area": null,
            "grid_auto_columns": null,
            "grid_auto_flow": null,
            "grid_auto_rows": null,
            "grid_column": null,
            "grid_gap": null,
            "grid_row": null,
            "grid_template_areas": null,
            "grid_template_columns": null,
            "grid_template_rows": null,
            "height": null,
            "justify_content": null,
            "justify_items": null,
            "left": null,
            "margin": null,
            "max_height": null,
            "max_width": null,
            "min_height": null,
            "min_width": null,
            "object_fit": null,
            "object_position": null,
            "order": null,
            "overflow": null,
            "overflow_x": null,
            "overflow_y": null,
            "padding": null,
            "right": null,
            "top": null,
            "visibility": null,
            "width": null
          }
        },
        "35e965e2afd648309215c108b3760c82": {
          "model_module": "@jupyter-widgets/base",
          "model_module_version": "1.2.0",
          "model_name": "LayoutModel",
          "state": {
            "_model_module": "@jupyter-widgets/base",
            "_model_module_version": "1.2.0",
            "_model_name": "LayoutModel",
            "_view_count": null,
            "_view_module": "@jupyter-widgets/base",
            "_view_module_version": "1.2.0",
            "_view_name": "LayoutView",
            "align_content": null,
            "align_items": null,
            "align_self": null,
            "border": null,
            "bottom": null,
            "display": null,
            "flex": null,
            "flex_flow": null,
            "grid_area": null,
            "grid_auto_columns": null,
            "grid_auto_flow": null,
            "grid_auto_rows": null,
            "grid_column": null,
            "grid_gap": null,
            "grid_row": null,
            "grid_template_areas": null,
            "grid_template_columns": null,
            "grid_template_rows": null,
            "height": null,
            "justify_content": null,
            "justify_items": null,
            "left": null,
            "margin": null,
            "max_height": null,
            "max_width": null,
            "min_height": null,
            "min_width": null,
            "object_fit": null,
            "object_position": null,
            "order": null,
            "overflow": null,
            "overflow_x": null,
            "overflow_y": null,
            "padding": null,
            "right": null,
            "top": null,
            "visibility": null,
            "width": null
          }
        },
        "3ecfcfaa23124109b23dd8a14dc96522": {
          "model_module": "@jupyter-widgets/base",
          "model_module_version": "1.2.0",
          "model_name": "LayoutModel",
          "state": {
            "_model_module": "@jupyter-widgets/base",
            "_model_module_version": "1.2.0",
            "_model_name": "LayoutModel",
            "_view_count": null,
            "_view_module": "@jupyter-widgets/base",
            "_view_module_version": "1.2.0",
            "_view_name": "LayoutView",
            "align_content": null,
            "align_items": null,
            "align_self": null,
            "border": null,
            "bottom": null,
            "display": null,
            "flex": null,
            "flex_flow": null,
            "grid_area": null,
            "grid_auto_columns": null,
            "grid_auto_flow": null,
            "grid_auto_rows": null,
            "grid_column": null,
            "grid_gap": null,
            "grid_row": null,
            "grid_template_areas": null,
            "grid_template_columns": null,
            "grid_template_rows": null,
            "height": null,
            "justify_content": null,
            "justify_items": null,
            "left": null,
            "margin": null,
            "max_height": null,
            "max_width": null,
            "min_height": null,
            "min_width": null,
            "object_fit": null,
            "object_position": null,
            "order": null,
            "overflow": null,
            "overflow_x": null,
            "overflow_y": null,
            "padding": null,
            "right": null,
            "top": null,
            "visibility": null,
            "width": null
          }
        },
        "414081af7e9f46fcb749b1bcbb03aaeb": {
          "model_module": "@jupyter-widgets/controls",
          "model_module_version": "1.5.0",
          "model_name": "HTMLModel",
          "state": {
            "_dom_classes": [],
            "_model_module": "@jupyter-widgets/controls",
            "_model_module_version": "1.5.0",
            "_model_name": "HTMLModel",
            "_view_count": null,
            "_view_module": "@jupyter-widgets/controls",
            "_view_module_version": "1.5.0",
            "_view_name": "HTMLView",
            "description": "",
            "description_tooltip": null,
            "layout": "IPY_MODEL_aed0d634dd344a92bfbe80b48aeb637d",
            "placeholder": "​",
            "style": "IPY_MODEL_9cf64f1217804281955aa47373bad5d5",
            "value": "Loading ...: "
          }
        },
        "42d7dc7ebf854401ada43deb02258e51": {
          "model_module": "@jupyter-widgets/controls",
          "model_module_version": "1.5.0",
          "model_name": "HTMLModel",
          "state": {
            "_dom_classes": [],
            "_model_module": "@jupyter-widgets/controls",
            "_model_module_version": "1.5.0",
            "_model_name": "HTMLModel",
            "_view_count": null,
            "_view_module": "@jupyter-widgets/controls",
            "_view_module_version": "1.5.0",
            "_view_name": "HTMLView",
            "description": "",
            "description_tooltip": null,
            "layout": "IPY_MODEL_186ce384f5f542e6847350a4a3c64f3b",
            "placeholder": "​",
            "style": "IPY_MODEL_b30bf761fd4e47e9b1b1b36152d3c86b",
            "value": " 5774/? [00:02&lt;00:00, 2783.42it/s]"
          }
        },
        "43abdf871827424b961fd2cbe7baab67": {
          "model_module": "@jupyter-widgets/controls",
          "model_module_version": "1.5.0",
          "model_name": "DescriptionStyleModel",
          "state": {
            "_model_module": "@jupyter-widgets/controls",
            "_model_module_version": "1.5.0",
            "_model_name": "DescriptionStyleModel",
            "_view_count": null,
            "_view_module": "@jupyter-widgets/base",
            "_view_module_version": "1.2.0",
            "_view_name": "StyleView",
            "description_width": ""
          }
        },
        "466df02696984932921b84a0d320ed35": {
          "model_module": "@jupyter-widgets/controls",
          "model_module_version": "1.5.0",
          "model_name": "DescriptionStyleModel",
          "state": {
            "_model_module": "@jupyter-widgets/controls",
            "_model_module_version": "1.5.0",
            "_model_name": "DescriptionStyleModel",
            "_view_count": null,
            "_view_module": "@jupyter-widgets/base",
            "_view_module_version": "1.2.0",
            "_view_name": "StyleView",
            "description_width": ""
          }
        },
        "497c917afef84a9186e6fc8fb44173f2": {
          "model_module": "@jupyter-widgets/controls",
          "model_module_version": "1.5.0",
          "model_name": "DescriptionStyleModel",
          "state": {
            "_model_module": "@jupyter-widgets/controls",
            "_model_module_version": "1.5.0",
            "_model_name": "DescriptionStyleModel",
            "_view_count": null,
            "_view_module": "@jupyter-widgets/base",
            "_view_module_version": "1.2.0",
            "_view_name": "StyleView",
            "description_width": ""
          }
        },
        "499e28cbf9034841ba80af66c431e779": {
          "model_module": "@jupyter-widgets/base",
          "model_module_version": "1.2.0",
          "model_name": "LayoutModel",
          "state": {
            "_model_module": "@jupyter-widgets/base",
            "_model_module_version": "1.2.0",
            "_model_name": "LayoutModel",
            "_view_count": null,
            "_view_module": "@jupyter-widgets/base",
            "_view_module_version": "1.2.0",
            "_view_name": "LayoutView",
            "align_content": null,
            "align_items": null,
            "align_self": null,
            "border": null,
            "bottom": null,
            "display": null,
            "flex": null,
            "flex_flow": null,
            "grid_area": null,
            "grid_auto_columns": null,
            "grid_auto_flow": null,
            "grid_auto_rows": null,
            "grid_column": null,
            "grid_gap": null,
            "grid_row": null,
            "grid_template_areas": null,
            "grid_template_columns": null,
            "grid_template_rows": null,
            "height": null,
            "justify_content": null,
            "justify_items": null,
            "left": null,
            "margin": null,
            "max_height": null,
            "max_width": null,
            "min_height": null,
            "min_width": null,
            "object_fit": null,
            "object_position": null,
            "order": null,
            "overflow": null,
            "overflow_x": null,
            "overflow_y": null,
            "padding": null,
            "right": null,
            "top": null,
            "visibility": null,
            "width": null
          }
        },
        "4b4d3ade36dd4f65b5ef2874bfb8402b": {
          "model_module": "@jupyter-widgets/controls",
          "model_module_version": "1.5.0",
          "model_name": "DescriptionStyleModel",
          "state": {
            "_model_module": "@jupyter-widgets/controls",
            "_model_module_version": "1.5.0",
            "_model_name": "DescriptionStyleModel",
            "_view_count": null,
            "_view_module": "@jupyter-widgets/base",
            "_view_module_version": "1.2.0",
            "_view_name": "StyleView",
            "description_width": ""
          }
        },
        "4d1e72952ac74d82bc5c1246ef2280f6": {
          "model_module": "@jupyter-widgets/base",
          "model_module_version": "1.2.0",
          "model_name": "LayoutModel",
          "state": {
            "_model_module": "@jupyter-widgets/base",
            "_model_module_version": "1.2.0",
            "_model_name": "LayoutModel",
            "_view_count": null,
            "_view_module": "@jupyter-widgets/base",
            "_view_module_version": "1.2.0",
            "_view_name": "LayoutView",
            "align_content": null,
            "align_items": null,
            "align_self": null,
            "border": null,
            "bottom": null,
            "display": null,
            "flex": null,
            "flex_flow": null,
            "grid_area": null,
            "grid_auto_columns": null,
            "grid_auto_flow": null,
            "grid_auto_rows": null,
            "grid_column": null,
            "grid_gap": null,
            "grid_row": null,
            "grid_template_areas": null,
            "grid_template_columns": null,
            "grid_template_rows": null,
            "height": null,
            "justify_content": null,
            "justify_items": null,
            "left": null,
            "margin": null,
            "max_height": null,
            "max_width": null,
            "min_height": null,
            "min_width": null,
            "object_fit": null,
            "object_position": null,
            "order": null,
            "overflow": null,
            "overflow_x": null,
            "overflow_y": null,
            "padding": null,
            "right": null,
            "top": null,
            "visibility": null,
            "width": null
          }
        },
        "50a2d41850c14a088de278d5c9aa1586": {
          "model_module": "@jupyter-widgets/controls",
          "model_module_version": "1.5.0",
          "model_name": "HBoxModel",
          "state": {
            "_dom_classes": [],
            "_model_module": "@jupyter-widgets/controls",
            "_model_module_version": "1.5.0",
            "_model_name": "HBoxModel",
            "_view_count": null,
            "_view_module": "@jupyter-widgets/controls",
            "_view_module_version": "1.5.0",
            "_view_name": "HBoxView",
            "box_style": "",
            "children": [
              "IPY_MODEL_f9cd51569dc64816b048dfd7a633c4c1",
              "IPY_MODEL_a56fa5f621ae4648b919aadeb958e8b2",
              "IPY_MODEL_e6f4915eaf874c98b85268da75164804"
            ],
            "layout": "IPY_MODEL_80361462b03f48598f51d83b6256e9da"
          }
        },
        "57ba44f7e4c04dcf81c8399f69f5e831": {
          "model_module": "@jupyter-widgets/controls",
          "model_module_version": "1.5.0",
          "model_name": "ProgressStyleModel",
          "state": {
            "_model_module": "@jupyter-widgets/controls",
            "_model_module_version": "1.5.0",
            "_model_name": "ProgressStyleModel",
            "_view_count": null,
            "_view_module": "@jupyter-widgets/base",
            "_view_module_version": "1.2.0",
            "_view_name": "StyleView",
            "bar_color": null,
            "description_width": ""
          }
        },
        "5b29cdfe9bdf4aa2b3b0bcda4dcd1fe8": {
          "model_module": "@jupyter-widgets/base",
          "model_module_version": "1.2.0",
          "model_name": "LayoutModel",
          "state": {
            "_model_module": "@jupyter-widgets/base",
            "_model_module_version": "1.2.0",
            "_model_name": "LayoutModel",
            "_view_count": null,
            "_view_module": "@jupyter-widgets/base",
            "_view_module_version": "1.2.0",
            "_view_name": "LayoutView",
            "align_content": null,
            "align_items": null,
            "align_self": null,
            "border": null,
            "bottom": null,
            "display": null,
            "flex": null,
            "flex_flow": null,
            "grid_area": null,
            "grid_auto_columns": null,
            "grid_auto_flow": null,
            "grid_auto_rows": null,
            "grid_column": null,
            "grid_gap": null,
            "grid_row": null,
            "grid_template_areas": null,
            "grid_template_columns": null,
            "grid_template_rows": null,
            "height": null,
            "justify_content": null,
            "justify_items": null,
            "left": null,
            "margin": null,
            "max_height": null,
            "max_width": null,
            "min_height": null,
            "min_width": null,
            "object_fit": null,
            "object_position": null,
            "order": null,
            "overflow": null,
            "overflow_x": null,
            "overflow_y": null,
            "padding": null,
            "right": null,
            "top": null,
            "visibility": null,
            "width": "20px"
          }
        },
        "5d43926423ea4ab7aeed7e522048f6b0": {
          "model_module": "@jupyter-widgets/controls",
          "model_module_version": "1.5.0",
          "model_name": "HBoxModel",
          "state": {
            "_dom_classes": [],
            "_model_module": "@jupyter-widgets/controls",
            "_model_module_version": "1.5.0",
            "_model_name": "HBoxModel",
            "_view_count": null,
            "_view_module": "@jupyter-widgets/controls",
            "_view_module_version": "1.5.0",
            "_view_name": "HBoxView",
            "box_style": "",
            "children": [
              "IPY_MODEL_414081af7e9f46fcb749b1bcbb03aaeb",
              "IPY_MODEL_9e70f1b103224ea4b312ee5629441693",
              "IPY_MODEL_42d7dc7ebf854401ada43deb02258e51"
            ],
            "layout": "IPY_MODEL_03713bbf96ef4393b3aaa0be8abb3500"
          }
        },
        "5ed4ef5ce41e4c0489497c60e373353c": {
          "model_module": "@jupyter-widgets/controls",
          "model_module_version": "1.5.0",
          "model_name": "HTMLModel",
          "state": {
            "_dom_classes": [],
            "_model_module": "@jupyter-widgets/controls",
            "_model_module_version": "1.5.0",
            "_model_name": "HTMLModel",
            "_view_count": null,
            "_view_module": "@jupyter-widgets/controls",
            "_view_module_version": "1.5.0",
            "_view_name": "HTMLView",
            "description": "",
            "description_tooltip": null,
            "layout": "IPY_MODEL_1774e891bda34c919c3f4503192c46f8",
            "placeholder": "​",
            "style": "IPY_MODEL_6af0f47bc8ad4838afdc7b551d160600",
            "value": " 140/140 [00:03&lt;00:00, 35.73it/s]"
          }
        },
        "5f46399eb1da4bf0b9a6389d85f91b50": {
          "model_module": "@jupyter-widgets/controls",
          "model_module_version": "1.5.0",
          "model_name": "HBoxModel",
          "state": {
            "_dom_classes": [],
            "_model_module": "@jupyter-widgets/controls",
            "_model_module_version": "1.5.0",
            "_model_name": "HBoxModel",
            "_view_count": null,
            "_view_module": "@jupyter-widgets/controls",
            "_view_module_version": "1.5.0",
            "_view_name": "HBoxView",
            "box_style": "",
            "children": [
              "IPY_MODEL_682406cafb77431894d81985a5c6e9ba",
              "IPY_MODEL_7ce1c0d90d044241b7c551c952ae9a8c",
              "IPY_MODEL_a9f55e925ed34d62852585cd7702cd92"
            ],
            "layout": "IPY_MODEL_e4d3a601c50d4d62924eab8978d82d1c"
          }
        },
        "66afe0e5c64c4762a472a19e49656ecb": {
          "model_module": "@jupyter-widgets/controls",
          "model_module_version": "1.5.0",
          "model_name": "HTMLModel",
          "state": {
            "_dom_classes": [],
            "_model_module": "@jupyter-widgets/controls",
            "_model_module_version": "1.5.0",
            "_model_name": "HTMLModel",
            "_view_count": null,
            "_view_module": "@jupyter-widgets/controls",
            "_view_module_version": "1.5.0",
            "_view_name": "HTMLView",
            "description": "",
            "description_tooltip": null,
            "layout": "IPY_MODEL_8dd28c9636144058bec6b517e7113e8b",
            "placeholder": "​",
            "style": "IPY_MODEL_4b4d3ade36dd4f65b5ef2874bfb8402b",
            "value": "100%"
          }
        },
        "682406cafb77431894d81985a5c6e9ba": {
          "model_module": "@jupyter-widgets/controls",
          "model_module_version": "1.5.0",
          "model_name": "HTMLModel",
          "state": {
            "_dom_classes": [],
            "_model_module": "@jupyter-widgets/controls",
            "_model_module_version": "1.5.0",
            "_model_name": "HTMLModel",
            "_view_count": null,
            "_view_module": "@jupyter-widgets/controls",
            "_view_module_version": "1.5.0",
            "_view_name": "HTMLView",
            "description": "",
            "description_tooltip": null,
            "layout": "IPY_MODEL_75e1d3c6af654b95930751da991345bb",
            "placeholder": "​",
            "style": "IPY_MODEL_43abdf871827424b961fd2cbe7baab67",
            "value": "loss: 5.9506, 5.9506, acc: 0.0137, 0.0103: 100%"
          }
        },
        "68589d5c30ab4301acd4bb01b3396228": {
          "model_module": "@jupyter-widgets/base",
          "model_module_version": "1.2.0",
          "model_name": "LayoutModel",
          "state": {
            "_model_module": "@jupyter-widgets/base",
            "_model_module_version": "1.2.0",
            "_model_name": "LayoutModel",
            "_view_count": null,
            "_view_module": "@jupyter-widgets/base",
            "_view_module_version": "1.2.0",
            "_view_name": "LayoutView",
            "align_content": null,
            "align_items": null,
            "align_self": null,
            "border": null,
            "bottom": null,
            "display": null,
            "flex": null,
            "flex_flow": null,
            "grid_area": null,
            "grid_auto_columns": null,
            "grid_auto_flow": null,
            "grid_auto_rows": null,
            "grid_column": null,
            "grid_gap": null,
            "grid_row": null,
            "grid_template_areas": null,
            "grid_template_columns": null,
            "grid_template_rows": null,
            "height": null,
            "justify_content": null,
            "justify_items": null,
            "left": null,
            "margin": null,
            "max_height": null,
            "max_width": null,
            "min_height": null,
            "min_width": null,
            "object_fit": null,
            "object_position": null,
            "order": null,
            "overflow": null,
            "overflow_x": null,
            "overflow_y": null,
            "padding": null,
            "right": null,
            "top": null,
            "visibility": null,
            "width": null
          }
        },
        "6a2c34cd9ef2468c905c8e2ba25d3835": {
          "model_module": "@jupyter-widgets/base",
          "model_module_version": "1.2.0",
          "model_name": "LayoutModel",
          "state": {
            "_model_module": "@jupyter-widgets/base",
            "_model_module_version": "1.2.0",
            "_model_name": "LayoutModel",
            "_view_count": null,
            "_view_module": "@jupyter-widgets/base",
            "_view_module_version": "1.2.0",
            "_view_name": "LayoutView",
            "align_content": null,
            "align_items": null,
            "align_self": null,
            "border": null,
            "bottom": null,
            "display": null,
            "flex": null,
            "flex_flow": null,
            "grid_area": null,
            "grid_auto_columns": null,
            "grid_auto_flow": null,
            "grid_auto_rows": null,
            "grid_column": null,
            "grid_gap": null,
            "grid_row": null,
            "grid_template_areas": null,
            "grid_template_columns": null,
            "grid_template_rows": null,
            "height": null,
            "justify_content": null,
            "justify_items": null,
            "left": null,
            "margin": null,
            "max_height": null,
            "max_width": null,
            "min_height": null,
            "min_width": null,
            "object_fit": null,
            "object_position": null,
            "order": null,
            "overflow": null,
            "overflow_x": null,
            "overflow_y": null,
            "padding": null,
            "right": null,
            "top": null,
            "visibility": null,
            "width": null
          }
        },
        "6af0f47bc8ad4838afdc7b551d160600": {
          "model_module": "@jupyter-widgets/controls",
          "model_module_version": "1.5.0",
          "model_name": "DescriptionStyleModel",
          "state": {
            "_model_module": "@jupyter-widgets/controls",
            "_model_module_version": "1.5.0",
            "_model_name": "DescriptionStyleModel",
            "_view_count": null,
            "_view_module": "@jupyter-widgets/base",
            "_view_module_version": "1.2.0",
            "_view_name": "StyleView",
            "description_width": ""
          }
        },
        "713dcbe0b6c2484481969dd672ddfb59": {
          "model_module": "@jupyter-widgets/controls",
          "model_module_version": "1.5.0",
          "model_name": "HBoxModel",
          "state": {
            "_dom_classes": [],
            "_model_module": "@jupyter-widgets/controls",
            "_model_module_version": "1.5.0",
            "_model_name": "HBoxModel",
            "_view_count": null,
            "_view_module": "@jupyter-widgets/controls",
            "_view_module_version": "1.5.0",
            "_view_name": "HBoxView",
            "box_style": "",
            "children": [
              "IPY_MODEL_8511747ab24544d4977c3b8687bca1d9",
              "IPY_MODEL_190b0f1048284a1eb2a0e15850039ed4",
              "IPY_MODEL_cc26c52fa0e6413187a35c1e6a8e711a"
            ],
            "layout": "IPY_MODEL_e1e344a895934f81bc8bb6237880abe8"
          }
        },
        "75e1d3c6af654b95930751da991345bb": {
          "model_module": "@jupyter-widgets/base",
          "model_module_version": "1.2.0",
          "model_name": "LayoutModel",
          "state": {
            "_model_module": "@jupyter-widgets/base",
            "_model_module_version": "1.2.0",
            "_model_name": "LayoutModel",
            "_view_count": null,
            "_view_module": "@jupyter-widgets/base",
            "_view_module_version": "1.2.0",
            "_view_name": "LayoutView",
            "align_content": null,
            "align_items": null,
            "align_self": null,
            "border": null,
            "bottom": null,
            "display": null,
            "flex": null,
            "flex_flow": null,
            "grid_area": null,
            "grid_auto_columns": null,
            "grid_auto_flow": null,
            "grid_auto_rows": null,
            "grid_column": null,
            "grid_gap": null,
            "grid_row": null,
            "grid_template_areas": null,
            "grid_template_columns": null,
            "grid_template_rows": null,
            "height": null,
            "justify_content": null,
            "justify_items": null,
            "left": null,
            "margin": null,
            "max_height": null,
            "max_width": null,
            "min_height": null,
            "min_width": null,
            "object_fit": null,
            "object_position": null,
            "order": null,
            "overflow": null,
            "overflow_x": null,
            "overflow_y": null,
            "padding": null,
            "right": null,
            "top": null,
            "visibility": null,
            "width": null
          }
        },
        "7714ce1ac2564752b14aa5454ca5f5c0": {
          "model_module": "@jupyter-widgets/base",
          "model_module_version": "1.2.0",
          "model_name": "LayoutModel",
          "state": {
            "_model_module": "@jupyter-widgets/base",
            "_model_module_version": "1.2.0",
            "_model_name": "LayoutModel",
            "_view_count": null,
            "_view_module": "@jupyter-widgets/base",
            "_view_module_version": "1.2.0",
            "_view_name": "LayoutView",
            "align_content": null,
            "align_items": null,
            "align_self": null,
            "border": null,
            "bottom": null,
            "display": null,
            "flex": null,
            "flex_flow": null,
            "grid_area": null,
            "grid_auto_columns": null,
            "grid_auto_flow": null,
            "grid_auto_rows": null,
            "grid_column": null,
            "grid_gap": null,
            "grid_row": null,
            "grid_template_areas": null,
            "grid_template_columns": null,
            "grid_template_rows": null,
            "height": null,
            "justify_content": null,
            "justify_items": null,
            "left": null,
            "margin": null,
            "max_height": null,
            "max_width": null,
            "min_height": null,
            "min_width": null,
            "object_fit": null,
            "object_position": null,
            "order": null,
            "overflow": null,
            "overflow_x": null,
            "overflow_y": null,
            "padding": null,
            "right": null,
            "top": null,
            "visibility": null,
            "width": null
          }
        },
        "78bdcf274601480382f6874c272bbf50": {
          "model_module": "@jupyter-widgets/base",
          "model_module_version": "1.2.0",
          "model_name": "LayoutModel",
          "state": {
            "_model_module": "@jupyter-widgets/base",
            "_model_module_version": "1.2.0",
            "_model_name": "LayoutModel",
            "_view_count": null,
            "_view_module": "@jupyter-widgets/base",
            "_view_module_version": "1.2.0",
            "_view_name": "LayoutView",
            "align_content": null,
            "align_items": null,
            "align_self": null,
            "border": null,
            "bottom": null,
            "display": null,
            "flex": null,
            "flex_flow": null,
            "grid_area": null,
            "grid_auto_columns": null,
            "grid_auto_flow": null,
            "grid_auto_rows": null,
            "grid_column": null,
            "grid_gap": null,
            "grid_row": null,
            "grid_template_areas": null,
            "grid_template_columns": null,
            "grid_template_rows": null,
            "height": null,
            "justify_content": null,
            "justify_items": null,
            "left": null,
            "margin": null,
            "max_height": null,
            "max_width": null,
            "min_height": null,
            "min_width": null,
            "object_fit": null,
            "object_position": null,
            "order": null,
            "overflow": null,
            "overflow_x": null,
            "overflow_y": null,
            "padding": null,
            "right": null,
            "top": null,
            "visibility": null,
            "width": null
          }
        },
        "7ce1c0d90d044241b7c551c952ae9a8c": {
          "model_module": "@jupyter-widgets/controls",
          "model_module_version": "1.5.0",
          "model_name": "FloatProgressModel",
          "state": {
            "_dom_classes": [],
            "_model_module": "@jupyter-widgets/controls",
            "_model_module_version": "1.5.0",
            "_model_name": "FloatProgressModel",
            "_view_count": null,
            "_view_module": "@jupyter-widgets/controls",
            "_view_module_version": "1.5.0",
            "_view_name": "ProgressView",
            "bar_style": "success",
            "description": "",
            "description_tooltip": null,
            "layout": "IPY_MODEL_78bdcf274601480382f6874c272bbf50",
            "max": 1875,
            "min": 0,
            "orientation": "horizontal",
            "style": "IPY_MODEL_2a4a19bbc77d455b8a75e66fedf4611e",
            "value": 1875
          }
        },
        "80361462b03f48598f51d83b6256e9da": {
          "model_module": "@jupyter-widgets/base",
          "model_module_version": "1.2.0",
          "model_name": "LayoutModel",
          "state": {
            "_model_module": "@jupyter-widgets/base",
            "_model_module_version": "1.2.0",
            "_model_name": "LayoutModel",
            "_view_count": null,
            "_view_module": "@jupyter-widgets/base",
            "_view_module_version": "1.2.0",
            "_view_name": "LayoutView",
            "align_content": null,
            "align_items": null,
            "align_self": null,
            "border": null,
            "bottom": null,
            "display": null,
            "flex": null,
            "flex_flow": null,
            "grid_area": null,
            "grid_auto_columns": null,
            "grid_auto_flow": null,
            "grid_auto_rows": null,
            "grid_column": null,
            "grid_gap": null,
            "grid_row": null,
            "grid_template_areas": null,
            "grid_template_columns": null,
            "grid_template_rows": null,
            "height": null,
            "justify_content": null,
            "justify_items": null,
            "left": null,
            "margin": null,
            "max_height": null,
            "max_width": null,
            "min_height": null,
            "min_width": null,
            "object_fit": null,
            "object_position": null,
            "order": null,
            "overflow": null,
            "overflow_x": null,
            "overflow_y": null,
            "padding": null,
            "right": null,
            "top": null,
            "visibility": null,
            "width": null
          }
        },
        "84b20b09ebb24ebb8717e4af581b51ec": {
          "model_module": "@jupyter-widgets/base",
          "model_module_version": "1.2.0",
          "model_name": "LayoutModel",
          "state": {
            "_model_module": "@jupyter-widgets/base",
            "_model_module_version": "1.2.0",
            "_model_name": "LayoutModel",
            "_view_count": null,
            "_view_module": "@jupyter-widgets/base",
            "_view_module_version": "1.2.0",
            "_view_name": "LayoutView",
            "align_content": null,
            "align_items": null,
            "align_self": null,
            "border": null,
            "bottom": null,
            "display": null,
            "flex": null,
            "flex_flow": null,
            "grid_area": null,
            "grid_auto_columns": null,
            "grid_auto_flow": null,
            "grid_auto_rows": null,
            "grid_column": null,
            "grid_gap": null,
            "grid_row": null,
            "grid_template_areas": null,
            "grid_template_columns": null,
            "grid_template_rows": null,
            "height": null,
            "justify_content": null,
            "justify_items": null,
            "left": null,
            "margin": null,
            "max_height": null,
            "max_width": null,
            "min_height": null,
            "min_width": null,
            "object_fit": null,
            "object_position": null,
            "order": null,
            "overflow": null,
            "overflow_x": null,
            "overflow_y": null,
            "padding": null,
            "right": null,
            "top": null,
            "visibility": null,
            "width": null
          }
        },
        "84f36fb814664dc9a3975f6f01b817e7": {
          "model_module": "@jupyter-widgets/controls",
          "model_module_version": "1.5.0",
          "model_name": "DescriptionStyleModel",
          "state": {
            "_model_module": "@jupyter-widgets/controls",
            "_model_module_version": "1.5.0",
            "_model_name": "DescriptionStyleModel",
            "_view_count": null,
            "_view_module": "@jupyter-widgets/base",
            "_view_module_version": "1.2.0",
            "_view_name": "StyleView",
            "description_width": ""
          }
        },
        "8511747ab24544d4977c3b8687bca1d9": {
          "model_module": "@jupyter-widgets/controls",
          "model_module_version": "1.5.0",
          "model_name": "HTMLModel",
          "state": {
            "_dom_classes": [],
            "_model_module": "@jupyter-widgets/controls",
            "_model_module_version": "1.5.0",
            "_model_name": "HTMLModel",
            "_view_count": null,
            "_view_module": "@jupyter-widgets/controls",
            "_view_module_version": "1.5.0",
            "_view_name": "HTMLView",
            "description": "",
            "description_tooltip": null,
            "layout": "IPY_MODEL_cd979ab45d5e4afba048428cc7bfefe6",
            "placeholder": "​",
            "style": "IPY_MODEL_274f75388b0a4bb5a1c9d53b9fcc1a56",
            "value": "loss: 5.9506, 5.9506, acc: 0.0147, 0.0109: 100%"
          }
        },
        "8dd28c9636144058bec6b517e7113e8b": {
          "model_module": "@jupyter-widgets/base",
          "model_module_version": "1.2.0",
          "model_name": "LayoutModel",
          "state": {
            "_model_module": "@jupyter-widgets/base",
            "_model_module_version": "1.2.0",
            "_model_name": "LayoutModel",
            "_view_count": null,
            "_view_module": "@jupyter-widgets/base",
            "_view_module_version": "1.2.0",
            "_view_name": "LayoutView",
            "align_content": null,
            "align_items": null,
            "align_self": null,
            "border": null,
            "bottom": null,
            "display": null,
            "flex": null,
            "flex_flow": null,
            "grid_area": null,
            "grid_auto_columns": null,
            "grid_auto_flow": null,
            "grid_auto_rows": null,
            "grid_column": null,
            "grid_gap": null,
            "grid_row": null,
            "grid_template_areas": null,
            "grid_template_columns": null,
            "grid_template_rows": null,
            "height": null,
            "justify_content": null,
            "justify_items": null,
            "left": null,
            "margin": null,
            "max_height": null,
            "max_width": null,
            "min_height": null,
            "min_width": null,
            "object_fit": null,
            "object_position": null,
            "order": null,
            "overflow": null,
            "overflow_x": null,
            "overflow_y": null,
            "padding": null,
            "right": null,
            "top": null,
            "visibility": null,
            "width": null
          }
        },
        "92e88d35dc1e40ee9c973a3b531ec6e3": {
          "model_module": "@jupyter-widgets/controls",
          "model_module_version": "1.5.0",
          "model_name": "DescriptionStyleModel",
          "state": {
            "_model_module": "@jupyter-widgets/controls",
            "_model_module_version": "1.5.0",
            "_model_name": "DescriptionStyleModel",
            "_view_count": null,
            "_view_module": "@jupyter-widgets/base",
            "_view_module_version": "1.2.0",
            "_view_name": "StyleView",
            "description_width": ""
          }
        },
        "9604a9de3fd84b0fb1981153ce3f355a": {
          "model_module": "@jupyter-widgets/base",
          "model_module_version": "1.2.0",
          "model_name": "LayoutModel",
          "state": {
            "_model_module": "@jupyter-widgets/base",
            "_model_module_version": "1.2.0",
            "_model_name": "LayoutModel",
            "_view_count": null,
            "_view_module": "@jupyter-widgets/base",
            "_view_module_version": "1.2.0",
            "_view_name": "LayoutView",
            "align_content": null,
            "align_items": null,
            "align_self": null,
            "border": null,
            "bottom": null,
            "display": null,
            "flex": null,
            "flex_flow": null,
            "grid_area": null,
            "grid_auto_columns": null,
            "grid_auto_flow": null,
            "grid_auto_rows": null,
            "grid_column": null,
            "grid_gap": null,
            "grid_row": null,
            "grid_template_areas": null,
            "grid_template_columns": null,
            "grid_template_rows": null,
            "height": null,
            "justify_content": null,
            "justify_items": null,
            "left": null,
            "margin": null,
            "max_height": null,
            "max_width": null,
            "min_height": null,
            "min_width": null,
            "object_fit": null,
            "object_position": null,
            "order": null,
            "overflow": null,
            "overflow_x": null,
            "overflow_y": null,
            "padding": null,
            "right": null,
            "top": null,
            "visibility": null,
            "width": null
          }
        },
        "9cf64f1217804281955aa47373bad5d5": {
          "model_module": "@jupyter-widgets/controls",
          "model_module_version": "1.5.0",
          "model_name": "DescriptionStyleModel",
          "state": {
            "_model_module": "@jupyter-widgets/controls",
            "_model_module_version": "1.5.0",
            "_model_name": "DescriptionStyleModel",
            "_view_count": null,
            "_view_module": "@jupyter-widgets/base",
            "_view_module_version": "1.2.0",
            "_view_name": "StyleView",
            "description_width": ""
          }
        },
        "9e70f1b103224ea4b312ee5629441693": {
          "model_module": "@jupyter-widgets/controls",
          "model_module_version": "1.5.0",
          "model_name": "FloatProgressModel",
          "state": {
            "_dom_classes": [],
            "_model_module": "@jupyter-widgets/controls",
            "_model_module_version": "1.5.0",
            "_model_name": "FloatProgressModel",
            "_view_count": null,
            "_view_module": "@jupyter-widgets/controls",
            "_view_module_version": "1.5.0",
            "_view_name": "ProgressView",
            "bar_style": "success",
            "description": "",
            "description_tooltip": null,
            "layout": "IPY_MODEL_5b29cdfe9bdf4aa2b3b0bcda4dcd1fe8",
            "max": 1,
            "min": 0,
            "orientation": "horizontal",
            "style": "IPY_MODEL_12ea47e9acf0499aa06a0682df03196c",
            "value": 1
          }
        },
        "a56fa5f621ae4648b919aadeb958e8b2": {
          "model_module": "@jupyter-widgets/controls",
          "model_module_version": "1.5.0",
          "model_name": "FloatProgressModel",
          "state": {
            "_dom_classes": [],
            "_model_module": "@jupyter-widgets/controls",
            "_model_module_version": "1.5.0",
            "_model_name": "FloatProgressModel",
            "_view_count": null,
            "_view_module": "@jupyter-widgets/controls",
            "_view_module_version": "1.5.0",
            "_view_name": "ProgressView",
            "bar_style": "success",
            "description": "",
            "description_tooltip": null,
            "layout": "IPY_MODEL_2fe172102ccd44fda1c7dda6b554d979",
            "max": 1420,
            "min": 0,
            "orientation": "horizontal",
            "style": "IPY_MODEL_57ba44f7e4c04dcf81c8399f69f5e831",
            "value": 1420
          }
        },
        "a9f55e925ed34d62852585cd7702cd92": {
          "model_module": "@jupyter-widgets/controls",
          "model_module_version": "1.5.0",
          "model_name": "HTMLModel",
          "state": {
            "_dom_classes": [],
            "_model_module": "@jupyter-widgets/controls",
            "_model_module_version": "1.5.0",
            "_model_name": "HTMLModel",
            "_view_count": null,
            "_view_module": "@jupyter-widgets/controls",
            "_view_module_version": "1.5.0",
            "_view_name": "HTMLView",
            "description": "",
            "description_tooltip": null,
            "layout": "IPY_MODEL_35e965e2afd648309215c108b3760c82",
            "placeholder": "​",
            "style": "IPY_MODEL_f336666b609c47c3ab3c180b9a92de8f",
            "value": " 1875/1875 [13:22&lt;00:00,  2.70it/s]"
          }
        },
        "ab1382478d9445c18af8a556e2f90c79": {
          "model_module": "@jupyter-widgets/controls",
          "model_module_version": "1.5.0",
          "model_name": "HTMLModel",
          "state": {
            "_dom_classes": [],
            "_model_module": "@jupyter-widgets/controls",
            "_model_module_version": "1.5.0",
            "_model_name": "HTMLModel",
            "_view_count": null,
            "_view_module": "@jupyter-widgets/controls",
            "_view_module_version": "1.5.0",
            "_view_name": "HTMLView",
            "description": "",
            "description_tooltip": null,
            "layout": "IPY_MODEL_3ecfcfaa23124109b23dd8a14dc96522",
            "placeholder": "​",
            "style": "IPY_MODEL_497c917afef84a9186e6fc8fb44173f2",
            "value": "Loading ...: "
          }
        },
        "aecbf187f7c549dbbc5349e6ee7604f8": {
          "model_module": "@jupyter-widgets/controls",
          "model_module_version": "1.5.0",
          "model_name": "HTMLModel",
          "state": {
            "_dom_classes": [],
            "_model_module": "@jupyter-widgets/controls",
            "_model_module_version": "1.5.0",
            "_model_name": "HTMLModel",
            "_view_count": null,
            "_view_module": "@jupyter-widgets/controls",
            "_view_module_version": "1.5.0",
            "_view_name": "HTMLView",
            "description": "",
            "description_tooltip": null,
            "layout": "IPY_MODEL_2cd4d60a289442f28d8407d1d379068b",
            "placeholder": "​",
            "style": "IPY_MODEL_1d7497ac88804c46b6be7a3a838774b6",
            "value": "loss: 5.2392, 5.4211, acc: 0.0414, 0.0333: 100%"
          }
        },
        "aed0d634dd344a92bfbe80b48aeb637d": {
          "model_module": "@jupyter-widgets/base",
          "model_module_version": "1.2.0",
          "model_name": "LayoutModel",
          "state": {
            "_model_module": "@jupyter-widgets/base",
            "_model_module_version": "1.2.0",
            "_model_name": "LayoutModel",
            "_view_count": null,
            "_view_module": "@jupyter-widgets/base",
            "_view_module_version": "1.2.0",
            "_view_name": "LayoutView",
            "align_content": null,
            "align_items": null,
            "align_self": null,
            "border": null,
            "bottom": null,
            "display": null,
            "flex": null,
            "flex_flow": null,
            "grid_area": null,
            "grid_auto_columns": null,
            "grid_auto_flow": null,
            "grid_auto_rows": null,
            "grid_column": null,
            "grid_gap": null,
            "grid_row": null,
            "grid_template_areas": null,
            "grid_template_columns": null,
            "grid_template_rows": null,
            "height": null,
            "justify_content": null,
            "justify_items": null,
            "left": null,
            "margin": null,
            "max_height": null,
            "max_width": null,
            "min_height": null,
            "min_width": null,
            "object_fit": null,
            "object_position": null,
            "order": null,
            "overflow": null,
            "overflow_x": null,
            "overflow_y": null,
            "padding": null,
            "right": null,
            "top": null,
            "visibility": null,
            "width": null
          }
        },
        "b149e24a99c7487f8d8909af75a480c7": {
          "model_module": "@jupyter-widgets/controls",
          "model_module_version": "1.5.0",
          "model_name": "HTMLModel",
          "state": {
            "_dom_classes": [],
            "_model_module": "@jupyter-widgets/controls",
            "_model_module_version": "1.5.0",
            "_model_name": "HTMLModel",
            "_view_count": null,
            "_view_module": "@jupyter-widgets/controls",
            "_view_module_version": "1.5.0",
            "_view_name": "HTMLView",
            "description": "",
            "description_tooltip": null,
            "layout": "IPY_MODEL_84b20b09ebb24ebb8717e4af581b51ec",
            "placeholder": "​",
            "style": "IPY_MODEL_466df02696984932921b84a0d320ed35",
            "value": " 1875/1875 [13:35&lt;00:00,  2.53it/s]"
          }
        },
        "b300a0de6ced4bab893a4598c77b41e0": {
          "model_module": "@jupyter-widgets/base",
          "model_module_version": "1.2.0",
          "model_name": "LayoutModel",
          "state": {
            "_model_module": "@jupyter-widgets/base",
            "_model_module_version": "1.2.0",
            "_model_name": "LayoutModel",
            "_view_count": null,
            "_view_module": "@jupyter-widgets/base",
            "_view_module_version": "1.2.0",
            "_view_name": "LayoutView",
            "align_content": null,
            "align_items": null,
            "align_self": null,
            "border": null,
            "bottom": null,
            "display": null,
            "flex": null,
            "flex_flow": null,
            "grid_area": null,
            "grid_auto_columns": null,
            "grid_auto_flow": null,
            "grid_auto_rows": null,
            "grid_column": null,
            "grid_gap": null,
            "grid_row": null,
            "grid_template_areas": null,
            "grid_template_columns": null,
            "grid_template_rows": null,
            "height": null,
            "justify_content": null,
            "justify_items": null,
            "left": null,
            "margin": null,
            "max_height": null,
            "max_width": null,
            "min_height": null,
            "min_width": null,
            "object_fit": null,
            "object_position": null,
            "order": null,
            "overflow": null,
            "overflow_x": null,
            "overflow_y": null,
            "padding": null,
            "right": null,
            "top": null,
            "visibility": null,
            "width": null
          }
        },
        "b30bf761fd4e47e9b1b1b36152d3c86b": {
          "model_module": "@jupyter-widgets/controls",
          "model_module_version": "1.5.0",
          "model_name": "DescriptionStyleModel",
          "state": {
            "_model_module": "@jupyter-widgets/controls",
            "_model_module_version": "1.5.0",
            "_model_name": "DescriptionStyleModel",
            "_view_count": null,
            "_view_module": "@jupyter-widgets/base",
            "_view_module_version": "1.2.0",
            "_view_name": "StyleView",
            "description_width": ""
          }
        },
        "b6fb54355093459e91e0fc613037f2c9": {
          "model_module": "@jupyter-widgets/base",
          "model_module_version": "1.2.0",
          "model_name": "LayoutModel",
          "state": {
            "_model_module": "@jupyter-widgets/base",
            "_model_module_version": "1.2.0",
            "_model_name": "LayoutModel",
            "_view_count": null,
            "_view_module": "@jupyter-widgets/base",
            "_view_module_version": "1.2.0",
            "_view_name": "LayoutView",
            "align_content": null,
            "align_items": null,
            "align_self": null,
            "border": null,
            "bottom": null,
            "display": null,
            "flex": null,
            "flex_flow": null,
            "grid_area": null,
            "grid_auto_columns": null,
            "grid_auto_flow": null,
            "grid_auto_rows": null,
            "grid_column": null,
            "grid_gap": null,
            "grid_row": null,
            "grid_template_areas": null,
            "grid_template_columns": null,
            "grid_template_rows": null,
            "height": null,
            "justify_content": null,
            "justify_items": null,
            "left": null,
            "margin": null,
            "max_height": null,
            "max_width": null,
            "min_height": null,
            "min_width": null,
            "object_fit": null,
            "object_position": null,
            "order": null,
            "overflow": null,
            "overflow_x": null,
            "overflow_y": null,
            "padding": null,
            "right": null,
            "top": null,
            "visibility": null,
            "width": null
          }
        },
        "b88171f3012d4e1b93f778337a41d98d": {
          "model_module": "@jupyter-widgets/controls",
          "model_module_version": "1.5.0",
          "model_name": "HTMLModel",
          "state": {
            "_dom_classes": [],
            "_model_module": "@jupyter-widgets/controls",
            "_model_module_version": "1.5.0",
            "_model_name": "HTMLModel",
            "_view_count": null,
            "_view_module": "@jupyter-widgets/controls",
            "_view_module_version": "1.5.0",
            "_view_name": "HTMLView",
            "description": "",
            "description_tooltip": null,
            "layout": "IPY_MODEL_b6fb54355093459e91e0fc613037f2c9",
            "placeholder": "​",
            "style": "IPY_MODEL_84f36fb814664dc9a3975f6f01b817e7",
            "value": "100%"
          }
        },
        "b933f3d001dc4c8295d35b0f6be5eaf3": {
          "model_module": "@jupyter-widgets/controls",
          "model_module_version": "1.5.0",
          "model_name": "HBoxModel",
          "state": {
            "_dom_classes": [],
            "_model_module": "@jupyter-widgets/controls",
            "_model_module_version": "1.5.0",
            "_model_name": "HBoxModel",
            "_view_count": null,
            "_view_module": "@jupyter-widgets/controls",
            "_view_module_version": "1.5.0",
            "_view_name": "HBoxView",
            "box_style": "",
            "children": [
              "IPY_MODEL_b88171f3012d4e1b93f778337a41d98d",
              "IPY_MODEL_e4871ed470c54e55b38c4cd51829748b",
              "IPY_MODEL_5ed4ef5ce41e4c0489497c60e373353c"
            ],
            "layout": "IPY_MODEL_6a2c34cd9ef2468c905c8e2ba25d3835"
          }
        },
        "bd0d8c6102034e8295da5418d5cc2ed0": {
          "model_module": "@jupyter-widgets/controls",
          "model_module_version": "1.5.0",
          "model_name": "ProgressStyleModel",
          "state": {
            "_model_module": "@jupyter-widgets/controls",
            "_model_module_version": "1.5.0",
            "_model_name": "ProgressStyleModel",
            "_view_count": null,
            "_view_module": "@jupyter-widgets/base",
            "_view_module_version": "1.2.0",
            "_view_name": "StyleView",
            "bar_color": null,
            "description_width": ""
          }
        },
        "c867c5e2796e4d5a8629ef9de30d6920": {
          "model_module": "@jupyter-widgets/controls",
          "model_module_version": "1.5.0",
          "model_name": "HBoxModel",
          "state": {
            "_dom_classes": [],
            "_model_module": "@jupyter-widgets/controls",
            "_model_module_version": "1.5.0",
            "_model_name": "HBoxModel",
            "_view_count": null,
            "_view_module": "@jupyter-widgets/controls",
            "_view_module_version": "1.5.0",
            "_view_name": "HBoxView",
            "box_style": "",
            "children": [
              "IPY_MODEL_aecbf187f7c549dbbc5349e6ee7604f8",
              "IPY_MODEL_f0be3d7f43d9434b9ad1524efa199719",
              "IPY_MODEL_b149e24a99c7487f8d8909af75a480c7"
            ],
            "layout": "IPY_MODEL_9604a9de3fd84b0fb1981153ce3f355a"
          }
        },
        "cc26c52fa0e6413187a35c1e6a8e711a": {
          "model_module": "@jupyter-widgets/controls",
          "model_module_version": "1.5.0",
          "model_name": "HTMLModel",
          "state": {
            "_dom_classes": [],
            "_model_module": "@jupyter-widgets/controls",
            "_model_module_version": "1.5.0",
            "_model_name": "HTMLModel",
            "_view_count": null,
            "_view_module": "@jupyter-widgets/controls",
            "_view_module_version": "1.5.0",
            "_view_name": "HTMLView",
            "description": "",
            "description_tooltip": null,
            "layout": "IPY_MODEL_d0e4bafceb4445df9498e349c2b7a4c3",
            "placeholder": "​",
            "style": "IPY_MODEL_24f7b26ad6244e4bb60fbc4a4bd6fd9a",
            "value": " 1875/1875 [12:59&lt;00:00,  2.65it/s]"
          }
        },
        "cd979ab45d5e4afba048428cc7bfefe6": {
          "model_module": "@jupyter-widgets/base",
          "model_module_version": "1.2.0",
          "model_name": "LayoutModel",
          "state": {
            "_model_module": "@jupyter-widgets/base",
            "_model_module_version": "1.2.0",
            "_model_name": "LayoutModel",
            "_view_count": null,
            "_view_module": "@jupyter-widgets/base",
            "_view_module_version": "1.2.0",
            "_view_name": "LayoutView",
            "align_content": null,
            "align_items": null,
            "align_self": null,
            "border": null,
            "bottom": null,
            "display": null,
            "flex": null,
            "flex_flow": null,
            "grid_area": null,
            "grid_auto_columns": null,
            "grid_auto_flow": null,
            "grid_auto_rows": null,
            "grid_column": null,
            "grid_gap": null,
            "grid_row": null,
            "grid_template_areas": null,
            "grid_template_columns": null,
            "grid_template_rows": null,
            "height": null,
            "justify_content": null,
            "justify_items": null,
            "left": null,
            "margin": null,
            "max_height": null,
            "max_width": null,
            "min_height": null,
            "min_width": null,
            "object_fit": null,
            "object_position": null,
            "order": null,
            "overflow": null,
            "overflow_x": null,
            "overflow_y": null,
            "padding": null,
            "right": null,
            "top": null,
            "visibility": null,
            "width": null
          }
        },
        "d03697a3fd9a4d8fbfdab5e4ce9a3cb7": {
          "model_module": "@jupyter-widgets/controls",
          "model_module_version": "1.5.0",
          "model_name": "FloatProgressModel",
          "state": {
            "_dom_classes": [],
            "_model_module": "@jupyter-widgets/controls",
            "_model_module_version": "1.5.0",
            "_model_name": "FloatProgressModel",
            "_view_count": null,
            "_view_module": "@jupyter-widgets/controls",
            "_view_module_version": "1.5.0",
            "_view_name": "ProgressView",
            "bar_style": "success",
            "description": "",
            "description_tooltip": null,
            "layout": "IPY_MODEL_68589d5c30ab4301acd4bb01b3396228",
            "max": 1420,
            "min": 0,
            "orientation": "horizontal",
            "style": "IPY_MODEL_bd0d8c6102034e8295da5418d5cc2ed0",
            "value": 1420
          }
        },
        "d0e4bafceb4445df9498e349c2b7a4c3": {
          "model_module": "@jupyter-widgets/base",
          "model_module_version": "1.2.0",
          "model_name": "LayoutModel",
          "state": {
            "_model_module": "@jupyter-widgets/base",
            "_model_module_version": "1.2.0",
            "_model_name": "LayoutModel",
            "_view_count": null,
            "_view_module": "@jupyter-widgets/base",
            "_view_module_version": "1.2.0",
            "_view_name": "LayoutView",
            "align_content": null,
            "align_items": null,
            "align_self": null,
            "border": null,
            "bottom": null,
            "display": null,
            "flex": null,
            "flex_flow": null,
            "grid_area": null,
            "grid_auto_columns": null,
            "grid_auto_flow": null,
            "grid_auto_rows": null,
            "grid_column": null,
            "grid_gap": null,
            "grid_row": null,
            "grid_template_areas": null,
            "grid_template_columns": null,
            "grid_template_rows": null,
            "height": null,
            "justify_content": null,
            "justify_items": null,
            "left": null,
            "margin": null,
            "max_height": null,
            "max_width": null,
            "min_height": null,
            "min_width": null,
            "object_fit": null,
            "object_position": null,
            "order": null,
            "overflow": null,
            "overflow_x": null,
            "overflow_y": null,
            "padding": null,
            "right": null,
            "top": null,
            "visibility": null,
            "width": null
          }
        },
        "d113f984f09d454e9a31e8594d33c31b": {
          "model_module": "@jupyter-widgets/base",
          "model_module_version": "1.2.0",
          "model_name": "LayoutModel",
          "state": {
            "_model_module": "@jupyter-widgets/base",
            "_model_module_version": "1.2.0",
            "_model_name": "LayoutModel",
            "_view_count": null,
            "_view_module": "@jupyter-widgets/base",
            "_view_module_version": "1.2.0",
            "_view_name": "LayoutView",
            "align_content": null,
            "align_items": null,
            "align_self": null,
            "border": null,
            "bottom": null,
            "display": null,
            "flex": null,
            "flex_flow": null,
            "grid_area": null,
            "grid_auto_columns": null,
            "grid_auto_flow": null,
            "grid_auto_rows": null,
            "grid_column": null,
            "grid_gap": null,
            "grid_row": null,
            "grid_template_areas": null,
            "grid_template_columns": null,
            "grid_template_rows": null,
            "height": null,
            "justify_content": null,
            "justify_items": null,
            "left": null,
            "margin": null,
            "max_height": null,
            "max_width": null,
            "min_height": null,
            "min_width": null,
            "object_fit": null,
            "object_position": null,
            "order": null,
            "overflow": null,
            "overflow_x": null,
            "overflow_y": null,
            "padding": null,
            "right": null,
            "top": null,
            "visibility": null,
            "width": null
          }
        },
        "d45178e165df4fd7a1524efaa61ad108": {
          "model_module": "@jupyter-widgets/controls",
          "model_module_version": "1.5.0",
          "model_name": "ProgressStyleModel",
          "state": {
            "_model_module": "@jupyter-widgets/controls",
            "_model_module_version": "1.5.0",
            "_model_name": "ProgressStyleModel",
            "_view_count": null,
            "_view_module": "@jupyter-widgets/base",
            "_view_module_version": "1.2.0",
            "_view_name": "StyleView",
            "bar_color": null,
            "description_width": ""
          }
        },
        "dc40428dcaa440fcbf74c028d8807061": {
          "model_module": "@jupyter-widgets/base",
          "model_module_version": "1.2.0",
          "model_name": "LayoutModel",
          "state": {
            "_model_module": "@jupyter-widgets/base",
            "_model_module_version": "1.2.0",
            "_model_name": "LayoutModel",
            "_view_count": null,
            "_view_module": "@jupyter-widgets/base",
            "_view_module_version": "1.2.0",
            "_view_name": "LayoutView",
            "align_content": null,
            "align_items": null,
            "align_self": null,
            "border": null,
            "bottom": null,
            "display": null,
            "flex": null,
            "flex_flow": null,
            "grid_area": null,
            "grid_auto_columns": null,
            "grid_auto_flow": null,
            "grid_auto_rows": null,
            "grid_column": null,
            "grid_gap": null,
            "grid_row": null,
            "grid_template_areas": null,
            "grid_template_columns": null,
            "grid_template_rows": null,
            "height": null,
            "justify_content": null,
            "justify_items": null,
            "left": null,
            "margin": null,
            "max_height": null,
            "max_width": null,
            "min_height": null,
            "min_width": null,
            "object_fit": null,
            "object_position": null,
            "order": null,
            "overflow": null,
            "overflow_x": null,
            "overflow_y": null,
            "padding": null,
            "right": null,
            "top": null,
            "visibility": null,
            "width": "20px"
          }
        },
        "e1e344a895934f81bc8bb6237880abe8": {
          "model_module": "@jupyter-widgets/base",
          "model_module_version": "1.2.0",
          "model_name": "LayoutModel",
          "state": {
            "_model_module": "@jupyter-widgets/base",
            "_model_module_version": "1.2.0",
            "_model_name": "LayoutModel",
            "_view_count": null,
            "_view_module": "@jupyter-widgets/base",
            "_view_module_version": "1.2.0",
            "_view_name": "LayoutView",
            "align_content": null,
            "align_items": null,
            "align_self": null,
            "border": null,
            "bottom": null,
            "display": null,
            "flex": null,
            "flex_flow": null,
            "grid_area": null,
            "grid_auto_columns": null,
            "grid_auto_flow": null,
            "grid_auto_rows": null,
            "grid_column": null,
            "grid_gap": null,
            "grid_row": null,
            "grid_template_areas": null,
            "grid_template_columns": null,
            "grid_template_rows": null,
            "height": null,
            "justify_content": null,
            "justify_items": null,
            "left": null,
            "margin": null,
            "max_height": null,
            "max_width": null,
            "min_height": null,
            "min_width": null,
            "object_fit": null,
            "object_position": null,
            "order": null,
            "overflow": null,
            "overflow_x": null,
            "overflow_y": null,
            "padding": null,
            "right": null,
            "top": null,
            "visibility": null,
            "width": null
          }
        },
        "e3113158e7d64bcd8c4e1f20c97becfd": {
          "model_module": "@jupyter-widgets/base",
          "model_module_version": "1.2.0",
          "model_name": "LayoutModel",
          "state": {
            "_model_module": "@jupyter-widgets/base",
            "_model_module_version": "1.2.0",
            "_model_name": "LayoutModel",
            "_view_count": null,
            "_view_module": "@jupyter-widgets/base",
            "_view_module_version": "1.2.0",
            "_view_name": "LayoutView",
            "align_content": null,
            "align_items": null,
            "align_self": null,
            "border": null,
            "bottom": null,
            "display": null,
            "flex": null,
            "flex_flow": null,
            "grid_area": null,
            "grid_auto_columns": null,
            "grid_auto_flow": null,
            "grid_auto_rows": null,
            "grid_column": null,
            "grid_gap": null,
            "grid_row": null,
            "grid_template_areas": null,
            "grid_template_columns": null,
            "grid_template_rows": null,
            "height": null,
            "justify_content": null,
            "justify_items": null,
            "left": null,
            "margin": null,
            "max_height": null,
            "max_width": null,
            "min_height": null,
            "min_width": null,
            "object_fit": null,
            "object_position": null,
            "order": null,
            "overflow": null,
            "overflow_x": null,
            "overflow_y": null,
            "padding": null,
            "right": null,
            "top": null,
            "visibility": null,
            "width": null
          }
        },
        "e4871ed470c54e55b38c4cd51829748b": {
          "model_module": "@jupyter-widgets/controls",
          "model_module_version": "1.5.0",
          "model_name": "FloatProgressModel",
          "state": {
            "_dom_classes": [],
            "_model_module": "@jupyter-widgets/controls",
            "_model_module_version": "1.5.0",
            "_model_name": "FloatProgressModel",
            "_view_count": null,
            "_view_module": "@jupyter-widgets/controls",
            "_view_module_version": "1.5.0",
            "_view_name": "ProgressView",
            "bar_style": "success",
            "description": "",
            "description_tooltip": null,
            "layout": "IPY_MODEL_4d1e72952ac74d82bc5c1246ef2280f6",
            "max": 140,
            "min": 0,
            "orientation": "horizontal",
            "style": "IPY_MODEL_d45178e165df4fd7a1524efaa61ad108",
            "value": 140
          }
        },
        "e4d3a601c50d4d62924eab8978d82d1c": {
          "model_module": "@jupyter-widgets/base",
          "model_module_version": "1.2.0",
          "model_name": "LayoutModel",
          "state": {
            "_model_module": "@jupyter-widgets/base",
            "_model_module_version": "1.2.0",
            "_model_name": "LayoutModel",
            "_view_count": null,
            "_view_module": "@jupyter-widgets/base",
            "_view_module_version": "1.2.0",
            "_view_name": "LayoutView",
            "align_content": null,
            "align_items": null,
            "align_self": null,
            "border": null,
            "bottom": null,
            "display": null,
            "flex": null,
            "flex_flow": null,
            "grid_area": null,
            "grid_auto_columns": null,
            "grid_auto_flow": null,
            "grid_auto_rows": null,
            "grid_column": null,
            "grid_gap": null,
            "grid_row": null,
            "grid_template_areas": null,
            "grid_template_columns": null,
            "grid_template_rows": null,
            "height": null,
            "justify_content": null,
            "justify_items": null,
            "left": null,
            "margin": null,
            "max_height": null,
            "max_width": null,
            "min_height": null,
            "min_width": null,
            "object_fit": null,
            "object_position": null,
            "order": null,
            "overflow": null,
            "overflow_x": null,
            "overflow_y": null,
            "padding": null,
            "right": null,
            "top": null,
            "visibility": null,
            "width": null
          }
        },
        "e6f4915eaf874c98b85268da75164804": {
          "model_module": "@jupyter-widgets/controls",
          "model_module_version": "1.5.0",
          "model_name": "HTMLModel",
          "state": {
            "_dom_classes": [],
            "_model_module": "@jupyter-widgets/controls",
            "_model_module_version": "1.5.0",
            "_model_name": "HTMLModel",
            "_view_count": null,
            "_view_module": "@jupyter-widgets/controls",
            "_view_module_version": "1.5.0",
            "_view_name": "HTMLView",
            "description": "",
            "description_tooltip": null,
            "layout": "IPY_MODEL_ff60f32fcf9c451bae0169e27f4dc774",
            "placeholder": "​",
            "style": "IPY_MODEL_02278c0fa9d8481ab23e9f1a042b30d0",
            "value": " 1420/1420 [00:31&lt;00:00, 21.69it/s]"
          }
        },
        "edc5fc3f9cb143f798fff0ef71290e47": {
          "model_module": "@jupyter-widgets/controls",
          "model_module_version": "1.5.0",
          "model_name": "FloatProgressModel",
          "state": {
            "_dom_classes": [],
            "_model_module": "@jupyter-widgets/controls",
            "_model_module_version": "1.5.0",
            "_model_name": "FloatProgressModel",
            "_view_count": null,
            "_view_module": "@jupyter-widgets/controls",
            "_view_module_version": "1.5.0",
            "_view_name": "ProgressView",
            "bar_style": "success",
            "description": "",
            "description_tooltip": null,
            "layout": "IPY_MODEL_dc40428dcaa440fcbf74c028d8807061",
            "max": 1,
            "min": 0,
            "orientation": "horizontal",
            "style": "IPY_MODEL_1ded2c392da64c3fb123691cbee56120",
            "value": 1
          }
        },
        "f0be3d7f43d9434b9ad1524efa199719": {
          "model_module": "@jupyter-widgets/controls",
          "model_module_version": "1.5.0",
          "model_name": "FloatProgressModel",
          "state": {
            "_dom_classes": [],
            "_model_module": "@jupyter-widgets/controls",
            "_model_module_version": "1.5.0",
            "_model_name": "FloatProgressModel",
            "_view_count": null,
            "_view_module": "@jupyter-widgets/controls",
            "_view_module_version": "1.5.0",
            "_view_name": "ProgressView",
            "bar_style": "success",
            "description": "",
            "description_tooltip": null,
            "layout": "IPY_MODEL_e3113158e7d64bcd8c4e1f20c97becfd",
            "max": 1875,
            "min": 0,
            "orientation": "horizontal",
            "style": "IPY_MODEL_280f130ca3aa4957a35f354accd5363a",
            "value": 1875
          }
        },
        "f336666b609c47c3ab3c180b9a92de8f": {
          "model_module": "@jupyter-widgets/controls",
          "model_module_version": "1.5.0",
          "model_name": "DescriptionStyleModel",
          "state": {
            "_model_module": "@jupyter-widgets/controls",
            "_model_module_version": "1.5.0",
            "_model_name": "DescriptionStyleModel",
            "_view_count": null,
            "_view_module": "@jupyter-widgets/base",
            "_view_module_version": "1.2.0",
            "_view_name": "StyleView",
            "description_width": ""
          }
        },
        "f457d8d1a461425482da6033fc3ad8fd": {
          "model_module": "@jupyter-widgets/controls",
          "model_module_version": "1.5.0",
          "model_name": "HTMLModel",
          "state": {
            "_dom_classes": [],
            "_model_module": "@jupyter-widgets/controls",
            "_model_module_version": "1.5.0",
            "_model_name": "HTMLModel",
            "_view_count": null,
            "_view_module": "@jupyter-widgets/controls",
            "_view_module_version": "1.5.0",
            "_view_name": "HTMLView",
            "description": "",
            "description_tooltip": null,
            "layout": "IPY_MODEL_499e28cbf9034841ba80af66c431e779",
            "placeholder": "​",
            "style": "IPY_MODEL_0bec291699f14ba4b4a58967651c5b7a",
            "value": " 1420/1420 [00:00&lt;00:00, 7756.51it/s]"
          }
        },
        "f9cd51569dc64816b048dfd7a633c4c1": {
          "model_module": "@jupyter-widgets/controls",
          "model_module_version": "1.5.0",
          "model_name": "HTMLModel",
          "state": {
            "_dom_classes": [],
            "_model_module": "@jupyter-widgets/controls",
            "_model_module_version": "1.5.0",
            "_model_name": "HTMLModel",
            "_view_count": null,
            "_view_module": "@jupyter-widgets/controls",
            "_view_module_version": "1.5.0",
            "_view_name": "HTMLView",
            "description": "",
            "description_tooltip": null,
            "layout": "IPY_MODEL_09f888c536c84606b22a8e9bfe77b8c9",
            "placeholder": "​",
            "style": "IPY_MODEL_92e88d35dc1e40ee9c973a3b531ec6e3",
            "value": "100%"
          }
        },
        "ff60f32fcf9c451bae0169e27f4dc774": {
          "model_module": "@jupyter-widgets/base",
          "model_module_version": "1.2.0",
          "model_name": "LayoutModel",
          "state": {
            "_model_module": "@jupyter-widgets/base",
            "_model_module_version": "1.2.0",
            "_model_name": "LayoutModel",
            "_view_count": null,
            "_view_module": "@jupyter-widgets/base",
            "_view_module_version": "1.2.0",
            "_view_name": "LayoutView",
            "align_content": null,
            "align_items": null,
            "align_self": null,
            "border": null,
            "bottom": null,
            "display": null,
            "flex": null,
            "flex_flow": null,
            "grid_area": null,
            "grid_auto_columns": null,
            "grid_auto_flow": null,
            "grid_auto_rows": null,
            "grid_column": null,
            "grid_gap": null,
            "grid_row": null,
            "grid_template_areas": null,
            "grid_template_columns": null,
            "grid_template_rows": null,
            "height": null,
            "justify_content": null,
            "justify_items": null,
            "left": null,
            "margin": null,
            "max_height": null,
            "max_width": null,
            "min_height": null,
            "min_width": null,
            "object_fit": null,
            "object_position": null,
            "order": null,
            "overflow": null,
            "overflow_x": null,
            "overflow_y": null,
            "padding": null,
            "right": null,
            "top": null,
            "visibility": null,
            "width": null
          }
        },
        "1a28cee0392c42ff9b8ea717b16cec7d": {
          "model_module": "@jupyter-widgets/controls",
          "model_name": "HBoxModel",
          "model_module_version": "1.5.0",
          "state": {
            "_view_name": "HBoxView",
            "_dom_classes": [],
            "_model_name": "HBoxModel",
            "_view_module": "@jupyter-widgets/controls",
            "_model_module_version": "1.5.0",
            "_view_count": null,
            "_view_module_version": "1.5.0",
            "box_style": "",
            "layout": "IPY_MODEL_137841a15c4e451baa12631974841156",
            "_model_module": "@jupyter-widgets/controls",
            "children": [
              "IPY_MODEL_e44d6c441355457785037b625ac5b0f8",
              "IPY_MODEL_d03ffa9abc9948fd8700fe2a883a2d9f",
              "IPY_MODEL_bd255bd92ef246b1aa0c35385ecbe4db"
            ]
          }
        },
        "137841a15c4e451baa12631974841156": {
          "model_module": "@jupyter-widgets/base",
          "model_name": "LayoutModel",
          "model_module_version": "1.2.0",
          "state": {
            "_view_name": "LayoutView",
            "grid_template_rows": null,
            "right": null,
            "justify_content": null,
            "_view_module": "@jupyter-widgets/base",
            "overflow": null,
            "_model_module_version": "1.2.0",
            "_view_count": null,
            "flex_flow": null,
            "width": null,
            "min_width": null,
            "border": null,
            "align_items": null,
            "bottom": null,
            "_model_module": "@jupyter-widgets/base",
            "top": null,
            "grid_column": null,
            "overflow_y": null,
            "overflow_x": null,
            "grid_auto_flow": null,
            "grid_area": null,
            "grid_template_columns": null,
            "flex": null,
            "_model_name": "LayoutModel",
            "justify_items": null,
            "grid_row": null,
            "max_height": null,
            "align_content": null,
            "visibility": null,
            "align_self": null,
            "height": null,
            "min_height": null,
            "padding": null,
            "grid_auto_rows": null,
            "grid_gap": null,
            "max_width": null,
            "order": null,
            "_view_module_version": "1.2.0",
            "grid_template_areas": null,
            "object_position": null,
            "object_fit": null,
            "grid_auto_columns": null,
            "margin": null,
            "display": null,
            "left": null
          }
        },
        "e44d6c441355457785037b625ac5b0f8": {
          "model_module": "@jupyter-widgets/controls",
          "model_name": "HTMLModel",
          "model_module_version": "1.5.0",
          "state": {
            "_view_name": "HTMLView",
            "style": "IPY_MODEL_e61e34f80a704ef2b55156c1fbd1bc30",
            "_dom_classes": [],
            "description": "",
            "_model_name": "HTMLModel",
            "placeholder": "​",
            "_view_module": "@jupyter-widgets/controls",
            "_model_module_version": "1.5.0",
            "value": "loss: 2.3416, 2.6289, acc: 0.4388, 0.3977: 100%",
            "_view_count": null,
            "_view_module_version": "1.5.0",
            "description_tooltip": null,
            "_model_module": "@jupyter-widgets/controls",
            "layout": "IPY_MODEL_442f3d02d80649ac8d9253ea568f54e1"
          }
        },
        "d03ffa9abc9948fd8700fe2a883a2d9f": {
          "model_module": "@jupyter-widgets/controls",
          "model_name": "FloatProgressModel",
          "model_module_version": "1.5.0",
          "state": {
            "_view_name": "ProgressView",
            "style": "IPY_MODEL_97568735648e486bae1d520fc6a0cbca",
            "_dom_classes": [],
            "description": "",
            "_model_name": "FloatProgressModel",
            "bar_style": "success",
            "max": 1875,
            "_view_module": "@jupyter-widgets/controls",
            "_model_module_version": "1.5.0",
            "value": 1875,
            "_view_count": null,
            "_view_module_version": "1.5.0",
            "orientation": "horizontal",
            "min": 0,
            "description_tooltip": null,
            "_model_module": "@jupyter-widgets/controls",
            "layout": "IPY_MODEL_e3cc1c5ce58d471ea7dbf2dd55d8a619"
          }
        },
        "bd255bd92ef246b1aa0c35385ecbe4db": {
          "model_module": "@jupyter-widgets/controls",
          "model_name": "HTMLModel",
          "model_module_version": "1.5.0",
          "state": {
            "_view_name": "HTMLView",
            "style": "IPY_MODEL_081db05e2fa44868949b4dd0d0188fcb",
            "_dom_classes": [],
            "description": "",
            "_model_name": "HTMLModel",
            "placeholder": "​",
            "_view_module": "@jupyter-widgets/controls",
            "_model_module_version": "1.5.0",
            "value": " 1875/1875 [13:22&lt;00:00,  2.80it/s]",
            "_view_count": null,
            "_view_module_version": "1.5.0",
            "description_tooltip": null,
            "_model_module": "@jupyter-widgets/controls",
            "layout": "IPY_MODEL_2b8f8ee814384132be9db52d4fd0f34b"
          }
        },
        "e61e34f80a704ef2b55156c1fbd1bc30": {
          "model_module": "@jupyter-widgets/controls",
          "model_name": "DescriptionStyleModel",
          "model_module_version": "1.5.0",
          "state": {
            "_view_name": "StyleView",
            "_model_name": "DescriptionStyleModel",
            "description_width": "",
            "_view_module": "@jupyter-widgets/base",
            "_model_module_version": "1.5.0",
            "_view_count": null,
            "_view_module_version": "1.2.0",
            "_model_module": "@jupyter-widgets/controls"
          }
        },
        "442f3d02d80649ac8d9253ea568f54e1": {
          "model_module": "@jupyter-widgets/base",
          "model_name": "LayoutModel",
          "model_module_version": "1.2.0",
          "state": {
            "_view_name": "LayoutView",
            "grid_template_rows": null,
            "right": null,
            "justify_content": null,
            "_view_module": "@jupyter-widgets/base",
            "overflow": null,
            "_model_module_version": "1.2.0",
            "_view_count": null,
            "flex_flow": null,
            "width": null,
            "min_width": null,
            "border": null,
            "align_items": null,
            "bottom": null,
            "_model_module": "@jupyter-widgets/base",
            "top": null,
            "grid_column": null,
            "overflow_y": null,
            "overflow_x": null,
            "grid_auto_flow": null,
            "grid_area": null,
            "grid_template_columns": null,
            "flex": null,
            "_model_name": "LayoutModel",
            "justify_items": null,
            "grid_row": null,
            "max_height": null,
            "align_content": null,
            "visibility": null,
            "align_self": null,
            "height": null,
            "min_height": null,
            "padding": null,
            "grid_auto_rows": null,
            "grid_gap": null,
            "max_width": null,
            "order": null,
            "_view_module_version": "1.2.0",
            "grid_template_areas": null,
            "object_position": null,
            "object_fit": null,
            "grid_auto_columns": null,
            "margin": null,
            "display": null,
            "left": null
          }
        },
        "97568735648e486bae1d520fc6a0cbca": {
          "model_module": "@jupyter-widgets/controls",
          "model_name": "ProgressStyleModel",
          "model_module_version": "1.5.0",
          "state": {
            "_view_name": "StyleView",
            "_model_name": "ProgressStyleModel",
            "description_width": "",
            "_view_module": "@jupyter-widgets/base",
            "_model_module_version": "1.5.0",
            "_view_count": null,
            "_view_module_version": "1.2.0",
            "bar_color": null,
            "_model_module": "@jupyter-widgets/controls"
          }
        },
        "e3cc1c5ce58d471ea7dbf2dd55d8a619": {
          "model_module": "@jupyter-widgets/base",
          "model_name": "LayoutModel",
          "model_module_version": "1.2.0",
          "state": {
            "_view_name": "LayoutView",
            "grid_template_rows": null,
            "right": null,
            "justify_content": null,
            "_view_module": "@jupyter-widgets/base",
            "overflow": null,
            "_model_module_version": "1.2.0",
            "_view_count": null,
            "flex_flow": null,
            "width": null,
            "min_width": null,
            "border": null,
            "align_items": null,
            "bottom": null,
            "_model_module": "@jupyter-widgets/base",
            "top": null,
            "grid_column": null,
            "overflow_y": null,
            "overflow_x": null,
            "grid_auto_flow": null,
            "grid_area": null,
            "grid_template_columns": null,
            "flex": null,
            "_model_name": "LayoutModel",
            "justify_items": null,
            "grid_row": null,
            "max_height": null,
            "align_content": null,
            "visibility": null,
            "align_self": null,
            "height": null,
            "min_height": null,
            "padding": null,
            "grid_auto_rows": null,
            "grid_gap": null,
            "max_width": null,
            "order": null,
            "_view_module_version": "1.2.0",
            "grid_template_areas": null,
            "object_position": null,
            "object_fit": null,
            "grid_auto_columns": null,
            "margin": null,
            "display": null,
            "left": null
          }
        },
        "081db05e2fa44868949b4dd0d0188fcb": {
          "model_module": "@jupyter-widgets/controls",
          "model_name": "DescriptionStyleModel",
          "model_module_version": "1.5.0",
          "state": {
            "_view_name": "StyleView",
            "_model_name": "DescriptionStyleModel",
            "description_width": "",
            "_view_module": "@jupyter-widgets/base",
            "_model_module_version": "1.5.0",
            "_view_count": null,
            "_view_module_version": "1.2.0",
            "_model_module": "@jupyter-widgets/controls"
          }
        },
        "2b8f8ee814384132be9db52d4fd0f34b": {
          "model_module": "@jupyter-widgets/base",
          "model_name": "LayoutModel",
          "model_module_version": "1.2.0",
          "state": {
            "_view_name": "LayoutView",
            "grid_template_rows": null,
            "right": null,
            "justify_content": null,
            "_view_module": "@jupyter-widgets/base",
            "overflow": null,
            "_model_module_version": "1.2.0",
            "_view_count": null,
            "flex_flow": null,
            "width": null,
            "min_width": null,
            "border": null,
            "align_items": null,
            "bottom": null,
            "_model_module": "@jupyter-widgets/base",
            "top": null,
            "grid_column": null,
            "overflow_y": null,
            "overflow_x": null,
            "grid_auto_flow": null,
            "grid_area": null,
            "grid_template_columns": null,
            "flex": null,
            "_model_name": "LayoutModel",
            "justify_items": null,
            "grid_row": null,
            "max_height": null,
            "align_content": null,
            "visibility": null,
            "align_self": null,
            "height": null,
            "min_height": null,
            "padding": null,
            "grid_auto_rows": null,
            "grid_gap": null,
            "max_width": null,
            "order": null,
            "_view_module_version": "1.2.0",
            "grid_template_areas": null,
            "object_position": null,
            "object_fit": null,
            "grid_auto_columns": null,
            "margin": null,
            "display": null,
            "left": null
          }
        },
        "e1e2dc51685e4cf6918ad46b682fcf4c": {
          "model_module": "@jupyter-widgets/controls",
          "model_name": "HBoxModel",
          "model_module_version": "1.5.0",
          "state": {
            "_view_name": "HBoxView",
            "_dom_classes": [],
            "_model_name": "HBoxModel",
            "_view_module": "@jupyter-widgets/controls",
            "_model_module_version": "1.5.0",
            "_view_count": null,
            "_view_module_version": "1.5.0",
            "box_style": "",
            "layout": "IPY_MODEL_d64b01f4cf4d4e95b35a75c22e335992",
            "_model_module": "@jupyter-widgets/controls",
            "children": [
              "IPY_MODEL_33ff6828954c45128740d65b65e86a89",
              "IPY_MODEL_c67f690047454302bb8af931cff43ebf",
              "IPY_MODEL_11643a9c430a44dc93758e1ebd27e65a"
            ]
          }
        },
        "d64b01f4cf4d4e95b35a75c22e335992": {
          "model_module": "@jupyter-widgets/base",
          "model_name": "LayoutModel",
          "model_module_version": "1.2.0",
          "state": {
            "_view_name": "LayoutView",
            "grid_template_rows": null,
            "right": null,
            "justify_content": null,
            "_view_module": "@jupyter-widgets/base",
            "overflow": null,
            "_model_module_version": "1.2.0",
            "_view_count": null,
            "flex_flow": null,
            "width": null,
            "min_width": null,
            "border": null,
            "align_items": null,
            "bottom": null,
            "_model_module": "@jupyter-widgets/base",
            "top": null,
            "grid_column": null,
            "overflow_y": null,
            "overflow_x": null,
            "grid_auto_flow": null,
            "grid_area": null,
            "grid_template_columns": null,
            "flex": null,
            "_model_name": "LayoutModel",
            "justify_items": null,
            "grid_row": null,
            "max_height": null,
            "align_content": null,
            "visibility": null,
            "align_self": null,
            "height": null,
            "min_height": null,
            "padding": null,
            "grid_auto_rows": null,
            "grid_gap": null,
            "max_width": null,
            "order": null,
            "_view_module_version": "1.2.0",
            "grid_template_areas": null,
            "object_position": null,
            "object_fit": null,
            "grid_auto_columns": null,
            "margin": null,
            "display": null,
            "left": null
          }
        },
        "33ff6828954c45128740d65b65e86a89": {
          "model_module": "@jupyter-widgets/controls",
          "model_name": "HTMLModel",
          "model_module_version": "1.5.0",
          "state": {
            "_view_name": "HTMLView",
            "style": "IPY_MODEL_adeb82ce8cfc4b1fa6442cc7e26153f8",
            "_dom_classes": [],
            "description": "",
            "_model_name": "HTMLModel",
            "placeholder": "​",
            "_view_module": "@jupyter-widgets/controls",
            "_model_module_version": "1.5.0",
            "value": "loss: 1.2352, 1.4562, acc: 0.6677, 0.6265: 100%",
            "_view_count": null,
            "_view_module_version": "1.5.0",
            "description_tooltip": null,
            "_model_module": "@jupyter-widgets/controls",
            "layout": "IPY_MODEL_ab496a1cbeaa4b159c7cfb3fa7dac128"
          }
        },
        "c67f690047454302bb8af931cff43ebf": {
          "model_module": "@jupyter-widgets/controls",
          "model_name": "FloatProgressModel",
          "model_module_version": "1.5.0",
          "state": {
            "_view_name": "ProgressView",
            "style": "IPY_MODEL_69fbe110c8854fb3bebd7aff99ba7865",
            "_dom_classes": [],
            "description": "",
            "_model_name": "FloatProgressModel",
            "bar_style": "success",
            "max": 1875,
            "_view_module": "@jupyter-widgets/controls",
            "_model_module_version": "1.5.0",
            "value": 1875,
            "_view_count": null,
            "_view_module_version": "1.5.0",
            "orientation": "horizontal",
            "min": 0,
            "description_tooltip": null,
            "_model_module": "@jupyter-widgets/controls",
            "layout": "IPY_MODEL_07be4d2d0d7342d688e1987d5021b330"
          }
        },
        "11643a9c430a44dc93758e1ebd27e65a": {
          "model_module": "@jupyter-widgets/controls",
          "model_name": "HTMLModel",
          "model_module_version": "1.5.0",
          "state": {
            "_view_name": "HTMLView",
            "style": "IPY_MODEL_4e32a5ed31a646d0a6470c0f048af11f",
            "_dom_classes": [],
            "description": "",
            "_model_name": "HTMLModel",
            "placeholder": "​",
            "_view_module": "@jupyter-widgets/controls",
            "_model_module_version": "1.5.0",
            "value": " 1875/1875 [12:39&lt;00:00,  2.79it/s]",
            "_view_count": null,
            "_view_module_version": "1.5.0",
            "description_tooltip": null,
            "_model_module": "@jupyter-widgets/controls",
            "layout": "IPY_MODEL_cd61786d6c6e48eb85a19cbe9ffda940"
          }
        },
        "adeb82ce8cfc4b1fa6442cc7e26153f8": {
          "model_module": "@jupyter-widgets/controls",
          "model_name": "DescriptionStyleModel",
          "model_module_version": "1.5.0",
          "state": {
            "_view_name": "StyleView",
            "_model_name": "DescriptionStyleModel",
            "description_width": "",
            "_view_module": "@jupyter-widgets/base",
            "_model_module_version": "1.5.0",
            "_view_count": null,
            "_view_module_version": "1.2.0",
            "_model_module": "@jupyter-widgets/controls"
          }
        },
        "ab496a1cbeaa4b159c7cfb3fa7dac128": {
          "model_module": "@jupyter-widgets/base",
          "model_name": "LayoutModel",
          "model_module_version": "1.2.0",
          "state": {
            "_view_name": "LayoutView",
            "grid_template_rows": null,
            "right": null,
            "justify_content": null,
            "_view_module": "@jupyter-widgets/base",
            "overflow": null,
            "_model_module_version": "1.2.0",
            "_view_count": null,
            "flex_flow": null,
            "width": null,
            "min_width": null,
            "border": null,
            "align_items": null,
            "bottom": null,
            "_model_module": "@jupyter-widgets/base",
            "top": null,
            "grid_column": null,
            "overflow_y": null,
            "overflow_x": null,
            "grid_auto_flow": null,
            "grid_area": null,
            "grid_template_columns": null,
            "flex": null,
            "_model_name": "LayoutModel",
            "justify_items": null,
            "grid_row": null,
            "max_height": null,
            "align_content": null,
            "visibility": null,
            "align_self": null,
            "height": null,
            "min_height": null,
            "padding": null,
            "grid_auto_rows": null,
            "grid_gap": null,
            "max_width": null,
            "order": null,
            "_view_module_version": "1.2.0",
            "grid_template_areas": null,
            "object_position": null,
            "object_fit": null,
            "grid_auto_columns": null,
            "margin": null,
            "display": null,
            "left": null
          }
        },
        "69fbe110c8854fb3bebd7aff99ba7865": {
          "model_module": "@jupyter-widgets/controls",
          "model_name": "ProgressStyleModel",
          "model_module_version": "1.5.0",
          "state": {
            "_view_name": "StyleView",
            "_model_name": "ProgressStyleModel",
            "description_width": "",
            "_view_module": "@jupyter-widgets/base",
            "_model_module_version": "1.5.0",
            "_view_count": null,
            "_view_module_version": "1.2.0",
            "bar_color": null,
            "_model_module": "@jupyter-widgets/controls"
          }
        },
        "07be4d2d0d7342d688e1987d5021b330": {
          "model_module": "@jupyter-widgets/base",
          "model_name": "LayoutModel",
          "model_module_version": "1.2.0",
          "state": {
            "_view_name": "LayoutView",
            "grid_template_rows": null,
            "right": null,
            "justify_content": null,
            "_view_module": "@jupyter-widgets/base",
            "overflow": null,
            "_model_module_version": "1.2.0",
            "_view_count": null,
            "flex_flow": null,
            "width": null,
            "min_width": null,
            "border": null,
            "align_items": null,
            "bottom": null,
            "_model_module": "@jupyter-widgets/base",
            "top": null,
            "grid_column": null,
            "overflow_y": null,
            "overflow_x": null,
            "grid_auto_flow": null,
            "grid_area": null,
            "grid_template_columns": null,
            "flex": null,
            "_model_name": "LayoutModel",
            "justify_items": null,
            "grid_row": null,
            "max_height": null,
            "align_content": null,
            "visibility": null,
            "align_self": null,
            "height": null,
            "min_height": null,
            "padding": null,
            "grid_auto_rows": null,
            "grid_gap": null,
            "max_width": null,
            "order": null,
            "_view_module_version": "1.2.0",
            "grid_template_areas": null,
            "object_position": null,
            "object_fit": null,
            "grid_auto_columns": null,
            "margin": null,
            "display": null,
            "left": null
          }
        },
        "4e32a5ed31a646d0a6470c0f048af11f": {
          "model_module": "@jupyter-widgets/controls",
          "model_name": "DescriptionStyleModel",
          "model_module_version": "1.5.0",
          "state": {
            "_view_name": "StyleView",
            "_model_name": "DescriptionStyleModel",
            "description_width": "",
            "_view_module": "@jupyter-widgets/base",
            "_model_module_version": "1.5.0",
            "_view_count": null,
            "_view_module_version": "1.2.0",
            "_model_module": "@jupyter-widgets/controls"
          }
        },
        "cd61786d6c6e48eb85a19cbe9ffda940": {
          "model_module": "@jupyter-widgets/base",
          "model_name": "LayoutModel",
          "model_module_version": "1.2.0",
          "state": {
            "_view_name": "LayoutView",
            "grid_template_rows": null,
            "right": null,
            "justify_content": null,
            "_view_module": "@jupyter-widgets/base",
            "overflow": null,
            "_model_module_version": "1.2.0",
            "_view_count": null,
            "flex_flow": null,
            "width": null,
            "min_width": null,
            "border": null,
            "align_items": null,
            "bottom": null,
            "_model_module": "@jupyter-widgets/base",
            "top": null,
            "grid_column": null,
            "overflow_y": null,
            "overflow_x": null,
            "grid_auto_flow": null,
            "grid_area": null,
            "grid_template_columns": null,
            "flex": null,
            "_model_name": "LayoutModel",
            "justify_items": null,
            "grid_row": null,
            "max_height": null,
            "align_content": null,
            "visibility": null,
            "align_self": null,
            "height": null,
            "min_height": null,
            "padding": null,
            "grid_auto_rows": null,
            "grid_gap": null,
            "max_width": null,
            "order": null,
            "_view_module_version": "1.2.0",
            "grid_template_areas": null,
            "object_position": null,
            "object_fit": null,
            "grid_auto_columns": null,
            "margin": null,
            "display": null,
            "left": null
          }
        },
        "e66cf9c7063c412fa82b16cb04cf2331": {
          "model_module": "@jupyter-widgets/controls",
          "model_name": "HBoxModel",
          "model_module_version": "1.5.0",
          "state": {
            "_view_name": "HBoxView",
            "_dom_classes": [],
            "_model_name": "HBoxModel",
            "_view_module": "@jupyter-widgets/controls",
            "_model_module_version": "1.5.0",
            "_view_count": null,
            "_view_module_version": "1.5.0",
            "box_style": "",
            "layout": "IPY_MODEL_b590c52c9eab4bbdb474a00857253076",
            "_model_module": "@jupyter-widgets/controls",
            "children": [
              "IPY_MODEL_02e7288b75ec4ad7975c3415e4ada3e4",
              "IPY_MODEL_2eca6555ecc943209e4cf7d3928a5b3c",
              "IPY_MODEL_742223d44adf4c64bac19490d4619e00"
            ]
          }
        },
        "b590c52c9eab4bbdb474a00857253076": {
          "model_module": "@jupyter-widgets/base",
          "model_name": "LayoutModel",
          "model_module_version": "1.2.0",
          "state": {
            "_view_name": "LayoutView",
            "grid_template_rows": null,
            "right": null,
            "justify_content": null,
            "_view_module": "@jupyter-widgets/base",
            "overflow": null,
            "_model_module_version": "1.2.0",
            "_view_count": null,
            "flex_flow": null,
            "width": null,
            "min_width": null,
            "border": null,
            "align_items": null,
            "bottom": null,
            "_model_module": "@jupyter-widgets/base",
            "top": null,
            "grid_column": null,
            "overflow_y": null,
            "overflow_x": null,
            "grid_auto_flow": null,
            "grid_area": null,
            "grid_template_columns": null,
            "flex": null,
            "_model_name": "LayoutModel",
            "justify_items": null,
            "grid_row": null,
            "max_height": null,
            "align_content": null,
            "visibility": null,
            "align_self": null,
            "height": null,
            "min_height": null,
            "padding": null,
            "grid_auto_rows": null,
            "grid_gap": null,
            "max_width": null,
            "order": null,
            "_view_module_version": "1.2.0",
            "grid_template_areas": null,
            "object_position": null,
            "object_fit": null,
            "grid_auto_columns": null,
            "margin": null,
            "display": null,
            "left": null
          }
        },
        "02e7288b75ec4ad7975c3415e4ada3e4": {
          "model_module": "@jupyter-widgets/controls",
          "model_name": "HTMLModel",
          "model_module_version": "1.5.0",
          "state": {
            "_view_name": "HTMLView",
            "style": "IPY_MODEL_e2c04d52d46d498b9f5bec822741e594",
            "_dom_classes": [],
            "description": "",
            "_model_name": "HTMLModel",
            "placeholder": "​",
            "_view_module": "@jupyter-widgets/controls",
            "_model_module_version": "1.5.0",
            "value": "loss: 0.7903, 0.9655, acc: 0.7776, 0.7371: 100%",
            "_view_count": null,
            "_view_module_version": "1.5.0",
            "description_tooltip": null,
            "_model_module": "@jupyter-widgets/controls",
            "layout": "IPY_MODEL_0e24efac281b4a1c9c6077fa039185eb"
          }
        },
        "2eca6555ecc943209e4cf7d3928a5b3c": {
          "model_module": "@jupyter-widgets/controls",
          "model_name": "FloatProgressModel",
          "model_module_version": "1.5.0",
          "state": {
            "_view_name": "ProgressView",
            "style": "IPY_MODEL_b70194886f2542728b5d7b78f812472f",
            "_dom_classes": [],
            "description": "",
            "_model_name": "FloatProgressModel",
            "bar_style": "success",
            "max": 1875,
            "_view_module": "@jupyter-widgets/controls",
            "_model_module_version": "1.5.0",
            "value": 1875,
            "_view_count": null,
            "_view_module_version": "1.5.0",
            "orientation": "horizontal",
            "min": 0,
            "description_tooltip": null,
            "_model_module": "@jupyter-widgets/controls",
            "layout": "IPY_MODEL_b3f85cb2d34e4f31995e60c3d554bfc5"
          }
        },
        "742223d44adf4c64bac19490d4619e00": {
          "model_module": "@jupyter-widgets/controls",
          "model_name": "HTMLModel",
          "model_module_version": "1.5.0",
          "state": {
            "_view_name": "HTMLView",
            "style": "IPY_MODEL_8d2cc1a4101d4060b441bafb78f854f4",
            "_dom_classes": [],
            "description": "",
            "_model_name": "HTMLModel",
            "placeholder": "​",
            "_view_module": "@jupyter-widgets/controls",
            "_model_module_version": "1.5.0",
            "value": " 1875/1875 [12:37&lt;00:00,  2.74it/s]",
            "_view_count": null,
            "_view_module_version": "1.5.0",
            "description_tooltip": null,
            "_model_module": "@jupyter-widgets/controls",
            "layout": "IPY_MODEL_11f1462ba22e4a908a781dcd5869ad08"
          }
        },
        "e2c04d52d46d498b9f5bec822741e594": {
          "model_module": "@jupyter-widgets/controls",
          "model_name": "DescriptionStyleModel",
          "model_module_version": "1.5.0",
          "state": {
            "_view_name": "StyleView",
            "_model_name": "DescriptionStyleModel",
            "description_width": "",
            "_view_module": "@jupyter-widgets/base",
            "_model_module_version": "1.5.0",
            "_view_count": null,
            "_view_module_version": "1.2.0",
            "_model_module": "@jupyter-widgets/controls"
          }
        },
        "0e24efac281b4a1c9c6077fa039185eb": {
          "model_module": "@jupyter-widgets/base",
          "model_name": "LayoutModel",
          "model_module_version": "1.2.0",
          "state": {
            "_view_name": "LayoutView",
            "grid_template_rows": null,
            "right": null,
            "justify_content": null,
            "_view_module": "@jupyter-widgets/base",
            "overflow": null,
            "_model_module_version": "1.2.0",
            "_view_count": null,
            "flex_flow": null,
            "width": null,
            "min_width": null,
            "border": null,
            "align_items": null,
            "bottom": null,
            "_model_module": "@jupyter-widgets/base",
            "top": null,
            "grid_column": null,
            "overflow_y": null,
            "overflow_x": null,
            "grid_auto_flow": null,
            "grid_area": null,
            "grid_template_columns": null,
            "flex": null,
            "_model_name": "LayoutModel",
            "justify_items": null,
            "grid_row": null,
            "max_height": null,
            "align_content": null,
            "visibility": null,
            "align_self": null,
            "height": null,
            "min_height": null,
            "padding": null,
            "grid_auto_rows": null,
            "grid_gap": null,
            "max_width": null,
            "order": null,
            "_view_module_version": "1.2.0",
            "grid_template_areas": null,
            "object_position": null,
            "object_fit": null,
            "grid_auto_columns": null,
            "margin": null,
            "display": null,
            "left": null
          }
        },
        "b70194886f2542728b5d7b78f812472f": {
          "model_module": "@jupyter-widgets/controls",
          "model_name": "ProgressStyleModel",
          "model_module_version": "1.5.0",
          "state": {
            "_view_name": "StyleView",
            "_model_name": "ProgressStyleModel",
            "description_width": "",
            "_view_module": "@jupyter-widgets/base",
            "_model_module_version": "1.5.0",
            "_view_count": null,
            "_view_module_version": "1.2.0",
            "bar_color": null,
            "_model_module": "@jupyter-widgets/controls"
          }
        },
        "b3f85cb2d34e4f31995e60c3d554bfc5": {
          "model_module": "@jupyter-widgets/base",
          "model_name": "LayoutModel",
          "model_module_version": "1.2.0",
          "state": {
            "_view_name": "LayoutView",
            "grid_template_rows": null,
            "right": null,
            "justify_content": null,
            "_view_module": "@jupyter-widgets/base",
            "overflow": null,
            "_model_module_version": "1.2.0",
            "_view_count": null,
            "flex_flow": null,
            "width": null,
            "min_width": null,
            "border": null,
            "align_items": null,
            "bottom": null,
            "_model_module": "@jupyter-widgets/base",
            "top": null,
            "grid_column": null,
            "overflow_y": null,
            "overflow_x": null,
            "grid_auto_flow": null,
            "grid_area": null,
            "grid_template_columns": null,
            "flex": null,
            "_model_name": "LayoutModel",
            "justify_items": null,
            "grid_row": null,
            "max_height": null,
            "align_content": null,
            "visibility": null,
            "align_self": null,
            "height": null,
            "min_height": null,
            "padding": null,
            "grid_auto_rows": null,
            "grid_gap": null,
            "max_width": null,
            "order": null,
            "_view_module_version": "1.2.0",
            "grid_template_areas": null,
            "object_position": null,
            "object_fit": null,
            "grid_auto_columns": null,
            "margin": null,
            "display": null,
            "left": null
          }
        },
        "8d2cc1a4101d4060b441bafb78f854f4": {
          "model_module": "@jupyter-widgets/controls",
          "model_name": "DescriptionStyleModel",
          "model_module_version": "1.5.0",
          "state": {
            "_view_name": "StyleView",
            "_model_name": "DescriptionStyleModel",
            "description_width": "",
            "_view_module": "@jupyter-widgets/base",
            "_model_module_version": "1.5.0",
            "_view_count": null,
            "_view_module_version": "1.2.0",
            "_model_module": "@jupyter-widgets/controls"
          }
        },
        "11f1462ba22e4a908a781dcd5869ad08": {
          "model_module": "@jupyter-widgets/base",
          "model_name": "LayoutModel",
          "model_module_version": "1.2.0",
          "state": {
            "_view_name": "LayoutView",
            "grid_template_rows": null,
            "right": null,
            "justify_content": null,
            "_view_module": "@jupyter-widgets/base",
            "overflow": null,
            "_model_module_version": "1.2.0",
            "_view_count": null,
            "flex_flow": null,
            "width": null,
            "min_width": null,
            "border": null,
            "align_items": null,
            "bottom": null,
            "_model_module": "@jupyter-widgets/base",
            "top": null,
            "grid_column": null,
            "overflow_y": null,
            "overflow_x": null,
            "grid_auto_flow": null,
            "grid_area": null,
            "grid_template_columns": null,
            "flex": null,
            "_model_name": "LayoutModel",
            "justify_items": null,
            "grid_row": null,
            "max_height": null,
            "align_content": null,
            "visibility": null,
            "align_self": null,
            "height": null,
            "min_height": null,
            "padding": null,
            "grid_auto_rows": null,
            "grid_gap": null,
            "max_width": null,
            "order": null,
            "_view_module_version": "1.2.0",
            "grid_template_areas": null,
            "object_position": null,
            "object_fit": null,
            "grid_auto_columns": null,
            "margin": null,
            "display": null,
            "left": null
          }
        }
      }
    }
  },
  "nbformat": 4,
  "nbformat_minor": 0
}